{
 "cells": [
  {
   "cell_type": "code",
   "execution_count": 59,
   "id": "663ebf76",
   "metadata": {},
   "outputs": [],
   "source": [
    "import pandas as pd\n",
    "import math\n",
    "import numpy as np"
   ]
  },
  {
   "cell_type": "code",
   "execution_count": 60,
   "id": "5e924e2d",
   "metadata": {},
   "outputs": [],
   "source": [
    "data = pd.read_csv (\"counters.online.csv\")"
   ]
  },
  {
   "cell_type": "code",
   "execution_count": 61,
   "id": "ea9fff02",
   "metadata": {
    "scrolled": true
   },
   "outputs": [
    {
     "name": "stdout",
     "output_type": "stream",
     "text": [
      "        run    cint7l0b  cmul7l0b  duration(s)  interacting_bunches\n",
      "0    290222     2821944      1135         4613                    1\n",
      "1    290223     1215525       507         2126                    1\n",
      "2    290254    19597017      8005        15931                    2\n",
      "3    290293   179288589     67797         3708                  376\n",
      "4    290297   136426265     51979         2803                  376\n",
      "..      ...         ...       ...          ...                  ...\n",
      "182  292270   855332218    324706         3698                 2215\n",
      "183  292273  2405815397    915526        10401                 2215\n",
      "184  292274   999162786    380610         4354                 2215\n",
      "185  292298  4403977663   1671359        19175                 2215\n",
      "186  292397  1703934837    642637         7649                 2215\n",
      "\n",
      "[187 rows x 5 columns]\n"
     ]
    }
   ],
   "source": [
    "print (data)"
   ]
  },
  {
   "cell_type": "code",
   "execution_count": 62,
   "id": "2ec9df90",
   "metadata": {
    "scrolled": true
   },
   "outputs": [
    {
     "name": "stdout",
     "output_type": "stream",
     "text": [
      "        run    cint7l0b  cmul7l0b  duration(s)  interacting_bunches  \\\n",
      "0    290222     2821944      1135         4613                    1   \n",
      "1    290223     1215525       507         2126                    1   \n",
      "2    290254    19597017      8005        15931                    2   \n",
      "3    290293   179288589     67797         3708                  376   \n",
      "4    290297   136426265     51979         2803                  376   \n",
      "..      ...         ...       ...          ...                  ...   \n",
      "182  292270   855332218    324706         3698                 2215   \n",
      "183  292273  2405815397    915526        10401                 2215   \n",
      "184  292274   999162786    380610         4354                 2215   \n",
      "185  292298  4403977663   1671359        19175                 2215   \n",
      "186  292397  1703934837    642637         7649                 2215   \n",
      "\n",
      "          Factor  \n",
      "0    2486.294273  \n",
      "1    2397.485207  \n",
      "2    2448.097064  \n",
      "3    2644.491482  \n",
      "4    2624.641971  \n",
      "..           ...  \n",
      "182  2634.174355  \n",
      "183  2627.795821  \n",
      "184  2625.161677  \n",
      "185  2634.968109  \n",
      "186  2651.473284  \n",
      "\n",
      "[187 rows x 6 columns]\n"
     ]
    }
   ],
   "source": [
    "import pandas as pd\n",
    "df = pd.read_csv (\"counters.online.csv\")\n",
    "df['Factor'] = (df['cint7l0b']/df['cmul7l0b'])\n",
    "print(df)\n",
    "\n"
   ]
  },
  {
   "cell_type": "code",
   "execution_count": 63,
   "id": "431477be",
   "metadata": {},
   "outputs": [
    {
     "name": "stdout",
     "output_type": "stream",
     "text": [
      "2648.329074185676\n"
     ]
    }
   ],
   "source": [
    "import pandas as pd\n",
    "df = pd.read_csv (\"counters.online.csv\")\n",
    "df['Factor'] = (df['cint7l0b']/df['cmul7l0b'])\n",
    "def weighted_average(df, weight ):\n",
    "    return sum(df['Factor'] * df[weight]) / df[weight].sum()\n",
    "print(weighted_average(df, 'duration(s)'))"
   ]
  },
  {
   "cell_type": "code",
   "execution_count": 64,
   "id": "7f861421",
   "metadata": {},
   "outputs": [
    {
     "name": "stdout",
     "output_type": "stream",
     "text": [
      "        run    cint7l0b  cmul7l0b  duration(s)  interacting_bunches  cint7all  \\\n",
      "0    290222     2821944      1135         4613                    1    138603   \n",
      "1    290223     1215525       507         2126                    1     57552   \n",
      "2    290254    19597017      8005        15931                    2    958655   \n",
      "3    290293   179288589     67797         3708                  376     63676   \n",
      "4    290297   136426265     51979         2803                  376     47081   \n",
      "..      ...         ...       ...          ...                  ...       ...   \n",
      "178  292270   855332218    324706         3698                 2215     73360   \n",
      "179  292273  2405815397    915526        10401                 2215    198098   \n",
      "180  292274   999162786    380610         4354                 2215     82265   \n",
      "181  292298  4403977663   1671359        19175                 2215    365316   \n",
      "182  292397  1703934837    642637         7649                 2215    123340   \n",
      "\n",
      "     cint7ps  cmul7all  cmul7ps  cmsl7all  cmsl7ps  cint7all&0msl  \\\n",
      "0     138486      1119     1118     50296    50278           2518   \n",
      "1      57491       484      484     21027    21014           1038   \n",
      "2     957667      7845     7838    348635   348454          17625   \n",
      "3      61807     44363    43971    238072   236301           1155   \n",
      "4      46226     33013    32785    179041   177705            848   \n",
      "..       ...       ...      ...       ...      ...            ...   \n",
      "178    70357    239943   235877    639816   631028           1257   \n",
      "179   190983    652701   642999   1745584  1723095           3401   \n",
      "180    79686    271233   267487    724297   715627           1353   \n",
      "181   350755   1198474  1178630   3197327  3153740           6323   \n",
      "182   117698    401941   394545   1069452  1053852           2097   \n",
      "\n",
      "     cmsl7all&0mul  \n",
      "0             1119  \n",
      "1              484  \n",
      "2             7845  \n",
      "3             5252  \n",
      "4             3917  \n",
      "..             ...  \n",
      "178          14342  \n",
      "179          39216  \n",
      "180          16376  \n",
      "181          71757  \n",
      "182          24307  \n",
      "\n",
      "[183 rows x 13 columns]\n",
      "2640.9907431607035\n"
     ]
    }
   ],
   "source": [
    "import pandas as pd\n",
    "dfonline = pd.read_csv (\"counters.online.csv\")\n",
    "dfoffline =  pd.read_csv (\"counters.offline.csv\")\n",
    "\n",
    "data = pd.merge(dfonline,dfoffline)\n",
    "print(data)\n",
    "\n",
    "#print(data['run'])\n",
    "#print(data['interacting_bunches'])\n",
    "#print(data['cint7ps'])\n",
    "\n",
    "def weighted_average_online(df, weight):\n",
    "    df['online_factor'] = (df['cint7l0b']/df['cmul7l0b'])\n",
    "    return sum (df['online_factor'] * df[weight]) / df[weight].sum()\n",
    "\n",
    "\n",
    "print(weighted_average_online(data, 'cint7ps'))"
   ]
  },
  {
   "cell_type": "code",
   "execution_count": 69,
   "id": "6d485020",
   "metadata": {},
   "outputs": [
    {
     "name": "stdout",
     "output_type": "stream",
     "text": [
      "1.5819767068693265\n",
      "0\n",
      "        run    cint7l0b  cmul7l0b  duration(s)  interacting_bunches  cint7all  \\\n",
      "0    290222     2821944      1135         4613                    1    138603   \n",
      "1    290223     1215525       507         2126                    1     57552   \n",
      "2    290254    19597017      8005        15931                    2    958655   \n",
      "3    290293   179288589     67797         3708                  376     63676   \n",
      "4    290297   136426265     51979         2803                  376     47081   \n",
      "..      ...         ...       ...          ...                  ...       ...   \n",
      "178  292270   855332218    324706         3698                 2215     73360   \n",
      "179  292273  2405815397    915526        10401                 2215    198098   \n",
      "180  292274   999162786    380610         4354                 2215     82265   \n",
      "181  292298  4403977663   1671359        19175                 2215    365316   \n",
      "182  292397  1703934837    642637         7649                 2215    123340   \n",
      "\n",
      "     cint7ps  cmul7all  cmul7ps  cmsl7all  cmsl7ps  cint7all&0msl  \\\n",
      "0     138486      1119     1118     50296    50278           2518   \n",
      "1      57491       484      484     21027    21014           1038   \n",
      "2     957667      7845     7838    348635   348454          17625   \n",
      "3      61807     44363    43971    238072   236301           1155   \n",
      "4      46226     33013    32785    179041   177705            848   \n",
      "..       ...       ...      ...       ...      ...            ...   \n",
      "178    70357    239943   235877    639816   631028           1257   \n",
      "179   190983    652701   642999   1745584  1723095           3401   \n",
      "180    79686    271233   267487    724297   715627           1353   \n",
      "181   350755   1198474  1178630   3197327  3153740           6323   \n",
      "182   117698    401941   394545   1069452  1053852           2097   \n",
      "\n",
      "     cmsl7all&0mul  online_factor     pileup       Fpu  \n",
      "0             1119    2486.294273  -8.927149  0.001185  \n",
      "1              484    2397.485207  -7.980394  0.002731  \n",
      "2             7845    2448.097064 -10.866295  0.000207  \n",
      "3             5252    2644.491482  -6.560763  0.009295  \n",
      "4             3917    2624.641971  -6.276879  0.011818  \n",
      "..             ...            ...        ...       ...  \n",
      "178          14342    2634.174355  -6.482104  0.009937  \n",
      "179          39216    2627.795821  -7.480751  0.004220  \n",
      "180          16376    2625.161677  -6.598741  0.009000  \n",
      "181          71757    2634.968109  -8.081568  0.002499  \n",
      "182          24307    2651.473284  -6.959067  0.006617  \n",
      "\n",
      "[183 rows x 16 columns]\n"
     ]
    }
   ],
   "source": [
    "def compute_Fpu(mu):\n",
    "    return mu/(1-np.exp(-1*mu))\n",
    "\n",
    "print(compute_Fpu(1))\n",
    "\n",
    "def compute_mu(df):\n",
    "    flhc = 11245.0\n",
    "    rate = df['cint7l0b']/df['duration(s)']\n",
    "    NCINT7 = df['cint7ps']\n",
    "    Nint_bunches = df['interacting_bunches']\n",
    "    df['pileup'] = -1*np.log(((NCINT7*rate)/(Nint_bunches*flhc)))\n",
    "    return 0\n",
    "\n",
    "print(compute_mu(data))\n",
    "\n",
    "def compute_FpuPerRun(df):\n",
    "    df['Fpu'] = compute_Fpu(df['pileup'])\n",
    "    \n",
    "compute_FpuPerRun(data)\n",
    "print(data)"
   ]
  },
  {
   "cell_type": "code",
   "execution_count": 29,
   "id": "b91437c8",
   "metadata": {},
   "outputs": [
    {
     "ename": "FileNotFoundError",
     "evalue": "[Errno 2] No such file or directory: 'data.csv'",
     "output_type": "error",
     "traceback": [
      "\u001b[1;31m---------------------------------------------------------------------------\u001b[0m",
      "\u001b[1;31mFileNotFoundError\u001b[0m                         Traceback (most recent call last)",
      "\u001b[1;32m~\\AppData\\Local\\Temp\\ipykernel_5572\\4176045681.py\u001b[0m in \u001b[0;36m<module>\u001b[1;34m\u001b[0m\n\u001b[0;32m      2\u001b[0m \u001b[1;32mimport\u001b[0m \u001b[0mmatplotlib\u001b[0m\u001b[1;33m.\u001b[0m\u001b[0mpyplot\u001b[0m \u001b[1;32mas\u001b[0m \u001b[0mplt\u001b[0m\u001b[1;33m\u001b[0m\u001b[1;33m\u001b[0m\u001b[0m\n\u001b[0;32m      3\u001b[0m \u001b[1;33m\u001b[0m\u001b[0m\n\u001b[1;32m----> 4\u001b[1;33m \u001b[0mdf\u001b[0m \u001b[1;33m=\u001b[0m \u001b[0mpd\u001b[0m\u001b[1;33m.\u001b[0m\u001b[0mread_csv\u001b[0m\u001b[1;33m(\u001b[0m\u001b[1;34m'data.csv'\u001b[0m\u001b[1;33m)\u001b[0m\u001b[1;33m\u001b[0m\u001b[1;33m\u001b[0m\u001b[0m\n\u001b[0m\u001b[0;32m      5\u001b[0m \u001b[1;33m\u001b[0m\u001b[0m\n\u001b[0;32m      6\u001b[0m \u001b[0mdf\u001b[0m\u001b[1;33m.\u001b[0m\u001b[0mplot\u001b[0m\u001b[1;33m(\u001b[0m\u001b[1;33m)\u001b[0m\u001b[1;33m\u001b[0m\u001b[1;33m\u001b[0m\u001b[0m\n",
      "\u001b[1;32m~\\anaconda3\\lib\\site-packages\\pandas\\util\\_decorators.py\u001b[0m in \u001b[0;36mwrapper\u001b[1;34m(*args, **kwargs)\u001b[0m\n\u001b[0;32m    309\u001b[0m                     \u001b[0mstacklevel\u001b[0m\u001b[1;33m=\u001b[0m\u001b[0mstacklevel\u001b[0m\u001b[1;33m,\u001b[0m\u001b[1;33m\u001b[0m\u001b[1;33m\u001b[0m\u001b[0m\n\u001b[0;32m    310\u001b[0m                 )\n\u001b[1;32m--> 311\u001b[1;33m             \u001b[1;32mreturn\u001b[0m \u001b[0mfunc\u001b[0m\u001b[1;33m(\u001b[0m\u001b[1;33m*\u001b[0m\u001b[0margs\u001b[0m\u001b[1;33m,\u001b[0m \u001b[1;33m**\u001b[0m\u001b[0mkwargs\u001b[0m\u001b[1;33m)\u001b[0m\u001b[1;33m\u001b[0m\u001b[1;33m\u001b[0m\u001b[0m\n\u001b[0m\u001b[0;32m    312\u001b[0m \u001b[1;33m\u001b[0m\u001b[0m\n\u001b[0;32m    313\u001b[0m         \u001b[1;32mreturn\u001b[0m \u001b[0mwrapper\u001b[0m\u001b[1;33m\u001b[0m\u001b[1;33m\u001b[0m\u001b[0m\n",
      "\u001b[1;32m~\\anaconda3\\lib\\site-packages\\pandas\\io\\parsers\\readers.py\u001b[0m in \u001b[0;36mread_csv\u001b[1;34m(filepath_or_buffer, sep, delimiter, header, names, index_col, usecols, squeeze, prefix, mangle_dupe_cols, dtype, engine, converters, true_values, false_values, skipinitialspace, skiprows, skipfooter, nrows, na_values, keep_default_na, na_filter, verbose, skip_blank_lines, parse_dates, infer_datetime_format, keep_date_col, date_parser, dayfirst, cache_dates, iterator, chunksize, compression, thousands, decimal, lineterminator, quotechar, quoting, doublequote, escapechar, comment, encoding, encoding_errors, dialect, error_bad_lines, warn_bad_lines, on_bad_lines, delim_whitespace, low_memory, memory_map, float_precision, storage_options)\u001b[0m\n\u001b[0;32m    676\u001b[0m     \u001b[0mkwds\u001b[0m\u001b[1;33m.\u001b[0m\u001b[0mupdate\u001b[0m\u001b[1;33m(\u001b[0m\u001b[0mkwds_defaults\u001b[0m\u001b[1;33m)\u001b[0m\u001b[1;33m\u001b[0m\u001b[1;33m\u001b[0m\u001b[0m\n\u001b[0;32m    677\u001b[0m \u001b[1;33m\u001b[0m\u001b[0m\n\u001b[1;32m--> 678\u001b[1;33m     \u001b[1;32mreturn\u001b[0m \u001b[0m_read\u001b[0m\u001b[1;33m(\u001b[0m\u001b[0mfilepath_or_buffer\u001b[0m\u001b[1;33m,\u001b[0m \u001b[0mkwds\u001b[0m\u001b[1;33m)\u001b[0m\u001b[1;33m\u001b[0m\u001b[1;33m\u001b[0m\u001b[0m\n\u001b[0m\u001b[0;32m    679\u001b[0m \u001b[1;33m\u001b[0m\u001b[0m\n\u001b[0;32m    680\u001b[0m \u001b[1;33m\u001b[0m\u001b[0m\n",
      "\u001b[1;32m~\\anaconda3\\lib\\site-packages\\pandas\\io\\parsers\\readers.py\u001b[0m in \u001b[0;36m_read\u001b[1;34m(filepath_or_buffer, kwds)\u001b[0m\n\u001b[0;32m    573\u001b[0m \u001b[1;33m\u001b[0m\u001b[0m\n\u001b[0;32m    574\u001b[0m     \u001b[1;31m# Create the parser.\u001b[0m\u001b[1;33m\u001b[0m\u001b[1;33m\u001b[0m\u001b[0m\n\u001b[1;32m--> 575\u001b[1;33m     \u001b[0mparser\u001b[0m \u001b[1;33m=\u001b[0m \u001b[0mTextFileReader\u001b[0m\u001b[1;33m(\u001b[0m\u001b[0mfilepath_or_buffer\u001b[0m\u001b[1;33m,\u001b[0m \u001b[1;33m**\u001b[0m\u001b[0mkwds\u001b[0m\u001b[1;33m)\u001b[0m\u001b[1;33m\u001b[0m\u001b[1;33m\u001b[0m\u001b[0m\n\u001b[0m\u001b[0;32m    576\u001b[0m \u001b[1;33m\u001b[0m\u001b[0m\n\u001b[0;32m    577\u001b[0m     \u001b[1;32mif\u001b[0m \u001b[0mchunksize\u001b[0m \u001b[1;32mor\u001b[0m \u001b[0miterator\u001b[0m\u001b[1;33m:\u001b[0m\u001b[1;33m\u001b[0m\u001b[1;33m\u001b[0m\u001b[0m\n",
      "\u001b[1;32m~\\anaconda3\\lib\\site-packages\\pandas\\io\\parsers\\readers.py\u001b[0m in \u001b[0;36m__init__\u001b[1;34m(self, f, engine, **kwds)\u001b[0m\n\u001b[0;32m    930\u001b[0m \u001b[1;33m\u001b[0m\u001b[0m\n\u001b[0;32m    931\u001b[0m         \u001b[0mself\u001b[0m\u001b[1;33m.\u001b[0m\u001b[0mhandles\u001b[0m\u001b[1;33m:\u001b[0m \u001b[0mIOHandles\u001b[0m \u001b[1;33m|\u001b[0m \u001b[1;32mNone\u001b[0m \u001b[1;33m=\u001b[0m \u001b[1;32mNone\u001b[0m\u001b[1;33m\u001b[0m\u001b[1;33m\u001b[0m\u001b[0m\n\u001b[1;32m--> 932\u001b[1;33m         \u001b[0mself\u001b[0m\u001b[1;33m.\u001b[0m\u001b[0m_engine\u001b[0m \u001b[1;33m=\u001b[0m \u001b[0mself\u001b[0m\u001b[1;33m.\u001b[0m\u001b[0m_make_engine\u001b[0m\u001b[1;33m(\u001b[0m\u001b[0mf\u001b[0m\u001b[1;33m,\u001b[0m \u001b[0mself\u001b[0m\u001b[1;33m.\u001b[0m\u001b[0mengine\u001b[0m\u001b[1;33m)\u001b[0m\u001b[1;33m\u001b[0m\u001b[1;33m\u001b[0m\u001b[0m\n\u001b[0m\u001b[0;32m    933\u001b[0m \u001b[1;33m\u001b[0m\u001b[0m\n\u001b[0;32m    934\u001b[0m     \u001b[1;32mdef\u001b[0m \u001b[0mclose\u001b[0m\u001b[1;33m(\u001b[0m\u001b[0mself\u001b[0m\u001b[1;33m)\u001b[0m\u001b[1;33m:\u001b[0m\u001b[1;33m\u001b[0m\u001b[1;33m\u001b[0m\u001b[0m\n",
      "\u001b[1;32m~\\anaconda3\\lib\\site-packages\\pandas\\io\\parsers\\readers.py\u001b[0m in \u001b[0;36m_make_engine\u001b[1;34m(self, f, engine)\u001b[0m\n\u001b[0;32m   1214\u001b[0m             \u001b[1;31m# \"Union[str, PathLike[str], ReadCsvBuffer[bytes], ReadCsvBuffer[str]]\"\u001b[0m\u001b[1;33m\u001b[0m\u001b[1;33m\u001b[0m\u001b[0m\n\u001b[0;32m   1215\u001b[0m             \u001b[1;31m# , \"str\", \"bool\", \"Any\", \"Any\", \"Any\", \"Any\", \"Any\"\u001b[0m\u001b[1;33m\u001b[0m\u001b[1;33m\u001b[0m\u001b[0m\n\u001b[1;32m-> 1216\u001b[1;33m             self.handles = get_handle(  # type: ignore[call-overload]\n\u001b[0m\u001b[0;32m   1217\u001b[0m                 \u001b[0mf\u001b[0m\u001b[1;33m,\u001b[0m\u001b[1;33m\u001b[0m\u001b[1;33m\u001b[0m\u001b[0m\n\u001b[0;32m   1218\u001b[0m                 \u001b[0mmode\u001b[0m\u001b[1;33m,\u001b[0m\u001b[1;33m\u001b[0m\u001b[1;33m\u001b[0m\u001b[0m\n",
      "\u001b[1;32m~\\anaconda3\\lib\\site-packages\\pandas\\io\\common.py\u001b[0m in \u001b[0;36mget_handle\u001b[1;34m(path_or_buf, mode, encoding, compression, memory_map, is_text, errors, storage_options)\u001b[0m\n\u001b[0;32m    784\u001b[0m         \u001b[1;32mif\u001b[0m \u001b[0mioargs\u001b[0m\u001b[1;33m.\u001b[0m\u001b[0mencoding\u001b[0m \u001b[1;32mand\u001b[0m \u001b[1;34m\"b\"\u001b[0m \u001b[1;32mnot\u001b[0m \u001b[1;32min\u001b[0m \u001b[0mioargs\u001b[0m\u001b[1;33m.\u001b[0m\u001b[0mmode\u001b[0m\u001b[1;33m:\u001b[0m\u001b[1;33m\u001b[0m\u001b[1;33m\u001b[0m\u001b[0m\n\u001b[0;32m    785\u001b[0m             \u001b[1;31m# Encoding\u001b[0m\u001b[1;33m\u001b[0m\u001b[1;33m\u001b[0m\u001b[0m\n\u001b[1;32m--> 786\u001b[1;33m             handle = open(\n\u001b[0m\u001b[0;32m    787\u001b[0m                 \u001b[0mhandle\u001b[0m\u001b[1;33m,\u001b[0m\u001b[1;33m\u001b[0m\u001b[1;33m\u001b[0m\u001b[0m\n\u001b[0;32m    788\u001b[0m                 \u001b[0mioargs\u001b[0m\u001b[1;33m.\u001b[0m\u001b[0mmode\u001b[0m\u001b[1;33m,\u001b[0m\u001b[1;33m\u001b[0m\u001b[1;33m\u001b[0m\u001b[0m\n",
      "\u001b[1;31mFileNotFoundError\u001b[0m: [Errno 2] No such file or directory: 'data.csv'"
     ]
    }
   ],
   "source": [
    "import pandas as pd\n",
    "import matplotlib.pyplot as plt\n",
    "\n",
    "df = pd.read_csv('data.csv')\n",
    "\n",
    "df.plot()\n",
    "\n",
    "plt.show()"
   ]
  },
  {
   "cell_type": "code",
   "execution_count": null,
   "id": "9dbe111b",
   "metadata": {},
   "outputs": [],
   "source": []
  },
  {
   "cell_type": "code",
   "execution_count": 11,
   "id": "6c98fcb5",
   "metadata": {},
   "outputs": [
    {
     "data": {
      "image/png": "[encoded data removed]",
      "text/plain": [
       "<Figure size 640x480 with 1 Axes>"
      ]
     },
     "metadata": {},
     "output_type": "display_data"
    }
   ],
   "source": [
    "import matplotlib.pyplot as plt\n",
    "import pandas as pd\n",
    "df = pd.read_csv (\"counters.online.csv\")\n",
    "df['Factor'] = (df['cint7l0b']/df['cmul7l0b'])\n",
    "# gca stands for 'get current axis'\n",
    "lines = df.plot.line(x='run', y='Factor')\n",
    "\n",
    "plt.show()\n"
   ]
  },
  {
   "cell_type": "code",
   "execution_count": 15,
   "id": "ceec6e2a",
   "metadata": {},
   "outputs": [
    {
     "name": "stdout",
     "output_type": "stream",
     "text": [
      "        run  cint7all  cint7ps  cmul7all  cmul7ps  cmsl7all  cmsl7ps  \\\n",
      "0    290222    138603   138486      1119     1118     50296    50278   \n",
      "1    290223     57552    57491       484      484     21027    21014   \n",
      "2    290254    958655   957667      7845     7838    348635   348454   \n",
      "3    290293     63676    61807     44363    43971    238072   236301   \n",
      "4    290297     47081    46226     33013    32785    179041   177705   \n",
      "..      ...       ...      ...       ...      ...       ...      ...   \n",
      "178  292270     73360    70357    239943   235877    639816   631028   \n",
      "179  292273    198098   190983    652701   642999   1745584  1723095   \n",
      "180  292274     82265    79686    271233   267487    724297   715627   \n",
      "181  292298    365316   350755   1198474  1178630   3197327  3153740   \n",
      "182  292397    123340   117698    401941   394545   1069452  1053852   \n",
      "\n",
      "     cint7all&0msl  cmsl7all&0mul  \n",
      "0             2518           1119  \n",
      "1             1038            484  \n",
      "2            17625           7845  \n",
      "3             1155           5252  \n",
      "4              848           3917  \n",
      "..             ...            ...  \n",
      "178           1257          14342  \n",
      "179           3401          39216  \n",
      "180           1353          16376  \n",
      "181           6323          71757  \n",
      "182           2097          24307  \n",
      "\n",
      "[183 rows x 9 columns]\n"
     ]
    }
   ],
   "source": [
    "import pandas as pd\n",
    "data = pd.read_csv (\"counters.offline.csv\")\n",
    "print (data)"
   ]
  },
  {
   "cell_type": "code",
   "execution_count": 5,
   "id": "c58be2d0",
   "metadata": {},
   "outputs": [
    {
     "name": "stdout",
     "output_type": "stream",
     "text": [
      "        run  cint7all  cint7ps  cmul7all  cmul7ps  cmsl7all  cmsl7ps  \\\n",
      "0    290222    138603   138486      1119     1118     50296    50278   \n",
      "1    290223     57552    57491       484      484     21027    21014   \n",
      "2    290254    958655   957667      7845     7838    348635   348454   \n",
      "3    290293     63676    61807     44363    43971    238072   236301   \n",
      "4    290297     47081    46226     33013    32785    179041   177705   \n",
      "..      ...       ...      ...       ...      ...       ...      ...   \n",
      "178  292270     73360    70357    239943   235877    639816   631028   \n",
      "179  292273    198098   190983    652701   642999   1745584  1723095   \n",
      "180  292274     82265    79686    271233   267487    724297   715627   \n",
      "181  292298    365316   350755   1198474  1178630   3197327  3153740   \n",
      "182  292397    123340   117698    401941   394545   1069452  1053852   \n",
      "\n",
      "     cint7all&0msl  cmsl7all&0mul    Factor1  \n",
      "0             2518           1119  54.998411  \n",
      "1             1038            484  55.386320  \n",
      "2            17625           7845  54.335716  \n",
      "3             1155           5252  53.512554  \n",
      "4              848           3917  54.511792  \n",
      "..             ...            ...        ...  \n",
      "178           1257          14342  55.972156  \n",
      "179           3401          39216  56.154954  \n",
      "180           1353          16376  58.895787  \n",
      "181           6323          71757  55.472877  \n",
      "182           2097          24307  56.126848  \n",
      "\n",
      "[183 rows x 10 columns]\n"
     ]
    }
   ],
   "source": [
    "import pandas as pd\n",
    "df = pd.read_csv (\"counters.offline.csv\")\n",
    "df['Factor1'] = (df['cint7ps']/df['cint7all&0msl'])\n",
    "print(df)"
   ]
  },
  {
   "cell_type": "code",
   "execution_count": 4,
   "id": "cda267e2",
   "metadata": {},
   "outputs": [
    {
     "ename": "KeyError",
     "evalue": "'cint7l0b'",
     "output_type": "error",
     "traceback": [
      "\u001b[1;31m---------------------------------------------------------------------------\u001b[0m",
      "\u001b[1;31mKeyError\u001b[0m                                  Traceback (most recent call last)",
      "\u001b[1;32m~\\anaconda3\\lib\\site-packages\\pandas\\core\\indexes\\base.py\u001b[0m in \u001b[0;36mget_loc\u001b[1;34m(self, key, method, tolerance)\u001b[0m\n\u001b[0;32m   3628\u001b[0m             \u001b[1;32mtry\u001b[0m\u001b[1;33m:\u001b[0m\u001b[1;33m\u001b[0m\u001b[1;33m\u001b[0m\u001b[0m\n\u001b[1;32m-> 3629\u001b[1;33m                 \u001b[1;32mreturn\u001b[0m \u001b[0mself\u001b[0m\u001b[1;33m.\u001b[0m\u001b[0m_engine\u001b[0m\u001b[1;33m.\u001b[0m\u001b[0mget_loc\u001b[0m\u001b[1;33m(\u001b[0m\u001b[0mcasted_key\u001b[0m\u001b[1;33m)\u001b[0m\u001b[1;33m\u001b[0m\u001b[1;33m\u001b[0m\u001b[0m\n\u001b[0m\u001b[0;32m   3630\u001b[0m             \u001b[1;32mexcept\u001b[0m \u001b[0mKeyError\u001b[0m \u001b[1;32mas\u001b[0m \u001b[0merr\u001b[0m\u001b[1;33m:\u001b[0m\u001b[1;33m\u001b[0m\u001b[1;33m\u001b[0m\u001b[0m\n",
      "\u001b[1;32m~\\anaconda3\\lib\\site-packages\\pandas\\_libs\\index.pyx\u001b[0m in \u001b[0;36mpandas._libs.index.IndexEngine.get_loc\u001b[1;34m()\u001b[0m\n",
      "\u001b[1;32m~\\anaconda3\\lib\\site-packages\\pandas\\_libs\\index.pyx\u001b[0m in \u001b[0;36mpandas._libs.index.IndexEngine.get_loc\u001b[1;34m()\u001b[0m\n",
      "\u001b[1;32mpandas\\_libs\\hashtable_class_helper.pxi\u001b[0m in \u001b[0;36mpandas._libs.hashtable.PyObjectHashTable.get_item\u001b[1;34m()\u001b[0m\n",
      "\u001b[1;32mpandas\\_libs\\hashtable_class_helper.pxi\u001b[0m in \u001b[0;36mpandas._libs.hashtable.PyObjectHashTable.get_item\u001b[1;34m()\u001b[0m\n",
      "\u001b[1;31mKeyError\u001b[0m: 'cint7l0b'",
      "\nThe above exception was the direct cause of the following exception:\n",
      "\u001b[1;31mKeyError\u001b[0m                                  Traceback (most recent call last)",
      "\u001b[1;32m~\\AppData\\Local\\Temp\\ipykernel_10164\\4138041439.py\u001b[0m in \u001b[0;36m<module>\u001b[1;34m\u001b[0m\n\u001b[0;32m      2\u001b[0m \u001b[1;32mimport\u001b[0m \u001b[0mpandas\u001b[0m \u001b[1;32mas\u001b[0m \u001b[0mpd\u001b[0m\u001b[1;33m\u001b[0m\u001b[1;33m\u001b[0m\u001b[0m\n\u001b[0;32m      3\u001b[0m \u001b[0mdf\u001b[0m \u001b[1;33m=\u001b[0m \u001b[0mpd\u001b[0m\u001b[1;33m.\u001b[0m\u001b[0mread_csv\u001b[0m \u001b[1;33m(\u001b[0m\u001b[1;34m\"counters.offline.csv\"\u001b[0m\u001b[1;33m)\u001b[0m\u001b[1;33m\u001b[0m\u001b[1;33m\u001b[0m\u001b[0m\n\u001b[1;32m----> 4\u001b[1;33m \u001b[0mdf\u001b[0m\u001b[1;33m[\u001b[0m\u001b[1;34m'Factor1'\u001b[0m\u001b[1;33m]\u001b[0m \u001b[1;33m=\u001b[0m \u001b[1;33m(\u001b[0m\u001b[0mdf\u001b[0m\u001b[1;33m[\u001b[0m\u001b[1;34m'cint7l0b'\u001b[0m\u001b[1;33m]\u001b[0m\u001b[1;33m/\u001b[0m\u001b[0mdf\u001b[0m\u001b[1;33m[\u001b[0m\u001b[1;34m'cmul7l0b'\u001b[0m\u001b[1;33m]\u001b[0m\u001b[1;33m)\u001b[0m\u001b[1;33m\u001b[0m\u001b[1;33m\u001b[0m\u001b[0m\n\u001b[0m\u001b[0;32m      5\u001b[0m \u001b[1;31m# gca stands for 'get current axis'\u001b[0m\u001b[1;33m\u001b[0m\u001b[1;33m\u001b[0m\u001b[0m\n\u001b[0;32m      6\u001b[0m \u001b[0mlines\u001b[0m \u001b[1;33m=\u001b[0m \u001b[0mdf\u001b[0m\u001b[1;33m.\u001b[0m\u001b[0mplot\u001b[0m\u001b[1;33m.\u001b[0m\u001b[0mline\u001b[0m\u001b[1;33m(\u001b[0m\u001b[0mx\u001b[0m\u001b[1;33m=\u001b[0m\u001b[1;34m'run'\u001b[0m\u001b[1;33m,\u001b[0m \u001b[0my\u001b[0m\u001b[1;33m=\u001b[0m\u001b[1;34m'Factor1'\u001b[0m\u001b[1;33m)\u001b[0m\u001b[1;33m\u001b[0m\u001b[1;33m\u001b[0m\u001b[0m\n",
      "\u001b[1;32m~\\anaconda3\\lib\\site-packages\\pandas\\core\\frame.py\u001b[0m in \u001b[0;36m__getitem__\u001b[1;34m(self, key)\u001b[0m\n\u001b[0;32m   3503\u001b[0m             \u001b[1;32mif\u001b[0m \u001b[0mself\u001b[0m\u001b[1;33m.\u001b[0m\u001b[0mcolumns\u001b[0m\u001b[1;33m.\u001b[0m\u001b[0mnlevels\u001b[0m \u001b[1;33m>\u001b[0m \u001b[1;36m1\u001b[0m\u001b[1;33m:\u001b[0m\u001b[1;33m\u001b[0m\u001b[1;33m\u001b[0m\u001b[0m\n\u001b[0;32m   3504\u001b[0m                 \u001b[1;32mreturn\u001b[0m \u001b[0mself\u001b[0m\u001b[1;33m.\u001b[0m\u001b[0m_getitem_multilevel\u001b[0m\u001b[1;33m(\u001b[0m\u001b[0mkey\u001b[0m\u001b[1;33m)\u001b[0m\u001b[1;33m\u001b[0m\u001b[1;33m\u001b[0m\u001b[0m\n\u001b[1;32m-> 3505\u001b[1;33m             \u001b[0mindexer\u001b[0m \u001b[1;33m=\u001b[0m \u001b[0mself\u001b[0m\u001b[1;33m.\u001b[0m\u001b[0mcolumns\u001b[0m\u001b[1;33m.\u001b[0m\u001b[0mget_loc\u001b[0m\u001b[1;33m(\u001b[0m\u001b[0mkey\u001b[0m\u001b[1;33m)\u001b[0m\u001b[1;33m\u001b[0m\u001b[1;33m\u001b[0m\u001b[0m\n\u001b[0m\u001b[0;32m   3506\u001b[0m             \u001b[1;32mif\u001b[0m \u001b[0mis_integer\u001b[0m\u001b[1;33m(\u001b[0m\u001b[0mindexer\u001b[0m\u001b[1;33m)\u001b[0m\u001b[1;33m:\u001b[0m\u001b[1;33m\u001b[0m\u001b[1;33m\u001b[0m\u001b[0m\n\u001b[0;32m   3507\u001b[0m                 \u001b[0mindexer\u001b[0m \u001b[1;33m=\u001b[0m \u001b[1;33m[\u001b[0m\u001b[0mindexer\u001b[0m\u001b[1;33m]\u001b[0m\u001b[1;33m\u001b[0m\u001b[1;33m\u001b[0m\u001b[0m\n",
      "\u001b[1;32m~\\anaconda3\\lib\\site-packages\\pandas\\core\\indexes\\base.py\u001b[0m in \u001b[0;36mget_loc\u001b[1;34m(self, key, method, tolerance)\u001b[0m\n\u001b[0;32m   3629\u001b[0m                 \u001b[1;32mreturn\u001b[0m \u001b[0mself\u001b[0m\u001b[1;33m.\u001b[0m\u001b[0m_engine\u001b[0m\u001b[1;33m.\u001b[0m\u001b[0mget_loc\u001b[0m\u001b[1;33m(\u001b[0m\u001b[0mcasted_key\u001b[0m\u001b[1;33m)\u001b[0m\u001b[1;33m\u001b[0m\u001b[1;33m\u001b[0m\u001b[0m\n\u001b[0;32m   3630\u001b[0m             \u001b[1;32mexcept\u001b[0m \u001b[0mKeyError\u001b[0m \u001b[1;32mas\u001b[0m \u001b[0merr\u001b[0m\u001b[1;33m:\u001b[0m\u001b[1;33m\u001b[0m\u001b[1;33m\u001b[0m\u001b[0m\n\u001b[1;32m-> 3631\u001b[1;33m                 \u001b[1;32mraise\u001b[0m \u001b[0mKeyError\u001b[0m\u001b[1;33m(\u001b[0m\u001b[0mkey\u001b[0m\u001b[1;33m)\u001b[0m \u001b[1;32mfrom\u001b[0m \u001b[0merr\u001b[0m\u001b[1;33m\u001b[0m\u001b[1;33m\u001b[0m\u001b[0m\n\u001b[0m\u001b[0;32m   3632\u001b[0m             \u001b[1;32mexcept\u001b[0m \u001b[0mTypeError\u001b[0m\u001b[1;33m:\u001b[0m\u001b[1;33m\u001b[0m\u001b[1;33m\u001b[0m\u001b[0m\n\u001b[0;32m   3633\u001b[0m                 \u001b[1;31m# If we have a listlike key, _check_indexing_error will raise\u001b[0m\u001b[1;33m\u001b[0m\u001b[1;33m\u001b[0m\u001b[0m\n",
      "\u001b[1;31mKeyError\u001b[0m: 'cint7l0b'"
     ]
    }
   ],
   "source": [
    "import matplotlib.pyplot as plt\n",
    "import pandas as pd\n",
    "df = pd.read_csv (\"counters.offline.csv\")\n",
    "df['Factor1'] = (df['cint7l0b']/df['cmul7l0b'])\n",
    "# gca stands for 'get current axis'\n",
    "lines = df.plot.line(x='run', y='Factor1')\n",
    "\n",
    "plt.show()"
   ]
  },
  {
   "cell_type": "code",
   "execution_count": 9,
   "id": "45a6360d",
   "metadata": {},
   "outputs": [
    {
     "ename": "TypeError",
     "evalue": "can't multiply sequence by non-int of type 'list'",
     "output_type": "error",
     "traceback": [
      "\u001b[1;31m---------------------------------------------------------------------------\u001b[0m",
      "\u001b[1;31mTypeError\u001b[0m                                 Traceback (most recent call last)",
      "\u001b[1;32m~\\AppData\\Local\\Temp\\ipykernel_5572\\222223566.py\u001b[0m in \u001b[0;36m<module>\u001b[1;34m\u001b[0m\n\u001b[0;32m      3\u001b[0m \u001b[0mdf\u001b[0m \u001b[1;33m=\u001b[0m \u001b[0mpd\u001b[0m\u001b[1;33m.\u001b[0m\u001b[0mread_csv\u001b[0m \u001b[1;33m(\u001b[0m\u001b[1;34m\"counters.online.csv\"\u001b[0m\u001b[1;33m)\u001b[0m\u001b[1;33m\u001b[0m\u001b[1;33m\u001b[0m\u001b[0m\n\u001b[0;32m      4\u001b[0m \u001b[0mdf\u001b[0m \u001b[1;33m=\u001b[0m \u001b[0mpd\u001b[0m\u001b[1;33m.\u001b[0m\u001b[0mread_csv\u001b[0m \u001b[1;33m(\u001b[0m\u001b[1;34m\"counters.offline.csv\"\u001b[0m\u001b[1;33m)\u001b[0m\u001b[1;33m\u001b[0m\u001b[1;33m\u001b[0m\u001b[0m\n\u001b[1;32m----> 5\u001b[1;33m \u001b[0mM\u001b[0m \u001b[1;33m=\u001b[0m \u001b[0mmath\u001b[0m\u001b[1;33m.\u001b[0m\u001b[0mlog\u001b[0m\u001b[1;33m(\u001b[0m\u001b[1;33m[\u001b[0m\u001b[1;34m'cint7ps'\u001b[0m\u001b[1;33m]\u001b[0m\u001b[1;33m*\u001b[0m\u001b[1;33m[\u001b[0m\u001b[1;34m'cint7all&0msl'\u001b[0m\u001b[1;33m]\u001b[0m\u001b[1;33m/\u001b[0m\u001b[1;33m[\u001b[0m\u001b[1;34m'interacting_bunches'\u001b[0m\u001b[1;33m]\u001b[0m\u001b[1;33m*\u001b[0m\u001b[1;36m11.245\u001b[0m\u001b[1;33m)\u001b[0m\u001b[1;33m\u001b[0m\u001b[1;33m\u001b[0m\u001b[0m\n\u001b[0m\u001b[0;32m      6\u001b[0m \u001b[0mF\u001b[0m \u001b[1;33m=\u001b[0m \u001b[0mmath\u001b[0m\u001b[1;33m.\u001b[0m\u001b[0mM\u001b[0m\u001b[1;33m/\u001b[0m\u001b[1;33m(\u001b[0m\u001b[1;36m1\u001b[0m\u001b[1;33m-\u001b[0m\u001b[0mexp\u001b[0m\u001b[1;33m(\u001b[0m\u001b[1;33m-\u001b[0m\u001b[0mM\u001b[0m\u001b[1;33m)\u001b[0m\u001b[1;33m)\u001b[0m\u001b[1;33m\u001b[0m\u001b[1;33m\u001b[0m\u001b[0m\n\u001b[0;32m      7\u001b[0m \u001b[0mdf\u001b[0m\u001b[1;33m[\u001b[0m\u001b[1;34m'MU'\u001b[0m\u001b[1;33m]\u001b[0m \u001b[1;33m=\u001b[0m \u001b[1;33m(\u001b[0m\u001b[0mdf\u001b[0m\u001b[1;33m[\u001b[0m\u001b[1;34m'cint7ps'\u001b[0m\u001b[1;33m]\u001b[0m\u001b[1;33m/\u001b[0m\u001b[0mdf\u001b[0m\u001b[1;33m[\u001b[0m\u001b[1;34m'cint7all&0msl'\u001b[0m\u001b[1;33m]\u001b[0m\u001b[1;33m)\u001b[0m\u001b[1;33m\u001b[0m\u001b[1;33m\u001b[0m\u001b[0m\n",
      "\u001b[1;31mTypeError\u001b[0m: can't multiply sequence by non-int of type 'list'"
     ]
    }
   ],
   "source": [
    "import pandas as pd\n",
    "import math\n",
    "df = pd.read_csv (\"counters.online.csv\")\n",
    "df = pd.read_csv (\"counters.offline.csv\")\n",
    "M = math.log(['cint7ps']*['cint7all&0msl']/['interacting_bunches']*11.245)\n",
    "F = math.M/(1-exp(-M))\n",
    "df['MU'] = (df['cint7ps']/df['cint7all&0msl'])\n",
    "df['Factor1'] = ((df['cmsl7all'] * df['cint7all'] /df['cmsl7all&0mul']) * df['cint7all&0msl'])*F\n",
    "print(df)"
   ]
  },
  {
   "cell_type": "code",
   "execution_count": null,
   "id": "52d3ab8c",
   "metadata": {},
   "outputs": [],
   "source": []
  }
 ],
 "metadata": {
  "kernelspec": {
   "display_name": "Python 3 (ipykernel)",
   "language": "python",
   "name": "python3"
  },
  "language_info": {
   "codemirror_mode": {
    "name": "ipython",
    "version": 3
   },
   "file_extension": ".py",
   "mimetype": "text/x-python",
   "name": "python",
   "nbconvert_exporter": "python",
   "pygments_lexer": "ipython3",
   "version": "3.9.13"
  }
 },
 "nbformat": 4,
 "nbformat_minor": 5
}
