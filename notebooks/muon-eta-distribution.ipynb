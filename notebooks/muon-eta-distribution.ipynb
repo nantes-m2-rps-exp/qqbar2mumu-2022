{
 "cells": [
  {
   "cell_type": "markdown",
   "id": "99a6a844-e9ab-4951-a690-d58cd5a45532",
   "metadata": {},
   "source": [
    "# Notebook de départ\n",
    "\n",
    "Ce notebook est un point de départ qui vous montre la base de comment accéder aux données et en extraire la distribution de la pseudo-rapidité $\\eta$ des traces."
   ]
  },
  {
   "cell_type": "markdown",
   "id": "993e8d90-0dc4-4f7e-9649-367d90f5de4c",
   "metadata": {},
   "source": [
    "## Importation de modules python"
   ]
  },
  {
   "cell_type": "markdown",
   "id": "68d3139b-5e8e-42ae-9552-67b8bbbb2d13",
   "metadata": {},
   "source": [
    "La plupart des notebooks jupyter commencent par une liste d'importation de modules python qui sont ensuite utilisés.\n",
    "Dans ce projet les modules de base sont : \n",
    "- [uproot](https://uproot.readthedocs.io/en/latest/) pour lire (et écrire) des données au format [ROOT](https://root.cern.ch) (mais sans avoir besoin d'installer ROOT)\n",
    "- [awkward](https://awkward-array.readthedocs.io/en/latest/) pour manipuler des tableaux avec des structures de taille variable (qui sont ce que l'on utilise couramment en physique des hautes énergies, e.g. chaque événement contient potentiellement un nombre différent de muons)\n",
    "- [numpy](https://numpy.org) qui est la base de la base des modules de \"scientific computing\" dans le monde Python. Un peu moins nécessaire dans notre cas (les awkward arrays sont généralement plus adaptés) mais certainement un module à connaître et à explorer dans votre future carrière.\n",
    "- [matplotlib](https://matplotlib.org) pour créer de nombreux types de visualisations\n",
    "- [hist](https://hist.readthedocs.io/en/latest/index.html) pour créer des histogrammes\n",
    "- [vector](https://vector.readthedocs.io/en/latest/index.html) pour manipuler des vecteurs 2D, 3D et Lorentz.\n",
    "\n",
    "Pour apprendre et pratiquer ces modules, voir par exemple un [tutorial récent](https://github.com/jpivarski-talks/2021-09-13-star-uproot-awkward-tutorial/blob/main/tutorial.ipynb)\n"
   ]
  },
  {
   "cell_type": "code",
   "execution_count": 1,
   "id": "f34f1ffa-731a-44f0-86f4-1dba72d84e85",
   "metadata": {},
   "outputs": [
    {
     "name": "stderr",
     "output_type": "stream",
     "text": [
      "Matplotlib is building the font cache; this may take a moment.\n"
     ]
    },
    {
     "name": "stdout",
     "output_type": "stream",
     "text": [
      "uproot version 4.1.9\n",
      "awkward version 1.10.2\n",
      "numpy version 1.23.5\n",
      "matplotlib version 3.4.3\n",
      "hist version 2.5.2\n",
      "vector version 0.8.5\n"
     ]
    }
   ],
   "source": [
    "import uproot\n",
    "import awkward as ak\n",
    "import numpy as np\n",
    "import matplotlib\n",
    "import matplotlib.pyplot as plt\n",
    "import math\n",
    "import hist\n",
    "import vector\n",
    "print(\"uproot version\",uproot.__version__)\n",
    "print(\"awkward version\",ak.__version__)\n",
    "print(\"numpy version\",np.__version__)\n",
    "print(\"matplotlib version\",matplotlib.__version__)\n",
    "print(\"hist version\",hist.__version__)\n",
    "print(\"vector version\",vector.__version__)"
   ]
  },
  {
   "cell_type": "markdown",
   "id": "6a5a6001-b3d3-472a-b9be-7ea484235ca4",
   "metadata": {},
   "source": [
    "## Récupération des données"
   ]
  },
  {
   "cell_type": "markdown",
   "id": "cf7b6f3d-efed-40e7-adb7-2a524b092b30",
   "metadata": {},
   "source": [
    "Ensuite il faut récupérer, d'une façon ou d'une autre, les données que l'on veut analyser/explorer/visualiser. Dans cet exemple, on copie simplement un fichier ROOT depuis CERNBox (équivalent CERN de services comme DropBox, OneDrive, etc...) vers l'ordinateur qui tourne ce notebook."
   ]
  },
  {
   "cell_type": "code",
   "execution_count": 4,
   "id": "fa4cf519-d356-4727-83bd-662a16831c94",
   "metadata": {},
   "outputs": [
    {
     "name": "stdout",
     "output_type": "stream",
     "text": [
      "  % Total    % Received % Xferd  Average Speed   Time    Time     Time  Current\n",
      "                                 Dload  Upload   Total   Spent    Left  Speed\n",
      "100 3602k  100 3602k    0     0  1841k      0  0:00:01  0:00:01 --:--:-- 1840k\n"
     ]
    }
   ],
   "source": [
    "!curl 'https://cernbox.cern.ch/remote.php/dav/public-files/JIjQaAYEQnmRDkX/290223/AnalysisResults.root' > run290223.data.root"
   ]
  },
  {
   "cell_type": "markdown",
   "id": "4f991148-c821-4026-945e-58c917e3e4a0",
   "metadata": {},
   "source": [
    "## Exploration rapide des données (i.e. le format des données)"
   ]
  },
  {
   "cell_type": "code",
   "execution_count": 5,
   "id": "79230b73-9382-4a47-af99-8bd41ad23c23",
   "metadata": {},
   "outputs": [
    {
     "name": "stdout",
     "output_type": "stream",
     "text": [
      "run290223.data.root: ROOT file Version 62406 (Compression: 1)\n"
     ]
    }
   ],
   "source": [
    "!file *.root"
   ]
  },
  {
   "cell_type": "code",
   "execution_count": 6,
   "id": "47ab8e7c-12b0-4f43-b064-f792782cd409",
   "metadata": {},
   "outputs": [],
   "source": [
    "file = uproot.open(\"run290223.data.root\")"
   ]
  },
  {
   "cell_type": "code",
   "execution_count": 7,
   "id": "1e048f5d-a427-497c-8b95-51091a7187fd",
   "metadata": {},
   "outputs": [
    {
     "data": {
      "text/plain": [
       "['eventsTree;1']"
      ]
     },
     "execution_count": 7,
     "metadata": {},
     "output_type": "execute_result"
    }
   ],
   "source": [
    "file.keys()"
   ]
  },
  {
   "cell_type": "code",
   "execution_count": 8,
   "id": "d07822ef-2dc8-4213-b79e-9274273fb404",
   "metadata": {},
   "outputs": [
    {
     "name": "stdout",
     "output_type": "stream",
     "text": [
      "name                 | typename                 | interpretation                \n",
      "---------------------+--------------------------+-------------------------------\n",
      "runNumber            | int32_t                  | AsDtype('>i4')\n",
      "xVtx                 | double                   | AsDtype('>f8')\n",
      "yVtx                 | double                   | AsDtype('>f8')\n",
      "zVtx                 | double                   | AsDtype('>f8')\n",
      "isCINT               | bool                     | AsDtype('bool')\n",
      "isCMSL               | bool                     | AsDtype('bool')\n",
      "isCMSH               | bool                     | AsDtype('bool')\n",
      "isCMLL               | bool                     | AsDtype('bool')\n",
      "isCMUL               | bool                     | AsDtype('bool')\n",
      "nMuons               | int32_t                  | AsDtype('>i4')\n",
      "Muon_E               | std::vector<float>       | AsJagged(AsDtype('>f4'), he...\n",
      "Muon_Px              | std::vector<float>       | AsJagged(AsDtype('>f4'), he...\n",
      "Muon_Py              | std::vector<float>       | AsJagged(AsDtype('>f4'), he...\n",
      "Muon_Pz              | std::vector<float>       | AsJagged(AsDtype('>f4'), he...\n",
      "Muon_Charge          | std::vector<int16_t>     | AsJagged(AsDtype('>i2'), he...\n",
      "Muon_thetaAbs        | std::vector<float>       | AsJagged(AsDtype('>f4'), he...\n",
      "Muon_xDCA            | std::vector<double>      | AsJagged(AsDtype('>f8'), he...\n",
      "Muon_yDCA            | std::vector<double>      | AsJagged(AsDtype('>f8'), he...\n",
      "Muon_zDCA            | std::vector<double>      | AsJagged(AsDtype('>f8'), he...\n",
      "Muon_matchedTrgTh... | std::vector<int32_t>     | AsJagged(AsDtype('>i4'), he...\n",
      "Muon_MCHClusterMap   | std::vector<uint32_t>    | AsJagged(AsDtype('>u4'), he...\n",
      "Muon_MTRHitMapTrg    | std::vector<uint32_t>    | AsJagged(AsDtype('>u4'), he...\n",
      "Muon_MTRHitMapTrk    | std::vector<uint32_t>    | AsJagged(AsDtype('>u4'), he...\n"
     ]
    }
   ],
   "source": [
    "events = file[\"eventsTree\"]\n",
    "events.show()"
   ]
  },
  {
   "cell_type": "markdown",
   "id": "d6f2c9ee-df33-42d6-bf33-9bfa148eb396",
   "metadata": {},
   "source": [
    "L'idée est ensuite de mettre les variables d'intérêt dans des tableaux que l'on manipulera ensuite. Par exemple on récupère ci-dessous des tableaux contenant le nombre de traces par événement, les composantes x,y,z de l'impulsion des traces et leur charge; et ceci pour les 10000 premiers événements (pour que le reste de ce notebook d'exemple ne soit pas trop lent). "
   ]
  },
  {
   "cell_type": "code",
   "execution_count": 9,
   "id": "af912688-02ad-4586-95a4-484ed45bdc53",
   "metadata": {},
   "outputs": [
    {
     "data": {
      "text/plain": [
       "awkward.highlevel.Array"
      ]
     },
     "execution_count": 9,
     "metadata": {},
     "output_type": "execute_result"
    }
   ],
   "source": [
    "m = events.arrays([\"nMuons\",\"Muon_Px\",\"Muon_Py\",\"Muon_Pz\",\"Muon_E\",\"Muon_Charge\"],how=\"zip\",entry_stop=10000)\n",
    "type(m)"
   ]
  },
  {
   "cell_type": "markdown",
   "id": "f83ad689-ca39-4125-9e0d-c41944f90ee7",
   "metadata": {},
   "source": [
    "Ce tableau peut être indexé de différentes façons. Avec un index unique pour accéder un seul élément : "
   ]
  },
  {
   "cell_type": "code",
   "execution_count": 10,
   "id": "219de44a-06fe-47ab-9d08-46d6eb05a64e",
   "metadata": {},
   "outputs": [
    {
     "data": {
      "text/plain": [
       "{'nMuons': 1,\n",
       " 'Muon': [{'Px': -0.5483500957489014,\n",
       "   'Py': -0.22255341708660126,\n",
       "   'Pz': -6.712076663970947,\n",
       "   'E': 6.738943099975586,\n",
       "   'Charge': -1}]}"
      ]
     },
     "execution_count": 10,
     "metadata": {},
     "output_type": "execute_result"
    }
   ],
   "source": [
    "m[18].to_list()"
   ]
  },
  {
   "cell_type": "markdown",
   "id": "438eb179-0090-4694-bc3d-d163d706e694",
   "metadata": {},
   "source": [
    "Impulsion transverse> Challenge : l'index 18 correspond en fait au premier événement qui a au moins un muon dans cet échantillon de données. Comment trouver cet index rapidement ? "
   ]
  },
  {
   "cell_type": "markdown",
   "id": "c7081ac3-b25e-4da7-9f71-c2839b296be2",
   "metadata": {},
   "source": [
    "Un index négatif est relatif à la fin du tableau. Le dernier événement est : "
   ]
  },
  {
   "cell_type": "code",
   "execution_count": 11,
   "id": "9e4b0221-d455-4757-95dc-9827ace7472d",
   "metadata": {},
   "outputs": [
    {
     "data": {
      "text/plain": [
       "{'nMuons': 0, 'Muon': []}"
      ]
     },
     "execution_count": 11,
     "metadata": {},
     "output_type": "execute_result"
    }
   ],
   "source": [
    "m[-1].to_list()"
   ]
  },
  {
   "cell_type": "markdown",
   "id": "a001e0ac-fc8d-48e5-aca2-75153c531250",
   "metadata": {},
   "source": [
    "Impulsion transverseL'index peut également décrire un intervalle, e.g. pour afficher les 3 premiers événements :  "
   ]
  },
  {
   "cell_type": "code",
   "execution_count": 12,
   "id": "6f1dc573-e070-4f90-86ef-a508b0de9846",
   "metadata": {},
   "outputs": [
    {
     "data": {
      "text/plain": [
       "[{'nMuons': 0, 'Muon': []},\n",
       " {'nMuons': 0, 'Muon': []},\n",
       " {'nMuons': 0, 'Muon': []}]"
      ]
     },
     "execution_count": 12,
     "metadata": {},
     "output_type": "execute_result"
    }
   ],
   "source": [
    "m[0:3].to_list()"
   ]
  },
  {
   "cell_type": "markdown",
   "id": "42446b4b-d28a-4325-88e4-80df60b86e07",
   "metadata": {},
   "source": [
    "Un index peut également être un tableau de booléen où les valeurs à True indiquent les valeurs à indexer. Par exemple pour afficher le premier événement qui possède au moins 2 muons :"
   ]
  },
  {
   "cell_type": "code",
   "execution_count": 13,
   "id": "12e348fa-56b4-45bf-a826-08a162c99ed7",
   "metadata": {},
   "outputs": [
    {
     "data": {
      "text/plain": [
       "{'nMuons': 2,\n",
       " 'Muon': [{'Px': -0.019152436405420303,\n",
       "   'Py': -1.2657990455627441,\n",
       "   'Pz': -32.36643981933594,\n",
       "   'Charge': 1},\n",
       "  {'Px': -0.7412209510803223,\n",
       "   'Py': 0.275270938873291,\n",
       "   'Pz': -16.64299774169922,\n",
       "   'Charge': 1}]}"
      ]
     },
     "execution_count": 13,
     "metadata": {},
     "output_type": "execute_result"
    }
   ],
   "source": [
    "m[m.nMuons>1][0].to_list()"
   ]
  },
  {
   "cell_type": "markdown",
   "id": "7a78cb9c-bdd3-4c28-814b-2ff78873f7fb",
   "metadata": {},
   "source": [
    "## Calcul de la pseudo-rapidité \n",
    "\n",
    "Définissons maintenant quelques fonctions pour calculer la pseudo-rapidité $\\eta$ d'un tri-vecteur... "
   ]
  },
  {
   "cell_type": "code",
   "execution_count": 14,
   "id": "e8dddcd2-1673-464d-a11d-d406951f5b41",
   "metadata": {},
   "outputs": [],
   "source": [
    "def mag(px:float,py:float,pz:float):\n",
    "    \"\"\"Returns the norm of the 3-vector (px,py,pz).\"\"\"\n",
    "    return math.sqrt(px*px+py*py+pz*pz)\n",
    "\n",
    "def costheta(px:float,py:float,pz:float):\n",
    "    \"\"\"Returns the cos(theta) of the 3 vector (px,py,pz).\"\"\"\n",
    "    ptot = mag(px,py,pz);\n",
    "    return 1.0 if ptot == 0.0 else pz/ptot\n",
    "\n",
    "def eta(px:float,py:float,pz:float):\n",
    "    \"\"\"Returns the pseudo-rapidity of the 3 vector (px,py,pz).\"\"\"\n",
    "    ct = costheta(px,py,pz)\n",
    "    if ct*ct < 1:\n",
    "        return -0.5* math.log( (1.0-ct)/(1.0+ct) )\n",
    "    if pz == 0: \n",
    "        return 0\n",
    "    if pz>0: \n",
    "        return 10E10\n",
    "    else:\n",
    "        return -10E20\n"
   ]
  },
  {
   "cell_type": "markdown",
   "id": "a78fdc91-3871-4d84-aef9-0fcc2e745393",
   "metadata": {},
   "source": [
    "Puis on créé un tableau des valeurs de $\\eta$ pour tous les muons (notez que l'on sélectionne les événements qui ont au moins un muon)"
   ]
  },
  {
   "cell_type": "code",
   "execution_count": 15,
   "id": "d200fe92-bc23-49b0-94f6-6f4e09911496",
   "metadata": {
    "tags": []
   },
   "outputs": [],
   "source": [
    "etas = np.array([],dtype=float)\n",
    "nofTracks=0 # il est toujours utile de compter ...\n",
    "nofEvents=0 # \n",
    "for event in m[m.nMuons>0]:\n",
    "    nofEvents+=1\n",
    "    tracks = event[\"Muon\"].to_list()\n",
    "    for t in tracks:\n",
    "        nofTracks+=1\n",
    "        etas = np.append(etas,eta(t[\"Px\"],t[\"Py\"],t[\"Pz\"])) "
   ]
  },
  {
   "cell_type": "code",
   "execution_count": 16,
   "id": "d76f4c43-126c-4557-9b4d-e1984af0d420",
   "metadata": {
    "tags": []
   },
   "outputs": [
    {
     "name": "stdout",
     "output_type": "stream",
     "text": [
      "1680 1773 1773\n"
     ]
    }
   ],
   "source": [
    "# ... et de vérifier que le compte est bon !\n",
    "print(nofEvents,len(etas),nofTracks)"
   ]
  },
  {
   "cell_type": "markdown",
   "id": "c14de7f9-2992-457b-9900-93c4a35099d1",
   "metadata": {},
   "source": [
    "## Visualisation de la pseudo-rapidité des muons"
   ]
  },
  {
   "cell_type": "code",
   "execution_count": 17,
   "id": "eaf569b3-c560-4209-a557-da5eb389ccd8",
   "metadata": {},
   "outputs": [
    {
     "data": {
      "image/png": "[encoded data removed]",
      "text/plain": [
       "<Figure size 432x288 with 1 Axes>"
      ]
     },
     "metadata": {
      "needs_background": "light"
     },
     "output_type": "display_data"
    }
   ],
   "source": [
    "plt.hist(etas,bins=100);"
   ]
  },
  {
   "cell_type": "markdown",
   "id": "f8e0aa70-5b47-4652-8ea0-5d75e26e5d70",
   "metadata": {},
   "source": [
    "La librarie [matplotlib](https://matplotlib.org) permet bien entendu de peaufiner cette figure autant que l'on souhaite... Par exemple en spécifiant un titre, en nommant les axes et en ajoutant une légende."
   ]
  },
  {
   "cell_type": "code",
   "execution_count": 18,
   "id": "92caaa9d-ec4b-456c-8f27-c95ed836ec8d",
   "metadata": {},
   "outputs": [
    {
     "data": {
      "image/png": "[encoded data removed]",
      "text/plain": [
       "<Figure size 360x216 with 1 Axes>"
      ]
     },
     "metadata": {
      "needs_background": "light"
     },
     "output_type": "display_data"
    }
   ],
   "source": [
    "fig = plt.figure(figsize=(5,3))\n",
    "axes = fig.add_axes([0.1,0.1,0.9,0.9])\n",
    "axes.set_title(\"$\\eta$ distribution of muon tracks\")\n",
    "axes.set_xlabel(\"$\\eta$\")\n",
    "axes.set_ylabel(\"# of tracks\")\n",
    "axes.set_yscale(\"log\")\n",
    "axes.hist(etas,bins=20,label=\"$\\mu$\",color='coral',histtype='step');\n",
    "axes.legend();\n"
   ]
  },
  {
   "cell_type": "markdown",
   "id": "551667ff-1a59-4e10-8971-160fdbb1992b",
   "metadata": {},
   "source": [
    "## Exercices conseillés"
   ]
  },
  {
   "cell_type": "markdown",
   "id": "ee390619-4fff-4716-8b97-ad47f12f40c7",
   "metadata": {},
   "source": [
    "Afin de vous familiariser avec les outils, essayez maintenant de faire un plot de l'impulsion transverse des muons. \n",
    "\n",
    "Puis, sur un même plot, tracer séparemment les $\\mu^+$ et les $\\mu^-$.\n",
    "\n",
    "Enfin, observez la distribution du nombre de muons par événement et attaquez vous aux caractéristiques des paires de muons (masse invariante, impulsion transverse, rapidité, ...) !"
   ]
  },
  {
   "cell_type": "code",
   "execution_count": 19,
   "id": "e104965b-4a14-4d24-9195-1b0674535ecf",
   "metadata": {},
   "outputs": [
    {
     "data": {
      "image/png": "[encoded data removed]",
      "text/plain": [
       "<Figure size 432x288 with 1 Axes>"
      ]
     },
     "metadata": {
      "needs_background": "light"
     },
     "output_type": "display_data"
    }
   ],
   "source": [
    "plt.hist(m.nMuons,bins=[0,1,2,3,4,5,6])\n",
    "plt.yscale(\"log\")"
   ]
  },
  {
   "cell_type": "code",
   "execution_count": 20,
   "id": "a08c7147-d626-433a-b8d3-21a97c22fef9",
   "metadata": {},
   "outputs": [
    {
     "name": "stdout",
     "output_type": "stream",
     "text": [
      "Nombre total d'événements: 10000\n",
      "Nombre d'événements avec au moins une trace: 1680\n",
      "Nombre d'événements avec au moins deux traces: 90\n",
      "Nombre d'événements avec au moins trois traces: 3\n",
      "Nombre d'événements avec au moins quatre traces: 0\n",
      "Nombre d'événements avec au moins cinq traces: 0\n"
     ]
    }
   ],
   "source": [
    "print(\"Nombre total d'événements: {}\".format(len(m)))\n",
    "n1 = len(m[m.nMuons>0])\n",
    "n2 = len(m[m.nMuons>1])\n",
    "n3 = len(m[m.nMuons>2])\n",
    "n4 = len(m[m.nMuons>3])\n",
    "n5 = len(m[m.nMuons>4])\n",
    "print(\"Nombre d'événements avec au moins une trace: {}\".format(n1))\n",
    "print(\"Nombre d'événements avec au moins deux traces: {}\".format(n2))\n",
    "print(\"Nombre d'événements avec au moins trois traces: {}\".format(n3))\n",
    "print(\"Nombre d'événements avec au moins quatre traces: {}\".format(n4))\n",
    "print(\"Nombre d'événements avec au moins cinq traces: {}\".format(n5))"
   ]
  },
  {
   "cell_type": "code",
   "execution_count": 21,
   "id": "f16e8fd6-43a3-4c76-b2e1-d2572949c67a",
   "metadata": {},
   "outputs": [],
   "source": [
    "assert(n1+n2+n3+n4+n5==nofTracks)"
   ]
  },
  {
   "cell_type": "code",
   "execution_count": 8,
   "id": "6ba37afc-7859-451d-9d9a-f25cc944dabc",
   "metadata": {},
   "outputs": [
    {
     "name": "stdout",
     "output_type": "stream",
     "text": [
      "  % Total    % Received % Xferd  Average Speed   Time    Time     Time  Current\n",
      "                                 Dload  Upload   Total   Spent    Left  Speed\n",
      "100 3602k  100 3602k    0     0   780k      0  0:00:04  0:00:04 --:--:--  780k\n",
      "run290223.data.root: ROOT file Version 62406 (Compression: 1)\n"
     ]
    },
    {
     "data": {
      "image/png": "[encoded data removed]",
      "text/plain": [
       "<Figure size 640x480 with 1 Axes>"
      ]
     },
     "metadata": {},
     "output_type": "display_data"
    }
   ],
   "source": [
    "import uproot\n",
    "import awkward as ak\n",
    "import numpy as np\n",
    "import matplotlib\n",
    "import matplotlib.pyplot as plt\n",
    "import math\n",
    "import hist\n",
    "import vector\n",
    "\n",
    "!curl 'https://cernbox.cern.ch/remote.php/dav/public-files/JIjQaAYEQnmRDkX/290223/AnalysisResults.root' > run290223.data.root\n",
    "\n",
    "!file *.root\n",
    "file = uproot.open(\"run290223.data.root\")\n",
    "\n",
    "events = file[\"eventsTree\"]\n",
    "\n",
    "m = events.arrays([\"nMuons\",\"Muon_Px\",\"Muon_Py\",\"Muon_Pz\", \"Muon_Charge\"],how=\"zip\",entry_stop=10000)\n",
    "\n",
    "transverseMomentum = np.array([],dtype=float)\n",
    "for event in m[m.nMuons>0]:\n",
    "    tracks = event[\"Muon\"].to_list()\n",
    "    for t in tracks:\n",
    "        transverseMomentum = np.append(transverseMomentum, t[\"Pz\"])\n",
    "plt.hist(transverseMomentum, bins=1000);"
   ]
  },
  {
   "cell_type": "code",
   "execution_count": 16,
   "id": "72e2bf29-2224-4f73-a206-52c3c961b698",
   "metadata": {},
   "outputs": [
    {
     "name": "stdout",
     "output_type": "stream",
     "text": [
      "  % Total    % Received % Xferd  Average Speed   Time    Time     Time  Current\n",
      "                                 Dload  Upload   Total   Spent    Left  Speed\n",
      "100 3602k  100 3602k    0     0  1131k      0  0:00:03  0:00:03 --:--:-- 1131k\n",
      "run290223.data.root: ROOT file Version 62406 (Compression: 1)\n"
     ]
    },
    {
     "data": {
      "image/png": "[encoded data removed]",
      "text/plain": [
       "<Figure size 500x300 with 1 Axes>"
      ]
     },
     "metadata": {},
     "output_type": "display_data"
    }
   ],
   "source": [
    "import uproot\n",
    "import awkward as ak\n",
    "import numpy as np\n",
    "import matplotlib\n",
    "import matplotlib.pyplot as plt\n",
    "import math\n",
    "import hist\n",
    "import vector\n",
    "\n",
    "!curl 'https://cernbox.cern.ch/remote.php/dav/public-files/JIjQaAYEQnmRDkX/290223/AnalysisResults.root' > run290223.data.root\n",
    "\n",
    "!file *.root\n",
    "file = uproot.open(\"run290223.data.root\")\n",
    "\n",
    "events = file[\"eventsTree\"]\n",
    "\n",
    "c = 299792458\n",
    "\n",
    "m = events.arrays([\"nMuons\",\"Muon_Px\",\"Muon_Py\",\"Muon_Pz\", \"Muon_E\", \"Muon_Charge\"],how=\"zip\",entry_stop=10000)\n",
    "\n",
    "transverseMomentum_muplus = np.array([],dtype=float)\n",
    "transverseMomentum_muminus = np.array([],dtype=float)\n",
    "for event in m[m.nMuons>0]:\n",
    "    tracks = event[\"Muon\"].to_list()\n",
    "    for t in tracks:\n",
    "        if (t[\"Charge\"] == 1):\n",
    "            transverseMomentum_muplus = np.append(transverseMomentum_muplus, t[\"Pz\"])\n",
    "        elif (t[\"Charge\"] == -1):\n",
    "            transverseMomentum_muminus = np.append(transverseMomentum_muminus, t[\"Pz\"])\n",
    "            \n",
    "fig = plt.figure(figsize=(5,3))\n",
    "axes = fig.add_axes([0.1,0.1,0.9,0.9])\n",
    "axes.set_title(\"$T_\\perp$ distribution of muon tracks\")\n",
    "axes.set_xlabel(\"$T_\\perp$\")\n",
    "axes.set_ylabel(\"# of tracks\")\n",
    "axes.set_yscale(\"log\")\n",
    "axes.hist(transverseMomentum_muplus,bins=100,label=\"$\\mu^+{}$\",color='coral',histtype='step');\n",
    "axes.hist(transverseMomentum_muminus,bins=100,label=\"$\\mu^-{}$\",color='darkcyan',histtype='step');\n",
    "axes.legend();"
   ]
  },
  {
   "cell_type": "code",
   "execution_count": 4,
   "id": "08de6358-0f49-4692-8f47-36fc4374d803",
   "metadata": {},
   "outputs": [
    {
     "name": "stdout",
     "output_type": "stream",
     "text": [
      "  % Total    % Received % Xferd  Average Speed   Time    Time     Time  Current\n",
      "                                 Dload  Upload   Total   Spent    Left  Speed\n",
      "100 3602k  100 3602k    0     0  1125k      0  0:00:03  0:00:03 --:--:-- 1125k\n",
      "run290223.data.root: ROOT file Version 62406 (Compression: 1)\n",
      "run291694.data.root: ROOT file Version 61600 (Compression: 1)\n",
      "run291694.mc.root:   ROOT file Version 61600 (Compression: 1)\n"
     ]
    },
    {
     "data": {
      "image/png": "[encoded data removed]",
      "text/plain": [
       "<Figure size 500x300 with 1 Axes>"
      ]
     },
     "metadata": {},
     "output_type": "display_data"
    }
   ],
   "source": [
    "import uproot\n",
    "import awkward as ak\n",
    "import numpy as np\n",
    "import matplotlib\n",
    "import matplotlib.pyplot as plt\n",
    "import math\n",
    "import hist\n",
    "import vector\n",
    "\n",
    "!curl 'https://cernbox.cern.ch/remote.php/dav/public-files/JIjQaAYEQnmRDkX/290223/AnalysisResults.root' > run290223.data.root\n",
    "\n",
    "!file *.root\n",
    "file = uproot.open(\"run290223.data.root\")\n",
    "\n",
    "events = file[\"eventsTree\"]\n",
    "\n",
    "c = 299792458\n",
    "\n",
    "m = events.arrays([\"nMuons\",\"Muon_Px\",\"Muon_Py\",\"Muon_Pz\", \"Muon_thetaAbs\", \"Muon_E\", \"Muon_Charge\"],how=\"zip\",entry_stop=10000)\n",
    "\n",
    "transverseMomentum_muplus = np.array([],dtype=float)\n",
    "transverseMomentum_muminus = np.array([],dtype=float)\n",
    "theta = np.array([], dtype=float)\n",
    "for event in m[m.nMuons>0]:\n",
    "    tracks = event[\"Muon\"].to_list()\n",
    "    for t in tracks:\n",
    "        theta = np.append(theta, t[\"thetaAbs\"])\n",
    "    \n",
    "fig = plt.figure(figsize=(5,3))\n",
    "axes = fig.add_axes([0.1,0.1,0.9,0.9])\n",
    "axes.set_title(\"$\\theta$ distribution of muon tracks\")\n",
    "axes.set_xlabel(\"$\\theta$\")\n",
    "axes.set_ylabel(\"# of tracks\")\n",
    "axes.set_yscale(\"log\")\n",
    "axes.hist(theta,bins=100,label=\"$\\theta$\",color='coral',histtype='step');\n",
    "axes.legend();"
   ]
  },
  {
   "cell_type": "code",
   "execution_count": 9,
   "id": "7a618faf-dfc5-4962-968a-f6375b4230de",
   "metadata": {},
   "outputs": [
    {
     "name": "stdout",
     "output_type": "stream",
     "text": [
      "  % Total    % Received % Xferd  Average Speed   Time    Time     Time  Current\n",
      "                                 Dload  Upload   Total   Spent    Left  Speed\n",
      "100 3602k  100 3602k    0     0   928k      0  0:00:03  0:00:03 --:--:--  927k\n",
      "run290223.data.root: ROOT file Version 62406 (Compression: 1)\n",
      "run291694.mc.root:   ROOT file Version 61600 (Compression: 1)\n",
      "Nombre d'événements avec deux traces: 644\n",
      "Nombre d'événements avec deux traces de charge opposée: 361\n"
     ]
    }
   ],
   "source": [
    "import uproot\n",
    "import awkward as ak\n",
    "import numpy as np\n",
    "import matplotlib\n",
    "import matplotlib.pyplot as plt\n",
    "import math\n",
    "import hist\n",
    "import vector\n",
    "\n",
    "!curl 'https://cernbox.cern.ch/remote.php/dav/public-files/JIjQaAYEQnmRDkX/290223/AnalysisResults.root' > run290223.data.root\n",
    "\n",
    "!file *.root\n",
    "file = uproot.open(\"run290223.data.root\")\n",
    "\n",
    "events = file[\"eventsTree\"]\n",
    "\n",
    "c = 299792458\n",
    "\n",
    "m = events.arrays([\"nMuons\",\"Muon_Px\",\"Muon_Py\",\"Muon_Pz\", \"Muon_E\", \"Muon_Charge\"],how=\"zip\",entry_stop=1000000)\n",
    "n = len(m[m.nMuons==2])\n",
    "\n",
    "print(\"Nombre d'événements avec deux traces: {}\".format(n))\n",
    "\n",
    "charge = np.array([0,0])\n",
    "nOppositeCharge = 0\n",
    "\n",
    "for event in m[m.nMuons==2]:\n",
    "    tracks = event[\"Muon\"].to_list()\n",
    "    i = 0\n",
    "    for t in tracks:\n",
    "        if (t[\"Charge\"] == 1):\n",
    "            charge[i] = 1\n",
    "        elif (t[\"Charge\"] == -1):\n",
    "            charge[i] = -1\n",
    "        i += 1\n",
    "    if charge[0] != charge[1]:\n",
    "        nOppositeCharge += 1\n",
    "        \n",
    "print(\"Nombre d'événements avec deux traces de charge opposée: {}\".format(nOppositeCharge))\n"
   ]
  },
  {
   "cell_type": "code",
   "execution_count": null,
   "id": "009ba4ba-ae52-4ff3-a8f7-5af434bcea0d",
   "metadata": {},
   "outputs": [],
   "source": [
    "import uproot\n",
    "import awkward as ak\n",
    "import numpy as np\n",
    "import matplotlib\n",
    "import matplotlib.pyplot as plt\n",
    "import math\n",
    "import hist\n",
    "import vector\n",
    "\n",
    "!curl 'https://cernbox.cern.ch/remote.php/dav/public-files/JIjQaAYEQnmRDkX/290223/AnalysisResults.root' > run290223.data.root\n",
    "\n",
    "!file *.root\n",
    "file = uproot.open(\"run290223.data.root\")\n",
    "\n",
    "events = file[\"eventsTree\"]\n",
    "\n",
    "c = 299792458\n",
    "\n",
    "m = events.arrays([\"nMuons\",\"Muon_Px\",\"Muon_Py\",\"Muon_Pz\", \"Muon_E\", \"Muon_Charge\"],how=\"zip\",entry_stop=10000)\n",
    "\n",
    "transverseMomentum = np.array([],dtype=float)\n",
    "for event in m[m.nMuons>0]:\n",
    "    tracks = event[\"Muon\"].to_list()\n",
    "    for t in tracks:\n",
    "        transverseMomentum = np.append(transverseMomentum, t[\"Pz\"])\n",
    "plt.hist(transverseMomentum, bins=1000);"
   ]
  },
  {
   "cell_type": "code",
   "execution_count": null,
   "id": "22e5b2c8-39b6-4604-8dad-e831215923f7",
   "metadata": {},
   "outputs": [],
   "source": []
  }
 ],
 "metadata": {
  "kernelspec": {
   "display_name": "Python 3 (ipykernel)",
   "language": "python",
   "name": "python3"
  },
  "language_info": {
   "codemirror_mode": {
    "name": "ipython",
    "version": 3
   },
   "file_extension": ".py",
   "mimetype": "text/x-python",
   "name": "python",
   "nbconvert_exporter": "python",
   "pygments_lexer": "ipython3",
   "version": "3.10.8"
  }
 },
 "nbformat": 4,
 "nbformat_minor": 5
}
