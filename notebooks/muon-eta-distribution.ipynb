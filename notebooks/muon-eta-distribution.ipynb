{
 "cells": [
  {
   "cell_type": "markdown",
   "id": "99a6a844-e9ab-4951-a690-d58cd5a45532",
   "metadata": {},
   "source": [
    "# Notebook de départ\n",
    "\n",
    "Ce notebook est un point de départ qui vous montre la base de comment accéder aux données et en extraire la distribution de la pseudo-rapidité $\\eta$ des traces."
   ]
  },
  {
   "cell_type": "markdown",
   "id": "993e8d90-0dc4-4f7e-9649-367d90f5de4c",
   "metadata": {},
   "source": [
    "## Importation de modules python"
   ]
  },
  {
   "cell_type": "markdown",
   "id": "68d3139b-5e8e-42ae-9552-67b8bbbb2d13",
   "metadata": {},
   "source": [
    "La plupart des notebooks jupyter commencent par une liste d'importation de modules python qui sont ensuite utilisés.\n",
    "Dans ce projet les modules de base sont : \n",
    "- [uproot](https://uproot.readthedocs.io/en/latest/) pour lire (et écrire) des données au format [ROOT](https://root.cern.ch) (mais sans avoir besoin d'installer ROOT)\n",
    "- [awkward](https://awkward-array.readthedocs.io/en/latest/) pour manipuler des tableaux avec des structures de taille variable (qui sont ce que l'on utilise couramment en physique des hautes énergies, e.g. chaque événement contient potentiellement un nombre différent de muons)\n",
    "- [numpy](https://numpy.org) qui est la base de la base des modules de \"scientific computing\" dans le monde Python. Un peu moins nécessaire dans notre cas (les awkward arrays sont généralement plus adaptés) mais certainement un module à connaître et à explorer dans votre future carrière.\n",
    "- [matplotlib](https://matplotlib.org) pour créer de nombreux types de visualisations\n",
    "- [hist](https://hist.readthedocs.io/en/latest/index.html) pour créer des histogrammes\n",
    "- [vector](https://vector.readthedocs.io/en/latest/index.html) pour manipuler des vecteurs 2D, 3D et Lorentz.\n",
    "\n",
    "Pour apprendre et pratiquer ces modules, voir par exemple un [tutorial récent](https://github.com/jpivarski-talks/2021-09-13-star-uproot-awkward-tutorial/blob/main/tutorial.ipynb)\n"
   ]
  },
  {
   "cell_type": "code",
   "execution_count": 4,
   "id": "f34f1ffa-731a-44f0-86f4-1dba72d84e85",
   "metadata": {},
   "outputs": [
    {
     "name": "stdout",
     "output_type": "stream",
     "text": [
      "uproot version 4.1.9\n",
      "awkward version 1.10.2\n",
      "numpy version 1.23.5\n",
      "matplotlib version 3.4.3\n",
      "hist version 2.5.2\n",
      "vector version 0.8.5\n"
     ]
    }
   ],
   "source": [
    "import uproot\n",
    "import awkward as ak\n",
    "import numpy as np\n",
    "import matplotlib\n",
    "import matplotlib.pyplot as plt\n",
    "import math\n",
    "import hist\n",
    "import vector\n",
    "print(\"uproot version\",uproot.__version__)\n",
    "print(\"awkward version\",ak.__version__)\n",
    "print(\"numpy version\",np.__version__)\n",
    "print(\"matplotlib version\",matplotlib.__version__)\n",
    "print(\"hist version\",hist.__version__)\n",
    "print(\"vector version\",vector.__version__)"
   ]
  },
  {
   "cell_type": "markdown",
   "id": "6a5a6001-b3d3-472a-b9be-7ea484235ca4",
   "metadata": {},
   "source": [
    "## Récupération des données"
   ]
  },
  {
   "cell_type": "markdown",
   "id": "cf7b6f3d-efed-40e7-adb7-2a524b092b30",
   "metadata": {},
   "source": [
    "Ensuite il faut récupérer, d'une façon ou d'une autre, les données que l'on veut analyser/explorer/visualiser. Dans cet exemple, on copie simplement un fichier ROOT depuis CERNBox (équivalent CERN de services comme DropBox, OneDrive, etc...) vers l'ordinateur qui tourne ce notebook."
   ]
  },
  {
   "cell_type": "code",
   "execution_count": 5,
   "id": "fa4cf519-d356-4727-83bd-662a16831c94",
   "metadata": {},
   "outputs": [
    {
     "name": "stdout",
     "output_type": "stream",
     "text": [
      "  % Total    % Received % Xferd  Average Speed   Time    Time     Time  Current\n",
      "                                 Dload  Upload   Total   Spent    Left  Speed\n",
      "100 3602k  100 3602k    0     0  1348k      0  0:00:02  0:00:02 --:--:-- 1348k\n"
     ]
    }
   ],
   "source": [
    "!curl 'https://cernbox.cern.ch/remote.php/dav/public-files/JIjQaAYEQnmRDkX/290223/AnalysisResults.root' > run290223.data.root"
   ]
  },
  {
   "cell_type": "markdown",
   "id": "4f991148-c821-4026-945e-58c917e3e4a0",
   "metadata": {},
   "source": [
    "## Exploration rapide des données (i.e. le format des données)"
   ]
  },
  {
   "cell_type": "code",
   "execution_count": 6,
   "id": "79230b73-9382-4a47-af99-8bd41ad23c23",
   "metadata": {},
   "outputs": [
    {
     "name": "stdout",
     "output_type": "stream",
     "text": [
      "run290223.data.root: ROOT file Version 62406 (Compression: 1)\n"
     ]
    }
   ],
   "source": [
    "!file *.root"
   ]
  },
  {
   "cell_type": "code",
   "execution_count": 7,
   "id": "47ab8e7c-12b0-4f43-b064-f792782cd409",
   "metadata": {},
   "outputs": [],
   "source": [
    "file = uproot.open(\"run290223.data.root\")"
   ]
  },
  {
   "cell_type": "code",
   "execution_count": 8,
   "id": "1e048f5d-a427-497c-8b95-51091a7187fd",
   "metadata": {},
   "outputs": [
    {
     "data": {
      "text/plain": [
       "['eventsTree;1']"
      ]
     },
     "execution_count": 8,
     "metadata": {},
     "output_type": "execute_result"
    }
   ],
   "source": [
    "file.keys()"
   ]
  },
  {
   "cell_type": "code",
   "execution_count": 9,
   "id": "d07822ef-2dc8-4213-b79e-9274273fb404",
   "metadata": {},
   "outputs": [
    {
     "name": "stdout",
     "output_type": "stream",
     "text": [
      "name                 | typename                 | interpretation                \n",
      "---------------------+--------------------------+-------------------------------\n",
      "runNumber            | int32_t                  | AsDtype('>i4')\n",
      "xVtx                 | double                   | AsDtype('>f8')\n",
      "yVtx                 | double                   | AsDtype('>f8')\n",
      "zVtx                 | double                   | AsDtype('>f8')\n",
      "isCINT               | bool                     | AsDtype('bool')\n",
      "isCMSL               | bool                     | AsDtype('bool')\n",
      "isCMSH               | bool                     | AsDtype('bool')\n",
      "isCMLL               | bool                     | AsDtype('bool')\n",
      "isCMUL               | bool                     | AsDtype('bool')\n",
      "nMuons               | int32_t                  | AsDtype('>i4')\n",
      "Muon_E               | std::vector<float>       | AsJagged(AsDtype('>f4'), he...\n",
      "Muon_Px              | std::vector<float>       | AsJagged(AsDtype('>f4'), he...\n",
      "Muon_Py              | std::vector<float>       | AsJagged(AsDtype('>f4'), he...\n",
      "Muon_Pz              | std::vector<float>       | AsJagged(AsDtype('>f4'), he...\n",
      "Muon_Charge          | std::vector<int16_t>     | AsJagged(AsDtype('>i2'), he...\n",
      "Muon_thetaAbs        | std::vector<float>       | AsJagged(AsDtype('>f4'), he...\n",
      "Muon_xDCA            | std::vector<double>      | AsJagged(AsDtype('>f8'), he...\n",
      "Muon_yDCA            | std::vector<double>      | AsJagged(AsDtype('>f8'), he...\n",
      "Muon_zDCA            | std::vector<double>      | AsJagged(AsDtype('>f8'), he...\n",
      "Muon_matchedTrgTh... | std::vector<int32_t>     | AsJagged(AsDtype('>i4'), he...\n",
      "Muon_MCHClusterMap   | std::vector<uint32_t>    | AsJagged(AsDtype('>u4'), he...\n",
      "Muon_MTRHitMapTrg    | std::vector<uint32_t>    | AsJagged(AsDtype('>u4'), he...\n",
      "Muon_MTRHitMapTrk    | std::vector<uint32_t>    | AsJagged(AsDtype('>u4'), he...\n"
     ]
    }
   ],
   "source": [
    "events = file[\"eventsTree\"]\n",
    "events.show()"
   ]
  },
  {
   "cell_type": "markdown",
   "id": "d6f2c9ee-df33-42d6-bf33-9bfa148eb396",
   "metadata": {},
   "source": [
    "L'idée est ensuite de mettre les variables d'intérêt dans des tableaux que l'on manipulera ensuite. Par exemple on récupère ci-dessous des tableaux contenant le nombre de traces par événement, les composantes x,y,z de l'impulsion des traces et leur charge; et ceci pour les 10000 premiers événements (pour que le reste de ce notebook d'exemple ne soit pas trop lent). "
   ]
  },
  {
   "cell_type": "code",
   "execution_count": 10,
   "id": "af912688-02ad-4586-95a4-484ed45bdc53",
   "metadata": {},
   "outputs": [
    {
     "data": {
      "text/plain": [
       "awkward.highlevel.Array"
      ]
     },
     "execution_count": 10,
     "metadata": {},
     "output_type": "execute_result"
    }
   ],
   "source": [
    "m = events.arrays([\"nMuons\",\"Muon_Px\",\"Muon_Py\",\"Muon_Pz\",\"Muon_Charge\",\"Muon_E\"],how=\"zip\",entry_stop=10000)\n",
    "type(m)"
   ]
  },
  {
   "cell_type": "markdown",
   "id": "f83ad689-ca39-4125-9e0d-c41944f90ee7",
   "metadata": {},
   "source": [
    "Ce tableau peut être indexé de différentes façons. Avec un index unique pour accéder un seul élément : "
   ]
  },
  {
   "cell_type": "code",
   "execution_count": 11,
   "id": "219de44a-06fe-47ab-9d08-46d6eb05a64e",
   "metadata": {},
   "outputs": [
    {
     "data": {
      "text/plain": [
       "{'nMuons': 1,\n",
       " 'Muon': [{'Px': -0.5483500957489014,\n",
       "   'Py': -0.22255341708660126,\n",
       "   'Pz': -6.712076663970947,\n",
       "   'Charge': -1,\n",
       "   'E': 6.738943099975586}]}"
      ]
     },
     "execution_count": 11,
     "metadata": {},
     "output_type": "execute_result"
    }
   ],
   "source": [
    "m[18].to_list()"
   ]
  },
  {
   "cell_type": "markdown",
   "id": "438eb179-0090-4694-bc3d-d163d706e694",
   "metadata": {},
   "source": [
    "> Challenge : l'index 18 correspond en fait au premier événement qui a au moins un muon dans cet échantillon de données. Comment trouver cet index rapidement ? "
   ]
  },
  {
   "cell_type": "markdown",
   "id": "c7081ac3-b25e-4da7-9f71-c2839b296be2",
   "metadata": {},
   "source": [
    "Un index négatif est relatif à la fin du tableau. Le dernier événement est : "
   ]
  },
  {
   "cell_type": "code",
   "execution_count": 12,
   "id": "9e4b0221-d455-4757-95dc-9827ace7472d",
   "metadata": {},
   "outputs": [
    {
     "data": {
      "text/plain": [
       "{'nMuons': 0, 'Muon': []}"
      ]
     },
     "execution_count": 12,
     "metadata": {},
     "output_type": "execute_result"
    }
   ],
   "source": [
    "m[-1].to_list()"
   ]
  },
  {
   "cell_type": "markdown",
   "id": "a001e0ac-fc8d-48e5-aca2-75153c531250",
   "metadata": {},
   "source": [
    "L'index peut également décrire un intervalle, e.g. pour afficher les 3 premiers événements :  "
   ]
  },
  {
   "cell_type": "code",
   "execution_count": 13,
   "id": "6f1dc573-e070-4f90-86ef-a508b0de9846",
   "metadata": {},
   "outputs": [
    {
     "data": {
      "text/plain": [
       "[{'nMuons': 0, 'Muon': []},\n",
       " {'nMuons': 0, 'Muon': []},\n",
       " {'nMuons': 0, 'Muon': []}]"
      ]
     },
     "execution_count": 13,
     "metadata": {},
     "output_type": "execute_result"
    }
   ],
   "source": [
    "m[0:3].to_list()"
   ]
  },
  {
   "cell_type": "markdown",
   "id": "42446b4b-d28a-4325-88e4-80df60b86e07",
   "metadata": {},
   "source": [
    "Un index peut également être un tableau de booléen où les valeurs à True indiquent les valeurs à indexer. Par exemple pour afficher le premier événement qui possède au moins 2 muons :"
   ]
  },
  {
   "cell_type": "code",
   "execution_count": 14,
   "id": "12e348fa-56b4-45bf-a826-08a162c99ed7",
   "metadata": {},
   "outputs": [
    {
     "data": {
      "text/plain": [
       "{'nMuons': 2,\n",
       " 'Muon': [{'Px': -0.019152436405420303,\n",
       "   'Py': -1.2657990455627441,\n",
       "   'Pz': -32.36643981933594,\n",
       "   'Charge': 1,\n",
       "   'E': 32.391357421875},\n",
       "  {'Px': -0.7412209510803223,\n",
       "   'Py': 0.275270938873291,\n",
       "   'Pz': -16.64299774169922,\n",
       "   'Charge': 1,\n",
       "   'E': 16.6621036529541}]}"
      ]
     },
     "execution_count": 14,
     "metadata": {},
     "output_type": "execute_result"
    }
   ],
   "source": [
    "m[m.nMuons>1][0].to_list()"
   ]
  },
  {
   "cell_type": "markdown",
   "id": "7a78cb9c-bdd3-4c28-814b-2ff78873f7fb",
   "metadata": {},
   "source": [
    "## Calcul de la pseudo-rapidité \n",
    "\n",
    "Définissons maintenant quelques fonctions pour calculer la pseudo-rapidité $\\eta$ d'un tri-vecteur... "
   ]
  },
  {
   "cell_type": "code",
   "execution_count": 15,
   "id": "e8dddcd2-1673-464d-a11d-d406951f5b41",
   "metadata": {},
   "outputs": [],
   "source": [
    "def mag(px:float,py:float,pz:float):\n",
    "    \"\"\"Returns the norm of the 3-vector (px,py,pz).\"\"\"\n",
    "    return math.sqrt(px*px+py*py+pz*pz)\n",
    "\n",
    "def costheta(px:float,py:float,pz:float):\n",
    "    \"\"\"Returns the cos(theta) of the 3 vector (px,py,pz).\"\"\"\n",
    "    ptot = mag(px,py,pz);\n",
    "    return 1.0 if ptot == 0.0 else pz/ptot\n",
    "\n",
    "def eta(px:float,py:float,pz:float):\n",
    "    \"\"\"Returns the pseudo-rapidity of the 3 vector (px,py,pz).\"\"\"\n",
    "    ct = costheta(px,py,pz)\n",
    "    if ct*ct < 1:\n",
    "        return -0.5* math.log( (1.0-ct)/(1.0+ct) )\n",
    "    if pz == 0: \n",
    "        return 0\n",
    "    if pz>0: \n",
    "        return 10E10\n",
    "    else:\n",
    "        return -10E20\n"
   ]
  },
  {
   "cell_type": "markdown",
   "id": "a78fdc91-3871-4d84-aef9-0fcc2e745393",
   "metadata": {},
   "source": [
    "Puis on créé un tableau des valeurs de $\\eta$ pour tous les muons (notez que l'on sélectionne les événements qui ont au moins un muon)"
   ]
  },
  {
   "cell_type": "code",
   "execution_count": 16,
   "id": "d200fe92-bc23-49b0-94f6-6f4e09911496",
   "metadata": {
    "tags": []
   },
   "outputs": [],
   "source": [
    "etas = np.array([],dtype=float)\n",
    "nofTracks=0 # il est toujours utile de compter ...\n",
    "nofEvents=0 # \n",
    "for event in m[m.nMuons>0]:\n",
    "    nofEvents+=1\n",
    "    tracks = event[\"Muon\"].to_list()\n",
    "    for t in tracks:\n",
    "        nofTracks+=1\n",
    "        etas = np.append(etas,eta(t[\"Px\"],t[\"Py\"],t[\"Pz\"])) "
   ]
  },
  {
   "cell_type": "code",
   "execution_count": 17,
   "id": "d76f4c43-126c-4557-9b4d-e1984af0d420",
   "metadata": {
    "tags": []
   },
   "outputs": [
    {
     "name": "stdout",
     "output_type": "stream",
     "text": [
      "1680 1773 1773\n"
     ]
    }
   ],
   "source": [
    "# ... et de vérifier que le compte est bon !\n",
    "print(nofEvents,len(etas),nofTracks)"
   ]
  },
  {
   "cell_type": "markdown",
   "id": "c14de7f9-2992-457b-9900-93c4a35099d1",
   "metadata": {},
   "source": [
    "## Visualisation de la pseudo-rapidité des muons"
   ]
  },
  {
   "cell_type": "code",
   "execution_count": 18,
   "id": "eaf569b3-c560-4209-a557-da5eb389ccd8",
   "metadata": {},
   "outputs": [
    {
     "data": {
      "image/png": "[encoded data removed]",
      "text/plain": [
       "<Figure size 640x480 with 1 Axes>"
      ]
     },
     "metadata": {},
     "output_type": "display_data"
    }
   ],
   "source": [
    "plt.hist(etas,bins=100);"
   ]
  },
  {
   "cell_type": "markdown",
   "id": "f8e0aa70-5b47-4652-8ea0-5d75e26e5d70",
   "metadata": {},
   "source": [
    "La librarie [matplotlib](https://matplotlib.org) permet bien entendu de peaufiner cette figure autant que l'on souhaite... Par exemple en spécifiant un titre, en nommant les axes et en ajoutant une légende."
   ]
  },
  {
   "cell_type": "code",
   "execution_count": 19,
   "id": "92caaa9d-ec4b-456c-8f27-c95ed836ec8d",
   "metadata": {},
   "outputs": [
    {
     "data": {
      "image/png": "[encoded data removed]",
      "text/plain": [
       "<Figure size 500x300 with 1 Axes>"
      ]
     },
     "metadata": {},
     "output_type": "display_data"
    }
   ],
   "source": [
    "fig = plt.figure(figsize=(5,3))\n",
    "axes = fig.add_axes([0.1,0.1,0.9,0.9])\n",
    "axes.set_title(\"$\\eta$ distribution of muon tracks\")\n",
    "axes.set_xlabel(\"$\\eta$\")\n",
    "axes.set_ylabel(\"# of tracks\")\n",
    "axes.set_yscale(\"log\")\n",
    "axes.hist(etas,bins=20,label=\"$\\mu$\",color='coral',histtype='step');\n",
    "axes.legend();\n"
   ]
  },
  {
   "cell_type": "markdown",
   "id": "551667ff-1a59-4e10-8971-160fdbb1992b",
   "metadata": {},
   "source": [
    "## Exercices conseillés"
   ]
  },
  {
   "cell_type": "markdown",
   "id": "ee390619-4fff-4716-8b97-ad47f12f40c7",
   "metadata": {},
   "source": [
    "Afin de vous familiariser avec les outils, essayez maintenant de faire un plot de l'impulsion transverse des muons. \n",
    "\n",
    "Puis, sur un même plot, tracer séparemment les $\\mu^+$ et les $\\mu^-$.\n",
    "\n",
    "Enfin, observez la distribution du nombre de muons par événement et attaquez vous aux caractéristiques des paires de muons (masse invariante, impulsion transverse, rapidité, ...) !"
   ]
  },
  {
   "cell_type": "code",
   "execution_count": 20,
   "id": "e104965b-4a14-4d24-9195-1b0674535ecf",
   "metadata": {},
   "outputs": [
    {
     "data": {
      "image/png": "[encoded data removed]",
      "text/plain": [
       "<Figure size 640x480 with 1 Axes>"
      ]
     },
     "metadata": {},
     "output_type": "display_data"
    }
   ],
   "source": [
    "plt.hist(m.nMuons,bins=[0,1,2,3,4,5,6])\n",
    "plt.yscale(\"log\")"
   ]
  },
  {
   "cell_type": "code",
   "execution_count": 21,
   "id": "a08c7147-d626-433a-b8d3-21a97c22fef9",
   "metadata": {},
   "outputs": [
    {
     "name": "stdout",
     "output_type": "stream",
     "text": [
      "Nombre total d'événements: 10000\n",
      "Nombre d'événements avec au moins une trace: 1680\n",
      "Nombre d'événements avec au moins deux traces: 90\n",
      "Nombre d'événements avec au moins trois traces: 3\n",
      "Nombre d'événements avec au moins quatre traces: 0\n",
      "Nombre d'événements avec au moins cinq traces: 0\n"
     ]
    }
   ],
   "source": [
    "print(\"Nombre total d'événements: {}\".format(len(m)))\n",
    "n1 = len(m[m.nMuons>0])\n",
    "n2 = len(m[m.nMuons>1])\n",
    "n3 = len(m[m.nMuons>2])\n",
    "n4 = len(m[m.nMuons>3])\n",
    "n5 = len(m[m.nMuons>4])\n",
    "print(\"Nombre d'événements avec au moins une trace: {}\".format(n1))\n",
    "print(\"Nombre d'événements avec au moins deux traces: {}\".format(n2))\n",
    "print(\"Nombre d'événements avec au moins trois traces: {}\".format(n3))\n",
    "print(\"Nombre d'événements avec au moins quatre traces: {}\".format(n4))\n",
    "print(\"Nombre d'événements avec au moins cinq traces: {}\".format(n5))"
   ]
  },
  {
   "cell_type": "code",
   "execution_count": 22,
   "id": "f16e8fd6-43a3-4c76-b2e1-d2572949c67a",
   "metadata": {},
   "outputs": [],
   "source": [
    "assert(n1+n2+n3+n4+n5==nofTracks)"
   ]
  },
  {
   "cell_type": "code",
   "execution_count": 23,
   "id": "6cf7a1f4-7410-491f-bc5c-4812208ab73d",
   "metadata": {},
   "outputs": [
    {
     "data": {
      "image/png": "[encoded data removed]",
      "text/plain": [
       "<Figure size 640x480 with 1 Axes>"
      ]
     },
     "metadata": {},
     "output_type": "display_data"
    }
   ],
   "source": [
    "#Création d'une liste avec les impulsions transverses\n",
    "Pt = np.array([],dtype=float)\n",
    "nofTracks=0 \n",
    "nofEvents=0  \n",
    "for event in m[m.nMuons>1]:\n",
    "    nofEvents+=1\n",
    "    tracks = event[\"Muon\"].to_list()\n",
    "    for t in tracks:\n",
    "        nofTracks+=1\n",
    "        Pt = np.append(Pt,t[\"Pz\"]) \n",
    "#Histogramme des impulsions transverses, pour les 10000 premiers évènements\n",
    "plt.hist(Pt,bins=100);"
   ]
  },
  {
   "cell_type": "code",
   "execution_count": 26,
   "id": "6ba37afc-7859-451d-9d9a-f25cc944dabc",
   "metadata": {},
   "outputs": [
    {
     "name": "stdout",
     "output_type": "stream",
     "text": [
      "[{'Px': -0.019152436405420303, 'Py': -1.2657990455627441, 'Pz': -32.36643981933594, 'Charge': 1, 'E': 32.391357421875}, {'Px': -0.7412209510803223, 'Py': 0.275270938873291, 'Pz': -16.64299774169922, 'Charge': 1, 'E': 16.6621036529541}]\n",
      "[{'Px': -0.019152436405420303, 'Py': -1.2657990455627441, 'Pz': -32.36643981933594, 'Charge': 1, 'E': 32.391357421875}, {'Px': -0.7412209510803223, 'Py': 0.275270938873291, 'Pz': -16.64299774169922, 'Charge': 1, 'E': 16.6621036529541}]\n",
      "[{'Px': 0.04311735928058624, 'Py': 0.4961458742618561, 'Pz': -9.50603199005127, 'Charge': 1, 'E': 9.519654273986816}, {'Px': -0.4301466941833496, 'Py': 0.0044751097448170185, 'Pz': -4.707291126251221, 'Charge': -1, 'E': 4.728086471557617}]\n",
      "[{'Px': 0.04311735928058624, 'Py': 0.4961458742618561, 'Pz': -9.50603199005127, 'Charge': 1, 'E': 9.519654273986816}, {'Px': -0.4301466941833496, 'Py': 0.0044751097448170185, 'Pz': -4.707291126251221, 'Charge': -1, 'E': 4.728086471557617}]\n",
      "[{'Px': -4.839309215545654, 'Py': -0.6075137257575989, 'Pz': -31.99516487121582, 'Charge': 1, 'E': 32.36494445800781}, {'Px': 0.09512785077095032, 'Py': 0.2045244425535202, 'Pz': -3.2427055835723877, 'Charge': -1, 'E': 3.252258062362671}]\n",
      "[{'Px': -4.839309215545654, 'Py': -0.6075137257575989, 'Pz': -31.99516487121582, 'Charge': 1, 'E': 32.36494445800781}, {'Px': 0.09512785077095032, 'Py': 0.2045244425535202, 'Pz': -3.2427055835723877, 'Charge': -1, 'E': 3.252258062362671}]\n",
      "[{'Px': -0.016434594988822937, 'Py': 0.6719527244567871, 'Pz': -4.289310455322266, 'Charge': -1, 'E': 4.3429412841796875}, {'Px': -0.5339744687080383, 'Py': -0.3824858069419861, 'Pz': -11.019092559814453, 'Charge': -1, 'E': 11.039156913757324}]\n",
      "[{'Px': -0.016434594988822937, 'Py': 0.6719527244567871, 'Pz': -4.289310455322266, 'Charge': -1, 'E': 4.3429412841796875}, {'Px': -0.5339744687080383, 'Py': -0.3824858069419861, 'Pz': -11.019092559814453, 'Charge': -1, 'E': 11.039156913757324}]\n",
      "[{'Px': 0.4291404187679291, 'Py': -0.2250770926475525, 'Pz': -5.1583356857299805, 'Charge': 1, 'E': 5.182124137878418}, {'Px': 0.028321443125605583, 'Py': -0.4561149477958679, 'Pz': -7.02205753326416, 'Charge': -1, 'E': 7.037705421447754}]\n",
      "[{'Px': 0.4291404187679291, 'Py': -0.2250770926475525, 'Pz': -5.1583356857299805, 'Charge': 1, 'E': 5.182124137878418}, {'Px': 0.028321443125605583, 'Py': -0.4561149477958679, 'Pz': -7.02205753326416, 'Charge': -1, 'E': 7.037705421447754}]\n",
      "[{'Px': 0.6012067794799805, 'Py': -0.3228772282600403, 'Pz': -18.72925567626953, 'Charge': 1, 'E': 18.741981506347656}, {'Px': 0.5000112056732178, 'Py': -0.34284013509750366, 'Pz': -5.8196868896484375, 'Charge': -1, 'E': 5.852133750915527}]\n",
      "[{'Px': 0.6012067794799805, 'Py': -0.3228772282600403, 'Pz': -18.72925567626953, 'Charge': 1, 'E': 18.741981506347656}, {'Px': 0.5000112056732178, 'Py': -0.34284013509750366, 'Pz': -5.8196868896484375, 'Charge': -1, 'E': 5.852133750915527}]\n",
      "[{'Px': -1.2061928510665894, 'Py': 1.0349854230880737, 'Pz': -25.654382705688477, 'Charge': -1, 'E': 25.703784942626953}, {'Px': 0.647416889667511, 'Py': -0.3830713629722595, 'Pz': -11.462539672851562, 'Charge': 1, 'E': 11.487683296203613}]\n",
      "[{'Px': -1.2061928510665894, 'Py': 1.0349854230880737, 'Pz': -25.654382705688477, 'Charge': -1, 'E': 25.703784942626953}, {'Px': 0.647416889667511, 'Py': -0.3830713629722595, 'Pz': -11.462539672851562, 'Charge': 1, 'E': 11.487683296203613}]\n",
      "[{'Px': -2.9483277797698975, 'Py': 3.4753260612487793, 'Pz': -49.1021614074707, 'Charge': 1, 'E': 49.313323974609375}, {'Px': 0.26043701171875, 'Py': 0.15771490335464478, 'Pz': -5.304992198944092, 'Charge': -1, 'E': 5.314772605895996}]\n",
      "[{'Px': -2.9483277797698975, 'Py': 3.4753260612487793, 'Pz': -49.1021614074707, 'Charge': 1, 'E': 49.313323974609375}, {'Px': 0.26043701171875, 'Py': 0.15771490335464478, 'Pz': -5.304992198944092, 'Charge': -1, 'E': 5.314772605895996}]\n",
      "[{'Px': -0.38972392678260803, 'Py': 0.4706752300262451, 'Pz': -8.517684936523438, 'Charge': -1, 'E': 8.540230751037598}, {'Px': 0.11325494945049286, 'Py': 0.5064147710800171, 'Pz': -11.079174041748047, 'Charge': 1, 'E': 11.09182357788086}]\n",
      "[{'Px': -0.38972392678260803, 'Py': 0.4706752300262451, 'Pz': -8.517684936523438, 'Charge': -1, 'E': 8.540230751037598}, {'Px': 0.11325494945049286, 'Py': 0.5064147710800171, 'Pz': -11.079174041748047, 'Charge': 1, 'E': 11.09182357788086}]\n",
      "[{'Px': -0.609066367149353, 'Py': 0.18807469308376312, 'Pz': -9.08303165435791, 'Charge': -1, 'E': 9.105985641479492}, {'Px': -0.02830398455262184, 'Py': -0.01059220265597105, 'Pz': -21.73594856262207, 'Charge': 1, 'E': 21.73622703552246}]\n",
      "[{'Px': -0.609066367149353, 'Py': 0.18807469308376312, 'Pz': -9.08303165435791, 'Charge': -1, 'E': 9.105985641479492}, {'Px': -0.02830398455262184, 'Py': -0.01059220265597105, 'Pz': -21.73594856262207, 'Charge': 1, 'E': 21.73622703552246}]\n",
      "[{'Px': -0.42900076508522034, 'Py': 0.025601444765925407, 'Pz': -9.898037910461426, 'Charge': -1, 'E': 9.907927513122559}, {'Px': 0.11895197629928589, 'Py': -0.5732792019844055, 'Pz': -7.4599175453186035, 'Charge': -1, 'E': 7.4836039543151855}]\n",
      "[{'Px': -0.42900076508522034, 'Py': 0.025601444765925407, 'Pz': -9.898037910461426, 'Charge': -1, 'E': 9.907927513122559}, {'Px': 0.11895197629928589, 'Py': -0.5732792019844055, 'Pz': -7.4599175453186035, 'Charge': -1, 'E': 7.4836039543151855}]\n",
      "[{'Px': 0.5638624429702759, 'Py': 0.3365200459957123, 'Pz': -8.78004264831543, 'Charge': 1, 'E': 8.805197715759277}, {'Px': 0.6048206686973572, 'Py': -0.42148110270500183, 'Pz': -7.17648458480835, 'Charge': -1, 'E': 7.215022087097168}]\n",
      "[{'Px': 0.5638624429702759, 'Py': 0.3365200459957123, 'Pz': -8.78004264831543, 'Charge': 1, 'E': 8.805197715759277}, {'Px': 0.6048206686973572, 'Py': -0.42148110270500183, 'Pz': -7.17648458480835, 'Charge': -1, 'E': 7.215022087097168}]\n",
      "[{'Px': 0.3696199357509613, 'Py': 0.23968425393104553, 'Pz': -4.671768665313721, 'Charge': 1, 'E': 4.6936821937561035}, {'Px': 0.26118341088294983, 'Py': 0.28805992007255554, 'Pz': -4.33836555480957, 'Charge': 1, 'E': 4.357037544250488}]\n",
      "[{'Px': 0.3696199357509613, 'Py': 0.23968425393104553, 'Pz': -4.671768665313721, 'Charge': 1, 'E': 4.6936821937561035}, {'Px': 0.26118341088294983, 'Py': 0.28805992007255554, 'Pz': -4.33836555480957, 'Charge': 1, 'E': 4.357037544250488}]\n",
      "[{'Px': 0.6515255570411682, 'Py': -0.7828128337860107, 'Pz': -19.05487060546875, 'Charge': 1, 'E': 19.08236312866211}, {'Px': 1.3958503007888794, 'Py': -0.5021640658378601, 'Pz': -14.968562126159668, 'Charge': -1, 'E': 15.042259216308594}]\n",
      "[{'Px': 0.6515255570411682, 'Py': -0.7828128337860107, 'Pz': -19.05487060546875, 'Charge': 1, 'E': 19.08236312866211}, {'Px': 1.3958503007888794, 'Py': -0.5021640658378601, 'Pz': -14.968562126159668, 'Charge': -1, 'E': 15.042259216308594}]\n",
      "[{'Px': -0.8289233446121216, 'Py': -0.5273955464363098, 'Pz': -9.864049911499023, 'Charge': 1, 'E': 9.913420677185059}, {'Px': 0.1541585773229599, 'Py': -0.18014508485794067, 'Pz': -3.4572744369506836, 'Charge': 1, 'E': 3.467005491256714}]\n",
      "[{'Px': -0.8289233446121216, 'Py': -0.5273955464363098, 'Pz': -9.864049911499023, 'Charge': 1, 'E': 9.913420677185059}, {'Px': 0.1541585773229599, 'Py': -0.18014508485794067, 'Pz': -3.4572744369506836, 'Charge': 1, 'E': 3.467005491256714}]\n",
      "[{'Px': 0.5317345261573792, 'Py': 0.5775963068008423, 'Pz': -11.095438957214355, 'Charge': 1, 'E': 11.12368106842041}, {'Px': 0.44409024715423584, 'Py': 0.11827848851680756, 'Pz': -8.74050235748291, 'Charge': -1, 'E': 8.753213882446289}]\n",
      "[{'Px': 0.5317345261573792, 'Py': 0.5775963068008423, 'Pz': -11.095438957214355, 'Charge': 1, 'E': 11.12368106842041}, {'Px': 0.44409024715423584, 'Py': 0.11827848851680756, 'Pz': -8.74050235748291, 'Charge': -1, 'E': 8.753213882446289}]\n",
      "[{'Px': -0.5746850371360779, 'Py': -0.6770495176315308, 'Pz': -5.533361434936523, 'Charge': 1, 'E': 5.605168342590332}, {'Px': -0.12535741925239563, 'Py': 0.19127075374126434, 'Pz': -6.725497245788574, 'Charge': 1, 'E': 6.730213642120361}]\n",
      "[{'Px': -0.5746850371360779, 'Py': -0.6770495176315308, 'Pz': -5.533361434936523, 'Charge': 1, 'E': 5.605168342590332}, {'Px': -0.12535741925239563, 'Py': 0.19127075374126434, 'Pz': -6.725497245788574, 'Charge': 1, 'E': 6.730213642120361}]\n",
      "[{'Px': -0.2049027979373932, 'Py': -3.6490044593811035, 'Pz': -61.19643783569336, 'Charge': 1, 'E': 61.305564880371094}, {'Px': -3.0343570709228516, 'Py': 5.321567058563232, 'Pz': -43.43944549560547, 'Charge': -1, 'E': 43.869384765625}]\n",
      "[{'Px': -0.2049027979373932, 'Py': -3.6490044593811035, 'Pz': -61.19643783569336, 'Charge': 1, 'E': 61.305564880371094}, {'Px': -3.0343570709228516, 'Py': 5.321567058563232, 'Pz': -43.43944549560547, 'Charge': -1, 'E': 43.869384765625}]\n",
      "[{'Px': -0.2256639450788498, 'Py': 0.17556628584861755, 'Pz': -6.3441081047058105, 'Charge': 1, 'E': 6.351426601409912}, {'Px': 0.26856234669685364, 'Py': -0.06870846450328827, 'Pz': -4.784330368041992, 'Charge': 1, 'E': 4.793519496917725}]\n",
      "[{'Px': -0.2256639450788498, 'Py': 0.17556628584861755, 'Pz': -6.3441081047058105, 'Charge': 1, 'E': 6.351426601409912}, {'Px': 0.26856234669685364, 'Py': -0.06870846450328827, 'Pz': -4.784330368041992, 'Charge': 1, 'E': 4.793519496917725}]\n",
      "[{'Px': -0.32545754313468933, 'Py': -0.15104910731315613, 'Pz': -6.469229221343994, 'Charge': 1, 'E': 6.4800333976745605}, {'Px': 0.37850362062454224, 'Py': 0.2636423110961914, 'Pz': -10.562529563903809, 'Charge': 1, 'E': 10.573124885559082}]\n",
      "[{'Px': -0.32545754313468933, 'Py': -0.15104910731315613, 'Pz': -6.469229221343994, 'Charge': 1, 'E': 6.4800333976745605}, {'Px': 0.37850362062454224, 'Py': 0.2636423110961914, 'Pz': -10.562529563903809, 'Charge': 1, 'E': 10.573124885559082}]\n",
      "[{'Px': -0.3530263602733612, 'Py': -0.2658582031726837, 'Pz': -3.903810977935791, 'Charge': 1, 'E': 3.9301669597625732}, {'Px': -0.23775453865528107, 'Py': -0.4707973599433899, 'Pz': -8.683866500854492, 'Charge': -1, 'E': 8.700510025024414}]\n",
      "[{'Px': -0.3530263602733612, 'Py': -0.2658582031726837, 'Pz': -3.903810977935791, 'Charge': 1, 'E': 3.9301669597625732}, {'Px': -0.23775453865528107, 'Py': -0.4707973599433899, 'Pz': -8.683866500854492, 'Charge': -1, 'E': 8.700510025024414}]\n",
      "[{'Px': 0.6945169568061829, 'Py': 0.47106724977493286, 'Pz': -7.102633953094482, 'Charge': -1, 'E': 7.152819633483887}, {'Px': 0.29632797837257385, 'Py': -0.2907625436782837, 'Pz': -8.674985885620117, 'Charge': -1, 'E': 8.685556411743164}]\n",
      "[{'Px': 0.6945169568061829, 'Py': 0.47106724977493286, 'Pz': -7.102633953094482, 'Charge': -1, 'E': 7.152819633483887}, {'Px': 0.29632797837257385, 'Py': -0.2907625436782837, 'Pz': -8.674985885620117, 'Charge': -1, 'E': 8.685556411743164}]\n",
      "[{'Px': 0.2586787939071655, 'Py': 0.3063054382801056, 'Pz': -7.740443706512451, 'Charge': 1, 'E': 7.751539707183838}, {'Px': 0.02151847444474697, 'Py': 0.21270506083965302, 'Pz': -3.3252956867218018, 'Charge': -1, 'E': 3.3338358402252197}]\n",
      "[{'Px': 0.2586787939071655, 'Py': 0.3063054382801056, 'Pz': -7.740443706512451, 'Charge': 1, 'E': 7.751539707183838}, {'Px': 0.02151847444474697, 'Py': 0.21270506083965302, 'Pz': -3.3252956867218018, 'Charge': -1, 'E': 3.3338358402252197}]\n",
      "[{'Px': -0.18468411266803741, 'Py': 0.5161587595939636, 'Pz': -4.702281475067139, 'Charge': -1, 'E': 4.735307693481445}, {'Px': 1.1198768615722656, 'Py': -1.4110877513885498, 'Pz': -11.792829513549805, 'Charge': -1, 'E': 11.930099487304688}]\n",
      "[{'Px': -0.18468411266803741, 'Py': 0.5161587595939636, 'Pz': -4.702281475067139, 'Charge': -1, 'E': 4.735307693481445}, {'Px': 1.1198768615722656, 'Py': -1.4110877513885498, 'Pz': -11.792829513549805, 'Charge': -1, 'E': 11.930099487304688}]\n",
      "[{'Px': -0.15060113370418549, 'Py': -0.24826626479625702, 'Pz': -5.495423793792725, 'Charge': 1, 'E': 5.504104137420654}, {'Px': 0.37372666597366333, 'Py': -0.7449610829353333, 'Pz': -5.903703212738037, 'Charge': 1, 'E': 5.963180065155029}]\n",
      "[{'Px': -0.15060113370418549, 'Py': -0.24826626479625702, 'Pz': -5.495423793792725, 'Charge': 1, 'E': 5.504104137420654}, {'Px': 0.37372666597366333, 'Py': -0.7449610829353333, 'Pz': -5.903703212738037, 'Charge': 1, 'E': 5.963180065155029}]\n",
      "[{'Px': 1.1215720176696777, 'Py': 3.45894193649292, 'Pz': -25.32282257080078, 'Charge': 1, 'E': 25.582780838012695}, {'Px': 0.13731743395328522, 'Py': 0.9449052214622498, 'Pz': -13.480398178100586, 'Charge': -1, 'E': 13.5145845413208}]\n",
      "[{'Px': 1.1215720176696777, 'Py': 3.45894193649292, 'Pz': -25.32282257080078, 'Charge': 1, 'E': 25.582780838012695}, {'Px': 0.13731743395328522, 'Py': 0.9449052214622498, 'Pz': -13.480398178100586, 'Charge': -1, 'E': 13.5145845413208}]\n",
      "[{'Px': 0.3571147322654724, 'Py': -0.12113890051841736, 'Pz': -4.339848518371582, 'Charge': -1, 'E': 4.35748291015625}, {'Px': 1.7697856426239014, 'Py': 0.09531952440738678, 'Pz': -14.338769912719727, 'Charge': -1, 'E': 14.448277473449707}]\n",
      "[{'Px': 0.3571147322654724, 'Py': -0.12113890051841736, 'Pz': -4.339848518371582, 'Charge': -1, 'E': 4.35748291015625}, {'Px': 1.7697856426239014, 'Py': 0.09531952440738678, 'Pz': -14.338769912719727, 'Charge': -1, 'E': 14.448277473449707}]\n",
      "[{'Px': 0.04554884135723114, 'Py': -0.4859265983104706, 'Pz': -5.026299953460693, 'Charge': 1, 'E': 5.051044940948486}, {'Px': 1.9259204864501953, 'Py': -0.3534209728240967, 'Pz': -20.26900863647461, 'Charge': -1, 'E': 20.363643646240234}]\n",
      "[{'Px': 0.04554884135723114, 'Py': -0.4859265983104706, 'Pz': -5.026299953460693, 'Charge': 1, 'E': 5.051044940948486}, {'Px': 1.9259204864501953, 'Py': -0.3534209728240967, 'Pz': -20.26900863647461, 'Charge': -1, 'E': 20.363643646240234}]\n",
      "[{'Px': 0.2731088697910309, 'Py': -0.2744310796260834, 'Pz': -5.869316101074219, 'Charge': -1, 'E': 5.883021354675293}, {'Px': -0.2930915355682373, 'Py': 0.1553826928138733, 'Pz': -4.881558895111084, 'Charge': -1, 'E': 4.89395809173584}]\n",
      "[{'Px': 0.2731088697910309, 'Py': -0.2744310796260834, 'Pz': -5.869316101074219, 'Charge': -1, 'E': 5.883021354675293}, {'Px': -0.2930915355682373, 'Py': 0.1553826928138733, 'Pz': -4.881558895111084, 'Charge': -1, 'E': 4.89395809173584}]\n",
      "[{'Px': 0.8365150690078735, 'Py': -0.35585933923721313, 'Pz': -10.427286148071289, 'Charge': -1, 'E': 10.467370986938477}, {'Px': 0.05268174037337303, 'Py': 0.5011329054832458, 'Pz': -7.608415603637695, 'Charge': 1, 'E': 7.625815391540527}]\n",
      "[{'Px': 0.8365150690078735, 'Py': -0.35585933923721313, 'Pz': -10.427286148071289, 'Charge': -1, 'E': 10.467370986938477}, {'Px': 0.05268174037337303, 'Py': 0.5011329054832458, 'Pz': -7.608415603637695, 'Charge': 1, 'E': 7.625815391540527}]\n",
      "[{'Px': -0.6600200533866882, 'Py': 0.40784382820129395, 'Pz': -9.850502014160156, 'Charge': 1, 'E': 9.881574630737305}, {'Px': 0.16598603129386902, 'Py': -0.23492677509784698, 'Pz': -6.807274341583252, 'Charge': -1, 'E': 6.814168453216553}]\n",
      "[{'Px': -0.6600200533866882, 'Py': 0.40784382820129395, 'Pz': -9.850502014160156, 'Charge': 1, 'E': 9.881574630737305}, {'Px': 0.16598603129386902, 'Py': -0.23492677509784698, 'Pz': -6.807274341583252, 'Charge': -1, 'E': 6.814168453216553}]\n",
      "[{'Px': -0.18792352080345154, 'Py': 0.28200003504753113, 'Pz': -7.383182048797607, 'Charge': -1, 'E': 7.39171028137207}, {'Px': 0.3392602205276489, 'Py': -0.5606870055198669, 'Pz': -9.304213523864746, 'Charge': -1, 'E': 9.327861785888672}]\n",
      "[{'Px': -0.18792352080345154, 'Py': 0.28200003504753113, 'Pz': -7.383182048797607, 'Charge': -1, 'E': 7.39171028137207}, {'Px': 0.3392602205276489, 'Py': -0.5606870055198669, 'Pz': -9.304213523864746, 'Charge': -1, 'E': 9.327861785888672}]\n",
      "[{'Px': -0.3114676773548126, 'Py': -0.0053640371188521385, 'Pz': -5.939855575561523, 'Charge': -1, 'E': 5.948956489562988}, {'Px': -1.1843302249908447, 'Py': -0.6197734475135803, 'Pz': -7.920026779174805, 'Charge': 1, 'E': 8.032730102539062}]\n",
      "[{'Px': -0.3114676773548126, 'Py': -0.0053640371188521385, 'Pz': -5.939855575561523, 'Charge': -1, 'E': 5.948956489562988}, {'Px': -1.1843302249908447, 'Py': -0.6197734475135803, 'Pz': -7.920026779174805, 'Charge': 1, 'E': 8.032730102539062}]\n",
      "[{'Px': 1.4150187969207764, 'Py': 0.838837742805481, 'Pz': -40.646240234375, 'Charge': -1, 'E': 40.67965316772461}, {'Px': 0.2761247158050537, 'Py': -0.02439284510910511, 'Pz': -6.13741397857666, 'Charge': 1, 'E': 6.1445794105529785}]\n",
      "[{'Px': 1.4150187969207764, 'Py': 0.838837742805481, 'Pz': -40.646240234375, 'Charge': -1, 'E': 40.67965316772461}, {'Px': 0.2761247158050537, 'Py': -0.02439284510910511, 'Pz': -6.13741397857666, 'Charge': 1, 'E': 6.1445794105529785}]\n",
      "[{'Px': 1.1163595914840698, 'Py': 0.056525103747844696, 'Pz': -24.73233985900879, 'Charge': 1, 'E': 24.7578125}, {'Px': 0.8520580530166626, 'Py': 0.02556840144097805, 'Pz': -6.481330871582031, 'Charge': 1, 'E': 6.538002014160156}]\n",
      "[{'Px': 1.1163595914840698, 'Py': 0.056525103747844696, 'Pz': -24.73233985900879, 'Charge': 1, 'E': 24.7578125}, {'Px': 0.8520580530166626, 'Py': 0.02556840144097805, 'Pz': -6.481330871582031, 'Charge': 1, 'E': 6.538002014160156}]\n",
      "[{'Px': -0.526764452457428, 'Py': -0.07778417319059372, 'Pz': -13.553277969360352, 'Charge': 1, 'E': 13.564146041870117}, {'Px': -0.06370935589075089, 'Py': 0.23543240129947662, 'Pz': -3.540480613708496, 'Charge': -1, 'E': 3.5504443645477295}]\n",
      "[{'Px': -0.526764452457428, 'Py': -0.07778417319059372, 'Pz': -13.553277969360352, 'Charge': 1, 'E': 13.564146041870117}, {'Px': -0.06370935589075089, 'Py': 0.23543240129947662, 'Pz': -3.540480613708496, 'Charge': -1, 'E': 3.5504443645477295}]\n",
      "[{'Px': -0.22046592831611633, 'Py': -0.1772988885641098, 'Pz': -3.6671526432037354, 'Charge': 1, 'E': 3.6795668601989746}, {'Px': -0.32318615913391113, 'Py': -0.5057845115661621, 'Pz': -3.681550979614258, 'Charge': 1, 'E': 3.7316548824310303}]\n",
      "[{'Px': -0.22046592831611633, 'Py': -0.1772988885641098, 'Pz': -3.6671526432037354, 'Charge': 1, 'E': 3.6795668601989746}, {'Px': -0.32318615913391113, 'Py': -0.5057845115661621, 'Pz': -3.681550979614258, 'Charge': 1, 'E': 3.7316548824310303}]\n",
      "[{'Px': 0.09437475353479385, 'Py': -0.47099366784095764, 'Pz': -12.49601936340332, 'Charge': -1, 'E': 12.505695343017578}, {'Px': -0.3771831691265106, 'Py': 0.3789720833301544, 'Pz': -6.21052885055542, 'Charge': -1, 'E': 6.234397888183594}]\n",
      "[{'Px': 0.09437475353479385, 'Py': -0.47099366784095764, 'Pz': -12.49601936340332, 'Charge': -1, 'E': 12.505695343017578}, {'Px': -0.3771831691265106, 'Py': 0.3789720833301544, 'Pz': -6.21052885055542, 'Charge': -1, 'E': 6.234397888183594}]\n",
      "[{'Px': -0.3087114691734314, 'Py': 0.09792742133140564, 'Pz': -6.587863445281982, 'Charge': 1, 'E': 6.596665859222412}, {'Px': -2.0534088611602783, 'Py': -1.440035104751587, 'Pz': -47.63618087768555, 'Charge': -1, 'E': 47.70227813720703}]\n",
      "[{'Px': -0.3087114691734314, 'Py': 0.09792742133140564, 'Pz': -6.587863445281982, 'Charge': 1, 'E': 6.596665859222412}, {'Px': -2.0534088611602783, 'Py': -1.440035104751587, 'Pz': -47.63618087768555, 'Charge': -1, 'E': 47.70227813720703}]\n",
      "[{'Px': 0.3565640449523926, 'Py': 0.247860848903656, 'Pz': -5.732077598571777, 'Charge': 1, 'E': 5.749474048614502}, {'Px': -0.3486412465572357, 'Py': -0.06291371583938599, 'Pz': -6.618448257446289, 'Charge': -1, 'E': 6.628765106201172}]\n",
      "[{'Px': 0.3565640449523926, 'Py': 0.247860848903656, 'Pz': -5.732077598571777, 'Charge': 1, 'E': 5.749474048614502}, {'Px': -0.3486412465572357, 'Py': -0.06291371583938599, 'Pz': -6.618448257446289, 'Charge': -1, 'E': 6.628765106201172}]\n",
      "[{'Px': -0.21744273602962494, 'Py': -0.14474137127399445, 'Pz': -5.7103166580200195, 'Charge': 1, 'E': 5.717264175415039}, {'Px': 0.34848248958587646, 'Py': -0.11989934742450714, 'Pz': -5.197821140289307, 'Charge': 1, 'E': 5.211940765380859}]\n",
      "[{'Px': -0.21744273602962494, 'Py': -0.14474137127399445, 'Pz': -5.7103166580200195, 'Charge': 1, 'E': 5.717264175415039}, {'Px': 0.34848248958587646, 'Py': -0.11989934742450714, 'Pz': -5.197821140289307, 'Charge': 1, 'E': 5.211940765380859}]\n",
      "[{'Px': 0.30864712595939636, 'Py': -0.8067211508750916, 'Pz': -10.041044235229492, 'Charge': -1, 'E': 10.078680038452148}, {'Px': 0.18568776547908783, 'Py': 0.6318051815032959, 'Pz': -12.908463478088379, 'Charge': -1, 'E': 12.925682067871094}]\n",
      "[{'Px': 0.30864712595939636, 'Py': -0.8067211508750916, 'Pz': -10.041044235229492, 'Charge': -1, 'E': 10.078680038452148}, {'Px': 0.18568776547908783, 'Py': 0.6318051815032959, 'Pz': -12.908463478088379, 'Charge': -1, 'E': 12.925682067871094}]\n",
      "[{'Px': -0.19243988394737244, 'Py': 0.24438448250293732, 'Pz': -8.189447402954102, 'Charge': 1, 'E': 8.196033477783203}, {'Px': 0.40997442603111267, 'Py': -0.20330195128917694, 'Pz': -5.429501056671143, 'Charge': -1, 'E': 5.449775695800781}]\n",
      "[{'Px': -0.19243988394737244, 'Py': 0.24438448250293732, 'Pz': -8.189447402954102, 'Charge': 1, 'E': 8.196033477783203}, {'Px': 0.40997442603111267, 'Py': -0.20330195128917694, 'Pz': -5.429501056671143, 'Charge': -1, 'E': 5.449775695800781}]\n",
      "[{'Px': 1.1803933382034302, 'Py': -0.7192752957344055, 'Pz': -20.566238403320312, 'Charge': -1, 'E': 20.6129093170166}, {'Px': -1.999534010887146, 'Py': -1.1560999155044556, 'Pz': -41.83405303955078, 'Charge': 1, 'E': 41.89789581298828}]\n",
      "[{'Px': 1.1803933382034302, 'Py': -0.7192752957344055, 'Pz': -20.566238403320312, 'Charge': -1, 'E': 20.6129093170166}, {'Px': -1.999534010887146, 'Py': -1.1560999155044556, 'Pz': -41.83405303955078, 'Charge': 1, 'E': 41.89789581298828}]\n",
      "[{'Px': -0.6765134930610657, 'Py': 0.2569039762020111, 'Pz': -6.513398170471191, 'Charge': 1, 'E': 6.554326057434082}, {'Px': 0.17825543880462646, 'Py': 0.10919350385665894, 'Pz': -5.240236759185791, 'Charge': -1, 'E': 5.245469093322754}]\n",
      "[{'Px': -0.6765134930610657, 'Py': 0.2569039762020111, 'Pz': -6.513398170471191, 'Charge': 1, 'E': 6.554326057434082}, {'Px': 0.17825543880462646, 'Py': 0.10919350385665894, 'Pz': -5.240236759185791, 'Charge': -1, 'E': 5.245469093322754}]\n",
      "[{'Px': -0.33113357424736023, 'Py': -0.4004589021205902, 'Pz': -6.945321559906006, 'Charge': -1, 'E': 6.965534687042236}, {'Px': -0.36653879284858704, 'Py': -0.2989465892314911, 'Pz': -11.212363243103027, 'Charge': -1, 'E': 11.222831726074219}]\n",
      "[{'Px': -0.33113357424736023, 'Py': -0.4004589021205902, 'Pz': -6.945321559906006, 'Charge': -1, 'E': 6.965534687042236}, {'Px': -0.36653879284858704, 'Py': -0.2989465892314911, 'Pz': -11.212363243103027, 'Charge': -1, 'E': 11.222831726074219}]\n",
      "[{'Px': 1.5017743110656738, 'Py': -0.8357937932014465, 'Pz': -26.346019744873047, 'Charge': 1, 'E': 26.40222930908203}, {'Px': -0.766745388507843, 'Py': 0.06536093354225159, 'Pz': -10.679120063781738, 'Charge': -1, 'E': 10.707331657409668}]\n",
      "[{'Px': 1.5017743110656738, 'Py': -0.8357937932014465, 'Pz': -26.346019744873047, 'Charge': 1, 'E': 26.40222930908203}, {'Px': -0.766745388507843, 'Py': 0.06536093354225159, 'Pz': -10.679120063781738, 'Charge': -1, 'E': 10.707331657409668}]\n",
      "[{'Px': -0.42370355129241943, 'Py': 0.057274382561445236, 'Pz': -6.387256622314453, 'Charge': -1, 'E': 6.4024224281311035}, {'Px': -0.31380781531333923, 'Py': -0.7875255346298218, 'Pz': -14.768126487731934, 'Charge': -1, 'E': 14.792816162109375}]\n",
      "[{'Px': -0.42370355129241943, 'Py': 0.057274382561445236, 'Pz': -6.387256622314453, 'Charge': -1, 'E': 6.4024224281311035}, {'Px': -0.31380781531333923, 'Py': -0.7875255346298218, 'Pz': -14.768126487731934, 'Charge': -1, 'E': 14.792816162109375}]\n",
      "[{'Px': -0.2968665063381195, 'Py': -0.5752734541893005, 'Pz': -3.6780712604522705, 'Charge': 1, 'E': 3.7360997200012207}, {'Px': 0.2403411716222763, 'Py': -0.6565519571304321, 'Pz': -16.8612117767334, 'Charge': -1, 'E': 16.87603187561035}]\n",
      "[{'Px': -0.2968665063381195, 'Py': -0.5752734541893005, 'Pz': -3.6780712604522705, 'Charge': 1, 'E': 3.7360997200012207}, {'Px': 0.2403411716222763, 'Py': -0.6565519571304321, 'Pz': -16.8612117767334, 'Charge': -1, 'E': 16.87603187561035}]\n",
      "[{'Px': 0.621431827545166, 'Py': 0.5288498997688293, 'Pz': -17.22980308532715, 'Charge': -1, 'E': 17.249439239501953}, {'Px': 0.9751566648483276, 'Py': 0.969007670879364, 'Pz': -27.22640609741211, 'Charge': 1, 'E': 27.261295318603516}]\n",
      "[{'Px': 0.621431827545166, 'Py': 0.5288498997688293, 'Pz': -17.22980308532715, 'Charge': -1, 'E': 17.249439239501953}, {'Px': 0.9751566648483276, 'Py': 0.969007670879364, 'Pz': -27.22640609741211, 'Charge': 1, 'E': 27.261295318603516}]\n",
      "[{'Px': -0.2681848406791687, 'Py': -0.6499670147895813, 'Pz': -4.316293239593506, 'Charge': 1, 'E': 4.3744635581970215}, {'Px': -0.2685856521129608, 'Py': -0.3256961405277252, 'Pz': -4.293534278869629, 'Charge': 1, 'E': 4.3155317306518555}]\n",
      "[{'Px': -0.2681848406791687, 'Py': -0.6499670147895813, 'Pz': -4.316293239593506, 'Charge': 1, 'E': 4.3744635581970215}, {'Px': -0.2685856521129608, 'Py': -0.3256961405277252, 'Pz': -4.293534278869629, 'Charge': 1, 'E': 4.3155317306518555}]\n",
      "[{'Px': -0.7162447571754456, 'Py': 0.6580973863601685, 'Pz': -17.019302368164062, 'Charge': -1, 'E': 17.04740333557129}, {'Px': -0.4271143078804016, 'Py': -0.08237865567207336, 'Pz': -6.8734564781188965, 'Charge': -1, 'E': 6.888017177581787}]\n",
      "[{'Px': -0.7162447571754456, 'Py': 0.6580973863601685, 'Pz': -17.019302368164062, 'Charge': -1, 'E': 17.04740333557129}, {'Px': -0.4271143078804016, 'Py': -0.08237865567207336, 'Pz': -6.8734564781188965, 'Charge': -1, 'E': 6.888017177581787}]\n",
      "[{'Px': 0.2624201476573944, 'Py': -0.5481366515159607, 'Pz': -9.251259803771973, 'Charge': -1, 'E': 9.271800994873047}, {'Px': 0.3457687199115753, 'Py': -0.41871628165245056, 'Pz': -8.470686912536621, 'Charge': 1, 'E': 8.48873233795166}]\n",
      "[{'Px': 0.2624201476573944, 'Py': -0.5481366515159607, 'Pz': -9.251259803771973, 'Charge': -1, 'E': 9.271800994873047}, {'Px': 0.3457687199115753, 'Py': -0.41871628165245056, 'Pz': -8.470686912536621, 'Charge': 1, 'E': 8.48873233795166}]\n",
      "[{'Px': -0.2597697079181671, 'Py': 0.2783416211605072, 'Pz': -9.48662281036377, 'Charge': 1, 'E': 9.494848251342773}, {'Px': -0.3973422944545746, 'Py': -0.201668381690979, 'Pz': -5.4288129806518555, 'Charge': -1, 'E': 5.448093414306641}]\n",
      "[{'Px': -0.2597697079181671, 'Py': 0.2783416211605072, 'Pz': -9.48662281036377, 'Charge': 1, 'E': 9.494848251342773}, {'Px': -0.3973422944545746, 'Py': -0.201668381690979, 'Pz': -5.4288129806518555, 'Charge': -1, 'E': 5.448093414306641}]\n",
      "[{'Px': -0.6954721212387085, 'Py': 0.39661678671836853, 'Pz': -6.284851551055908, 'Charge': -1, 'E': 6.336522102355957}, {'Px': 0.30484479665756226, 'Py': 0.2372104972600937, 'Pz': -6.230645656585693, 'Charge': -1, 'E': 6.24350118637085}]\n",
      "[{'Px': -0.6954721212387085, 'Py': 0.39661678671836853, 'Pz': -6.284851551055908, 'Charge': -1, 'E': 6.336522102355957}, {'Px': 0.30484479665756226, 'Py': 0.2372104972600937, 'Pz': -6.230645656585693, 'Charge': -1, 'E': 6.24350118637085}]\n",
      "[{'Px': -0.4362315535545349, 'Py': 0.6133661270141602, 'Pz': -4.682516098022461, 'Charge': -1, 'E': 4.743800163269043}, {'Px': 0.5673419237136841, 'Py': 0.2701927721500397, 'Pz': -8.054718971252441, 'Charge': -1, 'E': 8.07988452911377}]\n",
      "[{'Px': -0.4362315535545349, 'Py': 0.6133661270141602, 'Pz': -4.682516098022461, 'Charge': -1, 'E': 4.743800163269043}, {'Px': 0.5673419237136841, 'Py': 0.2701927721500397, 'Pz': -8.054718971252441, 'Charge': -1, 'E': 8.07988452911377}]\n",
      "[{'Px': -0.4994010329246521, 'Py': 0.016576284542679787, 'Pz': -6.059669494628906, 'Charge': -1, 'E': 6.081153869628906}, {'Px': -0.6154695153236389, 'Py': 0.1292731761932373, 'Pz': -7.92483377456665, 'Charge': -1, 'E': 7.950450897216797}]\n",
      "[{'Px': -0.4994010329246521, 'Py': 0.016576284542679787, 'Pz': -6.059669494628906, 'Charge': -1, 'E': 6.081153869628906}, {'Px': -0.6154695153236389, 'Py': 0.1292731761932373, 'Pz': -7.92483377456665, 'Charge': -1, 'E': 7.950450897216797}]\n",
      "[{'Px': -0.8626735210418701, 'Py': 0.031064249575138092, 'Pz': -6.892362117767334, 'Charge': 1, 'E': 6.9470133781433105}, {'Px': -0.7482541799545288, 'Py': -0.33500298857688904, 'Pz': -5.1637983322143555, 'Charge': 1, 'E': 5.22953987121582}]\n",
      "[{'Px': -0.8626735210418701, 'Py': 0.031064249575138092, 'Pz': -6.892362117767334, 'Charge': 1, 'E': 6.9470133781433105}, {'Px': -0.7482541799545288, 'Py': -0.33500298857688904, 'Pz': -5.1637983322143555, 'Charge': 1, 'E': 5.22953987121582}]\n",
      "[{'Px': 0.23046459257602692, 'Py': 0.09233220666646957, 'Pz': -4.128985404968262, 'Charge': 1, 'E': 4.137792110443115}, {'Px': 0.07050134241580963, 'Py': 0.4759306311607361, 'Pz': -9.264052391052246, 'Charge': 1, 'E': 9.277138710021973}]\n",
      "[{'Px': 0.23046459257602692, 'Py': 0.09233220666646957, 'Pz': -4.128985404968262, 'Charge': 1, 'E': 4.137792110443115}, {'Px': 0.07050134241580963, 'Py': 0.4759306311607361, 'Pz': -9.264052391052246, 'Charge': 1, 'E': 9.277138710021973}]\n",
      "[{'Px': 0.18695281445980072, 'Py': -0.3800850510597229, 'Pz': -6.132839202880859, 'Charge': -1, 'E': 6.148356914520264}, {'Px': 0.20411096513271332, 'Py': -0.07159066200256348, 'Pz': -3.0856809616088867, 'Charge': 1, 'E': 3.0950570106506348}]\n",
      "[{'Px': 0.18695281445980072, 'Py': -0.3800850510597229, 'Pz': -6.132839202880859, 'Charge': -1, 'E': 6.148356914520264}, {'Px': 0.20411096513271332, 'Py': -0.07159066200256348, 'Pz': -3.0856809616088867, 'Charge': 1, 'E': 3.0950570106506348}]\n",
      "[{'Px': 0.38068392872810364, 'Py': -0.38822874426841736, 'Pz': -6.106047630310059, 'Charge': 1, 'E': 6.131119251251221}, {'Px': 0.31727007031440735, 'Py': -0.22851680219173431, 'Pz': -5.090907573699951, 'Charge': -1, 'E': 5.106993675231934}]\n",
      "[{'Px': 0.38068392872810364, 'Py': -0.38822874426841736, 'Pz': -6.106047630310059, 'Charge': 1, 'E': 6.131119251251221}, {'Px': 0.31727007031440735, 'Py': -0.22851680219173431, 'Pz': -5.090907573699951, 'Charge': -1, 'E': 5.106993675231934}]\n",
      "[{'Px': -0.47328388690948486, 'Py': -0.2874602973461151, 'Pz': -4.881712913513184, 'Charge': 1, 'E': 4.914154529571533}, {'Px': -0.1606287956237793, 'Py': -0.21021807193756104, 'Pz': -3.7057323455810547, 'Charge': 1, 'E': 3.7166664600372314}]\n",
      "[{'Px': -0.47328388690948486, 'Py': -0.2874602973461151, 'Pz': -4.881712913513184, 'Charge': 1, 'E': 4.914154529571533}, {'Px': -0.1606287956237793, 'Py': -0.21021807193756104, 'Pz': -3.7057323455810547, 'Charge': 1, 'E': 3.7166664600372314}]\n",
      "[{'Px': 1.4024287462234497, 'Py': 0.33695662021636963, 'Pz': -37.078975677490234, 'Charge': 1, 'E': 37.1071662902832}, {'Px': -0.11455532908439636, 'Py': -0.46801015734672546, 'Pz': -6.048015117645264, 'Charge': -1, 'E': 6.0680975914001465}]\n",
      "[{'Px': 1.4024287462234497, 'Py': 0.33695662021636963, 'Pz': -37.078975677490234, 'Charge': 1, 'E': 37.1071662902832}, {'Px': -0.11455532908439636, 'Py': -0.46801015734672546, 'Pz': -6.048015117645264, 'Charge': -1, 'E': 6.0680975914001465}]\n",
      "[{'Px': 0.2921747863292694, 'Py': -0.6207275390625, 'Pz': -10.583476066589355, 'Charge': -1, 'E': 10.606215476989746}, {'Px': 0.31000038981437683, 'Py': 0.015844101086258888, 'Pz': -4.284228801727295, 'Charge': -1, 'E': 4.29675817489624}]\n",
      "[{'Px': 0.2921747863292694, 'Py': -0.6207275390625, 'Pz': -10.583476066589355, 'Charge': -1, 'E': 10.606215476989746}, {'Px': 0.31000038981437683, 'Py': 0.015844101086258888, 'Pz': -4.284228801727295, 'Charge': -1, 'E': 4.29675817489624}]\n",
      "[{'Px': 0.011517363600432873, 'Py': 0.3596242368221283, 'Pz': -6.636117935180664, 'Charge': 1, 'E': 6.646705150604248}, {'Px': 0.4781799912452698, 'Py': -0.2605600357055664, 'Pz': -7.557046413421631, 'Charge': -1, 'E': 7.577378273010254}]\n",
      "[{'Px': 0.011517363600432873, 'Py': 0.3596242368221283, 'Pz': -6.636117935180664, 'Charge': 1, 'E': 6.646705150604248}, {'Px': 0.4781799912452698, 'Py': -0.2605600357055664, 'Pz': -7.557046413421631, 'Charge': -1, 'E': 7.577378273010254}]\n",
      "[{'Px': -0.30794915556907654, 'Py': 0.3941499888896942, 'Pz': -10.024394035339355, 'Charge': 1, 'E': 10.037421226501465}, {'Px': 0.3400554358959198, 'Py': -0.02754487842321396, 'Pz': -7.457953929901123, 'Charge': 1, 'E': 7.466501235961914}]\n",
      "[{'Px': -0.30794915556907654, 'Py': 0.3941499888896942, 'Pz': -10.024394035339355, 'Charge': 1, 'E': 10.037421226501465}, {'Px': 0.3400554358959198, 'Py': -0.02754487842321396, 'Pz': -7.457953929901123, 'Charge': 1, 'E': 7.466501235961914}]\n",
      "[{'Px': -0.10597523301839828, 'Py': 0.24504354596138, 'Pz': -4.376087188720703, 'Charge': 1, 'E': 4.385496616363525}, {'Px': -0.36276736855506897, 'Py': -0.02288403920829296, 'Pz': -4.353232383728027, 'Charge': 1, 'E': 4.369658946990967}]\n",
      "[{'Px': -0.10597523301839828, 'Py': 0.24504354596138, 'Pz': -4.376087188720703, 'Charge': 1, 'E': 4.385496616363525}, {'Px': -0.36276736855506897, 'Py': -0.02288403920829296, 'Pz': -4.353232383728027, 'Charge': 1, 'E': 4.369658946990967}]\n",
      "[{'Px': 0.3386458158493042, 'Py': -0.5442107915878296, 'Pz': -21.0821475982666, 'Charge': -1, 'E': 21.092153549194336}, {'Px': -2.0578649044036865, 'Py': -0.5865166187286377, 'Pz': -22.328603744506836, 'Charge': -1, 'E': 22.431150436401367}]\n",
      "[{'Px': 0.3386458158493042, 'Py': -0.5442107915878296, 'Pz': -21.0821475982666, 'Charge': -1, 'E': 21.092153549194336}, {'Px': -2.0578649044036865, 'Py': -0.5865166187286377, 'Pz': -22.328603744506836, 'Charge': -1, 'E': 22.431150436401367}]\n",
      "[{'Px': -0.027401937171816826, 'Py': -0.27464810013771057, 'Pz': -6.705960273742676, 'Charge': 1, 'E': 6.712469577789307}, {'Px': 0.792597770690918, 'Py': -0.34652212262153625, 'Pz': -10.193876266479492, 'Charge': -1, 'E': 10.231059074401855}]\n",
      "[{'Px': -0.027401937171816826, 'Py': -0.27464810013771057, 'Pz': -6.705960273742676, 'Charge': 1, 'E': 6.712469577789307}, {'Px': 0.792597770690918, 'Py': -0.34652212262153625, 'Pz': -10.193876266479492, 'Charge': -1, 'E': 10.231059074401855}]\n",
      "[{'Px': -0.35687121748924255, 'Py': -0.13704396784305573, 'Pz': -10.317239761352539, 'Charge': -1, 'E': 10.324860572814941}, {'Px': -1.099031686782837, 'Py': -0.3521425724029541, 'Pz': -26.109453201293945, 'Charge': -1, 'E': 26.135160446166992}]\n",
      "[{'Px': -0.35687121748924255, 'Py': -0.13704396784305573, 'Pz': -10.317239761352539, 'Charge': -1, 'E': 10.324860572814941}, {'Px': -1.099031686782837, 'Py': -0.3521425724029541, 'Pz': -26.109453201293945, 'Charge': -1, 'E': 26.135160446166992}]\n",
      "[{'Px': 0.38275283575057983, 'Py': -0.17749975621700287, 'Pz': -5.616801738739014, 'Charge': -1, 'E': 5.6336164474487305}, {'Px': -0.07955672591924667, 'Py': -0.35074713826179504, 'Pz': -13.589369773864746, 'Charge': -1, 'E': 13.594538688659668}]\n",
      "[{'Px': 0.38275283575057983, 'Py': -0.17749975621700287, 'Pz': -5.616801738739014, 'Charge': -1, 'E': 5.6336164474487305}, {'Px': -0.07955672591924667, 'Py': -0.35074713826179504, 'Pz': -13.589369773864746, 'Charge': -1, 'E': 13.594538688659668}]\n",
      "[{'Px': -0.004977761302143335, 'Py': 0.49690476059913635, 'Pz': -11.377540588378906, 'Charge': 1, 'E': 11.388877868652344}, {'Px': -0.27636048197746277, 'Py': 0.5773252844810486, 'Pz': -6.534341335296631, 'Charge': 1, 'E': 6.566464900970459}]\n",
      "[{'Px': -0.004977761302143335, 'Py': 0.49690476059913635, 'Pz': -11.377540588378906, 'Charge': 1, 'E': 11.388877868652344}, {'Px': -0.27636048197746277, 'Py': 0.5773252844810486, 'Pz': -6.534341335296631, 'Charge': 1, 'E': 6.566464900970459}]\n",
      "[{'Px': -0.37291011214256287, 'Py': -0.14159925282001495, 'Pz': -4.739731311798096, 'Charge': 1, 'E': 4.757659912109375}, {'Px': 0.18598538637161255, 'Py': -0.3703554570674896, 'Pz': -6.649621486663818, 'Charge': 1, 'E': 6.663361072540283}]\n",
      "[{'Px': -0.37291011214256287, 'Py': -0.14159925282001495, 'Pz': -4.739731311798096, 'Charge': 1, 'E': 4.757659912109375}, {'Px': 0.18598538637161255, 'Py': -0.3703554570674896, 'Pz': -6.649621486663818, 'Charge': 1, 'E': 6.663361072540283}]\n",
      "[{'Px': 0.07775761187076569, 'Py': -1.8814270496368408, 'Pz': -28.380521774291992, 'Charge': 1, 'E': 28.443119049072266}, {'Px': 0.34349745512008667, 'Py': 1.2750587463378906, 'Pz': -17.305051803588867, 'Charge': -1, 'E': 17.355684280395508}]\n",
      "[{'Px': 0.07775761187076569, 'Py': -1.8814270496368408, 'Pz': -28.380521774291992, 'Charge': 1, 'E': 28.443119049072266}, {'Px': 0.34349745512008667, 'Py': 1.2750587463378906, 'Pz': -17.305051803588867, 'Charge': -1, 'E': 17.355684280395508}]\n",
      "[{'Px': -0.4612124264240265, 'Py': 0.13700255751609802, 'Pz': -3.746933937072754, 'Charge': 1, 'E': 3.779175043106079}, {'Px': -0.04268643632531166, 'Py': -1.4796501398086548, 'Pz': -12.872597694396973, 'Charge': 1, 'E': 12.957859992980957}]\n",
      "[{'Px': -0.4612124264240265, 'Py': 0.13700255751609802, 'Pz': -3.746933937072754, 'Charge': 1, 'E': 3.779175043106079}, {'Px': -0.04268643632531166, 'Py': -1.4796501398086548, 'Pz': -12.872597694396973, 'Charge': 1, 'E': 12.957859992980957}]\n",
      "[{'Px': -0.17680414021015167, 'Py': -0.14912602305412292, 'Pz': -4.079638957977295, 'Charge': -1, 'E': 4.087555885314941}, {'Px': -0.34253326058387756, 'Py': -0.21851970255374908, 'Pz': -9.614203453063965, 'Charge': -1, 'E': 9.623364448547363}]\n",
      "[{'Px': -0.17680414021015167, 'Py': -0.14912602305412292, 'Pz': -4.079638957977295, 'Charge': -1, 'E': 4.087555885314941}, {'Px': -0.34253326058387756, 'Py': -0.21851970255374908, 'Pz': -9.614203453063965, 'Charge': -1, 'E': 9.623364448547363}]\n",
      "[{'Px': 0.037271369248628616, 'Py': -0.27530309557914734, 'Pz': -5.027628421783447, 'Charge': 1, 'E': 5.036406993865967}, {'Px': 0.3737603724002838, 'Py': -0.05413252115249634, 'Pz': -10.847039222717285, 'Charge': 1, 'E': 10.854125022888184}]\n",
      "[{'Px': 0.037271369248628616, 'Py': -0.27530309557914734, 'Pz': -5.027628421783447, 'Charge': 1, 'E': 5.036406993865967}, {'Px': 0.3737603724002838, 'Py': -0.05413252115249634, 'Pz': -10.847039222717285, 'Charge': 1, 'E': 10.854125022888184}]\n",
      "[{'Px': -1.4636133909225464, 'Py': 0.01479631569236517, 'Pz': -9.701327323913574, 'Charge': -1, 'E': 9.811692237854004}, {'Px': 0.37110406160354614, 'Py': -0.17299814522266388, 'Pz': -4.684298992156982, 'Charge': 1, 'E': 4.703346252441406}]\n",
      "[{'Px': -1.4636133909225464, 'Py': 0.01479631569236517, 'Pz': -9.701327323913574, 'Charge': -1, 'E': 9.811692237854004}, {'Px': 0.37110406160354614, 'Py': -0.17299814522266388, 'Pz': -4.684298992156982, 'Charge': 1, 'E': 4.703346252441406}]\n",
      "[{'Px': -0.018941015005111694, 'Py': -0.6723958849906921, 'Pz': -6.164854526519775, 'Charge': 1, 'E': 6.202343463897705}, {'Px': -0.31391340494155884, 'Py': 0.3925841450691223, 'Pz': -14.679708480834961, 'Charge': 1, 'E': 14.688692092895508}]\n",
      "[{'Px': -0.018941015005111694, 'Py': -0.6723958849906921, 'Pz': -6.164854526519775, 'Charge': 1, 'E': 6.202343463897705}, {'Px': -0.31391340494155884, 'Py': 0.3925841450691223, 'Pz': -14.679708480834961, 'Charge': 1, 'E': 14.688692092895508}]\n",
      "[{'Px': -0.7314054369926453, 'Py': 0.823513388633728, 'Pz': -21.011821746826172, 'Charge': 1, 'E': 21.040935516357422}, {'Px': -0.10394956916570663, 'Py': 0.03872084617614746, 'Pz': -9.737443923950195, 'Charge': -1, 'E': 9.738649368286133}]\n",
      "[{'Px': -0.7314054369926453, 'Py': 0.823513388633728, 'Pz': -21.011821746826172, 'Charge': 1, 'E': 21.040935516357422}, {'Px': -0.10394956916570663, 'Py': 0.03872084617614746, 'Pz': -9.737443923950195, 'Charge': -1, 'E': 9.738649368286133}]\n",
      "[{'Px': -0.10750272125005722, 'Py': -0.7650637030601501, 'Pz': -15.141999244689941, 'Charge': -1, 'E': 15.162064552307129}, {'Px': -0.2801346480846405, 'Py': -0.17298777401447296, 'Pz': -8.83180046081543, 'Charge': -1, 'E': 8.838566780090332}]\n",
      "[{'Px': -0.10750272125005722, 'Py': -0.7650637030601501, 'Pz': -15.141999244689941, 'Charge': -1, 'E': 15.162064552307129}, {'Px': -0.2801346480846405, 'Py': -0.17298777401447296, 'Pz': -8.83180046081543, 'Charge': -1, 'E': 8.838566780090332}]\n",
      "[{'Px': -0.18973706662654877, 'Py': 0.14179252088069916, 'Pz': -5.891079902648926, 'Charge': 1, 'E': 5.896786689758301}, {'Px': 1.8746508359909058, 'Py': -1.679348349571228, 'Pz': -44.19126510620117, 'Charge': -1, 'E': 44.263004302978516}]\n",
      "[{'Px': -0.18973706662654877, 'Py': 0.14179252088069916, 'Pz': -5.891079902648926, 'Charge': 1, 'E': 5.896786689758301}, {'Px': 1.8746508359909058, 'Py': -1.679348349571228, 'Pz': -44.19126510620117, 'Charge': -1, 'E': 44.263004302978516}]\n",
      "[{'Px': -0.5665764808654785, 'Py': 0.7720611691474915, 'Pz': -7.2169013023376465, 'Charge': -1, 'E': 7.280928134918213}, {'Px': 0.28119683265686035, 'Py': -0.05170043930411339, 'Pz': -6.385996341705322, 'Charge': -1, 'E': 6.393266677856445}]\n",
      "[{'Px': -0.5665764808654785, 'Py': 0.7720611691474915, 'Pz': -7.2169013023376465, 'Charge': -1, 'E': 7.280928134918213}, {'Px': 0.28119683265686035, 'Py': -0.05170043930411339, 'Pz': -6.385996341705322, 'Charge': -1, 'E': 6.393266677856445}]\n",
      "[{'Px': 0.9345564246177673, 'Py': -0.7147759199142456, 'Pz': -13.204635620117188, 'Charge': 1, 'E': 13.257370948791504}, {'Px': 0.4940654933452606, 'Py': 0.32219716906547546, 'Pz': -8.544713973999023, 'Charge': -1, 'E': 8.56570053100586}]\n",
      "[{'Px': 0.9345564246177673, 'Py': -0.7147759199142456, 'Pz': -13.204635620117188, 'Charge': 1, 'E': 13.257370948791504}, {'Px': 0.4940654933452606, 'Py': 0.32219716906547546, 'Pz': -8.544713973999023, 'Charge': -1, 'E': 8.56570053100586}]\n",
      "[{'Px': -0.7163490056991577, 'Py': 0.09373538196086884, 'Pz': -16.69007682800293, 'Charge': 1, 'E': 16.70604133605957}, {'Px': 0.1752035915851593, 'Py': 0.22858962416648865, 'Pz': -6.329670429229736, 'Charge': -1, 'E': 6.337100505828857}]\n",
      "[{'Px': -0.7163490056991577, 'Py': 0.09373538196086884, 'Pz': -16.69007682800293, 'Charge': 1, 'E': 16.70604133605957}, {'Px': 0.1752035915851593, 'Py': 0.22858962416648865, 'Pz': -6.329670429229736, 'Charge': -1, 'E': 6.337100505828857}]\n",
      "[{'Px': -1.2361711263656616, 'Py': 1.31773841381073, 'Pz': -34.35411071777344, 'Charge': -1, 'E': 34.40175247192383}, {'Px': 1.3840382099151611, 'Py': -0.5681670308113098, 'Pz': -30.42340850830078, 'Charge': 1, 'E': 30.460357666015625}]\n",
      "[{'Px': -1.2361711263656616, 'Py': 1.31773841381073, 'Pz': -34.35411071777344, 'Charge': -1, 'E': 34.40175247192383}, {'Px': 1.3840382099151611, 'Py': -0.5681670308113098, 'Pz': -30.42340850830078, 'Charge': 1, 'E': 30.460357666015625}]\n",
      "[{'Px': 0.777949333190918, 'Py': -0.7551957964897156, 'Pz': -12.027209281921387, 'Charge': 1, 'E': 12.076441764831543}, {'Px': 0.5104172229766846, 'Py': 0.2601938843727112, 'Pz': -9.85167407989502, 'Charge': -1, 'E': 9.868884086608887}]\n",
      "[{'Px': 0.777949333190918, 'Py': -0.7551957964897156, 'Pz': -12.027209281921387, 'Charge': 1, 'E': 12.076441764831543}, {'Px': 0.5104172229766846, 'Py': 0.2601938843727112, 'Pz': -9.85167407989502, 'Charge': -1, 'E': 9.868884086608887}]\n"
     ]
    }
   ],
   "source": [
    "def p(px,py,pz):\n",
    "    return np.sqrt(px**2+py**2+pz**2)\n",
    "\n",
    "    \n",
    "def InvariantMass(px,py,pz,E):\n",
    "    c=3*10**8\n",
    "    return 1/(c**2) * np.sqrt(E**2-(p(px,py,pz))**2)\n",
    "    \n",
    "InvMass = np.array([],dtype=float)\n",
    "nofTracks=0 \n",
    "nofEvents=0  \n",
    "for event in m[m.nMuons==2]:\n",
    "    nofEvents+=1\n",
    "    tracks = event[\"Muon\"].to_list()\n",
    "    for t in tracks:\n",
    "        #for t1 in tracks[1]:\n",
    "        nofTracks+=1\n",
    "         #   SumE=t[\"E\"]+t1[\"E\"]\n",
    "          #  Sump=p(t[\"Px\"],t[\"Py\"],t[\"Pz\"])+p(t1[\"Px\"],t1[\"Py\"],t1[\"Pz\"])\n",
    "        InvMass = np.append(InvMass,InvariantMass(t[\"Px\"],t[\"Py\"],t[\"Pz\"],t[\"E\"]))     \n",
    "        print(tracks) "
   ]
  },
  {
   "cell_type": "code",
   "execution_count": null,
   "id": "63b34153-6ec7-4998-aa70-e4a678bf9945",
   "metadata": {},
   "outputs": [],
   "source": []
  },
  {
   "cell_type": "code",
   "execution_count": null,
   "id": "4b4ea7a0-4647-4362-8a3e-d0af120793f9",
   "metadata": {},
   "outputs": [],
   "source": []
  },
  {
   "cell_type": "code",
   "execution_count": null,
   "id": "a2bcd97a-19b8-4381-bc13-646158e2be23",
   "metadata": {},
   "outputs": [],
   "source": []
  },
  {
   "cell_type": "code",
   "execution_count": null,
   "id": "5ae65a1f-15ff-4e75-bd64-0dd5a55d58dd",
   "metadata": {},
   "outputs": [],
   "source": []
  }
 ],
 "metadata": {
  "kernelspec": {
   "display_name": "Python 3 (ipykernel)",
   "language": "python",
   "name": "python3"
  },
  "language_info": {
   "codemirror_mode": {
    "name": "ipython",
    "version": 3
   },
   "file_extension": ".py",
   "mimetype": "text/x-python",
   "name": "python",
   "nbconvert_exporter": "python",
   "pygments_lexer": "ipython3",
   "version": "3.10.8"
  }
 },
 "nbformat": 4,
 "nbformat_minor": 5
}
