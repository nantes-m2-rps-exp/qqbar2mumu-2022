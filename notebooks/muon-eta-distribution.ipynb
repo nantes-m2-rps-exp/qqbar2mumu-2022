{
 "cells": [
  {
   "cell_type": "markdown",
   "id": "99a6a844-e9ab-4951-a690-d58cd5a45532",
   "metadata": {},
   "source": [
    "# Notebook de départ\n",
    "\n",
    "Ce notebook est un point de départ qui vous montre la base de comment accéder aux données et en extraire la distribution de la pseudo-rapidité $\\eta$ des traces."
   ]
  },
  {
   "cell_type": "markdown",
   "id": "993e8d90-0dc4-4f7e-9649-367d90f5de4c",
   "metadata": {},
   "source": [
    "## Importation de modules python"
   ]
  },
  {
   "cell_type": "markdown",
   "id": "68d3139b-5e8e-42ae-9552-67b8bbbb2d13",
   "metadata": {},
   "source": [
    "La plupart des notebooks jupyter commencent par une liste d'importation de modules python qui sont ensuite utilisés.\n",
    "Dans ce projet les modules de base sont : \n",
    "- [uproot](https://uproot.readthedocs.io/en/latest/) pour lire (et écrire) des données au format [ROOT](https://root.cern.ch) (mais sans avoir besoin d'installer ROOT)\n",
    "- [awkward](https://awkward-array.readthedocs.io/en/latest/) pour manipuler des tableaux avec des structures de taille variable (qui sont ce que l'on utilise couramment en physique des hautes énergies, e.g. chaque événement contient potentiellement un nombre différent de muons)\n",
    "- [numpy](https://numpy.org) qui est la base de la base des modules de \"scientific computing\" dans le monde Python. Un peu moins nécessaire dans notre cas (les awkward arrays sont généralement plus adaptés) mais certainement un module à connaître et à explorer dans votre future carrière.\n",
    "- [matplotlib](https://matplotlib.org) pour créer de nombreux types de visualisations\n",
    "- [hist](https://hist.readthedocs.io/en/latest/index.html) pour créer des histogrammes\n",
    "- [vector](https://vector.readthedocs.io/en/latest/index.html) pour manipuler des vecteurs 2D, 3D et Lorentz.\n",
    "\n",
    "Pour apprendre et pratiquer ces modules, voir par exemple un [tutorial récent](https://github.com/jpivarski-talks/2021-09-13-star-uproot-awkward-tutorial/blob/main/tutorial.ipynb)\n"
   ]
  },
  {
   "cell_type": "code",
   "execution_count": 4,
   "id": "f34f1ffa-731a-44f0-86f4-1dba72d84e85",
   "metadata": {},
   "outputs": [
    {
     "name": "stderr",
     "output_type": "stream",
     "text": [
      "Matplotlib is building the font cache; this may take a moment.\n"
     ]
    },
    {
     "name": "stdout",
     "output_type": "stream",
     "text": [
      "uproot version 4.1.9\n",
      "awkward version 1.10.2\n",
      "numpy version 1.23.5\n",
      "matplotlib version 3.4.3\n",
      "hist version 2.5.2\n",
      "vector version 0.8.5\n"
     ]
    }
   ],
   "source": [
    "import uproot\n",
    "import awkward as ak\n",
    "import numpy as np\n",
    "import matplotlib\n",
    "import matplotlib.pyplot as plt\n",
    "import math\n",
    "import hist\n",
    "import vector\n",
    "print(\"uproot version\",uproot.__version__)\n",
    "print(\"awkward version\",ak.__version__)\n",
    "print(\"numpy version\",np.__version__)\n",
    "print(\"matplotlib version\",matplotlib.__version__)\n",
    "print(\"hist version\",hist.__version__)\n",
    "print(\"vector version\",vector.__version__)"
   ]
  },
  {
   "cell_type": "markdown",
   "id": "6a5a6001-b3d3-472a-b9be-7ea484235ca4",
   "metadata": {},
   "source": [
    "## Récupération des données"
   ]
  },
  {
   "cell_type": "markdown",
   "id": "cf7b6f3d-efed-40e7-adb7-2a524b092b30",
   "metadata": {},
   "source": [
    "Ensuite il faut récupérer, d'une façon ou d'une autre, les données que l'on veut analyser/explorer/visualiser. Dans cet exemple, on copie simplement un fichier ROOT depuis CERNBox (équivalent CERN de services comme DropBox, OneDrive, etc...) vers l'ordinateur qui tourne ce notebook."
   ]
  },
  {
   "cell_type": "code",
   "execution_count": 5,
   "id": "fa4cf519-d356-4727-83bd-662a16831c94",
   "metadata": {},
   "outputs": [
    {
     "name": "stdout",
     "output_type": "stream",
     "text": [
      "  % Total    % Received % Xferd  Average Speed   Time    Time     Time  Current\n",
      "                                 Dload  Upload   Total   Spent    Left  Speed\n",
      "100 3602k  100 3602k    0     0  1348k      0  0:00:02  0:00:02 --:--:-- 1348k\n"
     ]
    }
   ],
   "source": [
    "!curl 'https://cernbox.cern.ch/remote.php/dav/public-files/JIjQaAYEQnmRDkX/290223/AnalysisResults.root' > run290223.data.root"
   ]
  },
  {
   "cell_type": "markdown",
   "id": "4f991148-c821-4026-945e-58c917e3e4a0",
   "metadata": {},
   "source": [
    "## Exploration rapide des données (i.e. le format des données)"
   ]
  },
  {
   "cell_type": "code",
   "execution_count": 6,
   "id": "79230b73-9382-4a47-af99-8bd41ad23c23",
   "metadata": {},
   "outputs": [
    {
     "name": "stdout",
     "output_type": "stream",
     "text": [
      "run290223.data.root: ROOT file Version 62406 (Compression: 1)\n"
     ]
    }
   ],
   "source": [
    "!file *.root"
   ]
  },
  {
   "cell_type": "code",
   "execution_count": 7,
   "id": "47ab8e7c-12b0-4f43-b064-f792782cd409",
   "metadata": {},
   "outputs": [],
   "source": [
    "file = uproot.open(\"run290223.data.root\")"
   ]
  },
  {
   "cell_type": "code",
   "execution_count": 8,
   "id": "1e048f5d-a427-497c-8b95-51091a7187fd",
   "metadata": {},
   "outputs": [
    {
     "data": {
      "text/plain": [
       "['eventsTree;1']"
      ]
     },
     "execution_count": 8,
     "metadata": {},
     "output_type": "execute_result"
    }
   ],
   "source": [
    "file.keys()"
   ]
  },
  {
   "cell_type": "code",
   "execution_count": 9,
   "id": "d07822ef-2dc8-4213-b79e-9274273fb404",
   "metadata": {},
   "outputs": [
    {
     "name": "stdout",
     "output_type": "stream",
     "text": [
      "name                 | typename                 | interpretation                \n",
      "---------------------+--------------------------+-------------------------------\n",
      "runNumber            | int32_t                  | AsDtype('>i4')\n",
      "xVtx                 | double                   | AsDtype('>f8')\n",
      "yVtx                 | double                   | AsDtype('>f8')\n",
      "zVtx                 | double                   | AsDtype('>f8')\n",
      "isCINT               | bool                     | AsDtype('bool')\n",
      "isCMSL               | bool                     | AsDtype('bool')\n",
      "isCMSH               | bool                     | AsDtype('bool')\n",
      "isCMLL               | bool                     | AsDtype('bool')\n",
      "isCMUL               | bool                     | AsDtype('bool')\n",
      "nMuons               | int32_t                  | AsDtype('>i4')\n",
      "Muon_E               | std::vector<float>       | AsJagged(AsDtype('>f4'), he...\n",
      "Muon_Px              | std::vector<float>       | AsJagged(AsDtype('>f4'), he...\n",
      "Muon_Py              | std::vector<float>       | AsJagged(AsDtype('>f4'), he...\n",
      "Muon_Pz              | std::vector<float>       | AsJagged(AsDtype('>f4'), he...\n",
      "Muon_Charge          | std::vector<int16_t>     | AsJagged(AsDtype('>i2'), he...\n",
      "Muon_thetaAbs        | std::vector<float>       | AsJagged(AsDtype('>f4'), he...\n",
      "Muon_xDCA            | std::vector<double>      | AsJagged(AsDtype('>f8'), he...\n",
      "Muon_yDCA            | std::vector<double>      | AsJagged(AsDtype('>f8'), he...\n",
      "Muon_zDCA            | std::vector<double>      | AsJagged(AsDtype('>f8'), he...\n",
      "Muon_matchedTrgTh... | std::vector<int32_t>     | AsJagged(AsDtype('>i4'), he...\n",
      "Muon_MCHClusterMap   | std::vector<uint32_t>    | AsJagged(AsDtype('>u4'), he...\n",
      "Muon_MTRHitMapTrg    | std::vector<uint32_t>    | AsJagged(AsDtype('>u4'), he...\n",
      "Muon_MTRHitMapTrk    | std::vector<uint32_t>    | AsJagged(AsDtype('>u4'), he...\n"
     ]
    }
   ],
   "source": [
    "events = file[\"eventsTree\"]\n",
    "events.show()"
   ]
  },
  {
   "cell_type": "markdown",
   "id": "d6f2c9ee-df33-42d6-bf33-9bfa148eb396",
   "metadata": {},
   "source": [
    "L'idée est ensuite de mettre les variables d'intérêt dans des tableaux que l'on manipulera ensuite. Par exemple on récupère ci-dessous des tableaux contenant le nombre de traces par événement, les composantes x,y,z de l'impulsion des traces et leur charge; et ceci pour les 10000 premiers événements (pour que le reste de ce notebook d'exemple ne soit pas trop lent). "
   ]
  },
  {
   "cell_type": "code",
   "execution_count": 10,
   "id": "af912688-02ad-4586-95a4-484ed45bdc53",
   "metadata": {},
   "outputs": [
    {
     "data": {
      "text/plain": [
       "awkward.highlevel.Array"
      ]
     },
     "execution_count": 10,
     "metadata": {},
     "output_type": "execute_result"
    }
   ],
   "source": [
<<<<<<< HEAD
    "m = events.arrays([\"nMuons\",\"Muon_Px\",\"Muon_Py\",\"Muon_Pz\",\"Muon_E\",\"Muon_Charge\"],how=\"zip\",entry_stop=10000)\n",
=======
    "m = events.arrays([\"nMuons\",\"Muon_Px\",\"Muon_Py\",\"Muon_Pz\",\"Muon_Charge\",\"Muon_E\"],how=\"zip\",entry_stop=10000)\n",
>>>>>>> bf78b2c71d41be1c3b7b381c301b74cf1a426115
    "type(m)"
   ]
  },
  {
   "cell_type": "markdown",
   "id": "f83ad689-ca39-4125-9e0d-c41944f90ee7",
   "metadata": {},
   "source": [
    "Ce tableau peut être indexé de différentes façons. Avec un index unique pour accéder un seul élément : "
   ]
  },
  {
   "cell_type": "code",
   "execution_count": 11,
   "id": "219de44a-06fe-47ab-9d08-46d6eb05a64e",
   "metadata": {},
   "outputs": [
    {
     "data": {
      "text/plain": [
       "{'nMuons': 1,\n",
       " 'Muon': [{'Px': -0.5483500957489014,\n",
       "   'Py': -0.22255341708660126,\n",
       "   'Pz': -6.712076663970947,\n",
<<<<<<< HEAD
       "   'E': 6.738943099975586,\n",
       "   'Charge': -1}]}"
=======
       "   'Charge': -1,\n",
       "   'E': 6.738943099975586}]}"
>>>>>>> bf78b2c71d41be1c3b7b381c301b74cf1a426115
      ]
     },
     "execution_count": 11,
     "metadata": {},
     "output_type": "execute_result"
    }
   ],
   "source": [
    "m[18].to_list()"
   ]
  },
  {
   "cell_type": "markdown",
   "id": "438eb179-0090-4694-bc3d-d163d706e694",
   "metadata": {},
   "source": [
    "Impulsion transverse> Challenge : l'index 18 correspond en fait au premier événement qui a au moins un muon dans cet échantillon de données. Comment trouver cet index rapidement ? "
   ]
  },
  {
   "cell_type": "markdown",
   "id": "c7081ac3-b25e-4da7-9f71-c2839b296be2",
   "metadata": {},
   "source": [
    "Un index négatif est relatif à la fin du tableau. Le dernier événement est : "
   ]
  },
  {
   "cell_type": "code",
   "execution_count": 12,
   "id": "9e4b0221-d455-4757-95dc-9827ace7472d",
   "metadata": {},
   "outputs": [
    {
     "data": {
      "text/plain": [
       "{'nMuons': 0, 'Muon': []}"
      ]
     },
     "execution_count": 12,
     "metadata": {},
     "output_type": "execute_result"
    }
   ],
   "source": [
    "m[-1].to_list()"
   ]
  },
  {
   "cell_type": "markdown",
   "id": "a001e0ac-fc8d-48e5-aca2-75153c531250",
   "metadata": {},
   "source": [
    "Impulsion transverseL'index peut également décrire un intervalle, e.g. pour afficher les 3 premiers événements :  "
   ]
  },
  {
   "cell_type": "code",
   "execution_count": 13,
   "id": "6f1dc573-e070-4f90-86ef-a508b0de9846",
   "metadata": {},
   "outputs": [
    {
     "data": {
      "text/plain": [
       "[{'nMuons': 0, 'Muon': []},\n",
       " {'nMuons': 0, 'Muon': []},\n",
       " {'nMuons': 0, 'Muon': []}]"
      ]
     },
     "execution_count": 13,
     "metadata": {},
     "output_type": "execute_result"
    }
   ],
   "source": [
    "m[0:3].to_list()"
   ]
  },
  {
   "cell_type": "markdown",
   "id": "42446b4b-d28a-4325-88e4-80df60b86e07",
   "metadata": {},
   "source": [
    "Un index peut également être un tableau de booléen où les valeurs à True indiquent les valeurs à indexer. Par exemple pour afficher le premier événement qui possède au moins 2 muons :"
   ]
  },
  {
   "cell_type": "code",
   "execution_count": 14,
   "id": "12e348fa-56b4-45bf-a826-08a162c99ed7",
   "metadata": {},
   "outputs": [
    {
     "data": {
      "text/plain": [
       "{'nMuons': 2,\n",
       " 'Muon': [{'Px': -0.019152436405420303,\n",
       "   'Py': -1.2657990455627441,\n",
       "   'Pz': -32.36643981933594,\n",
       "   'Charge': 1,\n",
       "   'E': 32.391357421875},\n",
       "  {'Px': -0.7412209510803223,\n",
       "   'Py': 0.275270938873291,\n",
       "   'Pz': -16.64299774169922,\n",
       "   'Charge': 1,\n",
       "   'E': 16.6621036529541}]}"
      ]
     },
     "execution_count": 14,
     "metadata": {},
     "output_type": "execute_result"
    }
   ],
   "source": [
    "m[m.nMuons>1][0].to_list()"
   ]
  },
  {
   "cell_type": "markdown",
   "id": "7a78cb9c-bdd3-4c28-814b-2ff78873f7fb",
   "metadata": {},
   "source": [
    "## Calcul de la pseudo-rapidité \n",
    "\n",
    "Définissons maintenant quelques fonctions pour calculer la pseudo-rapidité $\\eta$ d'un tri-vecteur... "
   ]
  },
  {
   "cell_type": "code",
   "execution_count": 15,
   "id": "e8dddcd2-1673-464d-a11d-d406951f5b41",
   "metadata": {},
   "outputs": [],
   "source": [
    "def mag(px:float,py:float,pz:float):\n",
    "    \"\"\"Returns the norm of the 3-vector (px,py,pz).\"\"\"\n",
    "    return math.sqrt(px*px+py*py+pz*pz)\n",
    "\n",
    "def costheta(px:float,py:float,pz:float):\n",
    "    \"\"\"Returns the cos(theta) of the 3 vector (px,py,pz).\"\"\"\n",
    "    ptot = mag(px,py,pz);\n",
    "    return 1.0 if ptot == 0.0 else pz/ptot\n",
    "\n",
    "def eta(px:float,py:float,pz:float):\n",
    "    \"\"\"Returns the pseudo-rapidity of the 3 vector (px,py,pz).\"\"\"\n",
    "    ct = costheta(px,py,pz)\n",
    "    if ct*ct < 1:\n",
    "        return -0.5* math.log( (1.0-ct)/(1.0+ct) )\n",
    "    if pz == 0: \n",
    "        return 0\n",
    "    if pz>0: \n",
    "        return 10E10\n",
    "    else:\n",
    "        return -10E20\n"
   ]
  },
  {
   "cell_type": "markdown",
   "id": "a78fdc91-3871-4d84-aef9-0fcc2e745393",
   "metadata": {},
   "source": [
    "Puis on créé un tableau des valeurs de $\\eta$ pour tous les muons (notez que l'on sélectionne les événements qui ont au moins un muon)"
   ]
  },
  {
   "cell_type": "code",
   "execution_count": 16,
   "id": "d200fe92-bc23-49b0-94f6-6f4e09911496",
   "metadata": {
    "tags": []
   },
   "outputs": [],
   "source": [
    "etas = np.array([],dtype=float)\n",
    "nofTracks=0 # il est toujours utile de compter ...\n",
    "nofEvents=0 # \n",
    "for event in m[m.nMuons>0]:\n",
    "    nofEvents+=1\n",
    "    tracks = event[\"Muon\"].to_list()\n",
    "    for t in tracks:\n",
    "        nofTracks+=1\n",
    "        etas = np.append(etas,eta(t[\"Px\"],t[\"Py\"],t[\"Pz\"])) "
   ]
  },
  {
   "cell_type": "code",
   "execution_count": 17,
   "id": "d76f4c43-126c-4557-9b4d-e1984af0d420",
   "metadata": {
    "tags": []
   },
   "outputs": [
    {
     "name": "stdout",
     "output_type": "stream",
     "text": [
      "1680 1773 1773\n"
     ]
    }
   ],
   "source": [
    "# ... et de vérifier que le compte est bon !\n",
    "print(nofEvents,len(etas),nofTracks)"
   ]
  },
  {
   "cell_type": "markdown",
   "id": "c14de7f9-2992-457b-9900-93c4a35099d1",
   "metadata": {},
   "source": [
    "## Visualisation de la pseudo-rapidité des muons"
   ]
  },
  {
   "cell_type": "code",
   "execution_count": 18,
   "id": "eaf569b3-c560-4209-a557-da5eb389ccd8",
   "metadata": {},
   "outputs": [
    {
     "data": {
      "image/png": "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\n",
      "text/plain": [
       "<Figure size 640x480 with 1 Axes>"
      ]
     },
     "metadata": {},
     "output_type": "display_data"
    }
   ],
   "source": [
    "plt.hist(etas,bins=100);"
   ]
  },
  {
   "cell_type": "markdown",
   "id": "f8e0aa70-5b47-4652-8ea0-5d75e26e5d70",
   "metadata": {},
   "source": [
    "La librarie [matplotlib](https://matplotlib.org) permet bien entendu de peaufiner cette figure autant que l'on souhaite... Par exemple en spécifiant un titre, en nommant les axes et en ajoutant une légende."
   ]
  },
  {
   "cell_type": "code",
   "execution_count": 19,
   "id": "92caaa9d-ec4b-456c-8f27-c95ed836ec8d",
   "metadata": {},
   "outputs": [
    {
     "data": {
      "image/png": "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\n",
      "text/plain": [
       "<Figure size 500x300 with 1 Axes>"
      ]
     },
     "metadata": {},
     "output_type": "display_data"
    }
   ],
   "source": [
    "fig = plt.figure(figsize=(5,3))\n",
    "axes = fig.add_axes([0.1,0.1,0.9,0.9])\n",
    "axes.set_title(\"$\\eta$ distribution of muon tracks\")\n",
    "axes.set_xlabel(\"$\\eta$\")\n",
    "axes.set_ylabel(\"# of tracks\")\n",
    "axes.set_yscale(\"log\")\n",
    "axes.hist(etas,bins=20,label=\"$\\mu$\",color='coral',histtype='step');\n",
    "axes.legend();\n"
   ]
  },
  {
   "cell_type": "markdown",
   "id": "551667ff-1a59-4e10-8971-160fdbb1992b",
   "metadata": {},
   "source": [
    "## Exercices conseillés"
   ]
  },
  {
   "cell_type": "markdown",
   "id": "ee390619-4fff-4716-8b97-ad47f12f40c7",
   "metadata": {},
   "source": [
    "Afin de vous familiariser avec les outils, essayez maintenant de faire un plot de l'impulsion transverse des muons. \n",
    "\n",
    "Puis, sur un même plot, tracer séparemment les $\\mu^+$ et les $\\mu^-$.\n",
    "\n",
    "Enfin, observez la distribution du nombre de muons par événement et attaquez vous aux caractéristiques des paires de muons (masse invariante, impulsion transverse, rapidité, ...) !"
   ]
  },
  {
   "cell_type": "code",
   "execution_count": 20,
   "id": "e104965b-4a14-4d24-9195-1b0674535ecf",
   "metadata": {},
   "outputs": [
    {
     "data": {
      "image/png": "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\n",
      "text/plain": [
       "<Figure size 640x480 with 1 Axes>"
      ]
     },
     "metadata": {},
     "output_type": "display_data"
    }
   ],
   "source": [
    "plt.hist(m.nMuons,bins=[0,1,2,3,4,5,6])\n",
    "plt.yscale(\"log\")"
   ]
  },
  {
   "cell_type": "code",
   "execution_count": 21,
   "id": "a08c7147-d626-433a-b8d3-21a97c22fef9",
   "metadata": {},
   "outputs": [
    {
     "name": "stdout",
     "output_type": "stream",
     "text": [
      "Nombre total d'événements: 10000\n",
      "Nombre d'événements avec au moins une trace: 1680\n",
      "Nombre d'événements avec au moins deux traces: 90\n",
      "Nombre d'événements avec au moins trois traces: 3\n",
      "Nombre d'événements avec au moins quatre traces: 0\n",
      "Nombre d'événements avec au moins cinq traces: 0\n"
     ]
    }
   ],
   "source": [
    "print(\"Nombre total d'événements: {}\".format(len(m)))\n",
    "n1 = len(m[m.nMuons>0])\n",
    "n2 = len(m[m.nMuons>1])\n",
    "n3 = len(m[m.nMuons>2])\n",
    "n4 = len(m[m.nMuons>3])\n",
    "n5 = len(m[m.nMuons>4])\n",
    "print(\"Nombre d'événements avec au moins une trace: {}\".format(n1))\n",
    "print(\"Nombre d'événements avec au moins deux traces: {}\".format(n2))\n",
    "print(\"Nombre d'événements avec au moins trois traces: {}\".format(n3))\n",
    "print(\"Nombre d'événements avec au moins quatre traces: {}\".format(n4))\n",
    "print(\"Nombre d'événements avec au moins cinq traces: {}\".format(n5))"
   ]
  },
  {
   "cell_type": "code",
   "execution_count": 22,
   "id": "f16e8fd6-43a3-4c76-b2e1-d2572949c67a",
   "metadata": {},
   "outputs": [],
   "source": [
    "assert(n1+n2+n3+n4+n5==nofTracks)"
   ]
  },
  {
   "cell_type": "code",
<<<<<<< HEAD
   "execution_count": 8,
=======
   "execution_count": 23,
   "id": "6cf7a1f4-7410-491f-bc5c-4812208ab73d",
   "metadata": {},
   "outputs": [
    {
     "data": {
      "image/png": "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\n",
      "text/plain": [
       "<Figure size 640x480 with 1 Axes>"
      ]
     },
     "metadata": {},
     "output_type": "display_data"
    }
   ],
   "source": [
    "#Création d'une liste avec les impulsions transverses\n",
    "Pt = np.array([],dtype=float)\n",
    "nofTracks=0 \n",
    "nofEvents=0  \n",
    "for event in m[m.nMuons>1]:\n",
    "    nofEvents+=1\n",
    "    tracks = event[\"Muon\"].to_list()\n",
    "    for t in tracks:\n",
    "        nofTracks+=1\n",
    "        Pt = np.append(Pt,t[\"Pz\"]) \n",
    "#Histogramme des impulsions transverses, pour les 10000 premiers évènements\n",
    "plt.hist(Pt,bins=100);"
   ]
  },
  {
   "cell_type": "code",
   "execution_count": 26,
>>>>>>> bf78b2c71d41be1c3b7b381c301b74cf1a426115
   "id": "6ba37afc-7859-451d-9d9a-f25cc944dabc",
   "metadata": {},
   "outputs": [
    {
     "name": "stdout",
     "output_type": "stream",
     "text": [
<<<<<<< HEAD
      "  % Total    % Received % Xferd  Average Speed   Time    Time     Time  Current\n",
      "                                 Dload  Upload   Total   Spent    Left  Speed\n",
      "100 3602k  100 3602k    0     0   780k      0  0:00:04  0:00:04 --:--:--  780k\n",
      "run290223.data.root: ROOT file Version 62406 (Compression: 1)\n"
     ]
    },
    {
     "data": {
      "image/png": "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\n",
      "text/plain": [
       "<Figure size 640x480 with 1 Axes>"
      ]
     },
     "metadata": {},
     "output_type": "display_data"
    }
   ],
   "source": [
    "import uproot\n",
    "import awkward as ak\n",
    "import numpy as np\n",
    "import matplotlib\n",
    "import matplotlib.pyplot as plt\n",
    "import math\n",
    "import hist\n",
    "import vector\n",
    "\n",
    "!curl 'https://cernbox.cern.ch/remote.php/dav/public-files/JIjQaAYEQnmRDkX/290223/AnalysisResults.root' > run290223.data.root\n",
    "\n",
    "!file *.root\n",
    "file = uproot.open(\"run290223.data.root\")\n",
    "\n",
    "events = file[\"eventsTree\"]\n",
    "\n",
    "m = events.arrays([\"nMuons\",\"Muon_Px\",\"Muon_Py\",\"Muon_Pz\", \"Muon_Charge\"],how=\"zip\",entry_stop=10000)\n",
    "\n",
    "transverseMomentum = np.array([],dtype=float)\n",
    "for event in m[m.nMuons>0]:\n",
    "    tracks = event[\"Muon\"].to_list()\n",
    "    for t in tracks:\n",
    "        transverseMomentum = np.append(transverseMomentum, t[\"Pz\"])\n",
    "plt.hist(transverseMomentum, bins=1000);"
   ]
  },
  {
   "cell_type": "code",
   "execution_count": 16,
   "id": "72e2bf29-2224-4f73-a206-52c3c961b698",
   "metadata": {},
   "outputs": [
    {
     "name": "stdout",
     "output_type": "stream",
     "text": [
      "  % Total    % Received % Xferd  Average Speed   Time    Time     Time  Current\n",
      "                                 Dload  Upload   Total   Spent    Left  Speed\n",
      "100 3602k  100 3602k    0     0  1131k      0  0:00:03  0:00:03 --:--:-- 1131k\n",
      "run290223.data.root: ROOT file Version 62406 (Compression: 1)\n"
     ]
    },
    {
     "data": {
      "image/png": "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\n",
      "text/plain": [
       "<Figure size 500x300 with 1 Axes>"
      ]
     },
     "metadata": {},
     "output_type": "display_data"
    }
   ],
   "source": [
    "import uproot\n",
    "import awkward as ak\n",
    "import numpy as np\n",
    "import matplotlib\n",
    "import matplotlib.pyplot as plt\n",
    "import math\n",
    "import hist\n",
    "import vector\n",
    "\n",
    "!curl 'https://cernbox.cern.ch/remote.php/dav/public-files/JIjQaAYEQnmRDkX/290223/AnalysisResults.root' > run290223.data.root\n",
    "\n",
    "!file *.root\n",
    "file = uproot.open(\"run290223.data.root\")\n",
    "\n",
    "events = file[\"eventsTree\"]\n",
    "\n",
    "c = 299792458\n",
    "\n",
    "m = events.arrays([\"nMuons\",\"Muon_Px\",\"Muon_Py\",\"Muon_Pz\", \"Muon_E\", \"Muon_Charge\"],how=\"zip\",entry_stop=10000)\n",
    "\n",
    "transverseMomentum_muplus = np.array([],dtype=float)\n",
    "transverseMomentum_muminus = np.array([],dtype=float)\n",
    "for event in m[m.nMuons>0]:\n",
    "    tracks = event[\"Muon\"].to_list()\n",
    "    for t in tracks:\n",
    "        if (t[\"Charge\"] == 1):\n",
    "            transverseMomentum_muplus = np.append(transverseMomentum_muplus, t[\"Pz\"])\n",
    "        elif (t[\"Charge\"] == -1):\n",
    "            transverseMomentum_muminus = np.append(transverseMomentum_muminus, t[\"Pz\"])\n",
    "            \n",
    "fig = plt.figure(figsize=(5,3))\n",
    "axes = fig.add_axes([0.1,0.1,0.9,0.9])\n",
    "axes.set_title(\"$T_\\perp$ distribution of muon tracks\")\n",
    "axes.set_xlabel(\"$T_\\perp$\")\n",
    "axes.set_ylabel(\"# of tracks\")\n",
    "axes.set_yscale(\"log\")\n",
    "axes.hist(transverseMomentum_muplus,bins=100,label=\"$\\mu^+{}$\",color='coral',histtype='step');\n",
    "axes.hist(transverseMomentum_muminus,bins=100,label=\"$\\mu^-{}$\",color='darkcyan',histtype='step');\n",
    "axes.legend();"
=======
      "[{'Px': -0.019152436405420303, 'Py': -1.2657990455627441, 'Pz': -32.36643981933594, 'Charge': 1, 'E': 32.391357421875}, {'Px': -0.7412209510803223, 'Py': 0.275270938873291, 'Pz': -16.64299774169922, 'Charge': 1, 'E': 16.6621036529541}]\n",
      "[{'Px': -0.019152436405420303, 'Py': -1.2657990455627441, 'Pz': -32.36643981933594, 'Charge': 1, 'E': 32.391357421875}, {'Px': -0.7412209510803223, 'Py': 0.275270938873291, 'Pz': -16.64299774169922, 'Charge': 1, 'E': 16.6621036529541}]\n",
      "[{'Px': 0.04311735928058624, 'Py': 0.4961458742618561, 'Pz': -9.50603199005127, 'Charge': 1, 'E': 9.519654273986816}, {'Px': -0.4301466941833496, 'Py': 0.0044751097448170185, 'Pz': -4.707291126251221, 'Charge': -1, 'E': 4.728086471557617}]\n",
      "[{'Px': 0.04311735928058624, 'Py': 0.4961458742618561, 'Pz': -9.50603199005127, 'Charge': 1, 'E': 9.519654273986816}, {'Px': -0.4301466941833496, 'Py': 0.0044751097448170185, 'Pz': -4.707291126251221, 'Charge': -1, 'E': 4.728086471557617}]\n",
      "[{'Px': -4.839309215545654, 'Py': -0.6075137257575989, 'Pz': -31.99516487121582, 'Charge': 1, 'E': 32.36494445800781}, {'Px': 0.09512785077095032, 'Py': 0.2045244425535202, 'Pz': -3.2427055835723877, 'Charge': -1, 'E': 3.252258062362671}]\n",
      "[{'Px': -4.839309215545654, 'Py': -0.6075137257575989, 'Pz': -31.99516487121582, 'Charge': 1, 'E': 32.36494445800781}, {'Px': 0.09512785077095032, 'Py': 0.2045244425535202, 'Pz': -3.2427055835723877, 'Charge': -1, 'E': 3.252258062362671}]\n",
      "[{'Px': -0.016434594988822937, 'Py': 0.6719527244567871, 'Pz': -4.289310455322266, 'Charge': -1, 'E': 4.3429412841796875}, {'Px': -0.5339744687080383, 'Py': -0.3824858069419861, 'Pz': -11.019092559814453, 'Charge': -1, 'E': 11.039156913757324}]\n",
      "[{'Px': -0.016434594988822937, 'Py': 0.6719527244567871, 'Pz': -4.289310455322266, 'Charge': -1, 'E': 4.3429412841796875}, {'Px': -0.5339744687080383, 'Py': -0.3824858069419861, 'Pz': -11.019092559814453, 'Charge': -1, 'E': 11.039156913757324}]\n",
      "[{'Px': 0.4291404187679291, 'Py': -0.2250770926475525, 'Pz': -5.1583356857299805, 'Charge': 1, 'E': 5.182124137878418}, {'Px': 0.028321443125605583, 'Py': -0.4561149477958679, 'Pz': -7.02205753326416, 'Charge': -1, 'E': 7.037705421447754}]\n",
      "[{'Px': 0.4291404187679291, 'Py': -0.2250770926475525, 'Pz': -5.1583356857299805, 'Charge': 1, 'E': 5.182124137878418}, {'Px': 0.028321443125605583, 'Py': -0.4561149477958679, 'Pz': -7.02205753326416, 'Charge': -1, 'E': 7.037705421447754}]\n",
      "[{'Px': 0.6012067794799805, 'Py': -0.3228772282600403, 'Pz': -18.72925567626953, 'Charge': 1, 'E': 18.741981506347656}, {'Px': 0.5000112056732178, 'Py': -0.34284013509750366, 'Pz': -5.8196868896484375, 'Charge': -1, 'E': 5.852133750915527}]\n",
      "[{'Px': 0.6012067794799805, 'Py': -0.3228772282600403, 'Pz': -18.72925567626953, 'Charge': 1, 'E': 18.741981506347656}, {'Px': 0.5000112056732178, 'Py': -0.34284013509750366, 'Pz': -5.8196868896484375, 'Charge': -1, 'E': 5.852133750915527}]\n",
      "[{'Px': -1.2061928510665894, 'Py': 1.0349854230880737, 'Pz': -25.654382705688477, 'Charge': -1, 'E': 25.703784942626953}, {'Px': 0.647416889667511, 'Py': -0.3830713629722595, 'Pz': -11.462539672851562, 'Charge': 1, 'E': 11.487683296203613}]\n",
      "[{'Px': -1.2061928510665894, 'Py': 1.0349854230880737, 'Pz': -25.654382705688477, 'Charge': -1, 'E': 25.703784942626953}, {'Px': 0.647416889667511, 'Py': -0.3830713629722595, 'Pz': -11.462539672851562, 'Charge': 1, 'E': 11.487683296203613}]\n",
      "[{'Px': -2.9483277797698975, 'Py': 3.4753260612487793, 'Pz': -49.1021614074707, 'Charge': 1, 'E': 49.313323974609375}, {'Px': 0.26043701171875, 'Py': 0.15771490335464478, 'Pz': -5.304992198944092, 'Charge': -1, 'E': 5.314772605895996}]\n",
      "[{'Px': -2.9483277797698975, 'Py': 3.4753260612487793, 'Pz': -49.1021614074707, 'Charge': 1, 'E': 49.313323974609375}, {'Px': 0.26043701171875, 'Py': 0.15771490335464478, 'Pz': -5.304992198944092, 'Charge': -1, 'E': 5.314772605895996}]\n",
      "[{'Px': -0.38972392678260803, 'Py': 0.4706752300262451, 'Pz': -8.517684936523438, 'Charge': -1, 'E': 8.540230751037598}, {'Px': 0.11325494945049286, 'Py': 0.5064147710800171, 'Pz': -11.079174041748047, 'Charge': 1, 'E': 11.09182357788086}]\n",
      "[{'Px': -0.38972392678260803, 'Py': 0.4706752300262451, 'Pz': -8.517684936523438, 'Charge': -1, 'E': 8.540230751037598}, {'Px': 0.11325494945049286, 'Py': 0.5064147710800171, 'Pz': -11.079174041748047, 'Charge': 1, 'E': 11.09182357788086}]\n",
      "[{'Px': -0.609066367149353, 'Py': 0.18807469308376312, 'Pz': -9.08303165435791, 'Charge': -1, 'E': 9.105985641479492}, {'Px': -0.02830398455262184, 'Py': -0.01059220265597105, 'Pz': -21.73594856262207, 'Charge': 1, 'E': 21.73622703552246}]\n",
      "[{'Px': -0.609066367149353, 'Py': 0.18807469308376312, 'Pz': -9.08303165435791, 'Charge': -1, 'E': 9.105985641479492}, {'Px': -0.02830398455262184, 'Py': -0.01059220265597105, 'Pz': -21.73594856262207, 'Charge': 1, 'E': 21.73622703552246}]\n",
      "[{'Px': -0.42900076508522034, 'Py': 0.025601444765925407, 'Pz': -9.898037910461426, 'Charge': -1, 'E': 9.907927513122559}, {'Px': 0.11895197629928589, 'Py': -0.5732792019844055, 'Pz': -7.4599175453186035, 'Charge': -1, 'E': 7.4836039543151855}]\n",
      "[{'Px': -0.42900076508522034, 'Py': 0.025601444765925407, 'Pz': -9.898037910461426, 'Charge': -1, 'E': 9.907927513122559}, {'Px': 0.11895197629928589, 'Py': -0.5732792019844055, 'Pz': -7.4599175453186035, 'Charge': -1, 'E': 7.4836039543151855}]\n",
      "[{'Px': 0.5638624429702759, 'Py': 0.3365200459957123, 'Pz': -8.78004264831543, 'Charge': 1, 'E': 8.805197715759277}, {'Px': 0.6048206686973572, 'Py': -0.42148110270500183, 'Pz': -7.17648458480835, 'Charge': -1, 'E': 7.215022087097168}]\n",
      "[{'Px': 0.5638624429702759, 'Py': 0.3365200459957123, 'Pz': -8.78004264831543, 'Charge': 1, 'E': 8.805197715759277}, {'Px': 0.6048206686973572, 'Py': -0.42148110270500183, 'Pz': -7.17648458480835, 'Charge': -1, 'E': 7.215022087097168}]\n",
      "[{'Px': 0.3696199357509613, 'Py': 0.23968425393104553, 'Pz': -4.671768665313721, 'Charge': 1, 'E': 4.6936821937561035}, {'Px': 0.26118341088294983, 'Py': 0.28805992007255554, 'Pz': -4.33836555480957, 'Charge': 1, 'E': 4.357037544250488}]\n",
      "[{'Px': 0.3696199357509613, 'Py': 0.23968425393104553, 'Pz': -4.671768665313721, 'Charge': 1, 'E': 4.6936821937561035}, {'Px': 0.26118341088294983, 'Py': 0.28805992007255554, 'Pz': -4.33836555480957, 'Charge': 1, 'E': 4.357037544250488}]\n",
      "[{'Px': 0.6515255570411682, 'Py': -0.7828128337860107, 'Pz': -19.05487060546875, 'Charge': 1, 'E': 19.08236312866211}, {'Px': 1.3958503007888794, 'Py': -0.5021640658378601, 'Pz': -14.968562126159668, 'Charge': -1, 'E': 15.042259216308594}]\n",
      "[{'Px': 0.6515255570411682, 'Py': -0.7828128337860107, 'Pz': -19.05487060546875, 'Charge': 1, 'E': 19.08236312866211}, {'Px': 1.3958503007888794, 'Py': -0.5021640658378601, 'Pz': -14.968562126159668, 'Charge': -1, 'E': 15.042259216308594}]\n",
      "[{'Px': -0.8289233446121216, 'Py': -0.5273955464363098, 'Pz': -9.864049911499023, 'Charge': 1, 'E': 9.913420677185059}, {'Px': 0.1541585773229599, 'Py': -0.18014508485794067, 'Pz': -3.4572744369506836, 'Charge': 1, 'E': 3.467005491256714}]\n",
      "[{'Px': -0.8289233446121216, 'Py': -0.5273955464363098, 'Pz': -9.864049911499023, 'Charge': 1, 'E': 9.913420677185059}, {'Px': 0.1541585773229599, 'Py': -0.18014508485794067, 'Pz': -3.4572744369506836, 'Charge': 1, 'E': 3.467005491256714}]\n",
      "[{'Px': 0.5317345261573792, 'Py': 0.5775963068008423, 'Pz': -11.095438957214355, 'Charge': 1, 'E': 11.12368106842041}, {'Px': 0.44409024715423584, 'Py': 0.11827848851680756, 'Pz': -8.74050235748291, 'Charge': -1, 'E': 8.753213882446289}]\n",
      "[{'Px': 0.5317345261573792, 'Py': 0.5775963068008423, 'Pz': -11.095438957214355, 'Charge': 1, 'E': 11.12368106842041}, {'Px': 0.44409024715423584, 'Py': 0.11827848851680756, 'Pz': -8.74050235748291, 'Charge': -1, 'E': 8.753213882446289}]\n",
      "[{'Px': -0.5746850371360779, 'Py': -0.6770495176315308, 'Pz': -5.533361434936523, 'Charge': 1, 'E': 5.605168342590332}, {'Px': -0.12535741925239563, 'Py': 0.19127075374126434, 'Pz': -6.725497245788574, 'Charge': 1, 'E': 6.730213642120361}]\n",
      "[{'Px': -0.5746850371360779, 'Py': -0.6770495176315308, 'Pz': -5.533361434936523, 'Charge': 1, 'E': 5.605168342590332}, {'Px': -0.12535741925239563, 'Py': 0.19127075374126434, 'Pz': -6.725497245788574, 'Charge': 1, 'E': 6.730213642120361}]\n",
      "[{'Px': -0.2049027979373932, 'Py': -3.6490044593811035, 'Pz': -61.19643783569336, 'Charge': 1, 'E': 61.305564880371094}, {'Px': -3.0343570709228516, 'Py': 5.321567058563232, 'Pz': -43.43944549560547, 'Charge': -1, 'E': 43.869384765625}]\n",
      "[{'Px': -0.2049027979373932, 'Py': -3.6490044593811035, 'Pz': -61.19643783569336, 'Charge': 1, 'E': 61.305564880371094}, {'Px': -3.0343570709228516, 'Py': 5.321567058563232, 'Pz': -43.43944549560547, 'Charge': -1, 'E': 43.869384765625}]\n",
      "[{'Px': -0.2256639450788498, 'Py': 0.17556628584861755, 'Pz': -6.3441081047058105, 'Charge': 1, 'E': 6.351426601409912}, {'Px': 0.26856234669685364, 'Py': -0.06870846450328827, 'Pz': -4.784330368041992, 'Charge': 1, 'E': 4.793519496917725}]\n",
      "[{'Px': -0.2256639450788498, 'Py': 0.17556628584861755, 'Pz': -6.3441081047058105, 'Charge': 1, 'E': 6.351426601409912}, {'Px': 0.26856234669685364, 'Py': -0.06870846450328827, 'Pz': -4.784330368041992, 'Charge': 1, 'E': 4.793519496917725}]\n",
      "[{'Px': -0.32545754313468933, 'Py': -0.15104910731315613, 'Pz': -6.469229221343994, 'Charge': 1, 'E': 6.4800333976745605}, {'Px': 0.37850362062454224, 'Py': 0.2636423110961914, 'Pz': -10.562529563903809, 'Charge': 1, 'E': 10.573124885559082}]\n",
      "[{'Px': -0.32545754313468933, 'Py': -0.15104910731315613, 'Pz': -6.469229221343994, 'Charge': 1, 'E': 6.4800333976745605}, {'Px': 0.37850362062454224, 'Py': 0.2636423110961914, 'Pz': -10.562529563903809, 'Charge': 1, 'E': 10.573124885559082}]\n",
      "[{'Px': -0.3530263602733612, 'Py': -0.2658582031726837, 'Pz': -3.903810977935791, 'Charge': 1, 'E': 3.9301669597625732}, {'Px': -0.23775453865528107, 'Py': -0.4707973599433899, 'Pz': -8.683866500854492, 'Charge': -1, 'E': 8.700510025024414}]\n",
      "[{'Px': -0.3530263602733612, 'Py': -0.2658582031726837, 'Pz': -3.903810977935791, 'Charge': 1, 'E': 3.9301669597625732}, {'Px': -0.23775453865528107, 'Py': -0.4707973599433899, 'Pz': -8.683866500854492, 'Charge': -1, 'E': 8.700510025024414}]\n",
      "[{'Px': 0.6945169568061829, 'Py': 0.47106724977493286, 'Pz': -7.102633953094482, 'Charge': -1, 'E': 7.152819633483887}, {'Px': 0.29632797837257385, 'Py': -0.2907625436782837, 'Pz': -8.674985885620117, 'Charge': -1, 'E': 8.685556411743164}]\n",
      "[{'Px': 0.6945169568061829, 'Py': 0.47106724977493286, 'Pz': -7.102633953094482, 'Charge': -1, 'E': 7.152819633483887}, {'Px': 0.29632797837257385, 'Py': -0.2907625436782837, 'Pz': -8.674985885620117, 'Charge': -1, 'E': 8.685556411743164}]\n",
      "[{'Px': 0.2586787939071655, 'Py': 0.3063054382801056, 'Pz': -7.740443706512451, 'Charge': 1, 'E': 7.751539707183838}, {'Px': 0.02151847444474697, 'Py': 0.21270506083965302, 'Pz': -3.3252956867218018, 'Charge': -1, 'E': 3.3338358402252197}]\n",
      "[{'Px': 0.2586787939071655, 'Py': 0.3063054382801056, 'Pz': -7.740443706512451, 'Charge': 1, 'E': 7.751539707183838}, {'Px': 0.02151847444474697, 'Py': 0.21270506083965302, 'Pz': -3.3252956867218018, 'Charge': -1, 'E': 3.3338358402252197}]\n",
      "[{'Px': -0.18468411266803741, 'Py': 0.5161587595939636, 'Pz': -4.702281475067139, 'Charge': -1, 'E': 4.735307693481445}, {'Px': 1.1198768615722656, 'Py': -1.4110877513885498, 'Pz': -11.792829513549805, 'Charge': -1, 'E': 11.930099487304688}]\n",
      "[{'Px': -0.18468411266803741, 'Py': 0.5161587595939636, 'Pz': -4.702281475067139, 'Charge': -1, 'E': 4.735307693481445}, {'Px': 1.1198768615722656, 'Py': -1.4110877513885498, 'Pz': -11.792829513549805, 'Charge': -1, 'E': 11.930099487304688}]\n",
      "[{'Px': -0.15060113370418549, 'Py': -0.24826626479625702, 'Pz': -5.495423793792725, 'Charge': 1, 'E': 5.504104137420654}, {'Px': 0.37372666597366333, 'Py': -0.7449610829353333, 'Pz': -5.903703212738037, 'Charge': 1, 'E': 5.963180065155029}]\n",
      "[{'Px': -0.15060113370418549, 'Py': -0.24826626479625702, 'Pz': -5.495423793792725, 'Charge': 1, 'E': 5.504104137420654}, {'Px': 0.37372666597366333, 'Py': -0.7449610829353333, 'Pz': -5.903703212738037, 'Charge': 1, 'E': 5.963180065155029}]\n",
      "[{'Px': 1.1215720176696777, 'Py': 3.45894193649292, 'Pz': -25.32282257080078, 'Charge': 1, 'E': 25.582780838012695}, {'Px': 0.13731743395328522, 'Py': 0.9449052214622498, 'Pz': -13.480398178100586, 'Charge': -1, 'E': 13.5145845413208}]\n",
      "[{'Px': 1.1215720176696777, 'Py': 3.45894193649292, 'Pz': -25.32282257080078, 'Charge': 1, 'E': 25.582780838012695}, {'Px': 0.13731743395328522, 'Py': 0.9449052214622498, 'Pz': -13.480398178100586, 'Charge': -1, 'E': 13.5145845413208}]\n",
      "[{'Px': 0.3571147322654724, 'Py': -0.12113890051841736, 'Pz': -4.339848518371582, 'Charge': -1, 'E': 4.35748291015625}, {'Px': 1.7697856426239014, 'Py': 0.09531952440738678, 'Pz': -14.338769912719727, 'Charge': -1, 'E': 14.448277473449707}]\n",
      "[{'Px': 0.3571147322654724, 'Py': -0.12113890051841736, 'Pz': -4.339848518371582, 'Charge': -1, 'E': 4.35748291015625}, {'Px': 1.7697856426239014, 'Py': 0.09531952440738678, 'Pz': -14.338769912719727, 'Charge': -1, 'E': 14.448277473449707}]\n",
      "[{'Px': 0.04554884135723114, 'Py': -0.4859265983104706, 'Pz': -5.026299953460693, 'Charge': 1, 'E': 5.051044940948486}, {'Px': 1.9259204864501953, 'Py': -0.3534209728240967, 'Pz': -20.26900863647461, 'Charge': -1, 'E': 20.363643646240234}]\n",
      "[{'Px': 0.04554884135723114, 'Py': -0.4859265983104706, 'Pz': -5.026299953460693, 'Charge': 1, 'E': 5.051044940948486}, {'Px': 1.9259204864501953, 'Py': -0.3534209728240967, 'Pz': -20.26900863647461, 'Charge': -1, 'E': 20.363643646240234}]\n",
      "[{'Px': 0.2731088697910309, 'Py': -0.2744310796260834, 'Pz': -5.869316101074219, 'Charge': -1, 'E': 5.883021354675293}, {'Px': -0.2930915355682373, 'Py': 0.1553826928138733, 'Pz': -4.881558895111084, 'Charge': -1, 'E': 4.89395809173584}]\n",
      "[{'Px': 0.2731088697910309, 'Py': -0.2744310796260834, 'Pz': -5.869316101074219, 'Charge': -1, 'E': 5.883021354675293}, {'Px': -0.2930915355682373, 'Py': 0.1553826928138733, 'Pz': -4.881558895111084, 'Charge': -1, 'E': 4.89395809173584}]\n",
      "[{'Px': 0.8365150690078735, 'Py': -0.35585933923721313, 'Pz': -10.427286148071289, 'Charge': -1, 'E': 10.467370986938477}, {'Px': 0.05268174037337303, 'Py': 0.5011329054832458, 'Pz': -7.608415603637695, 'Charge': 1, 'E': 7.625815391540527}]\n",
      "[{'Px': 0.8365150690078735, 'Py': -0.35585933923721313, 'Pz': -10.427286148071289, 'Charge': -1, 'E': 10.467370986938477}, {'Px': 0.05268174037337303, 'Py': 0.5011329054832458, 'Pz': -7.608415603637695, 'Charge': 1, 'E': 7.625815391540527}]\n",
      "[{'Px': -0.6600200533866882, 'Py': 0.40784382820129395, 'Pz': -9.850502014160156, 'Charge': 1, 'E': 9.881574630737305}, {'Px': 0.16598603129386902, 'Py': -0.23492677509784698, 'Pz': -6.807274341583252, 'Charge': -1, 'E': 6.814168453216553}]\n",
      "[{'Px': -0.6600200533866882, 'Py': 0.40784382820129395, 'Pz': -9.850502014160156, 'Charge': 1, 'E': 9.881574630737305}, {'Px': 0.16598603129386902, 'Py': -0.23492677509784698, 'Pz': -6.807274341583252, 'Charge': -1, 'E': 6.814168453216553}]\n",
      "[{'Px': -0.18792352080345154, 'Py': 0.28200003504753113, 'Pz': -7.383182048797607, 'Charge': -1, 'E': 7.39171028137207}, {'Px': 0.3392602205276489, 'Py': -0.5606870055198669, 'Pz': -9.304213523864746, 'Charge': -1, 'E': 9.327861785888672}]\n",
      "[{'Px': -0.18792352080345154, 'Py': 0.28200003504753113, 'Pz': -7.383182048797607, 'Charge': -1, 'E': 7.39171028137207}, {'Px': 0.3392602205276489, 'Py': -0.5606870055198669, 'Pz': -9.304213523864746, 'Charge': -1, 'E': 9.327861785888672}]\n",
      "[{'Px': -0.3114676773548126, 'Py': -0.0053640371188521385, 'Pz': -5.939855575561523, 'Charge': -1, 'E': 5.948956489562988}, {'Px': -1.1843302249908447, 'Py': -0.6197734475135803, 'Pz': -7.920026779174805, 'Charge': 1, 'E': 8.032730102539062}]\n",
      "[{'Px': -0.3114676773548126, 'Py': -0.0053640371188521385, 'Pz': -5.939855575561523, 'Charge': -1, 'E': 5.948956489562988}, {'Px': -1.1843302249908447, 'Py': -0.6197734475135803, 'Pz': -7.920026779174805, 'Charge': 1, 'E': 8.032730102539062}]\n",
      "[{'Px': 1.4150187969207764, 'Py': 0.838837742805481, 'Pz': -40.646240234375, 'Charge': -1, 'E': 40.67965316772461}, {'Px': 0.2761247158050537, 'Py': -0.02439284510910511, 'Pz': -6.13741397857666, 'Charge': 1, 'E': 6.1445794105529785}]\n",
      "[{'Px': 1.4150187969207764, 'Py': 0.838837742805481, 'Pz': -40.646240234375, 'Charge': -1, 'E': 40.67965316772461}, {'Px': 0.2761247158050537, 'Py': -0.02439284510910511, 'Pz': -6.13741397857666, 'Charge': 1, 'E': 6.1445794105529785}]\n",
      "[{'Px': 1.1163595914840698, 'Py': 0.056525103747844696, 'Pz': -24.73233985900879, 'Charge': 1, 'E': 24.7578125}, {'Px': 0.8520580530166626, 'Py': 0.02556840144097805, 'Pz': -6.481330871582031, 'Charge': 1, 'E': 6.538002014160156}]\n",
      "[{'Px': 1.1163595914840698, 'Py': 0.056525103747844696, 'Pz': -24.73233985900879, 'Charge': 1, 'E': 24.7578125}, {'Px': 0.8520580530166626, 'Py': 0.02556840144097805, 'Pz': -6.481330871582031, 'Charge': 1, 'E': 6.538002014160156}]\n",
      "[{'Px': -0.526764452457428, 'Py': -0.07778417319059372, 'Pz': -13.553277969360352, 'Charge': 1, 'E': 13.564146041870117}, {'Px': -0.06370935589075089, 'Py': 0.23543240129947662, 'Pz': -3.540480613708496, 'Charge': -1, 'E': 3.5504443645477295}]\n",
      "[{'Px': -0.526764452457428, 'Py': -0.07778417319059372, 'Pz': -13.553277969360352, 'Charge': 1, 'E': 13.564146041870117}, {'Px': -0.06370935589075089, 'Py': 0.23543240129947662, 'Pz': -3.540480613708496, 'Charge': -1, 'E': 3.5504443645477295}]\n",
      "[{'Px': -0.22046592831611633, 'Py': -0.1772988885641098, 'Pz': -3.6671526432037354, 'Charge': 1, 'E': 3.6795668601989746}, {'Px': -0.32318615913391113, 'Py': -0.5057845115661621, 'Pz': -3.681550979614258, 'Charge': 1, 'E': 3.7316548824310303}]\n",
      "[{'Px': -0.22046592831611633, 'Py': -0.1772988885641098, 'Pz': -3.6671526432037354, 'Charge': 1, 'E': 3.6795668601989746}, {'Px': -0.32318615913391113, 'Py': -0.5057845115661621, 'Pz': -3.681550979614258, 'Charge': 1, 'E': 3.7316548824310303}]\n",
      "[{'Px': 0.09437475353479385, 'Py': -0.47099366784095764, 'Pz': -12.49601936340332, 'Charge': -1, 'E': 12.505695343017578}, {'Px': -0.3771831691265106, 'Py': 0.3789720833301544, 'Pz': -6.21052885055542, 'Charge': -1, 'E': 6.234397888183594}]\n",
      "[{'Px': 0.09437475353479385, 'Py': -0.47099366784095764, 'Pz': -12.49601936340332, 'Charge': -1, 'E': 12.505695343017578}, {'Px': -0.3771831691265106, 'Py': 0.3789720833301544, 'Pz': -6.21052885055542, 'Charge': -1, 'E': 6.234397888183594}]\n",
      "[{'Px': -0.3087114691734314, 'Py': 0.09792742133140564, 'Pz': -6.587863445281982, 'Charge': 1, 'E': 6.596665859222412}, {'Px': -2.0534088611602783, 'Py': -1.440035104751587, 'Pz': -47.63618087768555, 'Charge': -1, 'E': 47.70227813720703}]\n",
      "[{'Px': -0.3087114691734314, 'Py': 0.09792742133140564, 'Pz': -6.587863445281982, 'Charge': 1, 'E': 6.596665859222412}, {'Px': -2.0534088611602783, 'Py': -1.440035104751587, 'Pz': -47.63618087768555, 'Charge': -1, 'E': 47.70227813720703}]\n",
      "[{'Px': 0.3565640449523926, 'Py': 0.247860848903656, 'Pz': -5.732077598571777, 'Charge': 1, 'E': 5.749474048614502}, {'Px': -0.3486412465572357, 'Py': -0.06291371583938599, 'Pz': -6.618448257446289, 'Charge': -1, 'E': 6.628765106201172}]\n",
      "[{'Px': 0.3565640449523926, 'Py': 0.247860848903656, 'Pz': -5.732077598571777, 'Charge': 1, 'E': 5.749474048614502}, {'Px': -0.3486412465572357, 'Py': -0.06291371583938599, 'Pz': -6.618448257446289, 'Charge': -1, 'E': 6.628765106201172}]\n",
      "[{'Px': -0.21744273602962494, 'Py': -0.14474137127399445, 'Pz': -5.7103166580200195, 'Charge': 1, 'E': 5.717264175415039}, {'Px': 0.34848248958587646, 'Py': -0.11989934742450714, 'Pz': -5.197821140289307, 'Charge': 1, 'E': 5.211940765380859}]\n",
      "[{'Px': -0.21744273602962494, 'Py': -0.14474137127399445, 'Pz': -5.7103166580200195, 'Charge': 1, 'E': 5.717264175415039}, {'Px': 0.34848248958587646, 'Py': -0.11989934742450714, 'Pz': -5.197821140289307, 'Charge': 1, 'E': 5.211940765380859}]\n",
      "[{'Px': 0.30864712595939636, 'Py': -0.8067211508750916, 'Pz': -10.041044235229492, 'Charge': -1, 'E': 10.078680038452148}, {'Px': 0.18568776547908783, 'Py': 0.6318051815032959, 'Pz': -12.908463478088379, 'Charge': -1, 'E': 12.925682067871094}]\n",
      "[{'Px': 0.30864712595939636, 'Py': -0.8067211508750916, 'Pz': -10.041044235229492, 'Charge': -1, 'E': 10.078680038452148}, {'Px': 0.18568776547908783, 'Py': 0.6318051815032959, 'Pz': -12.908463478088379, 'Charge': -1, 'E': 12.925682067871094}]\n",
      "[{'Px': -0.19243988394737244, 'Py': 0.24438448250293732, 'Pz': -8.189447402954102, 'Charge': 1, 'E': 8.196033477783203}, {'Px': 0.40997442603111267, 'Py': -0.20330195128917694, 'Pz': -5.429501056671143, 'Charge': -1, 'E': 5.449775695800781}]\n",
      "[{'Px': -0.19243988394737244, 'Py': 0.24438448250293732, 'Pz': -8.189447402954102, 'Charge': 1, 'E': 8.196033477783203}, {'Px': 0.40997442603111267, 'Py': -0.20330195128917694, 'Pz': -5.429501056671143, 'Charge': -1, 'E': 5.449775695800781}]\n",
      "[{'Px': 1.1803933382034302, 'Py': -0.7192752957344055, 'Pz': -20.566238403320312, 'Charge': -1, 'E': 20.6129093170166}, {'Px': -1.999534010887146, 'Py': -1.1560999155044556, 'Pz': -41.83405303955078, 'Charge': 1, 'E': 41.89789581298828}]\n",
      "[{'Px': 1.1803933382034302, 'Py': -0.7192752957344055, 'Pz': -20.566238403320312, 'Charge': -1, 'E': 20.6129093170166}, {'Px': -1.999534010887146, 'Py': -1.1560999155044556, 'Pz': -41.83405303955078, 'Charge': 1, 'E': 41.89789581298828}]\n",
      "[{'Px': -0.6765134930610657, 'Py': 0.2569039762020111, 'Pz': -6.513398170471191, 'Charge': 1, 'E': 6.554326057434082}, {'Px': 0.17825543880462646, 'Py': 0.10919350385665894, 'Pz': -5.240236759185791, 'Charge': -1, 'E': 5.245469093322754}]\n",
      "[{'Px': -0.6765134930610657, 'Py': 0.2569039762020111, 'Pz': -6.513398170471191, 'Charge': 1, 'E': 6.554326057434082}, {'Px': 0.17825543880462646, 'Py': 0.10919350385665894, 'Pz': -5.240236759185791, 'Charge': -1, 'E': 5.245469093322754}]\n",
      "[{'Px': -0.33113357424736023, 'Py': -0.4004589021205902, 'Pz': -6.945321559906006, 'Charge': -1, 'E': 6.965534687042236}, {'Px': -0.36653879284858704, 'Py': -0.2989465892314911, 'Pz': -11.212363243103027, 'Charge': -1, 'E': 11.222831726074219}]\n",
      "[{'Px': -0.33113357424736023, 'Py': -0.4004589021205902, 'Pz': -6.945321559906006, 'Charge': -1, 'E': 6.965534687042236}, {'Px': -0.36653879284858704, 'Py': -0.2989465892314911, 'Pz': -11.212363243103027, 'Charge': -1, 'E': 11.222831726074219}]\n",
      "[{'Px': 1.5017743110656738, 'Py': -0.8357937932014465, 'Pz': -26.346019744873047, 'Charge': 1, 'E': 26.40222930908203}, {'Px': -0.766745388507843, 'Py': 0.06536093354225159, 'Pz': -10.679120063781738, 'Charge': -1, 'E': 10.707331657409668}]\n",
      "[{'Px': 1.5017743110656738, 'Py': -0.8357937932014465, 'Pz': -26.346019744873047, 'Charge': 1, 'E': 26.40222930908203}, {'Px': -0.766745388507843, 'Py': 0.06536093354225159, 'Pz': -10.679120063781738, 'Charge': -1, 'E': 10.707331657409668}]\n",
      "[{'Px': -0.42370355129241943, 'Py': 0.057274382561445236, 'Pz': -6.387256622314453, 'Charge': -1, 'E': 6.4024224281311035}, {'Px': -0.31380781531333923, 'Py': -0.7875255346298218, 'Pz': -14.768126487731934, 'Charge': -1, 'E': 14.792816162109375}]\n",
      "[{'Px': -0.42370355129241943, 'Py': 0.057274382561445236, 'Pz': -6.387256622314453, 'Charge': -1, 'E': 6.4024224281311035}, {'Px': -0.31380781531333923, 'Py': -0.7875255346298218, 'Pz': -14.768126487731934, 'Charge': -1, 'E': 14.792816162109375}]\n",
      "[{'Px': -0.2968665063381195, 'Py': -0.5752734541893005, 'Pz': -3.6780712604522705, 'Charge': 1, 'E': 3.7360997200012207}, {'Px': 0.2403411716222763, 'Py': -0.6565519571304321, 'Pz': -16.8612117767334, 'Charge': -1, 'E': 16.87603187561035}]\n",
      "[{'Px': -0.2968665063381195, 'Py': -0.5752734541893005, 'Pz': -3.6780712604522705, 'Charge': 1, 'E': 3.7360997200012207}, {'Px': 0.2403411716222763, 'Py': -0.6565519571304321, 'Pz': -16.8612117767334, 'Charge': -1, 'E': 16.87603187561035}]\n",
      "[{'Px': 0.621431827545166, 'Py': 0.5288498997688293, 'Pz': -17.22980308532715, 'Charge': -1, 'E': 17.249439239501953}, {'Px': 0.9751566648483276, 'Py': 0.969007670879364, 'Pz': -27.22640609741211, 'Charge': 1, 'E': 27.261295318603516}]\n",
      "[{'Px': 0.621431827545166, 'Py': 0.5288498997688293, 'Pz': -17.22980308532715, 'Charge': -1, 'E': 17.249439239501953}, {'Px': 0.9751566648483276, 'Py': 0.969007670879364, 'Pz': -27.22640609741211, 'Charge': 1, 'E': 27.261295318603516}]\n",
      "[{'Px': -0.2681848406791687, 'Py': -0.6499670147895813, 'Pz': -4.316293239593506, 'Charge': 1, 'E': 4.3744635581970215}, {'Px': -0.2685856521129608, 'Py': -0.3256961405277252, 'Pz': -4.293534278869629, 'Charge': 1, 'E': 4.3155317306518555}]\n",
      "[{'Px': -0.2681848406791687, 'Py': -0.6499670147895813, 'Pz': -4.316293239593506, 'Charge': 1, 'E': 4.3744635581970215}, {'Px': -0.2685856521129608, 'Py': -0.3256961405277252, 'Pz': -4.293534278869629, 'Charge': 1, 'E': 4.3155317306518555}]\n",
      "[{'Px': -0.7162447571754456, 'Py': 0.6580973863601685, 'Pz': -17.019302368164062, 'Charge': -1, 'E': 17.04740333557129}, {'Px': -0.4271143078804016, 'Py': -0.08237865567207336, 'Pz': -6.8734564781188965, 'Charge': -1, 'E': 6.888017177581787}]\n",
      "[{'Px': -0.7162447571754456, 'Py': 0.6580973863601685, 'Pz': -17.019302368164062, 'Charge': -1, 'E': 17.04740333557129}, {'Px': -0.4271143078804016, 'Py': -0.08237865567207336, 'Pz': -6.8734564781188965, 'Charge': -1, 'E': 6.888017177581787}]\n",
      "[{'Px': 0.2624201476573944, 'Py': -0.5481366515159607, 'Pz': -9.251259803771973, 'Charge': -1, 'E': 9.271800994873047}, {'Px': 0.3457687199115753, 'Py': -0.41871628165245056, 'Pz': -8.470686912536621, 'Charge': 1, 'E': 8.48873233795166}]\n",
      "[{'Px': 0.2624201476573944, 'Py': -0.5481366515159607, 'Pz': -9.251259803771973, 'Charge': -1, 'E': 9.271800994873047}, {'Px': 0.3457687199115753, 'Py': -0.41871628165245056, 'Pz': -8.470686912536621, 'Charge': 1, 'E': 8.48873233795166}]\n",
      "[{'Px': -0.2597697079181671, 'Py': 0.2783416211605072, 'Pz': -9.48662281036377, 'Charge': 1, 'E': 9.494848251342773}, {'Px': -0.3973422944545746, 'Py': -0.201668381690979, 'Pz': -5.4288129806518555, 'Charge': -1, 'E': 5.448093414306641}]\n",
      "[{'Px': -0.2597697079181671, 'Py': 0.2783416211605072, 'Pz': -9.48662281036377, 'Charge': 1, 'E': 9.494848251342773}, {'Px': -0.3973422944545746, 'Py': -0.201668381690979, 'Pz': -5.4288129806518555, 'Charge': -1, 'E': 5.448093414306641}]\n",
      "[{'Px': -0.6954721212387085, 'Py': 0.39661678671836853, 'Pz': -6.284851551055908, 'Charge': -1, 'E': 6.336522102355957}, {'Px': 0.30484479665756226, 'Py': 0.2372104972600937, 'Pz': -6.230645656585693, 'Charge': -1, 'E': 6.24350118637085}]\n",
      "[{'Px': -0.6954721212387085, 'Py': 0.39661678671836853, 'Pz': -6.284851551055908, 'Charge': -1, 'E': 6.336522102355957}, {'Px': 0.30484479665756226, 'Py': 0.2372104972600937, 'Pz': -6.230645656585693, 'Charge': -1, 'E': 6.24350118637085}]\n",
      "[{'Px': -0.4362315535545349, 'Py': 0.6133661270141602, 'Pz': -4.682516098022461, 'Charge': -1, 'E': 4.743800163269043}, {'Px': 0.5673419237136841, 'Py': 0.2701927721500397, 'Pz': -8.054718971252441, 'Charge': -1, 'E': 8.07988452911377}]\n",
      "[{'Px': -0.4362315535545349, 'Py': 0.6133661270141602, 'Pz': -4.682516098022461, 'Charge': -1, 'E': 4.743800163269043}, {'Px': 0.5673419237136841, 'Py': 0.2701927721500397, 'Pz': -8.054718971252441, 'Charge': -1, 'E': 8.07988452911377}]\n",
      "[{'Px': -0.4994010329246521, 'Py': 0.016576284542679787, 'Pz': -6.059669494628906, 'Charge': -1, 'E': 6.081153869628906}, {'Px': -0.6154695153236389, 'Py': 0.1292731761932373, 'Pz': -7.92483377456665, 'Charge': -1, 'E': 7.950450897216797}]\n",
      "[{'Px': -0.4994010329246521, 'Py': 0.016576284542679787, 'Pz': -6.059669494628906, 'Charge': -1, 'E': 6.081153869628906}, {'Px': -0.6154695153236389, 'Py': 0.1292731761932373, 'Pz': -7.92483377456665, 'Charge': -1, 'E': 7.950450897216797}]\n",
      "[{'Px': -0.8626735210418701, 'Py': 0.031064249575138092, 'Pz': -6.892362117767334, 'Charge': 1, 'E': 6.9470133781433105}, {'Px': -0.7482541799545288, 'Py': -0.33500298857688904, 'Pz': -5.1637983322143555, 'Charge': 1, 'E': 5.22953987121582}]\n",
      "[{'Px': -0.8626735210418701, 'Py': 0.031064249575138092, 'Pz': -6.892362117767334, 'Charge': 1, 'E': 6.9470133781433105}, {'Px': -0.7482541799545288, 'Py': -0.33500298857688904, 'Pz': -5.1637983322143555, 'Charge': 1, 'E': 5.22953987121582}]\n",
      "[{'Px': 0.23046459257602692, 'Py': 0.09233220666646957, 'Pz': -4.128985404968262, 'Charge': 1, 'E': 4.137792110443115}, {'Px': 0.07050134241580963, 'Py': 0.4759306311607361, 'Pz': -9.264052391052246, 'Charge': 1, 'E': 9.277138710021973}]\n",
      "[{'Px': 0.23046459257602692, 'Py': 0.09233220666646957, 'Pz': -4.128985404968262, 'Charge': 1, 'E': 4.137792110443115}, {'Px': 0.07050134241580963, 'Py': 0.4759306311607361, 'Pz': -9.264052391052246, 'Charge': 1, 'E': 9.277138710021973}]\n",
      "[{'Px': 0.18695281445980072, 'Py': -0.3800850510597229, 'Pz': -6.132839202880859, 'Charge': -1, 'E': 6.148356914520264}, {'Px': 0.20411096513271332, 'Py': -0.07159066200256348, 'Pz': -3.0856809616088867, 'Charge': 1, 'E': 3.0950570106506348}]\n",
      "[{'Px': 0.18695281445980072, 'Py': -0.3800850510597229, 'Pz': -6.132839202880859, 'Charge': -1, 'E': 6.148356914520264}, {'Px': 0.20411096513271332, 'Py': -0.07159066200256348, 'Pz': -3.0856809616088867, 'Charge': 1, 'E': 3.0950570106506348}]\n",
      "[{'Px': 0.38068392872810364, 'Py': -0.38822874426841736, 'Pz': -6.106047630310059, 'Charge': 1, 'E': 6.131119251251221}, {'Px': 0.31727007031440735, 'Py': -0.22851680219173431, 'Pz': -5.090907573699951, 'Charge': -1, 'E': 5.106993675231934}]\n",
      "[{'Px': 0.38068392872810364, 'Py': -0.38822874426841736, 'Pz': -6.106047630310059, 'Charge': 1, 'E': 6.131119251251221}, {'Px': 0.31727007031440735, 'Py': -0.22851680219173431, 'Pz': -5.090907573699951, 'Charge': -1, 'E': 5.106993675231934}]\n",
      "[{'Px': -0.47328388690948486, 'Py': -0.2874602973461151, 'Pz': -4.881712913513184, 'Charge': 1, 'E': 4.914154529571533}, {'Px': -0.1606287956237793, 'Py': -0.21021807193756104, 'Pz': -3.7057323455810547, 'Charge': 1, 'E': 3.7166664600372314}]\n",
      "[{'Px': -0.47328388690948486, 'Py': -0.2874602973461151, 'Pz': -4.881712913513184, 'Charge': 1, 'E': 4.914154529571533}, {'Px': -0.1606287956237793, 'Py': -0.21021807193756104, 'Pz': -3.7057323455810547, 'Charge': 1, 'E': 3.7166664600372314}]\n",
      "[{'Px': 1.4024287462234497, 'Py': 0.33695662021636963, 'Pz': -37.078975677490234, 'Charge': 1, 'E': 37.1071662902832}, {'Px': -0.11455532908439636, 'Py': -0.46801015734672546, 'Pz': -6.048015117645264, 'Charge': -1, 'E': 6.0680975914001465}]\n",
      "[{'Px': 1.4024287462234497, 'Py': 0.33695662021636963, 'Pz': -37.078975677490234, 'Charge': 1, 'E': 37.1071662902832}, {'Px': -0.11455532908439636, 'Py': -0.46801015734672546, 'Pz': -6.048015117645264, 'Charge': -1, 'E': 6.0680975914001465}]\n",
      "[{'Px': 0.2921747863292694, 'Py': -0.6207275390625, 'Pz': -10.583476066589355, 'Charge': -1, 'E': 10.606215476989746}, {'Px': 0.31000038981437683, 'Py': 0.015844101086258888, 'Pz': -4.284228801727295, 'Charge': -1, 'E': 4.29675817489624}]\n",
      "[{'Px': 0.2921747863292694, 'Py': -0.6207275390625, 'Pz': -10.583476066589355, 'Charge': -1, 'E': 10.606215476989746}, {'Px': 0.31000038981437683, 'Py': 0.015844101086258888, 'Pz': -4.284228801727295, 'Charge': -1, 'E': 4.29675817489624}]\n",
      "[{'Px': 0.011517363600432873, 'Py': 0.3596242368221283, 'Pz': -6.636117935180664, 'Charge': 1, 'E': 6.646705150604248}, {'Px': 0.4781799912452698, 'Py': -0.2605600357055664, 'Pz': -7.557046413421631, 'Charge': -1, 'E': 7.577378273010254}]\n",
      "[{'Px': 0.011517363600432873, 'Py': 0.3596242368221283, 'Pz': -6.636117935180664, 'Charge': 1, 'E': 6.646705150604248}, {'Px': 0.4781799912452698, 'Py': -0.2605600357055664, 'Pz': -7.557046413421631, 'Charge': -1, 'E': 7.577378273010254}]\n",
      "[{'Px': -0.30794915556907654, 'Py': 0.3941499888896942, 'Pz': -10.024394035339355, 'Charge': 1, 'E': 10.037421226501465}, {'Px': 0.3400554358959198, 'Py': -0.02754487842321396, 'Pz': -7.457953929901123, 'Charge': 1, 'E': 7.466501235961914}]\n",
      "[{'Px': -0.30794915556907654, 'Py': 0.3941499888896942, 'Pz': -10.024394035339355, 'Charge': 1, 'E': 10.037421226501465}, {'Px': 0.3400554358959198, 'Py': -0.02754487842321396, 'Pz': -7.457953929901123, 'Charge': 1, 'E': 7.466501235961914}]\n",
      "[{'Px': -0.10597523301839828, 'Py': 0.24504354596138, 'Pz': -4.376087188720703, 'Charge': 1, 'E': 4.385496616363525}, {'Px': -0.36276736855506897, 'Py': -0.02288403920829296, 'Pz': -4.353232383728027, 'Charge': 1, 'E': 4.369658946990967}]\n",
      "[{'Px': -0.10597523301839828, 'Py': 0.24504354596138, 'Pz': -4.376087188720703, 'Charge': 1, 'E': 4.385496616363525}, {'Px': -0.36276736855506897, 'Py': -0.02288403920829296, 'Pz': -4.353232383728027, 'Charge': 1, 'E': 4.369658946990967}]\n",
      "[{'Px': 0.3386458158493042, 'Py': -0.5442107915878296, 'Pz': -21.0821475982666, 'Charge': -1, 'E': 21.092153549194336}, {'Px': -2.0578649044036865, 'Py': -0.5865166187286377, 'Pz': -22.328603744506836, 'Charge': -1, 'E': 22.431150436401367}]\n",
      "[{'Px': 0.3386458158493042, 'Py': -0.5442107915878296, 'Pz': -21.0821475982666, 'Charge': -1, 'E': 21.092153549194336}, {'Px': -2.0578649044036865, 'Py': -0.5865166187286377, 'Pz': -22.328603744506836, 'Charge': -1, 'E': 22.431150436401367}]\n",
      "[{'Px': -0.027401937171816826, 'Py': -0.27464810013771057, 'Pz': -6.705960273742676, 'Charge': 1, 'E': 6.712469577789307}, {'Px': 0.792597770690918, 'Py': -0.34652212262153625, 'Pz': -10.193876266479492, 'Charge': -1, 'E': 10.231059074401855}]\n",
      "[{'Px': -0.027401937171816826, 'Py': -0.27464810013771057, 'Pz': -6.705960273742676, 'Charge': 1, 'E': 6.712469577789307}, {'Px': 0.792597770690918, 'Py': -0.34652212262153625, 'Pz': -10.193876266479492, 'Charge': -1, 'E': 10.231059074401855}]\n",
      "[{'Px': -0.35687121748924255, 'Py': -0.13704396784305573, 'Pz': -10.317239761352539, 'Charge': -1, 'E': 10.324860572814941}, {'Px': -1.099031686782837, 'Py': -0.3521425724029541, 'Pz': -26.109453201293945, 'Charge': -1, 'E': 26.135160446166992}]\n",
      "[{'Px': -0.35687121748924255, 'Py': -0.13704396784305573, 'Pz': -10.317239761352539, 'Charge': -1, 'E': 10.324860572814941}, {'Px': -1.099031686782837, 'Py': -0.3521425724029541, 'Pz': -26.109453201293945, 'Charge': -1, 'E': 26.135160446166992}]\n",
      "[{'Px': 0.38275283575057983, 'Py': -0.17749975621700287, 'Pz': -5.616801738739014, 'Charge': -1, 'E': 5.6336164474487305}, {'Px': -0.07955672591924667, 'Py': -0.35074713826179504, 'Pz': -13.589369773864746, 'Charge': -1, 'E': 13.594538688659668}]\n",
      "[{'Px': 0.38275283575057983, 'Py': -0.17749975621700287, 'Pz': -5.616801738739014, 'Charge': -1, 'E': 5.6336164474487305}, {'Px': -0.07955672591924667, 'Py': -0.35074713826179504, 'Pz': -13.589369773864746, 'Charge': -1, 'E': 13.594538688659668}]\n",
      "[{'Px': -0.004977761302143335, 'Py': 0.49690476059913635, 'Pz': -11.377540588378906, 'Charge': 1, 'E': 11.388877868652344}, {'Px': -0.27636048197746277, 'Py': 0.5773252844810486, 'Pz': -6.534341335296631, 'Charge': 1, 'E': 6.566464900970459}]\n",
      "[{'Px': -0.004977761302143335, 'Py': 0.49690476059913635, 'Pz': -11.377540588378906, 'Charge': 1, 'E': 11.388877868652344}, {'Px': -0.27636048197746277, 'Py': 0.5773252844810486, 'Pz': -6.534341335296631, 'Charge': 1, 'E': 6.566464900970459}]\n",
      "[{'Px': -0.37291011214256287, 'Py': -0.14159925282001495, 'Pz': -4.739731311798096, 'Charge': 1, 'E': 4.757659912109375}, {'Px': 0.18598538637161255, 'Py': -0.3703554570674896, 'Pz': -6.649621486663818, 'Charge': 1, 'E': 6.663361072540283}]\n",
      "[{'Px': -0.37291011214256287, 'Py': -0.14159925282001495, 'Pz': -4.739731311798096, 'Charge': 1, 'E': 4.757659912109375}, {'Px': 0.18598538637161255, 'Py': -0.3703554570674896, 'Pz': -6.649621486663818, 'Charge': 1, 'E': 6.663361072540283}]\n",
      "[{'Px': 0.07775761187076569, 'Py': -1.8814270496368408, 'Pz': -28.380521774291992, 'Charge': 1, 'E': 28.443119049072266}, {'Px': 0.34349745512008667, 'Py': 1.2750587463378906, 'Pz': -17.305051803588867, 'Charge': -1, 'E': 17.355684280395508}]\n",
      "[{'Px': 0.07775761187076569, 'Py': -1.8814270496368408, 'Pz': -28.380521774291992, 'Charge': 1, 'E': 28.443119049072266}, {'Px': 0.34349745512008667, 'Py': 1.2750587463378906, 'Pz': -17.305051803588867, 'Charge': -1, 'E': 17.355684280395508}]\n",
      "[{'Px': -0.4612124264240265, 'Py': 0.13700255751609802, 'Pz': -3.746933937072754, 'Charge': 1, 'E': 3.779175043106079}, {'Px': -0.04268643632531166, 'Py': -1.4796501398086548, 'Pz': -12.872597694396973, 'Charge': 1, 'E': 12.957859992980957}]\n",
      "[{'Px': -0.4612124264240265, 'Py': 0.13700255751609802, 'Pz': -3.746933937072754, 'Charge': 1, 'E': 3.779175043106079}, {'Px': -0.04268643632531166, 'Py': -1.4796501398086548, 'Pz': -12.872597694396973, 'Charge': 1, 'E': 12.957859992980957}]\n",
      "[{'Px': -0.17680414021015167, 'Py': -0.14912602305412292, 'Pz': -4.079638957977295, 'Charge': -1, 'E': 4.087555885314941}, {'Px': -0.34253326058387756, 'Py': -0.21851970255374908, 'Pz': -9.614203453063965, 'Charge': -1, 'E': 9.623364448547363}]\n",
      "[{'Px': -0.17680414021015167, 'Py': -0.14912602305412292, 'Pz': -4.079638957977295, 'Charge': -1, 'E': 4.087555885314941}, {'Px': -0.34253326058387756, 'Py': -0.21851970255374908, 'Pz': -9.614203453063965, 'Charge': -1, 'E': 9.623364448547363}]\n",
      "[{'Px': 0.037271369248628616, 'Py': -0.27530309557914734, 'Pz': -5.027628421783447, 'Charge': 1, 'E': 5.036406993865967}, {'Px': 0.3737603724002838, 'Py': -0.05413252115249634, 'Pz': -10.847039222717285, 'Charge': 1, 'E': 10.854125022888184}]\n",
      "[{'Px': 0.037271369248628616, 'Py': -0.27530309557914734, 'Pz': -5.027628421783447, 'Charge': 1, 'E': 5.036406993865967}, {'Px': 0.3737603724002838, 'Py': -0.05413252115249634, 'Pz': -10.847039222717285, 'Charge': 1, 'E': 10.854125022888184}]\n",
      "[{'Px': -1.4636133909225464, 'Py': 0.01479631569236517, 'Pz': -9.701327323913574, 'Charge': -1, 'E': 9.811692237854004}, {'Px': 0.37110406160354614, 'Py': -0.17299814522266388, 'Pz': -4.684298992156982, 'Charge': 1, 'E': 4.703346252441406}]\n",
      "[{'Px': -1.4636133909225464, 'Py': 0.01479631569236517, 'Pz': -9.701327323913574, 'Charge': -1, 'E': 9.811692237854004}, {'Px': 0.37110406160354614, 'Py': -0.17299814522266388, 'Pz': -4.684298992156982, 'Charge': 1, 'E': 4.703346252441406}]\n",
      "[{'Px': -0.018941015005111694, 'Py': -0.6723958849906921, 'Pz': -6.164854526519775, 'Charge': 1, 'E': 6.202343463897705}, {'Px': -0.31391340494155884, 'Py': 0.3925841450691223, 'Pz': -14.679708480834961, 'Charge': 1, 'E': 14.688692092895508}]\n",
      "[{'Px': -0.018941015005111694, 'Py': -0.6723958849906921, 'Pz': -6.164854526519775, 'Charge': 1, 'E': 6.202343463897705}, {'Px': -0.31391340494155884, 'Py': 0.3925841450691223, 'Pz': -14.679708480834961, 'Charge': 1, 'E': 14.688692092895508}]\n",
      "[{'Px': -0.7314054369926453, 'Py': 0.823513388633728, 'Pz': -21.011821746826172, 'Charge': 1, 'E': 21.040935516357422}, {'Px': -0.10394956916570663, 'Py': 0.03872084617614746, 'Pz': -9.737443923950195, 'Charge': -1, 'E': 9.738649368286133}]\n",
      "[{'Px': -0.7314054369926453, 'Py': 0.823513388633728, 'Pz': -21.011821746826172, 'Charge': 1, 'E': 21.040935516357422}, {'Px': -0.10394956916570663, 'Py': 0.03872084617614746, 'Pz': -9.737443923950195, 'Charge': -1, 'E': 9.738649368286133}]\n",
      "[{'Px': -0.10750272125005722, 'Py': -0.7650637030601501, 'Pz': -15.141999244689941, 'Charge': -1, 'E': 15.162064552307129}, {'Px': -0.2801346480846405, 'Py': -0.17298777401447296, 'Pz': -8.83180046081543, 'Charge': -1, 'E': 8.838566780090332}]\n",
      "[{'Px': -0.10750272125005722, 'Py': -0.7650637030601501, 'Pz': -15.141999244689941, 'Charge': -1, 'E': 15.162064552307129}, {'Px': -0.2801346480846405, 'Py': -0.17298777401447296, 'Pz': -8.83180046081543, 'Charge': -1, 'E': 8.838566780090332}]\n",
      "[{'Px': -0.18973706662654877, 'Py': 0.14179252088069916, 'Pz': -5.891079902648926, 'Charge': 1, 'E': 5.896786689758301}, {'Px': 1.8746508359909058, 'Py': -1.679348349571228, 'Pz': -44.19126510620117, 'Charge': -1, 'E': 44.263004302978516}]\n",
      "[{'Px': -0.18973706662654877, 'Py': 0.14179252088069916, 'Pz': -5.891079902648926, 'Charge': 1, 'E': 5.896786689758301}, {'Px': 1.8746508359909058, 'Py': -1.679348349571228, 'Pz': -44.19126510620117, 'Charge': -1, 'E': 44.263004302978516}]\n",
      "[{'Px': -0.5665764808654785, 'Py': 0.7720611691474915, 'Pz': -7.2169013023376465, 'Charge': -1, 'E': 7.280928134918213}, {'Px': 0.28119683265686035, 'Py': -0.05170043930411339, 'Pz': -6.385996341705322, 'Charge': -1, 'E': 6.393266677856445}]\n",
      "[{'Px': -0.5665764808654785, 'Py': 0.7720611691474915, 'Pz': -7.2169013023376465, 'Charge': -1, 'E': 7.280928134918213}, {'Px': 0.28119683265686035, 'Py': -0.05170043930411339, 'Pz': -6.385996341705322, 'Charge': -1, 'E': 6.393266677856445}]\n",
      "[{'Px': 0.9345564246177673, 'Py': -0.7147759199142456, 'Pz': -13.204635620117188, 'Charge': 1, 'E': 13.257370948791504}, {'Px': 0.4940654933452606, 'Py': 0.32219716906547546, 'Pz': -8.544713973999023, 'Charge': -1, 'E': 8.56570053100586}]\n",
      "[{'Px': 0.9345564246177673, 'Py': -0.7147759199142456, 'Pz': -13.204635620117188, 'Charge': 1, 'E': 13.257370948791504}, {'Px': 0.4940654933452606, 'Py': 0.32219716906547546, 'Pz': -8.544713973999023, 'Charge': -1, 'E': 8.56570053100586}]\n",
      "[{'Px': -0.7163490056991577, 'Py': 0.09373538196086884, 'Pz': -16.69007682800293, 'Charge': 1, 'E': 16.70604133605957}, {'Px': 0.1752035915851593, 'Py': 0.22858962416648865, 'Pz': -6.329670429229736, 'Charge': -1, 'E': 6.337100505828857}]\n",
      "[{'Px': -0.7163490056991577, 'Py': 0.09373538196086884, 'Pz': -16.69007682800293, 'Charge': 1, 'E': 16.70604133605957}, {'Px': 0.1752035915851593, 'Py': 0.22858962416648865, 'Pz': -6.329670429229736, 'Charge': -1, 'E': 6.337100505828857}]\n",
      "[{'Px': -1.2361711263656616, 'Py': 1.31773841381073, 'Pz': -34.35411071777344, 'Charge': -1, 'E': 34.40175247192383}, {'Px': 1.3840382099151611, 'Py': -0.5681670308113098, 'Pz': -30.42340850830078, 'Charge': 1, 'E': 30.460357666015625}]\n",
      "[{'Px': -1.2361711263656616, 'Py': 1.31773841381073, 'Pz': -34.35411071777344, 'Charge': -1, 'E': 34.40175247192383}, {'Px': 1.3840382099151611, 'Py': -0.5681670308113098, 'Pz': -30.42340850830078, 'Charge': 1, 'E': 30.460357666015625}]\n",
      "[{'Px': 0.777949333190918, 'Py': -0.7551957964897156, 'Pz': -12.027209281921387, 'Charge': 1, 'E': 12.076441764831543}, {'Px': 0.5104172229766846, 'Py': 0.2601938843727112, 'Pz': -9.85167407989502, 'Charge': -1, 'E': 9.868884086608887}]\n",
      "[{'Px': 0.777949333190918, 'Py': -0.7551957964897156, 'Pz': -12.027209281921387, 'Charge': 1, 'E': 12.076441764831543}, {'Px': 0.5104172229766846, 'Py': 0.2601938843727112, 'Pz': -9.85167407989502, 'Charge': -1, 'E': 9.868884086608887}]\n"
     ]
    }
   ],
   "source": [
    "def p(px,py,pz):\n",
    "    return np.sqrt(px**2+py**2+pz**2)\n",
    "\n",
    "    \n",
    "def InvariantMass(px,py,pz,E):\n",
    "    c=3*10**8\n",
    "    return 1/(c**2) * np.sqrt(E**2-(p(px,py,pz))**2)\n",
    "    \n",
    "InvMass = np.array([],dtype=float)\n",
    "nofTracks=0 \n",
    "nofEvents=0  \n",
    "for event in m[m.nMuons==2]:\n",
    "    nofEvents+=1\n",
    "    tracks = event[\"Muon\"].to_list()\n",
    "    for t in tracks:\n",
    "        #for t1 in tracks[1]:\n",
    "        nofTracks+=1\n",
    "         #   SumE=t[\"E\"]+t1[\"E\"]\n",
    "          #  Sump=p(t[\"Px\"],t[\"Py\"],t[\"Pz\"])+p(t1[\"Px\"],t1[\"Py\"],t1[\"Pz\"])\n",
    "        InvMass = np.append(InvMass,InvariantMass(t[\"Px\"],t[\"Py\"],t[\"Pz\"],t[\"E\"]))     \n",
    "        print(tracks) "
>>>>>>> bf78b2c71d41be1c3b7b381c301b74cf1a426115
   ]
  },
  {
   "cell_type": "code",
<<<<<<< HEAD
   "execution_count": 4,
   "id": "08de6358-0f49-4692-8f47-36fc4374d803",
   "metadata": {},
   "outputs": [
    {
     "name": "stdout",
     "output_type": "stream",
     "text": [
      "  % Total    % Received % Xferd  Average Speed   Time    Time     Time  Current\n",
      "                                 Dload  Upload   Total   Spent    Left  Speed\n",
      "100 3602k  100 3602k    0     0  1125k      0  0:00:03  0:00:03 --:--:-- 1125k\n",
      "run290223.data.root: ROOT file Version 62406 (Compression: 1)\n",
      "run291694.data.root: ROOT file Version 61600 (Compression: 1)\n",
      "run291694.mc.root:   ROOT file Version 61600 (Compression: 1)\n"
     ]
    },
    {
     "data": {
      "image/png": "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\n",
      "text/plain": [
       "<Figure size 500x300 with 1 Axes>"
      ]
     },
     "metadata": {},
     "output_type": "display_data"
    }
   ],
   "source": [
    "import uproot\n",
    "import awkward as ak\n",
    "import numpy as np\n",
    "import matplotlib\n",
    "import matplotlib.pyplot as plt\n",
    "import math\n",
    "import hist\n",
    "import vector\n",
    "\n",
    "!curl 'https://cernbox.cern.ch/remote.php/dav/public-files/JIjQaAYEQnmRDkX/290223/AnalysisResults.root' > run290223.data.root\n",
    "\n",
    "!file *.root\n",
    "file = uproot.open(\"run290223.data.root\")\n",
    "\n",
    "events = file[\"eventsTree\"]\n",
    "\n",
    "c = 299792458\n",
    "\n",
    "m = events.arrays([\"nMuons\",\"Muon_Px\",\"Muon_Py\",\"Muon_Pz\", \"Muon_thetaAbs\", \"Muon_E\", \"Muon_Charge\"],how=\"zip\",entry_stop=10000)\n",
    "\n",
    "transverseMomentum_muplus = np.array([],dtype=float)\n",
    "transverseMomentum_muminus = np.array([],dtype=float)\n",
    "theta = np.array([], dtype=float)\n",
    "for event in m[m.nMuons>0]:\n",
    "    tracks = event[\"Muon\"].to_list()\n",
    "    for t in tracks:\n",
    "        theta = np.append(theta, t[\"thetaAbs\"])\n",
    "    \n",
    "fig = plt.figure(figsize=(5,3))\n",
    "axes = fig.add_axes([0.1,0.1,0.9,0.9])\n",
    "axes.set_title(\"$\\theta$ distribution of muon tracks\")\n",
    "axes.set_xlabel(\"$\\theta$\")\n",
    "axes.set_ylabel(\"# of tracks\")\n",
    "axes.set_yscale(\"log\")\n",
    "axes.hist(theta,bins=100,label=\"$\\theta$\",color='coral',histtype='step');\n",
    "axes.legend();"
   ]
  },
  {
   "cell_type": "code",
   "execution_count": 9,
   "id": "7a618faf-dfc5-4962-968a-f6375b4230de",
   "metadata": {},
   "outputs": [
    {
     "name": "stdout",
     "output_type": "stream",
     "text": [
      "  % Total    % Received % Xferd  Average Speed   Time    Time     Time  Current\n",
      "                                 Dload  Upload   Total   Spent    Left  Speed\n",
      "100 3602k  100 3602k    0     0   928k      0  0:00:03  0:00:03 --:--:--  927k\n",
      "run290223.data.root: ROOT file Version 62406 (Compression: 1)\n",
      "run291694.mc.root:   ROOT file Version 61600 (Compression: 1)\n",
      "Nombre d'événements avec deux traces: 644\n",
      "Nombre d'événements avec deux traces de charge opposée: 361\n"
     ]
    }
   ],
   "source": [
    "import uproot\n",
    "import awkward as ak\n",
    "import numpy as np\n",
    "import matplotlib\n",
    "import matplotlib.pyplot as plt\n",
    "import math\n",
    "import hist\n",
    "import vector\n",
    "\n",
    "!curl 'https://cernbox.cern.ch/remote.php/dav/public-files/JIjQaAYEQnmRDkX/290223/AnalysisResults.root' > run290223.data.root\n",
    "\n",
    "!file *.root\n",
    "file = uproot.open(\"run290223.data.root\")\n",
    "\n",
    "events = file[\"eventsTree\"]\n",
    "\n",
    "c = 299792458\n",
    "\n",
    "m = events.arrays([\"nMuons\",\"Muon_Px\",\"Muon_Py\",\"Muon_Pz\", \"Muon_E\", \"Muon_Charge\"],how=\"zip\",entry_stop=1000000)\n",
    "n = len(m[m.nMuons==2])\n",
    "\n",
    "print(\"Nombre d'événements avec deux traces: {}\".format(n))\n",
    "\n",
    "charge = np.array([0,0])\n",
    "nOppositeCharge = 0\n",
    "\n",
    "for event in m[m.nMuons==2]:\n",
    "    tracks = event[\"Muon\"].to_list()\n",
    "    i = 0\n",
    "    for t in tracks:\n",
    "        if (t[\"Charge\"] == 1):\n",
    "            charge[i] = 1\n",
    "        elif (t[\"Charge\"] == -1):\n",
    "            charge[i] = -1\n",
    "        i += 1\n",
    "    if charge[0] != charge[1]:\n",
    "        nOppositeCharge += 1\n",
    "        \n",
    "print(\"Nombre d'événements avec deux traces de charge opposée: {}\".format(nOppositeCharge))\n"
   ]
=======
   "execution_count": null,
   "id": "63b34153-6ec7-4998-aa70-e4a678bf9945",
   "metadata": {},
   "outputs": [],
   "source": []
  },
  {
   "cell_type": "code",
   "execution_count": null,
   "id": "4b4ea7a0-4647-4362-8a3e-d0af120793f9",
   "metadata": {},
   "outputs": [],
   "source": []
>>>>>>> bf78b2c71d41be1c3b7b381c301b74cf1a426115
  },
  {
   "cell_type": "code",
   "execution_count": null,
<<<<<<< HEAD
   "id": "009ba4ba-ae52-4ff3-a8f7-5af434bcea0d",
   "metadata": {},
   "outputs": [],
   "source": [
    "import uproot\n",
    "import awkward as ak\n",
    "import numpy as np\n",
    "import matplotlib\n",
    "import matplotlib.pyplot as plt\n",
    "import math\n",
    "import hist\n",
    "import vector\n",
    "\n",
    "!curl 'https://cernbox.cern.ch/remote.php/dav/public-files/JIjQaAYEQnmRDkX/290223/AnalysisResults.root' > run290223.data.root\n",
    "\n",
    "!file *.root\n",
    "file = uproot.open(\"run290223.data.root\")\n",
    "\n",
    "events = file[\"eventsTree\"]\n",
    "\n",
    "c = 299792458\n",
    "\n",
    "m = events.arrays([\"nMuons\",\"Muon_Px\",\"Muon_Py\",\"Muon_Pz\", \"Muon_E\", \"Muon_Charge\"],how=\"zip\",entry_stop=10000)\n",
    "\n",
    "transverseMomentum = np.array([],dtype=float)\n",
    "for event in m[m.nMuons>0]:\n",
    "    tracks = event[\"Muon\"].to_list()\n",
    "    for t in tracks:\n",
    "        transverseMomentum = np.append(transverseMomentum, t[\"Pz\"])\n",
    "plt.hist(transverseMomentum, bins=1000);"
   ]
=======
   "id": "a2bcd97a-19b8-4381-bc13-646158e2be23",
   "metadata": {},
   "outputs": [],
   "source": []
>>>>>>> bf78b2c71d41be1c3b7b381c301b74cf1a426115
  },
  {
   "cell_type": "code",
   "execution_count": null,
<<<<<<< HEAD
   "id": "22e5b2c8-39b6-4604-8dad-e831215923f7",
=======
   "id": "5ae65a1f-15ff-4e75-bd64-0dd5a55d58dd",
>>>>>>> bf78b2c71d41be1c3b7b381c301b74cf1a426115
   "metadata": {},
   "outputs": [],
   "source": []
  }
 ],
 "metadata": {
  "kernelspec": {
   "display_name": "Python 3 (ipykernel)",
   "language": "python",
   "name": "python3"
  },
  "language_info": {
   "codemirror_mode": {
    "name": "ipython",
    "version": 3
   },
   "file_extension": ".py",
   "mimetype": "text/x-python",
   "name": "python",
   "nbconvert_exporter": "python",
   "pygments_lexer": "ipython3",
   "version": "3.10.8"
  }
 },
 "nbformat": 4,
 "nbformat_minor": 5
}
