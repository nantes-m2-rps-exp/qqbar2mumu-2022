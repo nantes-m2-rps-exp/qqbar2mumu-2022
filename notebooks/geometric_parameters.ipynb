{
 "cells": [
  {
   "cell_type": "code",
   "execution_count": 1,
   "id": "6ba37afc-7859-451d-9d9a-f25cc944dabc",
   "metadata": {
    "tags": []
   },
   "outputs": [
    {
     "name": "stdout",
     "output_type": "stream",
     "text": [
      "  % Total    % Received % Xferd  Average Speed   Time    Time     Time  Current\n",
      "                                 Dload  Upload   Total   Spent    Left  Speed\n",
      "100 6915k  100 6915k    0     0  1792k      0  0:00:03  0:00:03 --:--:-- 1792k\n",
      "run290223.data.root: ROOT file Version 62406 (Compression: 1)\n",
      "run291694.mc.root:   ROOT file Version 61600 (Compression: 1)\n",
      "name                 | typename                 | interpretation                \n",
      "---------------------+--------------------------+-------------------------------\n",
      "runNumber            | int32_t                  | AsDtype('>i4')\n",
      "xVtx                 | double                   | AsDtype('>f8')\n",
      "yVtx                 | double                   | AsDtype('>f8')\n",
      "zVtx                 | double                   | AsDtype('>f8')\n",
      "isCINT               | bool                     | AsDtype('bool')\n",
      "isCMSL               | bool                     | AsDtype('bool')\n",
      "isCMSH               | bool                     | AsDtype('bool')\n",
      "isCMLL               | bool                     | AsDtype('bool')\n",
      "isCMUL               | bool                     | AsDtype('bool')\n",
      "nMuons               | int32_t                  | AsDtype('>i4')\n",
      "Muon_E               | std::vector<float>       | AsJagged(AsDtype('>f4'), he...\n",
      "Muon_Px              | std::vector<float>       | AsJagged(AsDtype('>f4'), he...\n",
      "Muon_Py              | std::vector<float>       | AsJagged(AsDtype('>f4'), he...\n",
      "Muon_Pz              | std::vector<float>       | AsJagged(AsDtype('>f4'), he...\n",
      "Muon_Charge          | std::vector<int16_t>     | AsJagged(AsDtype('>i2'), he...\n",
      "Muon_thetaAbs        | std::vector<float>       | AsJagged(AsDtype('>f4'), he...\n",
      "Muon_xDCA            | std::vector<double>      | AsJagged(AsDtype('>f8'), he...\n",
      "Muon_yDCA            | std::vector<double>      | AsJagged(AsDtype('>f8'), he...\n",
      "Muon_zDCA            | std::vector<double>      | AsJagged(AsDtype('>f8'), he...\n",
      "Muon_matchedTrgTh... | std::vector<int32_t>     | AsJagged(AsDtype('>i4'), he...\n",
      "Muon_MCHClusterMap   | std::vector<uint32_t>    | AsJagged(AsDtype('>u4'), he...\n",
      "Muon_MTRHitMapTrg    | std::vector<uint32_t>    | AsJagged(AsDtype('>u4'), he...\n",
      "Muon_MTRHitMapTrk    | std::vector<uint32_t>    | AsJagged(AsDtype('>u4'), he...\n",
      "Muon_MCLabel         | std::vector<int32_t>     | AsJagged(AsDtype('>i4'), he...\n",
      "Muon_MCPDGCode       | std::vector<int32_t>     | AsJagged(AsDtype('>i4'), he...\n"
     ]
    }
   ],
   "source": [
    "import uproot\n",
    "import awkward as ak\n",
    "import numpy as np\n",
    "import matplotlib\n",
    "import matplotlib.pyplot as plt\n",
    "import math\n",
    "import hist\n",
    "import vector\n",
    "\n",
    "!curl 'https://cernbox.cern.ch/remote.php/dav/public-files/nbPmKbcsJvZrjjx/291694/AnalysisResults.root' > run291694.mc.root\n",
    "\n",
    "!file *.root\n",
    "file = uproot.open(\"run291694.mc.root\")\n",
    "\n",
    "events = file[\"eventsTree\"]\n",
    "\n",
    "events.show()"
   ]
  },
  {
   "cell_type": "code",
   "execution_count": 6,
   "id": "6c60fd26-8ad9-4de1-9800-7840c00a33bb",
   "metadata": {},
   "outputs": [
    {
     "name": "stdout",
     "output_type": "stream",
     "text": [
      "  % Total    % Received % Xferd  Average Speed   Time    Time     Time  Current\n",
      "                                 Dload  Upload   Total   Spent    Left  Speed\n",
      "100 3602k  100 3602k    0     0   884k      0  0:00:04  0:00:04 --:--:--  885k\n",
      "run290223.data.root: ROOT file Version 62406 (Compression: 1)\n",
      "run291694.mc.root:   ROOT file Version 61600 (Compression: 1)\n",
      "name                 | typename                 | interpretation                \n",
      "---------------------+--------------------------+-------------------------------\n",
      "runNumber            | int32_t                  | AsDtype('>i4')\n",
      "xVtx                 | double                   | AsDtype('>f8')\n",
      "yVtx                 | double                   | AsDtype('>f8')\n",
      "zVtx                 | double                   | AsDtype('>f8')\n",
      "isCINT               | bool                     | AsDtype('bool')\n",
      "isCMSL               | bool                     | AsDtype('bool')\n",
      "isCMSH               | bool                     | AsDtype('bool')\n",
      "isCMLL               | bool                     | AsDtype('bool')\n",
      "isCMUL               | bool                     | AsDtype('bool')\n",
      "nMuons               | int32_t                  | AsDtype('>i4')\n",
      "Muon_E               | std::vector<float>       | AsJagged(AsDtype('>f4'), he...\n",
      "Muon_Px              | std::vector<float>       | AsJagged(AsDtype('>f4'), he...\n",
      "Muon_Py              | std::vector<float>       | AsJagged(AsDtype('>f4'), he...\n",
      "Muon_Pz              | std::vector<float>       | AsJagged(AsDtype('>f4'), he...\n",
      "Muon_Charge          | std::vector<int16_t>     | AsJagged(AsDtype('>i2'), he...\n",
      "Muon_thetaAbs        | std::vector<float>       | AsJagged(AsDtype('>f4'), he...\n",
      "Muon_xDCA            | std::vector<double>      | AsJagged(AsDtype('>f8'), he...\n",
      "Muon_yDCA            | std::vector<double>      | AsJagged(AsDtype('>f8'), he...\n",
      "Muon_zDCA            | std::vector<double>      | AsJagged(AsDtype('>f8'), he...\n",
      "Muon_matchedTrgTh... | std::vector<int32_t>     | AsJagged(AsDtype('>i4'), he...\n",
      "Muon_MCHClusterMap   | std::vector<uint32_t>    | AsJagged(AsDtype('>u4'), he...\n",
      "Muon_MTRHitMapTrg    | std::vector<uint32_t>    | AsJagged(AsDtype('>u4'), he...\n",
      "Muon_MTRHitMapTrk    | std::vector<uint32_t>    | AsJagged(AsDtype('>u4'), he...\n"
     ]
    }
   ],
   "source": [
    "import uproot\n",
    "import awkward as ak\n",
    "import numpy as np\n",
    "import matplotlib\n",
    "import matplotlib.pyplot as plt\n",
    "import math\n",
    "import hist\n",
    "import vector\n",
    "\n",
    "!curl 'https://cernbox.cern.ch/remote.php/dav/public-files/JIjQaAYEQnmRDkX/290223/AnalysisResults.root' > run290223.data.root\n",
    "\n",
    "!file *.root\n",
    "file = uproot.open(\"run290223.data.root\")\n",
    "\n",
    "events = file[\"eventsTree\"]\n",
    "\n",
    "events.show()"
   ]
  },
  {
   "cell_type": "code",
   "execution_count": 8,
   "id": "72e2bf29-2224-4f73-a206-52c3c961b698",
   "metadata": {},
   "outputs": [
    {
     "name": "stdout",
     "output_type": "stream",
     "text": [
      "  % Total    % Received % Xferd  Average Speed   Time    Time     Time  Current\n",
      "                                 Dload  Upload   Total   Spent    Left  Speed\n",
      "100 3602k  100 3602k    0     0   624k      0  0:00:05  0:00:05 --:--:--  823k\n",
      "run290223.data.root: ROOT file Version 62406 (Compression: 1)\n",
      "run291694.mc.root:   ROOT file Version 61600 (Compression: 1)\n"
     ]
    },
    {
     "data": {
      "image/png": "[encoded data removed]",
      "text/plain": [
       "<Figure size 500x300 with 1 Axes>"
      ]
     },
     "metadata": {},
     "output_type": "display_data"
    }
   ],
   "source": [
    "import uproot\n",
    "import awkward as ak\n",
    "import numpy as np\n",
    "import matplotlib\n",
    "import matplotlib.pyplot as plt\n",
    "import math\n",
    "import hist\n",
    "import vector\n",
    "\n",
    "def mag(px:float,py:float,pz:float):\n",
    "    \"\"\"Returns the norm of the 3-vector (px,py,pz).\"\"\"\n",
    "    return math.sqrt(px*px+py*py+pz*pz)\n",
    "\n",
    "def invMass(p:float, E:float):\n",
    "    \"\"\"Returns the invariant mass of the event\"\"\"\n",
    "    return math.sqrt(E*E - p*p)\n",
    "\n",
    "!curl 'https://cernbox.cern.ch/remote.php/dav/public-files/JIjQaAYEQnmRDkX/290223/AnalysisResults.root' > run290223.data.root\n",
    "\n",
    "!file *.root\n",
    "file = uproot.open(\"run290223.data.root\")\n",
    "\n",
    "events = file[\"eventsTree\"]\n",
    "\n",
    "c = 299792458.\n",
    "\n",
    "m = events.arrays([\"nMuons\",\"Muon_Px\",\"Muon_Py\",\"Muon_Pz\", \"Muon_E\", \"Muon_Charge\"],how=\"zip\",entry_stop=1000000)\n",
    "charge = np.array([0,0])\n",
    "momentum = np.array([0.,0.])\n",
    "totalMomentum = 0.\n",
    "energy = np.array([0.,0.])\n",
    "totalEnergy = 0.\n",
    "\n",
    "invariantMass = np.array([],dtype=float)\n",
    "\n",
    "for event in m[m.nMuons==2]:\n",
    "    tracks = event[\"Muon\"].to_list()\n",
    "    i = 0\n",
    "    for t in tracks:\n",
    "        momentum[i] = mag(t[\"Px\"], t[\"Py\"], t[\"Pz\"])\n",
    "        energy[i] = t[\"E\"]\n",
    "        if (t[\"Charge\"] == 1):\n",
    "            charge[i] = 1\n",
    "        elif (t[\"Charge\"] == -1):\n",
    "            charge[i] = -1\n",
    "        i += 1\n",
    "    if charge[0] != charge[1]:\n",
    "        totalMomentum = np.sum(momentum)\n",
    "        totalEnergy = np.sum(energy)\n",
    "        invariantMass = np.append(invariantMass, invMass(totalMomentum, totalEnergy))\n",
    "            \n",
    "fig = plt.figure(figsize=(5,3))\n",
    "axes = fig.add_axes([0.1,0.1,0.9,0.9])\n",
    "axes.set_title(\"$T_\\perp$ distribution of muon tracks\")\n",
    "axes.set_xlabel(\"$T_\\perp$\")\n",
    "axes.set_ylabel(\"# of tracks\")\n",
    "axes.set_yscale(\"log\")\n",
    "axes.hist(invariantMass,bins=100,label=\"$\\mu^+{}$\",color='coral',histtype='step');\n",
    "axes.legend();"
   ]
  },
  {
   "cell_type": "code",
   "execution_count": null,
   "id": "009ba4ba-ae52-4ff3-a8f7-5af434bcea0d",
   "metadata": {},
   "outputs": [],
   "source": [
    "import uproot\n",
    "import awkward as ak\n",
    "import numpy as np\n",
    "import matplotlib\n",
    "import matplotlib.pyplot as plt\n",
    "import math\n",
    "import hist\n",
    "import vector\n",
    "\n",
    "!curl 'https://cernbox.cern.ch/remote.php/dav/public-files/JIjQaAYEQnmRDkX/290223/AnalysisResults.root' > run290223.data.root\n",
    "\n",
    "!file *.root\n",
    "file = uproot.open(\"run290223.data.root\")\n",
    "\n",
    "events = file[\"eventsTree\"]\n",
    "\n",
    "c = 299792458\n",
    "\n",
    "m = events.arrays([\"nMuons\",\"Muon_Px\",\"Muon_Py\",\"Muon_Pz\", \"Muon_E\", \"Muon_Charge\"],how=\"zip\",entry_stop=10000)\n",
    "\n",
    "transverseMomentum = np.array([],dtype=float)\n",
    "for event in m[m.nMuons>0]:\n",
    "    tracks = event[\"Muon\"].to_list()\n",
    "    for t in tracks:\n",
    "        transverseMomentum = np.append(transverseMomentum, t[\"Pz\"])\n",
    "plt.hist(transverseMomentum, bins=1000);"
   ]
  },
  {
   "cell_type": "code",
   "execution_count": null,
   "id": "22e5b2c8-39b6-4604-8dad-e831215923f7",
   "metadata": {},
   "outputs": [],
   "source": []
  }
 ],
 "metadata": {
  "kernelspec": {
   "display_name": "Python 3 (ipykernel)",
   "language": "python",
   "name": "python3"
  },
  "language_info": {
   "codemirror_mode": {
    "name": "ipython",
    "version": 3
   },
   "file_extension": ".py",
   "mimetype": "text/x-python",
   "name": "python",
   "nbconvert_exporter": "python",
   "pygments_lexer": "ipython3",
   "version": "3.10.8"
  }
 },
 "nbformat": 4,
 "nbformat_minor": 5
}
