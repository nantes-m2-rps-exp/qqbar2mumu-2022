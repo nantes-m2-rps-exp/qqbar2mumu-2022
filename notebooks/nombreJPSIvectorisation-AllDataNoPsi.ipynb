{
 "cells": [
  {
   "cell_type": "code",
   "execution_count": 1,
   "id": "f1f255ac-be8b-44c9-bc03-5069ced98648",
   "metadata": {},
   "outputs": [],
   "source": [
    "import uproot\n",
    "import awkward as ak\n",
    "import numpy as np\n",
    "import math\n",
    "import hist\n",
    "import matplotlib.pyplot as plt\n",
    "import os\n",
    "import subprocess\n",
    "import vector\n",
    "from scipy.optimize import curve_fit\n",
    "from scipy.integrate import quad"
   ]
  },
  {
   "cell_type": "code",
   "execution_count": 2,
   "id": "5c005c95-852b-4dc9-8f5e-3d4a7a9e32f9",
   "metadata": {},
   "outputs": [],
   "source": [
    "vector.register_awkward() "
   ]
  },
  {
   "cell_type": "code",
   "execution_count": 3,
   "id": "1b02fb2c-8ec3-48b0-978d-f021c4be1ce6",
   "metadata": {},
   "outputs": [],
   "source": [
    "DATATYPE=\"data\"\n",
    "assert((DATATYPE==\"mc\") or (DATATYPE==\"data\"))\n",
    "BASEDIR=\"../data_dl\" # basedir where to look for runXXX.DATATYPE.root files\n",
    "IS_MC=True if DATATYPE==\"mc\" else False"
   ]
  },
  {
   "cell_type": "code",
   "execution_count": 4,
   "id": "4ee179bd-4476-4cb5-941c-f5589bf73c47",
   "metadata": {},
   "outputs": [],
   "source": [
    "#!curl 'https://cernbox.cern.ch/remote.php/dav/public-files/JIjQaAYEQnmRDkX/291694/AnalysisResults.root' > run291694.data.root\n"
   ]
  },
  {
   "cell_type": "code",
   "execution_count": 5,
   "id": "aa0c40ef-371c-4c9a-a50f-5c3631e9fc74",
   "metadata": {},
   "outputs": [
    {
     "name": "stdout",
     "output_type": "stream",
     "text": [
      "run290223.data.root: ROOT file Version 62406 (Compression: 1)\n",
      "run291694.data.root: ROOT file Version 61600 (Compression: 1)\n",
      "run291694.mc.root:   ROOT file Version 61600 (Compression: 1)\n",
      "name                 | typename                 | interpretation                \n",
      "---------------------+--------------------------+-------------------------------\n",
      "runNumber            | int32_t                  | AsDtype('>i4')\n",
      "xVtx                 | double                   | AsDtype('>f8')\n",
      "yVtx                 | double                   | AsDtype('>f8')\n",
      "zVtx                 | double                   | AsDtype('>f8')\n",
      "isCINT               | bool                     | AsDtype('bool')\n",
      "isCMSL               | bool                     | AsDtype('bool')\n",
      "isCMSH               | bool                     | AsDtype('bool')\n",
      "isCMLL               | bool                     | AsDtype('bool')\n",
      "isCMUL               | bool                     | AsDtype('bool')\n",
      "nMuons               | int32_t                  | AsDtype('>i4')\n",
      "Muon_E               | std::vector<float>       | AsJagged(AsDtype('>f4'), he...\n",
      "Muon_Px              | std::vector<float>       | AsJagged(AsDtype('>f4'), he...\n",
      "Muon_Py              | std::vector<float>       | AsJagged(AsDtype('>f4'), he...\n",
      "Muon_Pz              | std::vector<float>       | AsJagged(AsDtype('>f4'), he...\n",
      "Muon_Charge          | std::vector<int16_t>     | AsJagged(AsDtype('>i2'), he...\n",
      "Muon_thetaAbs        | std::vector<float>       | AsJagged(AsDtype('>f4'), he...\n",
      "Muon_xDCA            | std::vector<double>      | AsJagged(AsDtype('>f8'), he...\n",
      "Muon_yDCA            | std::vector<double>      | AsJagged(AsDtype('>f8'), he...\n",
      "Muon_zDCA            | std::vector<double>      | AsJagged(AsDtype('>f8'), he...\n",
      "Muon_matchedTrgTh... | std::vector<int32_t>     | AsJagged(AsDtype('>i4'), he...\n",
      "Muon_MCHClusterMap   | std::vector<uint32_t>    | AsJagged(AsDtype('>u4'), he...\n",
      "Muon_MTRHitMapTrg    | std::vector<uint32_t>    | AsJagged(AsDtype('>u4'), he...\n",
      "Muon_MTRHitMapTrk    | std::vector<uint32_t>    | AsJagged(AsDtype('>u4'), he...\n"
     ]
    }
   ],
   "source": [
    "!file *.root\n",
    "file = uproot.open(\"run291694.data.root\")\n",
    "file.keys()\n",
    "events = file[\"eventsTree\"]\n",
    "events.show()"
   ]
  },
  {
   "cell_type": "code",
   "execution_count": 6,
   "id": "9773cc38-d94d-4443-9bdb-69d7672c1cc7",
   "metadata": {},
   "outputs": [
    {
     "name": "stdout",
     "output_type": "stream",
     "text": [
      "Nombre total d'évènements avec au moins 2 muons :  109729\n"
     ]
    }
   ],
   "source": [
    "n=0\n",
    "for m in events.iterate([\"nMuons\",\"Muon_Px\",\"Muon_Py\",\"Muon_Pz\",\"Muon_Charge\",\"Muon_E\"],how=\"zip\",step_size=10000):\n",
    "    #Nombre d'évènements avec au moins 2 muons pour chaque lot de 10000 évènements\n",
    "    #print(len(m),len(m[ak.where(m.nMuons>1)])) \n",
    "    n+=len(m[ak.where(m.nMuons>1)])\n",
    "print(\"Nombre total d'évènements avec au moins 2 muons : \",n)"
   ]
  },
  {
   "cell_type": "code",
   "execution_count": 7,
   "id": "2f02e88b-98b5-4791-892a-23ba3ebc25ed",
   "metadata": {},
   "outputs": [],
   "source": [
    "def getTracks(events):\n",
    "    return ak.zip({\"px\":events[\"Muon_Px\"],\n",
    "                       \"py\":events[\"Muon_Py\"],\n",
    "                       \"pz\":events[\"Muon_Pz\"],\n",
    "                       \"E\":events[\"Muon_E\"],\n",
    "                       \"charge\":events[\"Muon_Charge\"],\n",
    "                       \"thetaAbs\":events[\"Muon_thetaAbs\"],\n",
    "                       \"matched\":events[\"Muon_matchedTrgThreshold\"]},\n",
    "                    with_name='Momentum4D')"
   ]
  },
  {
   "cell_type": "code",
   "execution_count": 8,
   "id": "83bed0b1-8470-40ae-8749-dd1d51d311c5",
   "metadata": {},
   "outputs": [],
   "source": [
    "#CrystalBall2 prend en argument une liste de valeurs de x\n",
    "def CrystalBall2(x, mu, sigma, alpha, alphabis, n, nbis, N):\n",
    "    A = ((n/np.abs(alpha))**n)*np.exp(-(np.abs(alpha)**2)/2.)\n",
    "    B = (n/np.abs(alpha))-np.abs(alpha)\n",
    "    C = ((nbis/np.abs(alphabis))**n)*np.exp(-(np.abs(alphabis)**2)/2.)\n",
    "    D = (nbis/np.abs(alphabis))-np.abs(alphabis)\n",
    "    y = np.array([], dtype=float)\n",
    "    for i in x:\n",
    "        if(((i-mu)/sigma > alpha) and ((i-mu)/sigma < alphabis)):\n",
    "            y = np.append(y, np.exp(-((i-mu)**2)/(2*sigma**2)))\n",
    "        elif ((i-mu)/sigma < alpha):\n",
    "            y = np.append(y, A*((B- (i -mu)/(sigma))**(-n)))\n",
    "        elif((i-mu)/sigma > alphabis):\n",
    "            y = np.append(y, C*((D+ (i -mu)/(sigma))**(-nbis)))\n",
    "        else:\n",
    "            y = np.append(y, 0.)\n",
    "    return y*N\n",
    "\n",
    "#CrystalBall2_2 prend en argument une valeur de x\n",
    "def CrystalBall2_2(i, mu, sigma, alpha, alphabis, n, nbis, N):\n",
    "    A = ((n/np.abs(alpha))**n)*np.exp(-(np.abs(alpha)**2)/2.)\n",
    "    B = (n/np.abs(alpha))-np.abs(alpha)\n",
    "    C = ((nbis/np.abs(alphabis))**n)*np.exp(-(np.abs(alphabis)**2)/2.)\n",
    "    D = (nbis/np.abs(alphabis))-np.abs(alphabis)\n",
    "    y = np.array([], dtype=float)\n",
    "    if(((i-mu)/sigma > alpha) and ((i-mu)/sigma < alphabis)):\n",
    "        y = np.exp(-((i-mu)**2)/(2*sigma**2))\n",
    "    elif ((i-mu)/sigma < alpha):\n",
    "        y = A*((B- (i -mu)/(sigma))**(-n))\n",
    "    elif((i-mu)/sigma > alphabis):\n",
    "        y = C*((D+ (i -mu)/(sigma))**(-nbis))\n",
    "    return y*N"
   ]
  },
  {
   "cell_type": "code",
   "execution_count": 9,
   "id": "5a1e70ff-1e31-4c89-b3db-de3bde88678c",
   "metadata": {},
   "outputs": [],
   "source": [
    "def NoiseVWG(x, mu, alpha, beta, N):\n",
    "    y = np.array([], dtype=float)\n",
    "    for i in x:\n",
    "        sigma = alpha + beta*((i-mu)/mu)\n",
    "        y = np.append(y, N * np.exp(-((i-mu)**2)/(2*sigma**2)))\n",
    "    return y"
   ]
  },
  {
   "cell_type": "code",
   "execution_count": 10,
   "id": "e59c96f6-975e-45f3-b26b-1a5995de4671",
   "metadata": {},
   "outputs": [],
   "source": [
    "def CB2withNoise(x, mu_CB2, sigma_CB2, N_CB2, mu_DE, alpha_DE, beta ,N_DE): #x est une liste\n",
    "    #alpha,alphabis,n,nbis=-7.16686241e-01,2.28952917e+00,4.41736692e+00,2.61183775e+00\n",
    "    #return CrystalBall2(x, mu_CB2, sigma, alpha, alphabis, n, nbis, N_CB2) + NoiseVWG(x, mu_DE, alpha_DE, beta, N_DE)\n",
    "    alpha, alphabis, n, nbis=-7.16686241e-01,2.28952917e+00,4.41736692e+00,2.61183775e+00\n",
    "    #mu_DE, alpha_DE, beta = 6.29517373e-07, 4.91666545e-01, 1.19404276e-07\n",
    "    return CrystalBall2(x, mu_CB2, sigma_CB2, alpha, alphabis, n, nbis, N_CB2) + NoiseVWG(x, mu_DE, alpha_DE, beta, N_DE)"
   ]
  },
  {
   "cell_type": "code",
   "execution_count": 11,
   "id": "29b79c21-9dac-4402-b630-69aad386b200",
   "metadata": {},
   "outputs": [],
   "source": [
    "def scan(dataDescription, \n",
    "              hInvMass:hist.Hist, hQualInvMass:hist.Hist,\n",
    "              eventSelector=lambda x:[True]*len(x),\n",
    "              trackSelector=lambda x:[True]*len(x),\n",
    "              verbose:bool=False):\n",
    "    \"\"\" Loop over data to fill the invariant mass histogram.\n",
    "        \n",
    "        :param: dataDescription: is anything uproot.iterate can take.\n",
    "                typical something like run*.data.root:eventsTree in our case\n",
    "        :param: eventSelector: returns an array of bool from an array of events\n",
    "        :param: trackSelector: returns an array of bool from an array of tracks\n",
    "    \"\"\"\n",
    "\n",
    "    for batch in uproot.iterate(dataDescription,\n",
    "                                [\"isCINT\",\"isCMUL\",\"isCMSL\",\"Muon_Px\",\"Muon_Py\",\"Muon_Pz\",\"Muon_E\",\"Muon_Charge\",\"Muon_thetaAbs\",\"Muon_matchedTrgThreshold\"],                                \n",
    "                                 step_size=\"100 MB\", report=True):\n",
    "        events=batch[0] # batch[1] is the report info\n",
    "        if len(events) < 1000:\n",
    "            print(\"something is wrong\",batch[0:5]) # this is a protection for some corrupted input data files \n",
    "            break\n",
    "            \n",
    "        goodEvents = events[eventSelector(events)] #selection des évènements CMUL\n",
    "        tracks = getTracks(events) #on utilise la fonction getTracks définie précédemment\n",
    "        goodTracks=tracks[trackSelector(tracks)] #selection des évènements (eta, theta et trigger)\n",
    "        \n",
    "        #pairs = ak.combinations(goodTracks, 2)\n",
    "        #one, two = ak.unzip(pairs)\n",
    "        #rapidity_cut = (abs(one.eta<4)) & (abs(one.eta>2))\n",
    "        #opposite_charge_cut = (one.charge + two.charge == 0) & (abs(one.eta<2))\n",
    "        #quality_one = one[opposite_charge_cut]\n",
    "        #quality_two = two[opposite_charge_cut]\n",
    "        #invariant_mass = (quality_one + quality_two).mass\n",
    "        \n",
    "        pairs = ak.combinations(goodTracks, 2) #toutes les combinaisons de 2 traces\n",
    "        one, two = ak.unzip(pairs)\n",
    "        quality_one, quality_two = ak.unzip(pairs[(one.charge + two.charge == 0) & (abs(one.eta) <4) & (abs(one.eta)>2.5) \n",
    "                                                 & (abs(two.eta)<4) & (abs(two.eta)>2.5)]) #selection pairs signes opposées et y dans l'acceptance\n",
    "        invariant_mass = (one + two).mass #masse invariante sans distinction des good pairs\n",
    "        quality_invariant_mass = (quality_one + quality_two).mass #masse invariante avec correction\n",
    "    \n",
    "        hInvMass.fill(ak.flatten(invariant_mass))\n",
    "        hQualInvMass.fill(ak.flatten(quality_invariant_mass))\n",
    "\n",
    "\n",
    "        if verbose:\n",
    "            print(batch[1])"
   ]
  },
  {
   "cell_type": "code",
   "execution_count": 12,
   "id": "113fd41c-dc38-427f-af4e-1ed738ce115d",
   "metadata": {},
   "outputs": [
    {
     "ename": "KeyboardInterrupt",
     "evalue": "",
     "output_type": "error",
     "traceback": [
      "\u001b[0;31m---------------------------------------------------------------------------\u001b[0m",
      "\u001b[0;31mKeyboardInterrupt\u001b[0m                         Traceback (most recent call last)",
      "File \u001b[0;32m<timed exec>:9\u001b[0m\n",
      "Cell \u001b[0;32mIn [11], line 14\u001b[0m, in \u001b[0;36mscan\u001b[0;34m(dataDescription, hInvMass, hQualInvMass, eventSelector, trackSelector, verbose)\u001b[0m\n\u001b[1;32m      1\u001b[0m \u001b[38;5;28;01mdef\u001b[39;00m \u001b[38;5;21mscan\u001b[39m(dataDescription, \n\u001b[1;32m      2\u001b[0m               hInvMass:hist\u001b[38;5;241m.\u001b[39mHist, hQualInvMass:hist\u001b[38;5;241m.\u001b[39mHist,\n\u001b[1;32m      3\u001b[0m               eventSelector\u001b[38;5;241m=\u001b[39m\u001b[38;5;28;01mlambda\u001b[39;00m x:[\u001b[38;5;28;01mTrue\u001b[39;00m]\u001b[38;5;241m*\u001b[39m\u001b[38;5;28mlen\u001b[39m(x),\n\u001b[1;32m      4\u001b[0m               trackSelector\u001b[38;5;241m=\u001b[39m\u001b[38;5;28;01mlambda\u001b[39;00m x:[\u001b[38;5;28;01mTrue\u001b[39;00m]\u001b[38;5;241m*\u001b[39m\u001b[38;5;28mlen\u001b[39m(x),\n\u001b[1;32m      5\u001b[0m               verbose:\u001b[38;5;28mbool\u001b[39m\u001b[38;5;241m=\u001b[39m\u001b[38;5;28;01mFalse\u001b[39;00m):\n\u001b[1;32m      6\u001b[0m     \u001b[38;5;124;03m\"\"\" Loop over data to fill the invariant mass histogram.\u001b[39;00m\n\u001b[1;32m      7\u001b[0m \u001b[38;5;124;03m        \u001b[39;00m\n\u001b[1;32m      8\u001b[0m \u001b[38;5;124;03m        :param: dataDescription: is anything uproot.iterate can take.\u001b[39;00m\n\u001b[0;32m   (...)\u001b[0m\n\u001b[1;32m     11\u001b[0m \u001b[38;5;124;03m        :param: trackSelector: returns an array of bool from an array of tracks\u001b[39;00m\n\u001b[1;32m     12\u001b[0m \u001b[38;5;124;03m    \"\"\"\u001b[39;00m\n\u001b[0;32m---> 14\u001b[0m     \u001b[38;5;28;01mfor\u001b[39;00m batch \u001b[38;5;129;01min\u001b[39;00m uproot\u001b[38;5;241m.\u001b[39miterate(dataDescription,\n\u001b[1;32m     15\u001b[0m                                 [\u001b[38;5;124m\"\u001b[39m\u001b[38;5;124misCINT\u001b[39m\u001b[38;5;124m\"\u001b[39m,\u001b[38;5;124m\"\u001b[39m\u001b[38;5;124misCMUL\u001b[39m\u001b[38;5;124m\"\u001b[39m,\u001b[38;5;124m\"\u001b[39m\u001b[38;5;124misCMSL\u001b[39m\u001b[38;5;124m\"\u001b[39m,\u001b[38;5;124m\"\u001b[39m\u001b[38;5;124mMuon_Px\u001b[39m\u001b[38;5;124m\"\u001b[39m,\u001b[38;5;124m\"\u001b[39m\u001b[38;5;124mMuon_Py\u001b[39m\u001b[38;5;124m\"\u001b[39m,\u001b[38;5;124m\"\u001b[39m\u001b[38;5;124mMuon_Pz\u001b[39m\u001b[38;5;124m\"\u001b[39m,\u001b[38;5;124m\"\u001b[39m\u001b[38;5;124mMuon_E\u001b[39m\u001b[38;5;124m\"\u001b[39m,\u001b[38;5;124m\"\u001b[39m\u001b[38;5;124mMuon_Charge\u001b[39m\u001b[38;5;124m\"\u001b[39m,\u001b[38;5;124m\"\u001b[39m\u001b[38;5;124mMuon_thetaAbs\u001b[39m\u001b[38;5;124m\"\u001b[39m,\u001b[38;5;124m\"\u001b[39m\u001b[38;5;124mMuon_matchedTrgThreshold\u001b[39m\u001b[38;5;124m\"\u001b[39m],                                \n\u001b[1;32m     16\u001b[0m                                  step_size\u001b[38;5;241m=\u001b[39m\u001b[38;5;124m\"\u001b[39m\u001b[38;5;124m100 MB\u001b[39m\u001b[38;5;124m\"\u001b[39m, report\u001b[38;5;241m=\u001b[39m\u001b[38;5;28;01mTrue\u001b[39;00m):\n\u001b[1;32m     17\u001b[0m         events\u001b[38;5;241m=\u001b[39mbatch[\u001b[38;5;241m0\u001b[39m] \u001b[38;5;66;03m# batch[1] is the report info\u001b[39;00m\n\u001b[1;32m     18\u001b[0m         \u001b[38;5;28;01mif\u001b[39;00m \u001b[38;5;28mlen\u001b[39m(events) \u001b[38;5;241m<\u001b[39m \u001b[38;5;241m1000\u001b[39m:\n",
      "File \u001b[0;32m~/miniforge3/envs/qqbar2mumu/lib/python3.10/site-packages/uproot/behaviors/TBranch.py:205\u001b[0m, in \u001b[0;36miterate\u001b[0;34m(files, expressions, cut, filter_name, filter_typename, filter_branch, aliases, language, step_size, decompression_executor, interpretation_executor, library, how, report, custom_classes, allow_missing, **options)\u001b[0m\n\u001b[1;32m    203\u001b[0m \u001b[38;5;28;01mwith\u001b[39;00m hasbranches:\n\u001b[1;32m    204\u001b[0m     \u001b[38;5;28;01mtry\u001b[39;00m:\n\u001b[0;32m--> 205\u001b[0m         \u001b[38;5;28;01mfor\u001b[39;00m item \u001b[38;5;129;01min\u001b[39;00m hasbranches\u001b[38;5;241m.\u001b[39miterate(\n\u001b[1;32m    206\u001b[0m             expressions\u001b[38;5;241m=\u001b[39mexpressions,\n\u001b[1;32m    207\u001b[0m             cut\u001b[38;5;241m=\u001b[39mcut,\n\u001b[1;32m    208\u001b[0m             filter_name\u001b[38;5;241m=\u001b[39mfilter_name,\n\u001b[1;32m    209\u001b[0m             filter_typename\u001b[38;5;241m=\u001b[39mfilter_typename,\n\u001b[1;32m    210\u001b[0m             filter_branch\u001b[38;5;241m=\u001b[39mfilter_branch,\n\u001b[1;32m    211\u001b[0m             aliases\u001b[38;5;241m=\u001b[39maliases,\n\u001b[1;32m    212\u001b[0m             language\u001b[38;5;241m=\u001b[39mlanguage,\n\u001b[1;32m    213\u001b[0m             step_size\u001b[38;5;241m=\u001b[39mstep_size,\n\u001b[1;32m    214\u001b[0m             decompression_executor\u001b[38;5;241m=\u001b[39mdecompression_executor,\n\u001b[1;32m    215\u001b[0m             interpretation_executor\u001b[38;5;241m=\u001b[39minterpretation_executor,\n\u001b[1;32m    216\u001b[0m             library\u001b[38;5;241m=\u001b[39mlibrary,\n\u001b[1;32m    217\u001b[0m             how\u001b[38;5;241m=\u001b[39mhow,\n\u001b[1;32m    218\u001b[0m             report\u001b[38;5;241m=\u001b[39mreport,\n\u001b[1;32m    219\u001b[0m         ):\n\u001b[1;32m    220\u001b[0m             \u001b[38;5;28;01mif\u001b[39;00m report:\n\u001b[1;32m    221\u001b[0m                 arrays, report \u001b[38;5;241m=\u001b[39m item\n",
      "File \u001b[0;32m~/miniforge3/envs/qqbar2mumu/lib/python3.10/site-packages/uproot/behaviors/TBranch.py:1370\u001b[0m, in \u001b[0;36mHasBranches.iterate\u001b[0;34m(self, expressions, cut, filter_name, filter_typename, filter_branch, aliases, language, entry_start, entry_stop, step_size, decompression_executor, interpretation_executor, library, how, report)\u001b[0m\n\u001b[1;32m   1365\u001b[0m                     ranges_or_baskets\u001b[38;5;241m.\u001b[39mappend(\n\u001b[1;32m   1366\u001b[0m                         (branch, basket_num, previous_basket)\n\u001b[1;32m   1367\u001b[0m                     )\n\u001b[1;32m   1369\u001b[0m arrays \u001b[38;5;241m=\u001b[39m {}\n\u001b[0;32m-> 1370\u001b[0m \u001b[43m_ranges_or_baskets_to_arrays\u001b[49m\u001b[43m(\u001b[49m\n\u001b[1;32m   1371\u001b[0m \u001b[43m    \u001b[49m\u001b[38;5;28;43mself\u001b[39;49m\u001b[43m,\u001b[49m\n\u001b[1;32m   1372\u001b[0m \u001b[43m    \u001b[49m\u001b[43mranges_or_baskets\u001b[49m\u001b[43m,\u001b[49m\n\u001b[1;32m   1373\u001b[0m \u001b[43m    \u001b[49m\u001b[43mbranchid_interpretation\u001b[49m\u001b[43m,\u001b[49m\n\u001b[1;32m   1374\u001b[0m \u001b[43m    \u001b[49m\u001b[43msub_entry_start\u001b[49m\u001b[43m,\u001b[49m\n\u001b[1;32m   1375\u001b[0m \u001b[43m    \u001b[49m\u001b[43msub_entry_stop\u001b[49m\u001b[43m,\u001b[49m\n\u001b[1;32m   1376\u001b[0m \u001b[43m    \u001b[49m\u001b[43mdecompression_executor\u001b[49m\u001b[43m,\u001b[49m\n\u001b[1;32m   1377\u001b[0m \u001b[43m    \u001b[49m\u001b[43minterpretation_executor\u001b[49m\u001b[43m,\u001b[49m\n\u001b[1;32m   1378\u001b[0m \u001b[43m    \u001b[49m\u001b[43mlibrary\u001b[49m\u001b[43m,\u001b[49m\n\u001b[1;32m   1379\u001b[0m \u001b[43m    \u001b[49m\u001b[43marrays\u001b[49m\u001b[43m,\u001b[49m\n\u001b[1;32m   1380\u001b[0m \u001b[43m    \u001b[49m\u001b[38;5;28;43;01mTrue\u001b[39;49;00m\u001b[43m,\u001b[49m\n\u001b[1;32m   1381\u001b[0m \u001b[43m\u001b[49m\u001b[43m)\u001b[49m\n\u001b[1;32m   1383\u001b[0m _fix_asgrouped(\n\u001b[1;32m   1384\u001b[0m     arrays, expression_context, branchid_interpretation, library, how\n\u001b[1;32m   1385\u001b[0m )\n\u001b[1;32m   1387\u001b[0m output \u001b[38;5;241m=\u001b[39m language\u001b[38;5;241m.\u001b[39mcompute_expressions(\n\u001b[1;32m   1388\u001b[0m     \u001b[38;5;28mself\u001b[39m,\n\u001b[1;32m   1389\u001b[0m     arrays,\n\u001b[0;32m   (...)\u001b[0m\n\u001b[1;32m   1394\u001b[0m     \u001b[38;5;28mself\u001b[39m\u001b[38;5;241m.\u001b[39mobject_path,\n\u001b[1;32m   1395\u001b[0m )\n",
      "File \u001b[0;32m~/miniforge3/envs/qqbar2mumu/lib/python3.10/site-packages/uproot/behaviors/TBranch.py:3512\u001b[0m, in \u001b[0;36m_ranges_or_baskets_to_arrays\u001b[0;34m(hasbranches, ranges_or_baskets, branchid_interpretation, entry_start, entry_stop, decompression_executor, interpretation_executor, library, arrays, update_ranges_or_baskets)\u001b[0m\n\u001b[1;32m   3510\u001b[0m \u001b[38;5;28;01mif\u001b[39;00m \u001b[38;5;28misinstance\u001b[39m(obj, uproot\u001b[38;5;241m.\u001b[39msource\u001b[38;5;241m.\u001b[39mchunk\u001b[38;5;241m.\u001b[39mChunk):\n\u001b[1;32m   3511\u001b[0m     args \u001b[38;5;241m=\u001b[39m range_args[(obj\u001b[38;5;241m.\u001b[39mstart, obj\u001b[38;5;241m.\u001b[39mstop)]\n\u001b[0;32m-> 3512\u001b[0m     \u001b[43mdecompression_executor\u001b[49m\u001b[38;5;241;43m.\u001b[39;49m\u001b[43msubmit\u001b[49m\u001b[43m(\u001b[49m\u001b[43mchunk_to_basket\u001b[49m\u001b[43m,\u001b[49m\u001b[43m \u001b[49m\u001b[43mobj\u001b[49m\u001b[43m,\u001b[49m\u001b[43m \u001b[49m\u001b[38;5;241;43m*\u001b[39;49m\u001b[43margs\u001b[49m\u001b[43m)\u001b[49m\n\u001b[1;32m   3514\u001b[0m \u001b[38;5;28;01melif\u001b[39;00m \u001b[38;5;28misinstance\u001b[39m(obj, uproot\u001b[38;5;241m.\u001b[39mmodels\u001b[38;5;241m.\u001b[39mTBasket\u001b[38;5;241m.\u001b[39mModel_TBasket):\n\u001b[1;32m   3515\u001b[0m     interpretation_executor\u001b[38;5;241m.\u001b[39msubmit(basket_to_array, obj)\n",
      "File \u001b[0;32m~/miniforge3/envs/qqbar2mumu/lib/python3.10/site-packages/uproot/source/futures.py:83\u001b[0m, in \u001b[0;36mTrivialExecutor.submit\u001b[0;34m(self, task, *args)\u001b[0m\n\u001b[1;32m     79\u001b[0m \u001b[38;5;28;01mdef\u001b[39;00m \u001b[38;5;21msubmit\u001b[39m(\u001b[38;5;28mself\u001b[39m, task, \u001b[38;5;241m*\u001b[39margs):\n\u001b[1;32m     80\u001b[0m     \u001b[38;5;124;03m\"\"\"\u001b[39;00m\n\u001b[1;32m     81\u001b[0m \u001b[38;5;124;03m    Immediately runs ``task(*args)``.\u001b[39;00m\n\u001b[1;32m     82\u001b[0m \u001b[38;5;124;03m    \"\"\"\u001b[39;00m\n\u001b[0;32m---> 83\u001b[0m     \u001b[38;5;28;01mreturn\u001b[39;00m TrivialFuture(\u001b[43mtask\u001b[49m\u001b[43m(\u001b[49m\u001b[38;5;241;43m*\u001b[39;49m\u001b[43margs\u001b[49m\u001b[43m)\u001b[49m)\n",
      "File \u001b[0;32m~/miniforge3/envs/qqbar2mumu/lib/python3.10/site-packages/uproot/behaviors/TBranch.py:3442\u001b[0m, in \u001b[0;36m_ranges_or_baskets_to_arrays.<locals>.chunk_to_basket\u001b[0;34m(chunk, branch, basket_num)\u001b[0m\n\u001b[1;32m   3440\u001b[0m \u001b[38;5;28;01mtry\u001b[39;00m:\n\u001b[1;32m   3441\u001b[0m     cursor \u001b[38;5;241m=\u001b[39m uproot\u001b[38;5;241m.\u001b[39msource\u001b[38;5;241m.\u001b[39mcursor\u001b[38;5;241m.\u001b[39mCursor(chunk\u001b[38;5;241m.\u001b[39mstart)\n\u001b[0;32m-> 3442\u001b[0m     basket \u001b[38;5;241m=\u001b[39m \u001b[43muproot\u001b[49m\u001b[38;5;241;43m.\u001b[39;49m\u001b[43mmodels\u001b[49m\u001b[38;5;241;43m.\u001b[39;49m\u001b[43mTBasket\u001b[49m\u001b[38;5;241;43m.\u001b[39;49m\u001b[43mModel_TBasket\u001b[49m\u001b[38;5;241;43m.\u001b[39;49m\u001b[43mread\u001b[49m\u001b[43m(\u001b[49m\n\u001b[1;32m   3443\u001b[0m \u001b[43m        \u001b[49m\u001b[43mchunk\u001b[49m\u001b[43m,\u001b[49m\n\u001b[1;32m   3444\u001b[0m \u001b[43m        \u001b[49m\u001b[43mcursor\u001b[49m\u001b[43m,\u001b[49m\n\u001b[1;32m   3445\u001b[0m \u001b[43m        \u001b[49m\u001b[43m{\u001b[49m\u001b[38;5;124;43m\"\u001b[39;49m\u001b[38;5;124;43mbasket_num\u001b[39;49m\u001b[38;5;124;43m\"\u001b[39;49m\u001b[43m:\u001b[49m\u001b[43m \u001b[49m\u001b[43mbasket_num\u001b[49m\u001b[43m}\u001b[49m\u001b[43m,\u001b[49m\n\u001b[1;32m   3446\u001b[0m \u001b[43m        \u001b[49m\u001b[43mhasbranches\u001b[49m\u001b[38;5;241;43m.\u001b[39;49m\u001b[43m_file\u001b[49m\u001b[43m,\u001b[49m\n\u001b[1;32m   3447\u001b[0m \u001b[43m        \u001b[49m\u001b[43mhasbranches\u001b[49m\u001b[38;5;241;43m.\u001b[39;49m\u001b[43m_file\u001b[49m\u001b[43m,\u001b[49m\n\u001b[1;32m   3448\u001b[0m \u001b[43m        \u001b[49m\u001b[43mbranch\u001b[49m\u001b[43m,\u001b[49m\n\u001b[1;32m   3449\u001b[0m \u001b[43m    \u001b[49m\u001b[43m)\u001b[49m\n\u001b[1;32m   3450\u001b[0m     original_index \u001b[38;5;241m=\u001b[39m range_original_index[(chunk\u001b[38;5;241m.\u001b[39mstart, chunk\u001b[38;5;241m.\u001b[39mstop)]\n\u001b[1;32m   3451\u001b[0m     \u001b[38;5;28;01mif\u001b[39;00m update_ranges_or_baskets:\n",
      "File \u001b[0;32m~/miniforge3/envs/qqbar2mumu/lib/python3.10/site-packages/uproot/model.py:821\u001b[0m, in \u001b[0;36mModel.read\u001b[0;34m(cls, chunk, cursor, context, file, selffile, parent, concrete)\u001b[0m\n\u001b[1;32m    816\u001b[0m \u001b[38;5;28;01mif\u001b[39;00m context\u001b[38;5;241m.\u001b[39mget(\u001b[38;5;124m\"\u001b[39m\u001b[38;5;124mreading\u001b[39m\u001b[38;5;124m\"\u001b[39m, \u001b[38;5;28;01mTrue\u001b[39;00m):\n\u001b[1;32m    817\u001b[0m     \u001b[38;5;28mself\u001b[39m\u001b[38;5;241m.\u001b[39mhook_before_read_members(\n\u001b[1;32m    818\u001b[0m         chunk\u001b[38;5;241m=\u001b[39mchunk, cursor\u001b[38;5;241m=\u001b[39mcursor, context\u001b[38;5;241m=\u001b[39mcontext, file\u001b[38;5;241m=\u001b[39mfile\n\u001b[1;32m    819\u001b[0m     )\n\u001b[0;32m--> 821\u001b[0m     \u001b[38;5;28;43mself\u001b[39;49m\u001b[38;5;241;43m.\u001b[39;49m\u001b[43mread_members\u001b[49m\u001b[43m(\u001b[49m\u001b[43mchunk\u001b[49m\u001b[43m,\u001b[49m\u001b[43m \u001b[49m\u001b[43mcursor\u001b[49m\u001b[43m,\u001b[49m\u001b[43m \u001b[49m\u001b[43mcontext\u001b[49m\u001b[43m,\u001b[49m\u001b[43m \u001b[49m\u001b[43mfile\u001b[49m\u001b[43m)\u001b[49m\n\u001b[1;32m    823\u001b[0m     \u001b[38;5;28mself\u001b[39m\u001b[38;5;241m.\u001b[39mhook_after_read_members(\n\u001b[1;32m    824\u001b[0m         chunk\u001b[38;5;241m=\u001b[39mchunk, cursor\u001b[38;5;241m=\u001b[39mcursor, context\u001b[38;5;241m=\u001b[39mcontext, file\u001b[38;5;241m=\u001b[39mfile\n\u001b[1;32m    825\u001b[0m     )\n\u001b[1;32m    827\u001b[0m \u001b[38;5;28mself\u001b[39m\u001b[38;5;241m.\u001b[39mcheck_numbytes(chunk, cursor, context)\n",
      "File \u001b[0;32m~/miniforge3/envs/qqbar2mumu/lib/python3.10/site-packages/uproot/models/TBasket.py:314\u001b[0m, in \u001b[0;36mModel_TBasket.read_members\u001b[0;34m(self, chunk, cursor, context, file)\u001b[0m\n\u001b[1;32m    312\u001b[0m     \u001b[38;5;28mself\u001b[39m\u001b[38;5;241m.\u001b[39m_byte_offsets \u001b[38;5;241m=\u001b[39m raw_byte_offsets[\u001b[38;5;241m1\u001b[39m:] \u001b[38;5;241m-\u001b[39m \u001b[38;5;28mself\u001b[39m\u001b[38;5;241m.\u001b[39m_members[\u001b[38;5;124m\"\u001b[39m\u001b[38;5;124mfKeylen\u001b[39m\u001b[38;5;124m\"\u001b[39m]\n\u001b[1;32m    313\u001b[0m     \u001b[38;5;66;03m# so modifying it in place doesn't have non-local consequences\u001b[39;00m\n\u001b[0;32m--> 314\u001b[0m     \u001b[38;5;28mself\u001b[39m\u001b[38;5;241m.\u001b[39m_byte_offsets[\u001b[38;5;241m-\u001b[39m\u001b[38;5;241m1\u001b[39m] \u001b[38;5;241m=\u001b[39m \u001b[38;5;28;43mself\u001b[39;49m\u001b[38;5;241;43m.\u001b[39;49m\u001b[43mborder\u001b[49m\n\u001b[1;32m    316\u001b[0m \u001b[38;5;28;01melse\u001b[39;00m:\n\u001b[1;32m    317\u001b[0m     \u001b[38;5;28mself\u001b[39m\u001b[38;5;241m.\u001b[39m_data \u001b[38;5;241m=\u001b[39m \u001b[38;5;28mself\u001b[39m\u001b[38;5;241m.\u001b[39m_raw_data\n",
      "File \u001b[0;32m~/miniforge3/envs/qqbar2mumu/lib/python3.10/site-packages/uproot/models/TBasket.py:201\u001b[0m, in \u001b[0;36mModel_TBasket.border\u001b[0;34m(self)\u001b[0m\n\u001b[1;32m    186\u001b[0m     \u001b[38;5;124;03m\"\"\"\u001b[39;00m\n\u001b[1;32m    187\u001b[0m \u001b[38;5;124;03m    For compressed ``TBaskets``, a tuple of 3-tuples containing\u001b[39;00m\n\u001b[1;32m    188\u001b[0m \n\u001b[0;32m   (...)\u001b[0m\n\u001b[1;32m    197\u001b[0m \u001b[38;5;124;03m    For uncompressed ``TBaskets``, this is None.\u001b[39;00m\n\u001b[1;32m    198\u001b[0m \u001b[38;5;124;03m    \"\"\"\u001b[39;00m\n\u001b[1;32m    199\u001b[0m     \u001b[38;5;28;01mreturn\u001b[39;00m \u001b[38;5;28mself\u001b[39m\u001b[38;5;241m.\u001b[39m_block_compression_info\n\u001b[0;32m--> 201\u001b[0m \u001b[38;5;129m@property\u001b[39m\n\u001b[1;32m    202\u001b[0m \u001b[38;5;28;01mdef\u001b[39;00m \u001b[38;5;21mborder\u001b[39m(\u001b[38;5;28mself\u001b[39m):\n\u001b[1;32m    203\u001b[0m     \u001b[38;5;124;03m\"\"\"\u001b[39;00m\n\u001b[1;32m    204\u001b[0m \u001b[38;5;124;03m    The byte position of the boundary between data content and entry offsets.\u001b[39;00m\n\u001b[1;32m    205\u001b[0m \n\u001b[1;32m    206\u001b[0m \u001b[38;5;124;03m    Equal to ``self.member(\"fLast\") - self.member(\"fKeylen\")``.\u001b[39;00m\n\u001b[1;32m    207\u001b[0m \u001b[38;5;124;03m    \"\"\"\u001b[39;00m\n\u001b[1;32m    208\u001b[0m     \u001b[38;5;28;01mreturn\u001b[39;00m \u001b[38;5;28mself\u001b[39m\u001b[38;5;241m.\u001b[39m_members[\u001b[38;5;124m\"\u001b[39m\u001b[38;5;124mfLast\u001b[39m\u001b[38;5;124m\"\u001b[39m] \u001b[38;5;241m-\u001b[39m \u001b[38;5;28mself\u001b[39m\u001b[38;5;241m.\u001b[39m_members[\u001b[38;5;124m\"\u001b[39m\u001b[38;5;124mfKeylen\u001b[39m\u001b[38;5;124m\"\u001b[39m]\n",
      "\u001b[0;31mKeyboardInterrupt\u001b[0m: "
     ]
    }
   ],
   "source": [
    "%%time\n",
    "#Pas de sélection sur les events et tracks\n",
    "vhInvMass = hist.Hist(hist.axis.Regular(bins=200,start=1.5,stop=5,name='invariant mass'))\n",
    "vhQualInvMass = hist.Hist(hist.axis.Regular(bins=200,start=1.5,stop=5,name='invariant mass with good pairs'))\n",
    "#Selection sur les events et tracks\n",
    "vhInvMassEvSel = hist.Hist(hist.axis.Regular(bins=200,start=1.5,stop=5,name='invariant mass'))\n",
    "vhQualInvMassEvSel = hist.Hist(hist.axis.Regular(bins=200,start=1.5,stop=5,name='invariant mass with good pairs'))\n",
    "\n",
    "\n",
    "scan(dataDescription=f\"{BASEDIR}/run*.{DATATYPE}.root:eventsTree\",\n",
    "          hInvMass=vhInvMass, hQualInvMass=vhQualInvMass)\n",
    "\n",
    "scan(dataDescription=f\"{BASEDIR}/run*.{DATATYPE}.root:eventsTree\",\n",
    "          hInvMass=vhInvMassEvSel, hQualInvMass=vhQualInvMassEvSel,\n",
    "          eventSelector=lambda x: x[\"isCMUL\"]==True,\n",
    "          trackSelector=lambda x: (x.eta<-2.5) & (x.eta>-4) & (x[\"thetaAbs\"]>2) & (x[\"thetaAbs\"]<9) & (x[\"matched\"]==2))"
   ]
  },
  {
   "cell_type": "code",
   "execution_count": 13,
   "id": "772b9991-b793-491c-84b1-4604cce79830",
   "metadata": {},
   "outputs": [],
   "source": [
    "#Création des listes de valeurs \n",
    "x_data=[]\n",
    "y_data=[]\n",
    "      \n",
    "for i in range(15000,50000,175):\n",
    "    x_data.append(i/10000)\n",
    "\n",
    "for i in vhQualInvMassEvSel:\n",
    "      y_data.append(i)"
   ]
  },
  {
   "cell_type": "code",
   "execution_count": 14,
   "id": "99fcd98c-c461-4428-a21c-e6309cf262f6",
   "metadata": {},
   "outputs": [
    {
     "name": "stdout",
     "output_type": "stream",
     "text": [
      "CPU times: user 6 µs, sys: 0 ns, total: 6 µs\n",
      "Wall time: 10.5 µs\n",
      "[3.19999998e+00 1.01578877e-04 4.00000087e-02 1.03238388e-02\n",
      " 2.43248086e-01 5.16064199e-08 5.33623335e-01] [[ 2.19305803e-02  2.73007708e-03 -2.61985974e+00 -1.04882646e-02\n",
      "   1.67084913e-03 -3.81649561e-06  4.81257392e-02]\n",
      " [ 2.73007708e-03  6.27620035e-04 -7.36059570e-01 -1.76494555e-03\n",
      "   2.81160643e-04 -6.42201007e-07  8.09868514e-03]\n",
      " [-2.61985974e+00 -7.36059570e-01  8.96912553e+02  1.90721237e+00\n",
      "  -3.03821824e-01  6.93955937e-04 -8.75155562e+00]\n",
      " [-1.04882646e-02 -1.76494555e-03  1.90721237e+00  2.44675778e+13\n",
      "  -3.86188228e+12  8.73912259e+09 -1.13279913e+14]\n",
      " [ 1.67084913e-03  2.81160643e-04 -3.03821824e-01 -3.86188228e+12\n",
      "   6.09620573e+11 -1.37968769e+09  1.78776198e+13]\n",
      " [-3.81649561e-06 -6.42201007e-07  6.93955937e-04  8.73912259e+09\n",
      "  -1.37968769e+09  3.12287210e+06 -4.04508268e+10]\n",
      " [ 4.81257392e-02  8.09868514e-03 -8.75155562e+00 -1.13279913e+14\n",
      "   1.78776198e+13 -4.04508268e+10  5.24523409e+14]]\n",
      "Variance de la masse du JPsi : 0.021930580296301252\n"
     ]
    },
    {
     "ename": "TypeError",
     "evalue": "CB2withNoise() missing 1 required positional argument: 'N_DE'",
     "output_type": "error",
     "traceback": [
      "\u001b[0;31m---------------------------------------------------------------------------\u001b[0m",
      "\u001b[0;31mTypeError\u001b[0m                                 Traceback (most recent call last)",
      "Cell \u001b[0;32mIn [14], line 18\u001b[0m\n\u001b[1;32m     15\u001b[0m \u001b[38;5;66;03m#y_data_fitCB2wNoise=CB2withNoise(x_data,mu_fitCB2wNoise,sigma_fitCB2wNoise,N_fitCB2wNoise,mu_DE_fitCB2wNoise, alpha_DE_fitCB2wNoise, beta_fitCB2wNoise, N_DE_fitCB2wNoise)\u001b[39;00m\n\u001b[1;32m     16\u001b[0m y_data_fitCB2wNoise\u001b[38;5;241m=\u001b[39mCB2withNoise(x_data,mu_fitCB2wNoise,N_fitCB2wNoise, sigma_fitCB2wNoise, mu_DE_fitCB2wNoise, alpha_DE_fitCB2wNoise, beta_fitCB2wNoise, N_DE_fitCB2wNoise)\n\u001b[0;32m---> 18\u001b[0m y_data_model \u001b[38;5;241m=\u001b[39m \u001b[43mCB2withNoise\u001b[49m\u001b[43m(\u001b[49m\u001b[43mx_data\u001b[49m\u001b[43m,\u001b[49m\u001b[38;5;241;43m3.10031936e+00\u001b[39;49m\u001b[43m,\u001b[49m\u001b[38;5;241;43m1.70816520e+02\u001b[39;49m\u001b[43m,\u001b[49m\u001b[43m \u001b[49m\u001b[38;5;241;43m6.29517373e-07\u001b[39;49m\u001b[43m,\u001b[49m\u001b[43m \u001b[49m\u001b[38;5;241;43m4.91666545e-01\u001b[39;49m\u001b[43m,\u001b[49m\u001b[43m \u001b[49m\u001b[38;5;241;43m1.19404276e-07\u001b[39;49m\u001b[43m,\u001b[49m\u001b[43m \u001b[49m\u001b[38;5;241;43m1.57858391e+03\u001b[39;49m\u001b[43m)\u001b[49m\n\u001b[1;32m     19\u001b[0m y_CB2_fit \u001b[38;5;241m=\u001b[39m CrystalBall2(x_data,mu_fitCB2wNoise, \u001b[38;5;241m6.10076777e-02\u001b[39m, \u001b[38;5;241m-\u001b[39m\u001b[38;5;241m7.16686241e-01\u001b[39m,\u001b[38;5;241m2.28952917e+00\u001b[39m,\u001b[38;5;241m4.41736692e+00\u001b[39m,\u001b[38;5;241m2.61183775e+00\u001b[39m,N_fitCB2wNoise)\n\u001b[1;32m     23\u001b[0m y_CB2_fit_2\u001b[38;5;241m=\u001b[39m[]\n",
      "\u001b[0;31mTypeError\u001b[0m: CB2withNoise() missing 1 required positional argument: 'N_DE'"
     ]
    }
   ],
   "source": [
    "#Fit de la fonction CB2+background avec les listes x_data et y_data pour obtenir mu, N_CB2 et les arguments de noise\n",
    "%time\n",
    "\n",
    "\n",
    "popt_CB2wNoise, pcov_CB2wNoise = curve_fit(CB2withNoise, x_data, y_data, p0=[3.1 , 0.5, 1., 6.29517373e-07 , 4.91666545e-01 , 1.19404276e-07 , 1.],\n",
    "                                           bounds=([3. , 0.04 , 0., 0. , 0. , 0. , 0.],[3.2 , 1., np.inf, 1. , 1. , 1. , np.inf]))\n",
    "\n",
    "#popt_CB2wNoise, pcov_CB2wNoise = curve_fit(CB2withNoise, x_data, y_data, p0=[3.10031936e+00, 6.10076777e-02,-7.16686241e-01,2.28952917e+00,4.41736692e+00,2.61183775e+00,1.70816520e+02,\n",
    "#                    7.18998714e-07,4.91666679e-01,1.36376755e-07,1.57858391e+03])\n",
    "print(popt_CB2wNoise,pcov_CB2wNoise)\n",
    "#mu_fitCB2wNoise,sigma_fitCB2wNoise,N_fitCB2wNoise,mu_DE_fitCB2wNoise, alpha_DE_fitCB2wNoise, beta_fitCB2wNoise, N_DE_fitCB2wNoise= popt_CB2wNoise\n",
    "mu_fitCB2wNoise, sigma_fitCB2wNoise, N_fitCB2wNoise, mu_DE_fitCB2wNoise, alpha_DE_fitCB2wNoise, beta_fitCB2wNoise, N_DE_fitCB2wNoise = popt_CB2wNoise\n",
    "var_mu=pcov_CB2wNoise[0,0]\n",
    "var_sigma = pcov_CB2wNoise[1,1]\n",
    "var_N = pcov_CB2wNoise[2,2]\n",
    "print('Variance de la masse du JPsi :',var_E)\n",
    "#y_data_fitCB2wNoise=CB2withNoise(x_data,mu_fitCB2wNoise,sigma_fitCB2wNoise,N_fitCB2wNoise,mu_DE_fitCB2wNoise, alpha_DE_fitCB2wNoise, beta_fitCB2wNoise, N_DE_fitCB2wNoise)\n",
    "y_data_fitCB2wNoise=CB2withNoise(x_data,mu_fitCB2wNoise,sigma_fitCB2wNoise, N_fitCB2wNoise, mu_DE_fitCB2wNoise, alpha_DE_fitCB2wNoise, beta_fitCB2wNoise, N_DE_fitCB2wNoise)\n",
    "\n",
    "y_data_model = CB2withNoise(x_data,3.10031936e+00,1.70816520e+02, 6.29517373e-07, 4.91666545e-01, 1.19404276e-07, 1.57858391e+03)\n",
    "y_CB2_fit = CrystalBall2(x_data,mu_fitCB2wNoise, sigma_fitCB2wNoise, -7.16686241e-01,2.28952917e+00,4.41736692e+00,2.61183775e+00,N_fitCB2wNoise)\n",
    "\n",
    "\n",
    "\n",
    "y_CB2_fit_2=[]\n",
    "for i in x_data:\n",
    "    y_CB2_fit_2.append(CrystalBall2_2(i,mu_fitCB2wNoise, sigma_fitCB2wNoise,-7.16686241e-01,2.28952917e+00,4.41736692e+00,2.61183775e+00,N_fitCB2wNoise))"
   ]
  },
  {
   "cell_type": "code",
   "execution_count": null,
   "id": "8ad351f9-065e-4fbd-ab3c-52ccabac94f4",
   "metadata": {},
   "outputs": [],
   "source": [
    "%%time\n",
    "vhInvMass.plot(label=\"no cuts\") #Aucune selection\n",
    "vhQualInvMassEvSel.plot(label=\"events selected (good tracks + good pairs)\")\n",
    "#plt.plot(x_data,y_data_model) #Modèle avec les valeurs adéquates pour le fit CB2 MC et le fit background sur une portion des valeurs exp\n",
    "plt.yscale(\"log\")\n",
    "plt.xlabel(\"Invariant mass (GeV)\")\n",
    "plt.ylabel(\"# of tracks\")\n",
    "plt.legend()\n",
    "plt.show()"
   ]
  },
  {
   "cell_type": "code",
   "execution_count": null,
   "id": "166a0bbe-ecf1-460b-807f-ebcb4b356a46",
   "metadata": {},
   "outputs": [],
   "source": [
    "%%time\n",
    "#vhInvMass.plot(label=\"no cuts\")\n",
    "vhQualInvMassEvSel.plot(label=\"events selected (good tracks + good pairs)\")\n",
    "#plt.scatter(x_data,y_data)\n",
    "plt.plot(x_data,y_data_fitCB2wNoise)\n",
    "#plt.plot(x_data,y_CB2_fit,'r')\n",
    "plt.plot(x_data,y_CB2_fit_2,'g')\n",
    "#plt.plot(x_data,y_data_model)\n",
    "plt.plot(x_data, y_CB2_fit_2, color=\"indigo\")\n",
    "plt.yscale(\"log\")\n",
    "plt.ylabel(\"# of tracks\")\n",
    "plt.xlabel(\"Invariant Mass with good pairs (GeV)\")\n",
    "plt.legend()\n",
    "plt.ylim(1,100000)\n",
    "plt.show()"
   ]
  },
  {
   "cell_type": "code",
   "execution_count": null,
   "id": "e1199f12-8e4a-4194-b082-8551fc636a90",
   "metadata": {},
   "outputs": [],
   "source": [
    "#I = quad(integrand, 0, 1, args=(a,b))\n",
    "y_data_finale=[]\n",
    "for i in x_data:\n",
    "    y_data_finale.append(CrystalBall2_2(i, mu_fitCB2wNoise, 6.10076777e-02,-7.16686241e-01,2.28952917e+00,4.41736692e+00,2.61183775e+00,N_fitCB2wNoise))\n",
    "plt.plot(x_data, y_data_finale)\n",
    "plt.ylabel(\"# of tracks\")\n",
    "plt.xlabel(\"Invariant Mass with good pairs (GeV)\")\n",
    "plt.yscale(\"log\")\n",
    "plt.ylim(1,100000)\n",
    "plt.show()\n",
    "    \n",
    "    \n",
    "I = quad(CrystalBall2_2,1,5,\n",
    "        args=(mu_fitCB2wNoise, 6.10076777e-02,-7.16686241e-01,2.28952917e+00,4.41736692e+00,2.61183775e+00,N_fitCB2wNoise))\n",
    "I = I/vhQualInvMassEvSel.axes[0].widths[0]\n",
    "\n",
    "print('Valeur de l intégrale en utilisant la fonction quad de scipy',I)\n",
    "\n",
    "integrale=0\n",
    "pas=x_data[1]-x_data[0]\n",
    "for i in range(0,len(x_data)):\n",
    "    x=pas*i\n",
    "    integrale = integrale + pas*CrystalBall2_2(x, mu_fitCB2wNoise, 6.10076777e-02,-7.16686241e-01,2.28952917e+00,4.41736692e+00,2.61183775e+00,N_fitCB2wNoise)\n",
    "\n",
    "integrale = integrale/vhQualInvMassEvSel.axes[0].widths[0]    \n",
    "print('Valeur de l intégrale en utilisant la methodes des rectagnles',integrale)\n",
    "    "
   ]
  },
  {
   "cell_type": "code",
   "execution_count": 41,
   "id": "e344cfb0-d33a-49f8-8f85-0c8910c1a0bb",
   "metadata": {},
   "outputs": [
    {
     "name": "stdout",
     "output_type": "stream",
     "text": [
      "[0.0015061029449069893, 0.32275634679450027]\n",
      "Incertitude statistique sur le nombre de J/Psi : 0.32426244973940727\n"
     ]
    }
   ],
   "source": [
    "var_alpha,var_alpha1,var_n,var_n1 = 3.82025732e-04,1.74935625e-02,2.11990082e-01,1.42526094e-01\n",
    "\n",
    "# définir le point où l'on veut calculer la dérivée partielle\n",
    "point = [mu_fitCB2wNoise, sigma_fitCB2wNoise,-7.16686241e-01,2.28952917e+00,4.41736692e+00,2.61183775e+00,N_fitCB2wNoise]\n",
    "\n",
    "# définir la précision pour les calculs numériques\n",
    "eps = 1e-10\n",
    "\n",
    "# calculer la dérivée partielle par rapport à mu\n",
    "d_mu = (CrystalBall2(x_data,point[0] + eps, point[1], point[2], point[3], point[4], point[5], point[6]) - CrystalBall2(x_data,point[0], point[1], point[2], point[3], point[4], point[5], point[6])) / eps\n",
    "d_mu = var_mu * d_mu\n",
    "\n",
    "# calculer la dérivée partielle par rapport à sigma\n",
    "d_sigma = (CrystalBall2(x_data,point[0], point[1] + eps, point[2], point[3], point[4], point[5], point[6]) - CrystalBall2(x_data,point[0], point[1], point[2], point[3], point[4], point[5], point[6])) / eps\n",
    "d_sigma = var_sigma*d_sigma\n",
    "\n",
    "# calculer la dérivée partielle par rapport à alpha\n",
    "d_alpha = (CrystalBall2(x_data,point[0], point[1], point[2] + eps, point[3], point[4], point[5], point[6]) - CrystalBall2(x_data,point[0], point[1], point[2], point[3], point[4], point[5], point[6])) / eps\n",
    "d_alpha = np.abs(var_alpha*d_alpha)\n",
    "d_alpha1 = (CrystalBall2(x_data,point[0], point[1], point[2], point[3]+eps, point[4], point[5], point[6]) - CrystalBall2(x_data,point[0], point[1], point[2], point[3], point[4], point[5], point[6])) / eps\n",
    "d_alpha1 = np.abs(var_alpha1*d_alpha1)\n",
    "d_n = (CrystalBall2(x_data,point[0], point[1], point[2], point[3], point[4]+eps, point[5], point[6]) - CrystalBall2(x_data,point[0], point[1], point[2], point[3], point[4], point[5], point[6])) / eps\n",
    "d_n = np.abs(var_n*d_n)\n",
    "d_n1 = (CrystalBall2(x_data,point[0], point[1], point[2], point[3], point[4], point[5]+eps, point[6]) - CrystalBall2(x_data,point[0], point[1], point[2], point[3], point[4], point[5], point[6])) / eps\n",
    "d_n1 = np.abs(var_n1*d_n1)\n",
    "d_N = (CrystalBall2(x_data,point[0], point[1], point[2], point[3], point[4], point[5], point[6]+eps) - CrystalBall2(x_data,point[0], point[1], point[2], point[3], point[4], point[5], point[6])) / eps\n",
    "d_N = np.abs(var_N*d_N)\n",
    "\n",
    "# liste des listes des dérivées\n",
    "#d_list=[d_mu, d_sigma, d_alpha, d_alpha1, d_n, d_n1]\n",
    "d_list_stat=[d_mu, d_sigma, d_N]\n",
    "d_list_syst=[d_alpha, d_alpha1, d_n, d_n1]\n",
    "\n",
    "pas=x_data[1]-x_data[0]\n",
    "integrale_list_stat = []\n",
    "integrale_list_syst = []\n",
    "for i in range(0,len(d_list_stat)):\n",
    "    a=0\n",
    "    for j in d_list_stat[i]:\n",
    "        a = a + j*pas\n",
    "    integrale_list_stat.append(a/vhQualInvMassEvSel.axes[0].widths[0])\n",
    "print(integrale_list_stat)\n",
    "\n",
    "pas=x_data[1]-x_data[0]\n",
    "integrale_list = []\n",
    "for i in range(0,len(d_list_syst)):\n",
    "    a=0\n",
    "    for j in d_list_syst[i]:\n",
    "        a = a + j*pas\n",
    "    integrale_list_syst.append(a/vhQualInvMassEvSel.axes[0].widths[0])\n",
    "print(integrale_list_syst)\n",
    "\n",
    "uncertainty_stat_NJPsi = sum(integrale_list_stat)\n",
    "uncertainty_syst_NJPsi = sum(integrale_list_syst)\n",
    "print(\"Incertitude statistique sur le nombre de J/Psi :\", uncertainty_stat_NJPsi)\n",
    "print(\"Incertitude systématique sur le nombre de J/Psi :\", uncertainty_syst_NJPsi)"
   ]
  },
  {
   "cell_type": "code",
   "execution_count": null,
   "id": "c2227d52-ea64-4d17-b874-baab2f99d425",
   "metadata": {},
   "outputs": [],
   "source": []
  },
  {
   "cell_type": "code",
   "execution_count": null,
   "id": "777da982-d18a-459b-abca-acc274ce41be",
   "metadata": {},
   "outputs": [],
   "source": []
  }
 ],
 "metadata": {
  "kernelspec": {
   "display_name": "Python 3 (ipykernel)",
   "language": "python",
   "name": "python3"
  },
  "language_info": {
   "codemirror_mode": {
    "name": "ipython",
    "version": 3
   },
   "file_extension": ".py",
   "mimetype": "text/x-python",
   "name": "python",
   "nbconvert_exporter": "python",
   "pygments_lexer": "ipython3",
   "version": "3.10.8"
  }
 },
 "nbformat": 4,
 "nbformat_minor": 5
}
