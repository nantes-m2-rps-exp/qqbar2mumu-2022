{
 "cells": [
  {
   "cell_type": "code",
   "execution_count": 1,
   "id": "889ca121-6da7-4b74-a125-0cf02c9af0cc",
   "metadata": {},
   "outputs": [],
   "source": [
    "import uproot\n",
    "import awkward as ak\n",
    "import numpy as np\n",
    "import math\n",
    "import hist\n",
    "import matplotlib.pyplot as plt\n",
    "import os\n",
    "import subprocess\n",
    "import vector\n",
    "from scipy.optimize import curve_fit\n",
    "from scipy.integrate import quad"
   ]
  },
  {
   "cell_type": "code",
   "execution_count": 2,
   "id": "13156a72-ab5b-4d13-806b-5e4e19527d3e",
   "metadata": {},
   "outputs": [],
   "source": [
    "fichier = open(\"raw_spectrum.txt\", \"r\")"
   ]
  },
  {
   "cell_type": "code",
   "execution_count": 3,
   "id": "20d428f8-27b0-4500-9150-88b2ebb142ec",
   "metadata": {},
   "outputs": [],
   "source": [
    "#fichier.read()\n",
    "#for i in range(\n",
    "x_data=[]\n",
    "y_data=[]\n",
    "n=[]\n",
    "with open(\"spectrum.txt\", \"r\") as filin:\n",
    "    for ligne in filin:\n",
    "        #print(ligne[:5])\n",
    "        coords = ligne.split()\n",
    "        x_data.append(float(coords[0]))\n",
    "        y_data.append(float(coords[1]))\n",
    "        n.append(np.sqrt(float(coords[1])))"
   ]
  },
  {
   "cell_type": "code",
   "execution_count": 4,
   "id": "f3349b1d-3029-4850-a87c-678ede3688cb",
   "metadata": {},
   "outputs": [],
   "source": [
    "#CrystalBall2 prend en argument une liste de valeurs de x\n",
    "def CrystalBall2(x, mu, sigma, alpha, alphabis, n, nbis, N):\n",
    "    A = ((n/np.abs(alpha))**n)*np.exp(-(np.abs(alpha)**2)/2.)\n",
    "    B = (n/np.abs(alpha))-np.abs(alpha)\n",
    "    C = ((nbis/np.abs(alphabis))**n)*np.exp(-(np.abs(alphabis)**2)/2.)\n",
    "    D = (nbis/np.abs(alphabis))-np.abs(alphabis)\n",
    "    y = np.array([], dtype=float)\n",
    "    for i in x:\n",
    "        if(((i-mu)/sigma > alpha) and ((i-mu)/sigma < alphabis)):\n",
    "            y = np.append(y, np.exp(-((i-mu)**2)/(2*sigma**2)))\n",
    "        elif ((i-mu)/sigma < alpha):\n",
    "            y = np.append(y, A*((B- (i -mu)/(sigma))**(-n)))\n",
    "        elif((i-mu)/sigma > alphabis):\n",
    "            y = np.append(y, C*((D+ (i -mu)/(sigma))**(-nbis)))\n",
    "        else:\n",
    "            y = np.append(y, 0.)\n",
    "    return y*N\n",
    "\n",
    "def CrystalBall3(x, N):\n",
    "    mu = 3.0910679595177286\n",
    "    sigma = 0.06334926480351027\n",
    "    alpha = -0.8203667286925543\n",
    "    alphabis = 2.1288701493061883\n",
    "    n = 3.218068107049111 \n",
    "    nbis = 2.3687325196482107 \n",
    "    A = ((n/np.abs(alpha))**n)*np.exp(-(np.abs(alpha)**2)/2.)\n",
    "    B = (n/np.abs(alpha))-np.abs(alpha)\n",
    "    C = ((nbis/np.abs(alphabis))**n)*np.exp(-(np.abs(alphabis)**2)/2.)\n",
    "    D = (nbis/np.abs(alphabis))-np.abs(alphabis)\n",
    "    y = np.array([], dtype=float)\n",
    "    for i in x:\n",
    "        if(((i-mu)/sigma > alpha) and ((i-mu)/sigma < alphabis)):\n",
    "            y = np.append(y, np.exp(-((i-mu)**2)/(2*sigma**2)))\n",
    "        elif ((i-mu)/sigma < alpha):\n",
    "            y = np.append(y, A*((B- (i -mu)/(sigma))**(-n)))\n",
    "        elif((i-mu)/sigma > alphabis):\n",
    "            y = np.append(y, C*((D+ (i -mu)/(sigma))**(-nbis)))\n",
    "        else:\n",
    "            y = np.append(y, 0.)\n",
    "    return y*N\n",
    "\n",
    "#CrystalBall2_2 prend en argument une valeur de x\n",
    "def CrystalBall2_2(i, mu, sigma, alpha, alphabis, n, nbis, N):\n",
    "    A = ((n/np.abs(alpha))**n)*np.exp(-(np.abs(alpha)**2)/2.)\n",
    "    B = (n/np.abs(alpha))-np.abs(alpha)\n",
    "    C = ((nbis/np.abs(alphabis))**n)*np.exp(-(np.abs(alphabis)**2)/2.)\n",
    "    D = (nbis/np.abs(alphabis))-np.abs(alphabis)\n",
    "    y = np.array([], dtype=float)\n",
    "    if(((i-mu)/sigma > alpha) and ((i-mu)/sigma < alphabis)):\n",
    "        y = np.exp(-((i-mu)**2)/(2*sigma**2))\n",
    "    elif ((i-mu)/sigma < alpha):\n",
    "        y = A*((B- (i -mu)/(sigma))**(-n))\n",
    "    elif((i-mu)/sigma > alphabis):\n",
    "        y = C*((D+ (i -mu)/(sigma))**(-nbis))\n",
    "    return y*N"
   ]
  },
  {
   "cell_type": "code",
   "execution_count": 5,
   "id": "3feffd35-b934-40aa-a0bc-c34909fb96d1",
   "metadata": {},
   "outputs": [],
   "source": [
    "def NoiseVWG(x, mu, alpha, beta, N):\n",
    "    y = np.array([], dtype=float)\n",
    "    for i in x:\n",
    "        sigma = alpha + beta*((i-mu)/mu)\n",
    "        y = np.append(y, N * np.exp(-((i-mu)**2)/(2*sigma**2)))\n",
    "    return y"
   ]
  },
  {
   "cell_type": "code",
   "execution_count": 6,
   "id": "752d58d6-c236-43a8-9ee2-9daa2a86c75f",
   "metadata": {},
   "outputs": [],
   "source": [
    "def CB2withNoise(x, mu_CB2, sigma, N_CB2, mu_DE, alpha_DE, beta ,N_DE): #x est une liste\n",
    "    alpha, alphabis, n, nbis=-7.16686241e-01,2.28952917e+00,4.41736692e+00,2.61183775e+00\n",
    "    #sigma = 6.10076777e-02\n",
    "    return CrystalBall2(x, mu_CB2, sigma, alpha, alphabis, n, nbis, N_CB2) + NoiseVWG(x, mu_DE, alpha_DE, beta, N_DE)\n",
    "\n",
    "def CB2withNoise_2(x, mu_CB2, sigma, N_CB2, mu_CB2_2, N_CB2_2, mu_DE, alpha_DE, beta ,N_DE): #x est une liste\n",
    "    #alpha, alphabis, n, nbis=-7.16686241e-01,2.28952917e+00,4.41736692e+00,2.61183775e+00\n",
    "    alpha, alphabis, n, nbis =  -0.8203667286925543, 2.1288701493061883, 3.218068107049111, 2.3687325196482107 \n",
    "    #alpha_2, alphabis2, n2, nbis2 = -3.22788197e+00, 2.37452148e+00, 1.82471094e+00, 1.31670260e+00\n",
    "    alpha_2, alphabis2, n2, nbis2 = 0.8127277269512803, 2.140868246051813, 2.9612888277488696, 2.398926196259195\n",
    "    #sigma = 6.10076777e-02\n",
    "    return CrystalBall2(x, mu_CB2, sigma, alpha, alphabis, n, nbis, N_CB2) + CrystalBall2(x, mu_CB2_2, 1.05*sigma, alpha_2, alphabis2, n2, nbis2, N_CB2_2) + NoiseVWG(x, mu_DE, alpha_DE, beta, N_DE)\n",
    "\n",
    "def CB2withNoise_3(x, N_CB2): #x est une liste\n",
    "    #alpha, alphabis, n, nbis=-7.16686241e-01,2.28952917e+00,4.41736692e+00,2.61183775e+00\n",
    "    alpha, alphabis, n, nbis =  -0.8203667286925543, 2.1288701493061883, 3.218068107049111, 2.3687325196482107 \n",
    "    sigma = 0.06334926480351027 \n",
    "    mu_CB2 = 3.0910679595177286\n",
    "    #alpha_2, alphabis2, n2, nbis2 = -3.22788197e+00, 2.37452148e+00, 1.82471094e+00, 1.31670260e+00\n",
    "    alpha_2, alphabis2, n2, nbis2 = 0.8127277269512803, 2.140868246051813, 2.9612888277488696, 2.398926196259195\n",
    "    mu_CB2_2 = 3.6843649201165847\n",
    "    N_CB2_2 = 1.59877447e+02\n",
    "    mu_DE = 1.00000000e-05\n",
    "    alpha_DE = 5.96914253e-01\n",
    "    beta = 1.52762484e-06\n",
    "    N_DE = 2.87015489e+05 \n",
    " \n",
    "    #sigma = 6.10076777e-02\n",
    "    return CrystalBall2(x, mu_CB2, sigma, alpha, alphabis, n, nbis, N_CB2) + CrystalBall2(x, mu_CB2_2, 1.05*sigma, alpha_2, alphabis2, n2, nbis2, N_CB2_2) + NoiseVWG(x, mu_DE, alpha_DE, beta, N_DE)"
   ]
  },
  {
   "cell_type": "code",
   "execution_count": 7,
   "id": "f7a2d35c-ae09-4d52-879d-f4058f36e410",
   "metadata": {},
   "outputs": [
    {
     "name": "stdout",
     "output_type": "stream",
     "text": [
      "CPU times: user 5 µs, sys: 1 µs, total: 6 µs\n",
      "Wall time: 14.8 µs\n",
      "[3.09176962e+00 6.42461536e-02 2.46780055e+04 3.70000000e+00\n",
      " 1.59877447e+02 1.00000000e-05 5.96914253e-01 1.52762484e-06\n",
      " 2.87015489e+05] [[ 4.84933114e-08 -1.94054274e-08  3.54924501e-03 -6.47033818e-08\n",
      "  -3.19293340e-04 -1.13058119e-10 -1.86566043e-07 -1.66264832e-11\n",
      "   9.91090562e-02]\n",
      " [-1.94054274e-08  5.06106852e-08 -1.05380386e-02  1.70913234e-07\n",
      "   8.55304407e-04  3.46930029e-10  6.58719744e-07  5.08815175e-11\n",
      "  -3.86443829e-01]\n",
      " [ 3.54924501e-03 -1.05380386e-02  5.98494562e+03  1.79420182e-02\n",
      "   4.94098480e+01  1.06189179e-05  2.54856144e-02  1.55018473e-06\n",
      "  -1.70668692e+04]\n",
      " [-6.47033818e-08  1.70913234e-07  1.79420182e-02  6.20595228e-05\n",
      "   1.67695924e-01  8.66934721e-09  1.99623949e-05  1.26494617e-09\n",
      "  -1.27935553e+01]\n",
      " [-3.19293340e-04  8.55304407e-04  4.94098480e+01  1.67695924e-01\n",
      "   5.65616173e+02  3.76793785e-05  8.58871493e-02  5.49971480e-06\n",
      "  -5.48813784e+04]\n",
      " [-1.13058119e-10  3.46930029e-10  1.06189179e-05  8.66934721e-09\n",
      "   3.76793785e-05  2.31649982e-11  5.00287901e-08  3.39165929e-12\n",
      "  -3.25680828e-02]\n",
      " [-1.86566043e-07  6.58719744e-07  2.54856144e-02  1.99623949e-05\n",
      "   8.58871493e-02  5.00287901e-08  1.13442870e-04  7.31578346e-09\n",
      "  -7.56209945e+01]\n",
      " [-1.66264832e-11  5.08815175e-11  1.55018473e-06  1.26494617e-09\n",
      "   5.49971480e-06  3.39165929e-12  7.31578346e-09  4.96599997e-13\n",
      "  -4.75992439e-03]\n",
      " [ 9.91090562e-02 -3.86443829e-01 -1.70668692e+04 -1.27935553e+01\n",
      "  -5.48813784e+04 -3.25680828e-02 -7.56209945e+01 -4.75992439e-03\n",
      "   5.11472119e+07]]\n",
      "Variance de la masse du JPsi (mu CB2) : 4.849331140117743e-08\n",
      "Variance du sigma (sigma CB2) : 5.061068523621546e-08\n",
      "Variance de l amplitude CB2 : 5984.94561515797\n"
     ]
    }
   ],
   "source": [
    "%time\n",
    "popt_CB2wNoise, pcov_CB2wNoise = curve_fit(CB2withNoise_2, x_data, y_data, p0=[3.1, 0.07 , 10000., 3.68, 1000. , 6.29517373e-07 , 4.91666545e-01 , 1.19404276e-07 , 10000],\n",
    "                    sigma=n, absolute_sigma = True,\n",
    "                    bounds=([3., 0.01 , 0., 3.4, 0. , 0. , 0 , 0 , 0.],[3.2 , 0.1, np.inf, 3.7, np.inf , 0.00001 , 100. , 100. , np.inf]))\n",
    "\n",
    "print(popt_CB2wNoise,pcov_CB2wNoise)\n",
    "mu_fitCB2wNoise,sigma_fit,N_fitCB2wNoise,mu_fitCB2wNoise_2,N_fitCB2wNoise_2,mu_DE_fitCB2wNoise,alpha_DE_fitCB2wNoise,beta_fitCB2wNoise,N_DE_fitCB2wNoise = popt_CB2wNoise\n",
    "#mu_fitCB2wNoise,sigma_fit,N_fitCB2wNoise,mu_fitCB2wNoise_2,N_fitCB2wNoise_2 mu_DE_fitCB2wNoise, alpha_DE_fitCB2wNoise, beta_fitCB2wNoise, N_DE_fitCB2wNoise = popt_CB2wNoise\n",
    "var_mu, var_sigma, var_N=pcov_CB2wNoise[0,0], pcov_CB2wNoise[1,1], pcov_CB2wNoise[2,2]\n",
    "print('Variance de la masse du JPsi (mu CB2) :',var_mu)\n",
    "print('Variance du sigma (sigma CB2) :',var_sigma)\n",
    "print('Variance de l amplitude CB2 :',var_N)\n",
    "y_data_fitCB2wNoise=CB2withNoise_2(x_data,mu_fitCB2wNoise,sigma_fit,N_fitCB2wNoise,mu_fitCB2wNoise_2,N_fitCB2wNoise_2, mu_DE_fitCB2wNoise, alpha_DE_fitCB2wNoise, beta_fitCB2wNoise, N_DE_fitCB2wNoise)\n",
    "\n",
    "sigma_psi = 0.06334926480351027\n",
    "mu_fitCB2wNoise = 3.0910679595177286\n",
    "N_fitCB2wNoise, pcov_CrystalBall = curve_fit(CB2withNoise_3, x_data, y_data)\n",
    "y_CB2_fit = CrystalBall2(x_data,mu_fitCB2wNoise, sigma_fit, -0.8203667286925543, 2.1288701493061883, 3.218068107049111, 2.3687325196482107,N_fitCB2wNoise)\n",
    "y_CB2_fit_psi = CrystalBall2(x_data,mu_fitCB2wNoise_2, 1.05*sigma_fit, 0.8127277269512803, 2.140868246051813, 2.9612888277488696, 2.398926196259195,N_fitCB2wNoise_2)\n"
   ]
  },
  {
   "cell_type": "code",
   "execution_count": 8,
   "id": "5ba153fe-4cb0-4145-9115-d653567316e8",
   "metadata": {},
   "outputs": [
    {
     "data": {
      "image/png": "[encoded data removed]",
      "text/plain": [
       "<Figure size 640x480 with 1 Axes>"
      ]
     },
     "metadata": {},
     "output_type": "display_data"
    },
    {
     "name": "stdout",
     "output_type": "stream",
     "text": [
      "CPU times: user 1.9 s, sys: 70.6 ms, total: 1.97 s\n",
      "Wall time: 2.05 s\n"
     ]
    }
   ],
   "source": [
    "%%time\n",
    "#vhQualInvMassEvSel.plot(label=\"experimental data - events selected\")\n",
    "plt.plot(x_data,y_data)\n",
    "plt.plot(x_data,y_data_fitCB2wNoise)\n",
    "plt.plot(x_data,y_CB2_fit,'g')\n",
    "plt.plot(x_data,y_CB2_fit_psi,'r')\n",
    "plt.yscale(\"log\")\n",
    "plt.ylabel(\"# of tracks\")\n",
    "#plt.legend()\n",
    "plt.title('Experimental data fit with CB2 + Noise function')\n",
    "plt.ylim(1,1000000)\n",
    "plt.show()"
   ]
  },
  {
   "cell_type": "code",
   "execution_count": 9,
   "id": "f46f92f5-8800-4c20-8e74-567cb4e5c4fd",
   "metadata": {},
   "outputs": [
    {
     "name": "stdout",
     "output_type": "stream",
     "text": [
      "Valeur de l intégrale en utilisant la fonction quad de scipy 30140.938774484825\n"
     ]
    }
   ],
   "source": [
    "width=200\n",
    "y_data_finale=[]\n",
    "for i in x_data:\n",
    "    y_data_finale.append(CrystalBall2_2(i, mu_fitCB2wNoise, sigma_fit,-0.8203667286925543, 2.1288701493061883, 3.218068107049111, 2.3687325196482107,N_fitCB2wNoise))\n",
    "\n",
    "I = quad(CrystalBall2_2,1,5,\n",
    "        args=(mu_fitCB2wNoise, sigma_fit,-0.8203667286925543, 2.1288701493061883, 3.218068107049111, 2.3687325196482107,N_fitCB2wNoise))\n",
    "I = I[0] /0.175\n",
    "print('Valeur de l intégrale en utilisant la fonction quad de scipy',I)"
   ]
  },
  {
   "cell_type": "code",
   "execution_count": 10,
   "id": "27f21460-ab7c-45f1-a232-c8c912955755",
   "metadata": {},
   "outputs": [
    {
     "name": "stdout",
     "output_type": "stream",
     "text": [
      "[0.00013231415305074194, 0.024223797579755048, 7210.438113350777]\n",
      "Nombre J/Psi : 30140.938774484825\n",
      "Incertitude statistique sur le nombre de J/Psi : 7210.46246946251\n",
      "0.23922488026704644\n"
     ]
    }
   ],
   "source": [
    "var_alpha,var_alpha1,var_n,var_n1 = 3.82025732e-04,1.74935625e-02,2.11990082e-01,1.42526094e-01\n",
    "\n",
    "# définir le point où l'on veut calculer la dérivée partielle\n",
    "point = [mu_fitCB2wNoise, sigma_fit,-7.16686241e-01,2.28952917e+00,4.41736692e+00,2.61183775e+00,N_fitCB2wNoise]\n",
    "\n",
    "# définir la précision pour les calculs numériques\n",
    "eps = 1e-10\n",
    "\n",
    "# calculer la dérivée partielle par rapport à mu\n",
    "d_mu = (CrystalBall2(x_data,point[0] + eps, point[1], point[2], point[3], point[4], point[5], point[6]) - CrystalBall2(x_data,point[0], point[1], point[2], point[3], point[4], point[5], point[6])) / eps\n",
    "d_mu = var_mu * d_mu\n",
    "\n",
    "# calculer la dérivée partielle par rapport à sigma\n",
    "d_sigma = (CrystalBall2(x_data,point[0], point[1] + eps, point[2], point[3], point[4], point[5], point[6]) - CrystalBall2(x_data,point[0], point[1], point[2], point[3], point[4], point[5], point[6])) / eps\n",
    "d_sigma = var_sigma*d_sigma\n",
    "\n",
    "# calculer la dérivée partielle par rapport à alpha\n",
    "d_N = (CrystalBall2(x_data,point[0], point[1], point[2], point[3], point[4], point[5], point[6]+eps) - CrystalBall2(x_data,point[0], point[1], point[2], point[3], point[4], point[5], point[6])) / eps\n",
    "d_N = np.abs(var_N*d_N)\n",
    "\n",
    "# liste des listes des dérivées\n",
    "#d_list=[d_mu, d_sigma, d_alpha, d_alpha1, d_n, d_n1]\n",
    "d_list_stat=[d_mu, d_sigma, d_N]\n",
    "\n",
    "pas=x_data[1]-x_data[0]\n",
    "integrale_list1 = []\n",
    "for i in range(0,len(d_list_stat)):\n",
    "    a=0\n",
    "    for j in d_list_stat[i]:\n",
    "        a = a + j*pas\n",
    "    integrale_list1.append(a/0.175)\n",
    "print(integrale_list1)\n",
    "\n",
    "uncertainty_stat_NJPsi = sum(integrale_list1)\n",
    "print(\"Nombre J/Psi :\", I)\n",
    "print(\"Incertitude statistique sur le nombre de J/Psi :\", uncertainty_stat_NJPsi)\n",
    "print(uncertainty_stat_NJPsi/I)"
   ]
  },
  {
   "cell_type": "code",
   "execution_count": null,
   "id": "d4331cb1-40e8-4d60-b435-e6601cbd1a81",
   "metadata": {},
   "outputs": [],
   "source": []
  }
 ],
 "metadata": {
  "kernelspec": {
   "display_name": "Python 3 (ipykernel)",
   "language": "python",
   "name": "python3"
  },
  "language_info": {
   "codemirror_mode": {
    "name": "ipython",
    "version": 3
   },
   "file_extension": ".py",
   "mimetype": "text/x-python",
   "name": "python",
   "nbconvert_exporter": "python",
   "pygments_lexer": "ipython3",
   "version": "3.10.8"
  }
 },
 "nbformat": 4,
 "nbformat_minor": 5
}
