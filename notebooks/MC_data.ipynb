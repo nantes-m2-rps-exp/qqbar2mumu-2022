{
 "cells": [
  {
   "cell_type": "code",
   "execution_count": 1,
   "id": "82769a1f-03fe-4863-9cd1-34df2fc127c7",
   "metadata": {},
   "outputs": [
    {
     "name": "stdout",
     "output_type": "stream",
     "text": [
      "uproot version 4.1.9\n",
      "awkward version 1.10.2\n",
      "numpy version 1.23.5\n",
      "matplotlib version 3.4.3\n",
      "hist version 2.5.2\n",
      "vector version 0.8.5\n"
     ]
    }
   ],
   "source": [
    "import uproot\n",
    "import awkward as ak\n",
    "import numpy as np\n",
    "import matplotlib\n",
    "import matplotlib.pyplot as plt\n",
    "import math\n",
    "import hist\n",
    "import vector\n",
    "print(\"uproot version\",uproot.__version__)\n",
    "print(\"awkward version\",ak.__version__)\n",
    "print(\"numpy version\",np.__version__)\n",
    "print(\"matplotlib version\",matplotlib.__version__)\n",
    "print(\"hist version\",hist.__version__)\n",
    "print(\"vector version\",vector.__version__)"
   ]
  },
  {
   "cell_type": "code",
   "execution_count": 2,
   "id": "f8e335ce-7e6f-472d-b232-276f4b2d7f99",
   "metadata": {},
   "outputs": [
    {
     "name": "stdout",
     "output_type": "stream",
     "text": [
      "  % Total    % Received % Xferd  Average Speed   Time    Time     Time  Current\n",
      "                                 Dload  Upload   Total   Spent    Left  Speed\n",
      "100  100M  100  100M    0     0  2355k      0  0:00:43  0:00:43 --:--:-- 2648k\n"
     ]
    }
   ],
   "source": [
    "!curl 'https://cernbox.cern.ch/remote.php/dav/public-files/JIjQaAYEQnmRDkX/291694/AnalysisResults.root' > run291694.mc.root"
   ]
  },
  {
   "cell_type": "code",
   "execution_count": 3,
   "id": "94533fb4-8ae7-4d87-829d-1fe509976621",
   "metadata": {},
   "outputs": [
    {
     "name": "stdout",
     "output_type": "stream",
     "text": [
      "run290223.data.root: ROOT file Version 62406 (Compression: 1)\n",
      "run290223.mc.root:   ROOT file Version 62406 (Compression: 1)\n",
      "run291694.mc.root:   ROOT file Version 61600 (Compression: 1)\n",
      "name                 | typename                 | interpretation                \n",
      "---------------------+--------------------------+-------------------------------\n",
      "runNumber            | int32_t                  | AsDtype('>i4')\n",
      "xVtx                 | double                   | AsDtype('>f8')\n",
      "yVtx                 | double                   | AsDtype('>f8')\n",
      "zVtx                 | double                   | AsDtype('>f8')\n",
      "isCINT               | bool                     | AsDtype('bool')\n",
      "isCMSL               | bool                     | AsDtype('bool')\n",
      "isCMSH               | bool                     | AsDtype('bool')\n",
      "isCMLL               | bool                     | AsDtype('bool')\n",
      "isCMUL               | bool                     | AsDtype('bool')\n",
      "nMuons               | int32_t                  | AsDtype('>i4')\n",
      "Muon_E               | std::vector<float>       | AsJagged(AsDtype('>f4'), he...\n",
      "Muon_Px              | std::vector<float>       | AsJagged(AsDtype('>f4'), he...\n",
      "Muon_Py              | std::vector<float>       | AsJagged(AsDtype('>f4'), he...\n",
      "Muon_Pz              | std::vector<float>       | AsJagged(AsDtype('>f4'), he...\n",
      "Muon_Charge          | std::vector<int16_t>     | AsJagged(AsDtype('>i2'), he...\n",
      "Muon_thetaAbs        | std::vector<float>       | AsJagged(AsDtype('>f4'), he...\n",
      "Muon_xDCA            | std::vector<double>      | AsJagged(AsDtype('>f8'), he...\n",
      "Muon_yDCA            | std::vector<double>      | AsJagged(AsDtype('>f8'), he...\n",
      "Muon_zDCA            | std::vector<double>      | AsJagged(AsDtype('>f8'), he...\n",
      "Muon_matchedTrgTh... | std::vector<int32_t>     | AsJagged(AsDtype('>i4'), he...\n",
      "Muon_MCHClusterMap   | std::vector<uint32_t>    | AsJagged(AsDtype('>u4'), he...\n",
      "Muon_MTRHitMapTrg    | std::vector<uint32_t>    | AsJagged(AsDtype('>u4'), he...\n",
      "Muon_MTRHitMapTrk    | std::vector<uint32_t>    | AsJagged(AsDtype('>u4'), he...\n"
     ]
    }
   ],
   "source": [
    "!file *.root\n",
    "file = uproot.open(\"run291694.mc.root\")\n",
    "file.keys()\n",
    "events = file[\"eventsTree\"]\n",
    "events.show()"
   ]
  },
  {
   "cell_type": "code",
   "execution_count": 4,
   "id": "7a0a3d86-2997-4ec1-8d4a-57d415ba069f",
   "metadata": {},
   "outputs": [
    {
     "data": {
      "text/plain": [
       "awkward.highlevel.Array"
      ]
     },
     "execution_count": 4,
     "metadata": {},
     "output_type": "execute_result"
    }
   ],
   "source": [
    "m = events.arrays([\"nMuons\",\"isCMUL\",\"isCINT\",\"Muon_Px\",\"Muon_Py\",\"Muon_Pz\",\"Muon_Charge\",\"Muon_E\",\"Muon_matchedTrgThreshold\"],how=\"zip\")\n",
    "type(m)"
   ]
  },
  {
   "cell_type": "code",
   "execution_count": 5,
   "id": "44d9461e-446a-4eee-b26f-9d1f596110d7",
   "metadata": {},
   "outputs": [
    {
     "name": "stdout",
     "output_type": "stream",
     "text": [
      "Nombre d'évènements : 1232789\n",
      "Nombre d'évènements avec 2 muons : 99051\n",
      "Nombre d'évènements avec 2 muons de charges opposées : 71083\n"
     ]
    },
    {
     "data": {
      "image/png": "[encoded data removed]",
      "text/plain": [
       "<Figure size 640x480 with 1 Axes>"
      ]
     },
     "metadata": {},
     "output_type": "display_data"
    }
   ],
   "source": [
    "def p(px,py,pz):\n",
    "    return np.sqrt(px**2+py**2+pz**2) #Calcul de la norme de l'impulsion\n",
    "\n",
    "def InvariantMass(p,E):\n",
    "    c=3*10**8\n",
    "    return np.sqrt(E**2-p**2)\n",
    "    \n",
    "def chargesOpp(q0,q1):\n",
    "    if q0==q1:\n",
    "        return True\n",
    "    elif q0==-q1:\n",
    "        return False \n",
    "    \n",
    "InvMass = np.array([],dtype=float)\n",
    "nofTracks=0 \n",
    "nofEvents=0  \n",
    "nofCorrectEvents=0\n",
    "for event in m[m.nMuons==2]: #On ne considère que les évènements avec 2 muons\n",
    "    nofEvents+=1\n",
    "    tracks = event[\"Muon\"].to_list()\n",
    "    tracks0=[tracks[0]] #1er muon\n",
    "    tracks1=[tracks[1]] #2e muon\n",
    "    t=tracks0[0]\n",
    "    t1=tracks1[0]\n",
    "    q0=t[\"Charge\"]\n",
    "    q1=t1[\"Charge\"]\n",
    "    if chargesOpp(q0,q1)==False : #On ne garde que les évènements avec 1 µ+ et 1 µ-\n",
    "        valueTrig=t[\"matchedTrgThreshold\"]\n",
    "        valueTrig1=t1[\"matchedTrgThreshold\"]\n",
    "        #if valueTrig>0 and valueTrig1>0: #On ne garde pas les évènements où les traces des muons ne passent aucun seuil de trigger\n",
    "        #if m[m.isCMUL==True]: #CMUL=True pour chaque évènement (dimuon passant le low treshold du trigger)\n",
    "        nofCorrectEvents+=1\n",
    "        E0=t[\"E\"] \n",
    "        E1=t1[\"E\"]\n",
    "        SumE=E0+E1 #Somme des énergies des 2 muons\n",
    "        Px=t[\"Px\"]+t1[\"Px\"]\n",
    "        Py=t[\"Py\"]+t1[\"Py\"]\n",
    "        Pz=t[\"Pz\"]+t1[\"Pz\"]\n",
    "        Sump=p(Px,Py,Pz) #Norme de la somme vectorielle des impulsions des 2 muons\n",
    "        InvMass = np.append(InvMass,InvariantMass(Sump,SumE))\n",
    "plt.hist(InvMass,bins=10000);\n",
    "plt.yscale(\"log\")\n",
    "plt.axis([0,5,1,10000])\n",
    "plt.xlabel(\"Masse invariante mµµ\")\n",
    "plt.title(\"Histogramme de la distribution en masse invariante des évènements avec deux muons de signes opposés\")\n",
    "print(\"Nombre d'évènements :\",len(m[m.nMuons>=0]))\n",
    "print(\"Nombre d'évènements avec 2 muons :\",len(m[m.nMuons==2]))\n",
    "print(\"Nombre d'évènements avec 2 muons de charges opposées :\",nofCorrectEvents)"
   ]
  },
  {
   "cell_type": "code",
   "execution_count": null,
   "id": "a4713a7e-bd25-47e3-8d39-cb58560385d9",
   "metadata": {},
   "outputs": [],
   "source": []
  },
  {
   "cell_type": "code",
   "execution_count": null,
   "id": "037a91dd-01dc-4664-8de4-36eb75d379ba",
   "metadata": {},
   "outputs": [],
   "source": []
  },
  {
   "cell_type": "code",
   "execution_count": null,
   "id": "3e70841f-2964-4168-9470-81b11cf7daea",
   "metadata": {},
   "outputs": [],
   "source": []
  }
 ],
 "metadata": {
  "kernelspec": {
   "display_name": "Python 3 (ipykernel)",
   "language": "python",
   "name": "python3"
  },
  "language_info": {
   "codemirror_mode": {
    "name": "ipython",
    "version": 3
   },
   "file_extension": ".py",
   "mimetype": "text/x-python",
   "name": "python",
   "nbconvert_exporter": "python",
   "pygments_lexer": "ipython3",
   "version": "3.10.8"
  }
 },
 "nbformat": 4,
 "nbformat_minor": 5
}
