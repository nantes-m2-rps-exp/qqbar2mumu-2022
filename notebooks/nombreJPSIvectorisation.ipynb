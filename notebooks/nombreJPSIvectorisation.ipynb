{
 "cells": [
  {
   "cell_type": "code",
   "execution_count": 1,
   "id": "f1f255ac-be8b-44c9-bc03-5069ced98648",
   "metadata": {},
   "outputs": [],
   "source": [
    "import uproot\n",
    "import awkward as ak\n",
    "import numpy as np\n",
    "import math\n",
    "import hist\n",
    "import matplotlib.pyplot as plt\n",
    "import os\n",
    "import subprocess\n",
    "import vector"
   ]
  },
  {
   "cell_type": "code",
   "execution_count": 2,
   "id": "5c005c95-852b-4dc9-8f5e-3d4a7a9e32f9",
   "metadata": {},
   "outputs": [],
   "source": [
    "vector.register_awkward() "
   ]
  },
  {
   "cell_type": "code",
   "execution_count": 3,
   "id": "1b02fb2c-8ec3-48b0-978d-f021c4be1ce6",
   "metadata": {},
   "outputs": [],
   "source": [
    "DATATYPE=\"data\"\n",
    "assert((DATATYPE==\"mc\") or (DATATYPE==\"data\"))\n",
    "BASEDIR=\".\" # basedir where to look for runXXX.DATATYPE.root files\n",
    "IS_MC=True if DATATYPE==\"mc\" else False"
   ]
  },
  {
   "cell_type": "code",
   "execution_count": 4,
   "id": "4ee179bd-4476-4cb5-941c-f5589bf73c47",
   "metadata": {},
   "outputs": [
    {
     "name": "stdout",
     "output_type": "stream",
     "text": [
      "  % Total    % Received % Xferd  Average Speed   Time    Time     Time  Current\n",
      "                                 Dload  Upload   Total   Spent    Left  Speed\n",
      "100  100M  100  100M    0     0  1807k      0  0:00:56  0:00:56 --:--:-- 3354k5M    0     0  1172k      0  0:01:27  0:00:30  0:00:57 2830k\n"
     ]
    }
   ],
   "source": [
    "!curl 'https://cernbox.cern.ch/remote.php/dav/public-files/JIjQaAYEQnmRDkX/291694/AnalysisResults.root' > run291694.data.root"
   ]
  },
  {
   "cell_type": "code",
   "execution_count": 5,
   "id": "aa0c40ef-371c-4c9a-a50f-5c3631e9fc74",
   "metadata": {},
   "outputs": [
    {
     "name": "stdout",
     "output_type": "stream",
     "text": [
      "run290223.data.root: ROOT file Version 62406 (Compression: 1)\n",
      "run290223.mc.root:   ROOT file Version 62406 (Compression: 1)\n",
      "run291694.data.root: ROOT file Version 61600 (Compression: 1)\n",
      "run291694.mc.root:   ROOT file Version 61600 (Compression: 1)\n",
      "name                 | typename                 | interpretation                \n",
      "---------------------+--------------------------+-------------------------------\n",
      "runNumber            | int32_t                  | AsDtype('>i4')\n",
      "xVtx                 | double                   | AsDtype('>f8')\n",
      "yVtx                 | double                   | AsDtype('>f8')\n",
      "zVtx                 | double                   | AsDtype('>f8')\n",
      "isCINT               | bool                     | AsDtype('bool')\n",
      "isCMSL               | bool                     | AsDtype('bool')\n",
      "isCMSH               | bool                     | AsDtype('bool')\n",
      "isCMLL               | bool                     | AsDtype('bool')\n",
      "isCMUL               | bool                     | AsDtype('bool')\n",
      "nMuons               | int32_t                  | AsDtype('>i4')\n",
      "Muon_E               | std::vector<float>       | AsJagged(AsDtype('>f4'), he...\n",
      "Muon_Px              | std::vector<float>       | AsJagged(AsDtype('>f4'), he...\n",
      "Muon_Py              | std::vector<float>       | AsJagged(AsDtype('>f4'), he...\n",
      "Muon_Pz              | std::vector<float>       | AsJagged(AsDtype('>f4'), he...\n",
      "Muon_Charge          | std::vector<int16_t>     | AsJagged(AsDtype('>i2'), he...\n",
      "Muon_thetaAbs        | std::vector<float>       | AsJagged(AsDtype('>f4'), he...\n",
      "Muon_xDCA            | std::vector<double>      | AsJagged(AsDtype('>f8'), he...\n",
      "Muon_yDCA            | std::vector<double>      | AsJagged(AsDtype('>f8'), he...\n",
      "Muon_zDCA            | std::vector<double>      | AsJagged(AsDtype('>f8'), he...\n",
      "Muon_matchedTrgTh... | std::vector<int32_t>     | AsJagged(AsDtype('>i4'), he...\n",
      "Muon_MCHClusterMap   | std::vector<uint32_t>    | AsJagged(AsDtype('>u4'), he...\n",
      "Muon_MTRHitMapTrg    | std::vector<uint32_t>    | AsJagged(AsDtype('>u4'), he...\n",
      "Muon_MTRHitMapTrk    | std::vector<uint32_t>    | AsJagged(AsDtype('>u4'), he...\n"
     ]
    }
   ],
   "source": [
    "!file *.root\n",
    "file = uproot.open(\"run291694.data.root\")\n",
    "file.keys()\n",
    "events = file[\"eventsTree\"]\n",
    "events.show()"
   ]
  },
  {
   "cell_type": "code",
   "execution_count": 6,
   "id": "9773cc38-d94d-4443-9bdb-69d7672c1cc7",
   "metadata": {},
   "outputs": [
    {
     "name": "stdout",
     "output_type": "stream",
     "text": [
      "Nombre total d'évènements avec au moins 2 muons :  109729\n"
     ]
    }
   ],
   "source": [
    "n=0\n",
    "for m in events.iterate([\"nMuons\",\"Muon_Px\",\"Muon_Py\",\"Muon_Pz\",\"Muon_Charge\",\"Muon_E\"],how=\"zip\",step_size=10000):\n",
    "    #Nombre d'évènements avec au moins 2 muons pour chaque lot de 10000 évènements\n",
    "    #print(len(m),len(m[ak.where(m.nMuons>1)])) \n",
    "    n+=len(m[ak.where(m.nMuons>1)])\n",
    "print(\"Nombre total d'évènements avec au moins 2 muons : \",n)"
   ]
  },
  {
   "cell_type": "code",
   "execution_count": 7,
   "id": "392f39a7-74bc-4088-97b3-7fae6fb5dbdc",
   "metadata": {},
   "outputs": [
    {
     "data": {
      "text/plain": [
       "\"{\\ndef vmag(px,py,pz):\\n    #Returns an array of the norms of the 3-vectors (px,py,pz).\\n    return np.sqrt(px*px+py*py+pz*pz) #tableau avec la même dimension que le nombre de muons de l'évènement\\n}\""
      ]
     },
     "execution_count": 7,
     "metadata": {},
     "output_type": "execute_result"
    }
   ],
   "source": [
    "#Calcul de la norme des quantités de mouvement d'un évènement\n",
    "\"\"\"{\n",
    "def vmag(px,py,pz):\n",
    "    #Returns an array of the norms of the 3-vectors (px,py,pz).\n",
    "    return np.sqrt(px*px+py*py+pz*pz) #tableau avec la même dimension que le nombre de muons de l'évènement\n",
    "}\"\"\""
   ]
  },
  {
   "cell_type": "code",
   "execution_count": 8,
   "id": "7edb8c23-b310-49ab-8aea-3a918120c031",
   "metadata": {},
   "outputs": [
    {
     "data": {
      "text/plain": [
       "'{\\n%time\\n#Tous les évènements avec au moins 2 muons\\nfor m in events.iterate([\"nMuons\",\"Muon_Px\",\"Muon_Py\",\"Muon_Pz\",\"Muon_Charge\",\"Muon_E\"],step_size=10000):\\n    atLeastTwoMuon = m.nMuons>1\\n    t = m[atLeastTwoMuon]\\n    mag = vmag(t[\"Muon_Px\"],t[\"Muon_Py\"],t[\"Muon_Pz\"])\\n    muonCharge = t[\"Muon_Charge\"]\\n    muonEnergy = t[\"Muon_E\"]\\nprint(mag[1])\\nprint(muonCharge[1])\\nprint(muonEnergy[1])\\n}'"
      ]
     },
     "execution_count": 8,
     "metadata": {},
     "output_type": "execute_result"
    }
   ],
   "source": [
    "\"\"\"{\n",
    "%time\n",
    "#Tous les évènements avec au moins 2 muons\n",
    "for m in events.iterate([\"nMuons\",\"Muon_Px\",\"Muon_Py\",\"Muon_Pz\",\"Muon_Charge\",\"Muon_E\"],step_size=10000):\n",
    "    atLeastTwoMuon = m.nMuons>1\n",
    "    t = m[atLeastTwoMuon]\n",
    "    mag = vmag(t[\"Muon_Px\"],t[\"Muon_Py\"],t[\"Muon_Pz\"])\n",
    "    muonCharge = t[\"Muon_Charge\"]\n",
    "    muonEnergy = t[\"Muon_E\"]\n",
    "print(mag[1])\n",
    "print(muonCharge[1])\n",
    "print(muonEnergy[1])\n",
    "}\"\"\""
   ]
  },
  {
   "cell_type": "code",
   "execution_count": 9,
   "id": "2f02e88b-98b5-4791-892a-23ba3ebc25ed",
   "metadata": {},
   "outputs": [],
   "source": [
    "def getTracks(events):\n",
    "    return ak.zip({\"px\":events[\"Muon_Px\"],\n",
    "                       \"py\":events[\"Muon_Py\"],\n",
    "                       \"pz\":events[\"Muon_Pz\"],\n",
    "                       \"E\":events[\"Muon_E\"],\n",
    "                       \"charge\":events[\"Muon_Charge\"],\n",
    "                       \"thetaAbs\":events[\"Muon_thetaAbs\"],\n",
    "                       \"matched\":events[\"Muon_matchedTrgThreshold\"]},\n",
    "                    with_name='Momentum4D')"
   ]
  },
  {
   "cell_type": "code",
   "execution_count": 10,
   "id": "83bed0b1-8470-40ae-8749-dd1d51d311c5",
   "metadata": {},
   "outputs": [
    {
     "data": {
      "text/plain": [
       "'{\\n%time\\n#Tous les évènements avec 3 muons\\ndef Charge3(muonCharge,i):\\n    if muonCharge3[i][0] == muonCharge3[i][1] and muonCharge3[i][0] == muonCharge3[i][2]:\\n        return True\\n    else : \\n        return False\\n}'"
      ]
     },
     "execution_count": 10,
     "metadata": {},
     "output_type": "execute_result"
    }
   ],
   "source": [
    "\"\"\"{\n",
    "%time\n",
    "#Tous les évènements avec 3 muons\n",
    "def Charge3(muonCharge,i):\n",
    "    if muonCharge3[i][0] == muonCharge3[i][1] and muonCharge3[i][0] == muonCharge3[i][2]:\n",
    "        return True\n",
    "    else : \n",
    "        return False\n",
    "}\"\"\"\n"
   ]
  },
  {
   "cell_type": "code",
   "execution_count": 12,
   "id": "6cb6e90c-eb62-49de-93ee-fcc00d0a4653",
   "metadata": {},
   "outputs": [
    {
     "data": {
      "text/plain": [
       "'{\\nfor m in events.iterate([\"nMuons\",\"Muon_Px\",\"Muon_Py\",\"Muon_Pz\",\"Muon_Charge\",\"Muon_E\"],step_size=10000):\\n    threeMuon = m.nMuons==3\\n    t3=m[threeMuon] #Tous les évènements avec 3 muons pour chaque lot de 10000 évènements\\n    #print(len(m),len(t3))\\n    muonCharge3 = t3[\"Muon_Charge\"]\\n    #print(muonCharge3[1:3])\\n    #for i in range(0,step_size):\\n    #    if Charge3(muonCharge3,i)==False:\\n            \\n}'"
      ]
     },
     "execution_count": 12,
     "metadata": {},
     "output_type": "execute_result"
    }
   ],
   "source": [
    "\"\"\"{\n",
    "for m in events.iterate([\"nMuons\",\"Muon_Px\",\"Muon_Py\",\"Muon_Pz\",\"Muon_Charge\",\"Muon_E\"],step_size=10000):\n",
    "    threeMuon = m.nMuons==3\n",
    "    t3=m[threeMuon] #Tous les évènements avec 3 muons pour chaque lot de 10000 évènements\n",
    "    #print(len(m),len(t3))\n",
    "    muonCharge3 = t3[\"Muon_Charge\"]\n",
    "    #print(muonCharge3[1:3])\n",
    "    #for i in range(0,step_size):\n",
    "    #    if Charge3(muonCharge3,i)==False:\n",
    "            \n",
    "}\"\"\""
   ]
  },
  {
   "cell_type": "code",
   "execution_count": 195,
   "id": "29b79c21-9dac-4402-b630-69aad386b200",
   "metadata": {},
   "outputs": [],
   "source": [
    "def scan(dataDescription, \n",
    "              hMag:hist.Hist, hPhi:hist.Hist, hInvMass:hist.Hist, hQualInvMass:hist.Hist,\n",
    "              eventSelector=lambda x:[True]*len(x),\n",
    "              trackSelector=lambda x:[True]*len(x),\n",
    "              verbose:bool=False):\n",
    "    \"\"\" Loop over data to fill the invariant mass histogram.\n",
    "        \n",
    "        :param: dataDescription: is anything uproot.iterate can take.\n",
    "                typical something like run*.data.root:eventsTree in our case\n",
    "        :param: eventSelector: returns an array of bool from an array of events\n",
    "        :param: trackSelector: returns an array of bool from an array of tracks\n",
    "    \"\"\"\n",
    "\n",
    "    for batch in uproot.iterate(dataDescription,\n",
    "                                [\"isCINT\",\"isCMUL\",\"isCMSL\",\"Muon_Px\",\"Muon_Py\",\"Muon_Pz\",\"Muon_E\",\"Muon_Charge\",\"Muon_thetaAbs\",\"Muon_matchedTrgThreshold\"],                                \n",
    "                                 step_size=\"100 MB\", report=True):\n",
    "        events=batch[0] # batch[1] is the report info\n",
    "        if len(events) < 1000:\n",
    "            print(\"something is wrong\",batch[0:5]) # this is a protection for some corrupted input data files \n",
    "            break\n",
    "            \n",
    "        goodEvents = events[eventSelector(events)] #selection des évènements CMUL\n",
    "        tracks = getTracks(events) #on utilise la fonction getTracks définie précédemment\n",
    "        goodTracks=tracks[trackSelector(tracks)] #selection des évènements (eta, theta et trigger)\n",
    "        \n",
    "        #pairs = ak.combinations(goodTracks, 2)\n",
    "        #one, two = ak.unzip(pairs)\n",
    "        #rapidity_cut = (abs(one.eta<4)) & (abs(one.eta>2))\n",
    "        #opposite_charge_cut = (one.charge + two.charge == 0) & (abs(one.eta<2))\n",
    "        #quality_one = one[opposite_charge_cut]\n",
    "        #quality_two = two[opposite_charge_cut]\n",
    "        #invariant_mass = (quality_one + quality_two).mass\n",
    "        \n",
    "        pairs = ak.combinations(goodTracks, 2) #toutes les combinaisons de 2 traces\n",
    "        one, two = ak.unzip(pairs)\n",
    "        quality_one, quality_two = ak.unzip(pairs[(one.charge + two.charge == 0) & (abs(one.eta) <4) & (abs(one.eta)>2.5) \n",
    "                                                 & (abs(two.eta)<4) & (abs(two.eta)>2.5)]) #selection pairs signes opposées et y dans l'acceptance\n",
    "        invariant_mass = (one + two).mass #masse invariante sans distinction des good pairs\n",
    "        quality_invariant_mass = (quality_one + quality_two).mass #masse invariante avec correction\n",
    "    \n",
    "        hMag.fill(ak.flatten(goodTracks.p))\n",
    "        hPhi.fill(ak.flatten(goodTracks.phi)) \n",
    "        hInvMass.fill(ak.flatten(invariant_mass))\n",
    "        hQualInvMass.fill(ak.flatten(quality_invariant_mass))\n",
    "\n",
    "\n",
    "        if verbose:\n",
    "            print(batch[1])"
   ]
  },
  {
   "cell_type": "code",
   "execution_count": 196,
   "id": "113fd41c-dc38-427f-af4e-1ed738ce115d",
   "metadata": {},
   "outputs": [
    {
     "name": "stdout",
     "output_type": "stream",
     "text": [
      "CPU times: user 6.82 s, sys: 16 ms, total: 6.84 s\n",
      "Wall time: 6.85 s\n"
     ]
    }
   ],
   "source": [
    "%%time\n",
    "## SINGLE MUON TRACK PLOTS\n",
    "#No cuts\n",
    "vhMagRaw = hist.Hist(hist.axis.Regular(bins=100,start=0,stop=100,name='$|p|$'))\n",
    "vhPhiRaw = hist.Hist(hist.axis.Regular(bins=200,start=-22/7,stop=22/7,name='$\\phi$'))\n",
    "vhInvMass = hist.Hist(hist.axis.Regular(bins=200,start=0,stop=5,name='invariant mass'))\n",
    "vhQualInvMass = hist.Hist(hist.axis.Regular(bins=200,start=0,stop=5,name='invariant mass with good pairs'))\n",
    "#Event selection\n",
    "vhMagEvSel = hist.Hist(hist.axis.Regular(bins=100,start=0,stop=100,name='$|p|$'))\n",
    "vhPhiEvSel = hist.Hist(hist.axis.Regular(bins=200,start=-22/7,stop=22/7,name='$\\phi$'))\n",
    "vhInvMassEvSel = hist.Hist(hist.axis.Regular(bins=200,start=0,stop=5,name='invariant mass'))\n",
    "vhQualInvMassEvSel = hist.Hist(hist.axis.Regular(bins=200,start=0,stop=5,name='invariant mass with good pairs'))\n",
    "\n",
    "\n",
    "scan(dataDescription=f\"{BASEDIR}/run*.{DATATYPE}.root:eventsTree\",\n",
    "          hMag=vhMagRaw, hPhi=vhPhiRaw, hInvMass=vhInvMass, hQualInvMass=vhQualInvMass)\n",
    "\n",
    "scan(dataDescription=f\"{BASEDIR}/run*.{DATATYPE}.root:eventsTree\",\n",
    "          hMag=vhMagEvSel, hPhi=vhPhiEvSel, hInvMass=vhInvMassEvSel, hQualInvMass=vhQualInvMassEvSel,\n",
    "          eventSelector=lambda x: x[\"isCMUL\"]==True,\n",
    "          trackSelector=lambda x: (x.eta<-2.5) & (x.eta>-4) & (x[\"thetaAbs\"]>2) & (x[\"thetaAbs\"]<9) & (x[\"matched\"]==2))"
   ]
  },
  {
   "cell_type": "code",
   "execution_count": 197,
   "id": "8ad351f9-065e-4fbd-ab3c-52ccabac94f4",
   "metadata": {},
   "outputs": [
    {
     "data": {
      "image/png": "[encoded data removed]",
      "text/plain": [
       "<Figure size 640x480 with 1 Axes>"
      ]
     },
     "metadata": {},
     "output_type": "display_data"
    },
    {
     "name": "stdout",
     "output_type": "stream",
     "text": [
      "CPU times: user 782 ms, sys: 112 ms, total: 895 ms\n",
      "Wall time: 696 ms\n"
     ]
    }
   ],
   "source": [
    "%%time\n",
    "vhInvMass.plot(label=\"no cuts\")\n",
    "vhQualInvMassEvSel.plot(label=\"events selected (good tracks + good pairs)\")\n",
    "plt.yscale(\"log\")\n",
    "plt.ylabel(\"# of tracks\")\n",
    "plt.legend()\n",
    "plt.show()"
   ]
  },
  {
   "cell_type": "code",
   "execution_count": null,
   "id": "e1199f12-8e4a-4194-b082-8551fc636a90",
   "metadata": {},
   "outputs": [],
   "source": []
  }
 ],
 "metadata": {
  "kernelspec": {
   "display_name": "Python 3 (ipykernel)",
   "language": "python",
   "name": "python3"
  },
  "language_info": {
   "codemirror_mode": {
    "name": "ipython",
    "version": 3
   },
   "file_extension": ".py",
   "mimetype": "text/x-python",
   "name": "python",
   "nbconvert_exporter": "python",
   "pygments_lexer": "ipython3",
   "version": "3.10.8"
  }
 },
 "nbformat": 4,
 "nbformat_minor": 5
}
