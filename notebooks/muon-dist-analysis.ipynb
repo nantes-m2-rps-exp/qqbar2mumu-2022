{
 "cells": [
  {
   "cell_type": "code",
   "execution_count": 544,
   "id": "943c4485-fcb0-4000-a413-49d81eb3b9dc",
   "metadata": {},
   "outputs": [],
   "source": [
    "import uproot\n",
    "import awkward as ak\n",
    "import numpy as np\n",
    "import math\n",
    "import hist\n",
    "import matplotlib.pyplot as plt\n",
    "import os\n",
    "import subprocess\n",
    "import vector"
   ]
  },
  {
   "cell_type": "code",
   "execution_count": 545,
   "id": "cbd5f867-ee55-417f-b59f-874318cd52bb",
   "metadata": {},
   "outputs": [],
   "source": [
    "vector.register_awkward() "
   ]
  },
  {
   "cell_type": "code",
   "execution_count": 562,
   "id": "10f3e0ea-d515-42ef-a2af-25819fd9864f",
   "metadata": {},
   "outputs": [],
   "source": [
    "DATATYPE=\"data\"\n",
    "assert((DATATYPE==\"mc\") or (DATATYPE==\"data\"))\n",
    "BASEDIR=\"/data\" # basedir where to look for runXXX.DATATYPE.root files\n",
    "IS_MC=True if DATATYPE==\"mc\" else False"
   ]
  },
  {
   "cell_type": "code",
   "execution_count": 563,
   "id": "3ebf9d15-c393-4c80-9e12-112081e0a509",
   "metadata": {},
   "outputs": [],
   "source": [
    "def data_url(run,is_mc):\n",
    "    basesrc=\"https://cernbox.cern.ch/remote.php/dav/public-files/VJZ5whMyF5Kxldd/dimuonData_LHC18m\"\n",
    "    if is_mc==True:\n",
    "        basesrc+=\"MC\"\n",
    "    return f\"{basesrc}/{run}/AnalysisResults.root\"\n",
    "\n",
    "def data_file_path(run,is_mc=IS_MC,dest=BASEDIR):\n",
    "    datatype=\"mc\" if is_mc else \"data\"\n",
    "    print({dest},\"/run\",{run},\".\",{datatype},\".root\")\n",
    "    return f\"{dest}/run{run}.{datatype}.root\"\n",
    "\n",
    "def copy_cmd(run,is_mc,dest):\n",
    "    return f\"curl '{data_url(run,is_mc)}' > {data_file_path(run,is_mc,dest)}\""
   ]
  },
  {
   "cell_type": "code",
   "execution_count": 564,
   "id": "cadaaaf3-b071-49f1-9cbb-50b9aa372282",
   "metadata": {},
   "outputs": [
    {
     "name": "stdout",
     "output_type": "stream",
     "text": [
      "Is it MC? Answer: False\n",
      "{'/data'} /run {290223} . {'data'} .root\n",
      "Is it MC? Answer: False\n",
      "{'/data'} /run {291694} . {'data'} .root\n",
      "Is it MC? Answer: False\n",
      "{'/data'} /run {291399} . {'data'} .root\n"
     ]
    }
   ],
   "source": [
    "#SAMPLE_RUNS=[291694,291399]\n",
    "SAMPLE_RUNS=[290223,291694,291399]\n",
    "for run in SAMPLE_RUNS:\n",
    "    print(\"Is it MC? Answer:\", IS_MC);\n",
    "    if not os.path.exists(data_file_path(run,IS_MC)):\n",
    "        os.makedirs(BASEDIR,exist_ok=True)\n",
    "        subprocess.call(copy_cmd(run,IS_MC,BASEDIR),shell=True)"
   ]
  },
  {
   "cell_type": "code",
   "execution_count": 565,
   "id": "a8bf2254-ba68-4e89-84c0-1f5691035287",
   "metadata": {},
   "outputs": [
    {
     "name": "stdout",
     "output_type": "stream",
     "text": [
      "{'/data'} /run {290223} . {'data'} .root\n",
      "name                 | typename                 | interpretation                \n",
      "---------------------+--------------------------+-------------------------------\n",
      "runNumber            | int32_t                  | AsDtype('>i4')\n",
      "xVtx                 | double                   | AsDtype('>f8')\n",
      "yVtx                 | double                   | AsDtype('>f8')\n",
      "zVtx                 | double                   | AsDtype('>f8')\n",
      "isCINT               | bool                     | AsDtype('bool')\n",
      "isCMSL               | bool                     | AsDtype('bool')\n",
      "isCMSH               | bool                     | AsDtype('bool')\n",
      "isCMLL               | bool                     | AsDtype('bool')\n",
      "isCMUL               | bool                     | AsDtype('bool')\n",
      "nMuons               | int32_t                  | AsDtype('>i4')\n",
      "Muon_E               | std::vector<float>       | AsJagged(AsDtype('>f4'), he...\n",
      "Muon_Px              | std::vector<float>       | AsJagged(AsDtype('>f4'), he...\n",
      "Muon_Py              | std::vector<float>       | AsJagged(AsDtype('>f4'), he...\n",
      "Muon_Pz              | std::vector<float>       | AsJagged(AsDtype('>f4'), he...\n",
      "Muon_Charge          | std::vector<int16_t>     | AsJagged(AsDtype('>i2'), he...\n",
      "Muon_thetaAbs        | std::vector<float>       | AsJagged(AsDtype('>f4'), he...\n",
      "Muon_xDCA            | std::vector<double>      | AsJagged(AsDtype('>f8'), he...\n",
      "Muon_yDCA            | std::vector<double>      | AsJagged(AsDtype('>f8'), he...\n",
      "Muon_zDCA            | std::vector<double>      | AsJagged(AsDtype('>f8'), he...\n",
      "Muon_matchedTrgTh... | std::vector<int32_t>     | AsJagged(AsDtype('>i4'), he...\n",
      "Muon_MCHClusterMap   | std::vector<uint32_t>    | AsJagged(AsDtype('>u4'), he...\n",
      "Muon_MTRHitMapTrg    | std::vector<uint32_t>    | AsJagged(AsDtype('>u4'), he...\n",
      "Muon_MTRHitMapTrk    | std::vector<uint32_t>    | AsJagged(AsDtype('>u4'), he...\n"
     ]
    }
   ],
   "source": [
    "file = uproot.open(data_file_path(SAMPLE_RUNS[0],IS_MC))\n",
    "events = file[\"eventsTree\"]\n",
    "events.show()"
   ]
  },
  {
   "cell_type": "code",
   "execution_count": 566,
   "id": "cad12c86-befd-446d-9739-463559276a31",
   "metadata": {},
   "outputs": [
    {
     "data": {
      "text/plain": [
       "77444"
      ]
     },
     "execution_count": 566,
     "metadata": {},
     "output_type": "execute_result"
    }
   ],
   "source": [
    "events.num_entries"
   ]
  },
  {
   "cell_type": "markdown",
   "id": "a4c1938d-76cb-40be-b9d3-5967f6b75e6c",
   "metadata": {},
   "source": [
    "# 1-Analyse en muon simple"
   ]
  },
  {
   "cell_type": "code",
   "execution_count": 567,
   "id": "48e2f3ae-8300-462d-b6e0-10f8dc308068",
   "metadata": {},
   "outputs": [],
   "source": [
    "def getTracks(events):\n",
    "    return ak.zip({\"px\":events[\"Muon_Px\"],\n",
    "                       \"py\":events[\"Muon_Py\"],\n",
    "                       \"pz\":events[\"Muon_Pz\"],\n",
    "                       \"E\":events[\"Muon_E\"],\n",
    "                       \"charge\":events[\"Muon_Charge\"],\n",
    "                       \"thetaAbs\":events[\"Muon_thetaAbs\"],\n",
    "                       \"matched\":events[\"Muon_matchedTrgThreshold\"]},\n",
    "                    with_name='Momentum4D')\n",
    "\n",
    "def getPairs(tracks):\n",
    "    \"\"\" Extract the pairs from an array of tracks.\n",
    "    \n",
    "    And compute a few fields for each pair : their rapidity, mass and \n",
    "    whether or not the charge of their two tracks are different \n",
    "    \"\"\"\n",
    "    \n",
    "    twoOrMore = tracks[ak.num(tracks)>=2]\n",
    "    pairs = ak.combinations(twoOrMore,2,fields={\"first\",\"second\"})\n",
    "    one, two = pairs.slot0,pairs.slot1\n",
    "    opposite_charge = one.charge != two.charge\n",
    "    s = (one+two)\n",
    "    pairs[\"y\"]=s.rapidity\n",
    "    pairs[\"pt\"]=s.pt\n",
    "    pairs[\"unlike-sign\"]=opposite_charge\n",
    "    pairs[\"mass\"]=s.mass\n",
    "    return pairs"
   ]
  },
  {
   "cell_type": "code",
   "execution_count": 568,
   "id": "43b800e2-915e-442a-aa66-935ee621c400",
   "metadata": {},
   "outputs": [],
   "source": [
    "def scan(dataDescription, \n",
    "              hMag:hist.Hist, hTheta:hist.Hist, hEta:hist.Hist, hPt:hist.Hist, hPhi:hist.Hist, \n",
    "              hpMinv:hist.Hist, hpY:hist.Hist, hpPt:hist.Hist,\n",
    "              eventSelector=lambda x:[True]*len(x),\n",
    "              trackSelector=lambda x:[True]*len(x), \n",
    "              pairSelector=lambda x:[True]*len(x),\n",
    "              verbose:bool=False):\n",
    "    \"\"\" Loop over data to fill the invariant mass histogram.\n",
    "        \n",
    "        :param: dataDescription: is anything uproot.iterate can take.\n",
    "                typical something like run*.data.root:eventsTree in our case\n",
    "        :param: eventSelector: returns an array of bool from an array of events\n",
    "        :param: trackSelector: returns an array of bool from an array of tracks\n",
    "    \"\"\"\n",
    "    \n",
    "    for batch in uproot.iterate(dataDescription,\n",
    "                                [\"isCINT\",\"isCMUL\",\"isCMSL\",\"Muon_Px\",\"Muon_Py\",\"Muon_Pz\",\"Muon_E\",\"Muon_Charge\",\"Muon_thetaAbs\",\"Muon_matchedTrgThreshold\"],                                \n",
    "                                 step_size=\"100 MB\", report=True):\n",
    "        events=batch[0] # batch[1] is the report info\n",
    "        if len(events) < 1000:\n",
    "            print(\"something is wrong\",batch[1]) # this is a protection for some corrupted input data files \n",
    "            break\n",
    "        goodEvents = events[eventSelector(events)] \n",
    "        \n",
    "        tracks = getTracks(goodEvents)\n",
    "        goodTracks=tracks[trackSelector(tracks)]\n",
    "    \n",
    "        hMag.fill(ak.flatten(goodTracks.p))\n",
    "        hTheta.fill(ak.flatten(goodTracks.theta))\n",
    "        hEta.fill(ak.flatten(goodTracks.eta))\n",
    "        hPt.fill(ak.flatten(goodTracks.pt))\n",
    "        hPhi.fill(ak.flatten(goodTracks.phi))    \n",
    "        \n",
    "        pairs = getPairs(goodTracks)\n",
    "        goodPairs = pairs[pairSelector(pairs)]\n",
    "        \n",
    "        hpMinv.fill(ak.flatten(goodPairs.mass))\n",
    "        hpY.fill(ak.flatten(goodPairs.y))\n",
    "        hpPt.fill(ak.flatten(goodPairs.pt))\n",
    "\n",
    "        if verbose:\n",
    "            print(batch[1])\n"
   ]
  },
  {
   "cell_type": "code",
   "execution_count": null,
   "id": "97fd5e4b-9a97-42a9-a403-99418d3ac8f0",
   "metadata": {},
   "outputs": [],
   "source": [
    "%%time\n",
    "## SINGLE MUON TRACK PLOTS\n",
    "#No cuts\n",
    "vhMagRaw = hist.Hist(hist.axis.Regular(bins=100,start=0,stop=100,name='$|p|$'))\n",
    "vhThetaRaw = hist.Hist(hist.axis.Regular(bins=100,start=2,stop=22/7,name='$\\\\theta$'))\n",
    "vhEtaRaw = hist.Hist(hist.axis.Regular(bins=100,start=-6,stop=0,name='$\\eta$'))\n",
    "vhPtRaw = hist.Hist(hist.axis.Regular(bins=100,start=0,stop=20,name='$p_T$'))\n",
    "vhPhiRaw = hist.Hist(hist.axis.Regular(bins=200,start=-22/7,stop=22/7,name='$\\phi$'))\n",
    "#Event selection\n",
    "vhMagEvSel = hist.Hist(hist.axis.Regular(bins=100,start=0,stop=100,name='$|p|$'))\n",
    "vhThetaEvSel = hist.Hist(hist.axis.Regular(bins=100,start=2,stop=22/7,name='$\\\\theta$'))\n",
    "vhEtaEvSel = hist.Hist(hist.axis.Regular(bins=100,start=-6,stop=0,name='$\\eta$'))\n",
    "vhPtEvSel = hist.Hist(hist.axis.Regular(bins=100,start=0,stop=20,name='$p_T$'))\n",
    "vhPhiEvSel = hist.Hist(hist.axis.Regular(bins=200,start=-22/7,stop=22/7,name='$\\phi$'))\n",
    "#Cuts applied\n",
    "vhMag = hist.Hist(hist.axis.Regular(bins=100,start=0,stop=100,name='$|p|$'))\n",
    "vhTheta = hist.Hist(hist.axis.Regular(bins=100,start=2,stop=22/7,name='$\\\\theta$'))\n",
    "vhEta = hist.Hist(hist.axis.Regular(bins=100,start=-6,stop=0,name='$\\eta$'))\n",
    "vhPt = hist.Hist(hist.axis.Regular(bins=100,start=0,stop=20,name='$p_T$'))\n",
    "vhPhi = hist.Hist(hist.axis.Regular(bins=200,start=-22/7,stop=22/7,name='$\\phi$'))\n",
    "\n",
    "## DIMUON MASS PAIR PLOTS\n",
    "#No cuts\n",
    "vhpMinvRaw = hist.Hist(hist.axis.Regular(bins=200,start=0,stop=20,name='$M_{\\mu\\mu}$'))\n",
    "vhpYRaw = hist.Hist(hist.axis.Regular(bins=100,start=-7,stop=0,name='$y$'))\n",
    "vhpPtRaw = hist.Hist(hist.axis.Regular(bins=100,start=0,stop=20,name='$p_{T}$'))\n",
    "#Event selection\n",
    "vhpMinvEvSel = hist.Hist(hist.axis.Regular(bins=200,start=0,stop=20,name='$M_{\\mu\\mu}$'))\n",
    "vhpYEvSel = hist.Hist(hist.axis.Regular(bins=100,start=-7,stop=0,name='$y$'))\n",
    "vhpPtEvSel = hist.Hist(hist.axis.Regular(bins=100,start=0,stop=20,name='$p_{T}$'))\n",
    "#Cuts applied\n",
    "vhpMinv = hist.Hist(hist.axis.Regular(bins=200,start=0,stop=20,name='$M_{\\mu\\mu}$'))\n",
    "vhpY = hist.Hist(hist.axis.Regular(bins=100,start=-7,stop=0,name='$y$'))\n",
    "vhpPt = hist.Hist(hist.axis.Regular(bins=100,start=0,stop=20,name='$p_{T}$'))\n",
    "\n",
    "scan(dataDescription=f\"{BASEDIR}/run*.{DATATYPE}.root:eventsTree\",\n",
    "          hMag=vhMagRaw, hTheta=vhThetaRaw, hEta=vhEtaRaw, hPt=vhPtRaw, hPhi=vhPhiRaw,\n",
    "          hpMinv=vhpMinvRaw, hpY=vhpYRaw, hpPt=vhpPtRaw,\n",
    "          pairSelector=lambda x: x[\"unlike-sign\"]==True)\n",
    "\n",
    "\n",
    "scan(dataDescription=f\"{BASEDIR}/run*.{DATATYPE}.root:eventsTree\",\n",
    "          hMag=vhMagEvSel, hTheta=vhThetaEvSel, hEta=vhEtaEvSel, hPt=vhPtEvSel, hPhi=vhPhiEvSel,\n",
    "          hpMinv=vhpMinvEvSel, hpY=vhpYEvSel, hpPt=vhpPtEvSel,\n",
    "          eventSelector=lambda x: x[\"isCMUL\"]==True,\n",
    "          pairSelector=lambda x: x[\"unlike-sign\"]==True)\n",
    "\n",
    "scan(dataDescription=f\"{BASEDIR}/run*.{DATATYPE}.root:eventsTree\",\n",
    "          hMag=vhMag, hTheta=vhTheta, hEta=vhEta, hPt=vhPt, hPhi=vhPhi,\n",
    "          hpMinv=vhpMinv, hpY=vhpY, hpPt=vhpPt,\n",
    "          trackSelector=lambda x: (x[\"matched\"]>0) & (x.pt>0) & (x.eta>-4) & (x.eta<-2.5) & (x.thetaAbs>2) & (x.thetaAbs<10),\n",
    "          eventSelector=lambda x: x[\"isCMUL\"]==True,\n",
    "          pairSelector=lambda x: (x[\"y\"] > -4) & (x[\"y\"] < -2.5) & x[\"unlike-sign\"]==True)"
   ]
  },
  {
   "cell_type": "code",
   "execution_count": null,
   "id": "0fed2b03-3af1-4620-aa05-a6d38c876244",
   "metadata": {},
   "outputs": [],
   "source": [
    "vhMagRaw.plot(label=\"no cuts\")\n",
    "vhMagEvSel.plot(label=\"events selected\")\n",
    "vhMag.plot(label=\"tracks selected\")\n",
    "plt.yscale(\"log\")\n",
    "plt.ylabel(\"# of tracks\")\n",
    "plt.title('Total momentum of tracks');\n",
    "plt.legend();\n"
   ]
  },
  {
   "cell_type": "code",
   "execution_count": null,
   "id": "c1e4d992-ce06-49ce-9be7-b2dd68b915e1",
   "metadata": {},
   "outputs": [],
   "source": [
    "vhThetaRaw.plot(label=\"no cuts\")\n",
    "vhThetaEvSel.plot(label=\"events selected\")\n",
    "vhTheta.plot(label=\"tracks selected\")\n",
    "plt.yscale(\"log\")\n",
    "plt.ylabel(\"# of tracks\")"
   ]
  },
  {
   "cell_type": "code",
   "execution_count": null,
   "id": "ceddcfc9-65c9-421b-ad71-a1594c90e5c5",
   "metadata": {},
   "outputs": [],
   "source": [
    "vhEtaRaw.plot(label=\"no cuts\")\n",
    "vhEtaEvSel.plot(label=\"events selected\")\n",
    "vhEta.plot(label=\"tracks selected\")\n",
    "plt.yscale(\"log\")\n",
    "plt.ylabel(\"# of tracks\")\n",
    "plt.title('pseudorapidity of tracks');\n",
    "plt.legend();"
   ]
  },
  {
   "cell_type": "code",
   "execution_count": null,
   "id": "4b9b9305-a5ae-4155-960f-29b35aa58ae6",
   "metadata": {},
   "outputs": [],
   "source": [
    "vhPtRaw.plot(label=\"no cuts\")\n",
    "vhPtEvSel.plot(label=\"events selected\")\n",
    "vhPt.plot(label=\"tracks selected\")\n",
    "plt.yscale(\"log\")\n",
    "plt.ylabel(\"# of tracks\")\n",
    "plt.title('Transverse momentum of tracks');\n",
    "plt.legend();"
   ]
  },
  {
   "cell_type": "code",
   "execution_count": null,
   "id": "8360c05d-aa18-4741-a7a4-56af9b70e84c",
   "metadata": {},
   "outputs": [],
   "source": [
    "vhPhiRaw.plot(label=\"no cuts\")\n",
    "vhPhiEvSel.plot(label=\"events selected\")\n",
    "vhPhi.plot(label=\"tracks selected\")\n",
    "plt.yscale(\"log\")\n",
    "plt.ylabel(\"# of tracks\")\n",
    "plt.title('Azimuthal angle distribution of tracks');\n",
    "plt.legend();"
   ]
  },
  {
   "cell_type": "markdown",
   "id": "cd8aecef-4328-43d4-a4c3-08140fb1e74a",
   "metadata": {},
   "source": [
    "# 2-Analyse en masse invariante des paires de muons"
   ]
  },
  {
   "cell_type": "code",
   "execution_count": null,
   "id": "5fa834a2-1053-4c7b-87f7-6a7bfa9836dc",
   "metadata": {},
   "outputs": [],
   "source": [
    "vhpMinvRaw.plot(label=\"no cuts\")\n",
    "vhpMinvEvSel.plot(label=\"events selected\")\n",
    "vhpMinv.plot(label=\"tracks & pairs selected\")\n",
    "plt.yscale(\"log\")\n",
    "plt.ylabel(\"# of pairs\")\n",
    "plt.title('Invariant mass distribution of muons');\n",
    "plt.legend();"
   ]
  },
  {
   "cell_type": "code",
   "execution_count": null,
   "id": "3d7bb148-a075-464a-913e-b5ab88c9d175",
   "metadata": {},
   "outputs": [],
   "source": [
    "vhpYRaw.plot(label=\"no cuts\")\n",
    "vhpYEvSel.plot(label=\"events selected\")\n",
    "vhpY.plot(label=\"tracks & pairs selected\")\n",
    "plt.yscale(\"log\")\n",
    "plt.ylabel(\"# of pairs\")\n",
    "plt.title('Rapidity distribution of muons');\n",
    "plt.legend();"
   ]
  },
  {
   "cell_type": "code",
   "execution_count": null,
   "id": "d6969bac-25de-4460-844d-fcf2b54b440c",
   "metadata": {},
   "outputs": [],
   "source": [
    "vhpPtRaw.plot(label=\"no cuts\")\n",
    "vhpPtEvSel.plot(label=\"events selected\")\n",
    "vhpPt.plot(label=\"tracks & pairs selected\")\n",
    "plt.yscale(\"log\")\n",
    "plt.ylabel(\"# of pairs\")\n",
    "plt.title('Transverse momentum distribution of muons');\n",
    "plt.legend();"
   ]
  },
  {
   "cell_type": "code",
   "execution_count": null,
   "id": "78f0fa9b-25de-4e37-849e-7fb8ed956498",
   "metadata": {},
   "outputs": [],
   "source": [
    "with uproot.recreate(\"all.dimuHist.root\") as file:\n",
    "    file[\"hMinv\"]=vhpMinv\n",
    "    file[\"hY\"]=vhpY\n",
    "    file[\"hPt\"]=vhpPt"
   ]
  },
  {
   "cell_type": "code",
   "execution_count": null,
   "id": "2ae821d0-942b-4a2c-922e-d60304225eb0",
   "metadata": {},
   "outputs": [],
   "source": [
    "with uproot.open(\"all.hminv.root\") as file:\n",
    "    print(file.keys())\n",
    "    h1=file[\"hMinv\"].to_hist()\n",
    "    h2=file[\"hY\"].to_hist()\n",
    "    h3=file[\"hPt\"].to_hist()"
   ]
  },
  {
   "cell_type": "code",
   "execution_count": null,
   "id": "b0db6a85-76fe-406a-98b2-2da8e6bb7eb6",
   "metadata": {},
   "outputs": [],
   "source": [
    "h1.plot()"
   ]
  },
  {
   "cell_type": "code",
   "execution_count": null,
   "id": "73bc7c72-e2d7-4dca-9f28-798986db998b",
   "metadata": {},
   "outputs": [],
   "source": [
    "h2.plot()"
   ]
  },
  {
   "cell_type": "code",
   "execution_count": null,
   "id": "f5c078bc-119d-4d71-b34b-4a598fe74679",
   "metadata": {},
   "outputs": [],
   "source": [
    "h3.plot()"
   ]
  }
 ],
 "metadata": {
  "kernelspec": {
   "display_name": "Python 3 (ipykernel)",
   "language": "python",
   "name": "python3"
  },
  "language_info": {
   "codemirror_mode": {
    "name": "ipython",
    "version": 3
   },
   "file_extension": ".py",
   "mimetype": "text/x-python",
   "name": "python",
   "nbconvert_exporter": "python",
   "pygments_lexer": "ipython3",
   "version": "3.9.15"
  }
 },
 "nbformat": 4,
 "nbformat_minor": 5
}
