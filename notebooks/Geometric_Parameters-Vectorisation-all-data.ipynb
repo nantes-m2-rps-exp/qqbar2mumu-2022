{
 "cells": [
  {
   "cell_type": "code",
   "execution_count": 7,
   "id": "f1f255ac-be8b-44c9-bc03-5069ced98648",
   "metadata": {},
   "outputs": [],
   "source": [
    "import uproot\n",
    "import awkward as ak\n",
    "import numpy as np\n",
    "import math\n",
    "import hist\n",
    "import matplotlib.pyplot as plt\n",
    "import os\n",
    "import subprocess\n",
    "import vector"
   ]
  },
  {
   "cell_type": "code",
   "execution_count": 8,
   "id": "5c005c95-852b-4dc9-8f5e-3d4a7a9e32f9",
   "metadata": {},
   "outputs": [],
   "source": [
    "vector.register_awkward() "
   ]
  },
  {
   "cell_type": "code",
   "execution_count": 9,
   "id": "1b02fb2c-8ec3-48b0-978d-f021c4be1ce6",
   "metadata": {},
   "outputs": [],
   "source": [
    "DATATYPE=\"data\"\n",
    "assert((DATATYPE==\"mc\") or (DATATYPE==\"data\"))\n",
    "BASEDIR=\".\" # basedir where to look for runXXX.DATATYPE.root files\n",
    "IS_MC=True if DATATYPE==\"mc\" else False"
   ]
  },
  {
   "cell_type": "code",
   "execution_count": 10,
   "id": "4ee179bd-4476-4cb5-941c-f5589bf73c47",
   "metadata": {},
   "outputs": [
    {
     "name": "stdout",
     "output_type": "stream",
     "text": [
      "  % Total    % Received % Xferd  Average Speed   Time    Time     Time  Current\n",
      "                                 Dload  Upload   Total   Spent    Left  Speed\n",
      "100  100M  100  100M    0     0   132k      0  0:12:53  0:12:53 --:--:-- 1450k  0  0:21:06  0:00:18  0:20:48  104k 108k      0  0:15:50  0:00:59  0:14:51  110k3k      0  0:15:05  0:01:28  0:13:37  127k0   120k      0  0:14:12  0:06:42  0:07:30 92578   120k      0  0:14:15  0:07:02  0:07:13  114k  0     0   116k      0  0:14:44  0:09:21  0:05:23  112k   116k      0  0:14:44  0:09:22  0:05:22  111k     0   116k      0  0:14:44  0:09:33  0:05:11  103k    0  0:15:02  0:10:53  0:04:09 56166\n"
     ]
    }
   ],
   "source": [
    "!curl 'https://cernbox.cern.ch/remote.php/dav/public-files/JIjQaAYEQnmRDkX/291694/AnalysisResults.root' > run291694.data.root"
   ]
  },
  {
   "cell_type": "code",
   "execution_count": 6,
   "id": "aa0c40ef-371c-4c9a-a50f-5c3631e9fc74",
   "metadata": {},
   "outputs": [
    {
     "name": "stdout",
     "output_type": "stream",
     "text": [
      "run290223.data.root: ROOT file Version 62406 (Compression: 1)\n",
      "run290223.mc.root:   ROOT file Version 62406 (Compression: 1)\n",
      "run291694.data.root: ROOT file Version 61600 (Compression: 1)\n",
      "run291694.mc.root:   ROOT file Version 61600 (Compression: 1)\n"
     ]
    },
    {
     "ename": "OSError",
     "evalue": "expected Chunk of length 153,\nreceived 0 bytes from MemmapSource\nfor file path run291694.data.root",
     "output_type": "error",
     "traceback": [
      "\u001b[0;31m---------------------------------------------------------------------------\u001b[0m",
      "\u001b[0;31mOSError\u001b[0m                                   Traceback (most recent call last)",
      "Cell \u001b[0;32mIn [6], line 2\u001b[0m\n\u001b[1;32m      1\u001b[0m get_ipython()\u001b[38;5;241m.\u001b[39msystem(\u001b[38;5;124m'\u001b[39m\u001b[38;5;124mfile *.root\u001b[39m\u001b[38;5;124m'\u001b[39m)\n\u001b[0;32m----> 2\u001b[0m file \u001b[38;5;241m=\u001b[39m \u001b[43muproot\u001b[49m\u001b[38;5;241;43m.\u001b[39;49m\u001b[43mopen\u001b[49m\u001b[43m(\u001b[49m\u001b[38;5;124;43m\"\u001b[39;49m\u001b[38;5;124;43mrun291694.data.root\u001b[39;49m\u001b[38;5;124;43m\"\u001b[39;49m\u001b[43m)\u001b[49m\n\u001b[1;32m      3\u001b[0m file\u001b[38;5;241m.\u001b[39mkeys()\n\u001b[1;32m      4\u001b[0m events \u001b[38;5;241m=\u001b[39m file[\u001b[38;5;124m\"\u001b[39m\u001b[38;5;124meventsTree\u001b[39m\u001b[38;5;124m\"\u001b[39m]\n",
      "File \u001b[0;32m~/miniforge3/envs/qqbar2mumu/lib/python3.10/site-packages/uproot/reading.py:158\u001b[0m, in \u001b[0;36mopen\u001b[0;34m(path, object_cache, array_cache, custom_classes, decompression_executor, interpretation_executor, **options)\u001b[0m\n\u001b[1;32m    147\u001b[0m file \u001b[38;5;241m=\u001b[39m ReadOnlyFile(\n\u001b[1;32m    148\u001b[0m     file_path,\n\u001b[1;32m    149\u001b[0m     object_cache\u001b[38;5;241m=\u001b[39mobject_cache,\n\u001b[0;32m   (...)\u001b[0m\n\u001b[1;32m    154\u001b[0m     \u001b[38;5;241m*\u001b[39m\u001b[38;5;241m*\u001b[39moptions  \u001b[38;5;66;03m# NOTE: a comma after **options breaks Python 2\u001b[39;00m\n\u001b[1;32m    155\u001b[0m )\n\u001b[1;32m    157\u001b[0m \u001b[38;5;28;01mif\u001b[39;00m object_path \u001b[38;5;129;01mis\u001b[39;00m \u001b[38;5;28;01mNone\u001b[39;00m:\n\u001b[0;32m--> 158\u001b[0m     \u001b[38;5;28;01mreturn\u001b[39;00m \u001b[43mfile\u001b[49m\u001b[38;5;241;43m.\u001b[39;49m\u001b[43mroot_directory\u001b[49m\n\u001b[1;32m    159\u001b[0m \u001b[38;5;28;01melse\u001b[39;00m:\n\u001b[1;32m    160\u001b[0m     \u001b[38;5;28;01mreturn\u001b[39;00m file\u001b[38;5;241m.\u001b[39mroot_directory[object_path]\n",
      "File \u001b[0;32m~/miniforge3/envs/qqbar2mumu/lib/python3.10/site-packages/uproot/reading.py:795\u001b[0m, in \u001b[0;36mReadOnlyFile.root_directory\u001b[0;34m(self)\u001b[0m\n\u001b[1;32m    789\u001b[0m \u001b[38;5;129m@property\u001b[39m\n\u001b[1;32m    790\u001b[0m \u001b[38;5;28;01mdef\u001b[39;00m \u001b[38;5;21mroot_directory\u001b[39m(\u001b[38;5;28mself\u001b[39m):\n\u001b[1;32m    791\u001b[0m     \u001b[38;5;124;03m\"\"\"\u001b[39;00m\n\u001b[1;32m    792\u001b[0m \u001b[38;5;124;03m    The root ``TDirectory`` of the file\u001b[39;00m\n\u001b[1;32m    793\u001b[0m \u001b[38;5;124;03m    (:doc:`uproot.reading.ReadOnlyDirectory`).\u001b[39;00m\n\u001b[1;32m    794\u001b[0m \u001b[38;5;124;03m    \"\"\"\u001b[39;00m\n\u001b[0;32m--> 795\u001b[0m     \u001b[38;5;28;01mreturn\u001b[39;00m \u001b[43mReadOnlyDirectory\u001b[49m\u001b[43m(\u001b[49m\n\u001b[1;32m    796\u001b[0m \u001b[43m        \u001b[49m\u001b[43m(\u001b[49m\u001b[43m)\u001b[49m\u001b[43m,\u001b[49m\n\u001b[1;32m    797\u001b[0m \u001b[43m        \u001b[49m\u001b[43muproot\u001b[49m\u001b[38;5;241;43m.\u001b[39;49m\u001b[43msource\u001b[49m\u001b[38;5;241;43m.\u001b[39;49m\u001b[43mcursor\u001b[49m\u001b[38;5;241;43m.\u001b[39;49m\u001b[43mCursor\u001b[49m\u001b[43m(\u001b[49m\u001b[38;5;28;43mself\u001b[39;49m\u001b[38;5;241;43m.\u001b[39;49m\u001b[43m_fBEGIN\u001b[49m\u001b[43m \u001b[49m\u001b[38;5;241;43m+\u001b[39;49m\u001b[43m \u001b[49m\u001b[38;5;28;43mself\u001b[39;49m\u001b[38;5;241;43m.\u001b[39;49m\u001b[43m_fNbytesName\u001b[49m\u001b[43m)\u001b[49m\u001b[43m,\u001b[49m\n\u001b[1;32m    798\u001b[0m \u001b[43m        \u001b[49m\u001b[43m{\u001b[49m\u001b[43m}\u001b[49m\u001b[43m,\u001b[49m\n\u001b[1;32m    799\u001b[0m \u001b[43m        \u001b[49m\u001b[38;5;28;43mself\u001b[39;49m\u001b[43m,\u001b[49m\n\u001b[1;32m    800\u001b[0m \u001b[43m        \u001b[49m\u001b[38;5;28;43mself\u001b[39;49m\u001b[43m,\u001b[49m\n\u001b[1;32m    801\u001b[0m \u001b[43m    \u001b[49m\u001b[43m)\u001b[49m\n",
      "File \u001b[0;32m~/miniforge3/envs/qqbar2mumu/lib/python3.10/site-packages/uproot/reading.py:1443\u001b[0m, in \u001b[0;36mReadOnlyDirectory.__init__\u001b[0;34m(self, path, cursor, context, file, parent)\u001b[0m\n\u001b[1;32m   1435\u001b[0m \u001b[38;5;28mself\u001b[39m\u001b[38;5;241m.\u001b[39mhook_before_header_key(\n\u001b[1;32m   1436\u001b[0m     chunk\u001b[38;5;241m=\u001b[39mchunk,\n\u001b[1;32m   1437\u001b[0m     cursor\u001b[38;5;241m=\u001b[39mcursor,\n\u001b[1;32m   1438\u001b[0m     keys_chunk\u001b[38;5;241m=\u001b[39mkeys_chunk,\n\u001b[1;32m   1439\u001b[0m     keys_cursor\u001b[38;5;241m=\u001b[39mkeys_cursor,\n\u001b[1;32m   1440\u001b[0m )\n\u001b[1;32m   1442\u001b[0m \u001b[38;5;66;03m# header_key is never used, but we do need to seek past it\u001b[39;00m\n\u001b[0;32m-> 1443\u001b[0m \u001b[43mReadOnlyKey\u001b[49m\u001b[43m(\u001b[49m\u001b[43mkeys_chunk\u001b[49m\u001b[43m,\u001b[49m\u001b[43m \u001b[49m\u001b[43mkeys_cursor\u001b[49m\u001b[43m,\u001b[49m\u001b[43m \u001b[49m\u001b[43m{\u001b[49m\u001b[43m}\u001b[49m\u001b[43m,\u001b[49m\u001b[43m \u001b[49m\u001b[43mfile\u001b[49m\u001b[43m,\u001b[49m\u001b[43m \u001b[49m\u001b[38;5;28;43mself\u001b[39;49m\u001b[43m,\u001b[49m\u001b[43m \u001b[49m\u001b[43mread_strings\u001b[49m\u001b[38;5;241;43m=\u001b[39;49m\u001b[38;5;28;43;01mTrue\u001b[39;49;00m\u001b[43m)\u001b[49m\n\u001b[1;32m   1445\u001b[0m num_keys \u001b[38;5;241m=\u001b[39m keys_cursor\u001b[38;5;241m.\u001b[39mfield(\n\u001b[1;32m   1446\u001b[0m     keys_chunk, _directory_format_num_keys, context\n\u001b[1;32m   1447\u001b[0m )\n\u001b[1;32m   1449\u001b[0m \u001b[38;5;28mself\u001b[39m\u001b[38;5;241m.\u001b[39mhook_before_keys(\n\u001b[1;32m   1450\u001b[0m     chunk\u001b[38;5;241m=\u001b[39mchunk,\n\u001b[1;32m   1451\u001b[0m     cursor\u001b[38;5;241m=\u001b[39mcursor,\n\u001b[0;32m   (...)\u001b[0m\n\u001b[1;32m   1454\u001b[0m     num_keys\u001b[38;5;241m=\u001b[39mnum_keys,\n\u001b[1;32m   1455\u001b[0m )\n",
      "File \u001b[0;32m~/miniforge3/envs/qqbar2mumu/lib/python3.10/site-packages/uproot/reading.py:2271\u001b[0m, in \u001b[0;36mReadOnlyKey.__init__\u001b[0;34m(self, chunk, cursor, context, file, parent, read_strings)\u001b[0m\n\u001b[1;32m   2251\u001b[0m \u001b[38;5;28mself\u001b[39m\u001b[38;5;241m.\u001b[39m_parent \u001b[38;5;241m=\u001b[39m parent\n\u001b[1;32m   2253\u001b[0m \u001b[38;5;28mself\u001b[39m\u001b[38;5;241m.\u001b[39mhook_before_interpret(\n\u001b[1;32m   2254\u001b[0m     chunk\u001b[38;5;241m=\u001b[39mchunk,\n\u001b[1;32m   2255\u001b[0m     cursor\u001b[38;5;241m=\u001b[39mcursor,\n\u001b[0;32m   (...)\u001b[0m\n\u001b[1;32m   2259\u001b[0m     read_strings\u001b[38;5;241m=\u001b[39mread_strings,\n\u001b[1;32m   2260\u001b[0m )\n\u001b[1;32m   2262\u001b[0m (\n\u001b[1;32m   2263\u001b[0m     \u001b[38;5;28mself\u001b[39m\u001b[38;5;241m.\u001b[39m_fNbytes,\n\u001b[1;32m   2264\u001b[0m     \u001b[38;5;28mself\u001b[39m\u001b[38;5;241m.\u001b[39m_fVersion,\n\u001b[1;32m   2265\u001b[0m     \u001b[38;5;28mself\u001b[39m\u001b[38;5;241m.\u001b[39m_fObjlen,\n\u001b[1;32m   2266\u001b[0m     \u001b[38;5;28mself\u001b[39m\u001b[38;5;241m.\u001b[39m_fDatime,\n\u001b[1;32m   2267\u001b[0m     \u001b[38;5;28mself\u001b[39m\u001b[38;5;241m.\u001b[39m_fKeylen,\n\u001b[1;32m   2268\u001b[0m     \u001b[38;5;28mself\u001b[39m\u001b[38;5;241m.\u001b[39m_fCycle,\n\u001b[1;32m   2269\u001b[0m     \u001b[38;5;28mself\u001b[39m\u001b[38;5;241m.\u001b[39m_fSeekKey,\n\u001b[1;32m   2270\u001b[0m     \u001b[38;5;28mself\u001b[39m\u001b[38;5;241m.\u001b[39m_fSeekPdir,\n\u001b[0;32m-> 2271\u001b[0m ) \u001b[38;5;241m=\u001b[39m \u001b[43mcursor\u001b[49m\u001b[38;5;241;43m.\u001b[39;49m\u001b[43mfields\u001b[49m\u001b[43m(\u001b[49m\u001b[43mchunk\u001b[49m\u001b[43m,\u001b[49m\u001b[43m \u001b[49m\u001b[43m_key_format_small\u001b[49m\u001b[43m,\u001b[49m\u001b[43m \u001b[49m\u001b[43mcontext\u001b[49m\u001b[43m,\u001b[49m\u001b[43m \u001b[49m\u001b[43mmove\u001b[49m\u001b[38;5;241;43m=\u001b[39;49m\u001b[38;5;28;43;01mFalse\u001b[39;49;00m\u001b[43m)\u001b[49m\n\u001b[1;32m   2273\u001b[0m \u001b[38;5;28;01mif\u001b[39;00m \u001b[38;5;28mself\u001b[39m\u001b[38;5;241m.\u001b[39mis_64bit:\n\u001b[1;32m   2274\u001b[0m     (\n\u001b[1;32m   2275\u001b[0m         \u001b[38;5;28mself\u001b[39m\u001b[38;5;241m.\u001b[39m_fNbytes,\n\u001b[1;32m   2276\u001b[0m         \u001b[38;5;28mself\u001b[39m\u001b[38;5;241m.\u001b[39m_fVersion,\n\u001b[0;32m   (...)\u001b[0m\n\u001b[1;32m   2282\u001b[0m         \u001b[38;5;28mself\u001b[39m\u001b[38;5;241m.\u001b[39m_fSeekPdir,\n\u001b[1;32m   2283\u001b[0m     ) \u001b[38;5;241m=\u001b[39m cursor\u001b[38;5;241m.\u001b[39mfields(chunk, _key_format_big, context)\n",
      "File \u001b[0;32m~/miniforge3/envs/qqbar2mumu/lib/python3.10/site-packages/uproot/source/cursor.py:198\u001b[0m, in \u001b[0;36mCursor.fields\u001b[0;34m(self, chunk, format, context, move)\u001b[0m\n\u001b[1;32m    196\u001b[0m \u001b[38;5;28;01mif\u001b[39;00m move:\n\u001b[1;32m    197\u001b[0m     \u001b[38;5;28mself\u001b[39m\u001b[38;5;241m.\u001b[39m_index \u001b[38;5;241m=\u001b[39m stop\n\u001b[0;32m--> 198\u001b[0m \u001b[38;5;28;01mreturn\u001b[39;00m \u001b[38;5;28mformat\u001b[39m\u001b[38;5;241m.\u001b[39munpack(\u001b[43mchunk\u001b[49m\u001b[38;5;241;43m.\u001b[39;49m\u001b[43mget\u001b[49m\u001b[43m(\u001b[49m\u001b[43mstart\u001b[49m\u001b[43m,\u001b[49m\u001b[43m \u001b[49m\u001b[43mstop\u001b[49m\u001b[43m,\u001b[49m\u001b[43m \u001b[49m\u001b[38;5;28;43mself\u001b[39;49m\u001b[43m,\u001b[49m\u001b[43m \u001b[49m\u001b[43mcontext\u001b[49m\u001b[43m)\u001b[49m)\n",
      "File \u001b[0;32m~/miniforge3/envs/qqbar2mumu/lib/python3.10/site-packages/uproot/source/chunk.py:419\u001b[0m, in \u001b[0;36mChunk.get\u001b[0;34m(self, start, stop, cursor, context)\u001b[0m\n\u001b[1;32m    397\u001b[0m \u001b[38;5;124;03m\"\"\"\u001b[39;00m\n\u001b[1;32m    398\u001b[0m \u001b[38;5;124;03mArgs:\u001b[39;00m\n\u001b[1;32m    399\u001b[0m \u001b[38;5;124;03m    start (int): Seek position of the first byte to include.\u001b[39;00m\n\u001b[0;32m   (...)\u001b[0m\n\u001b[1;32m    416\u001b[0m \u001b[38;5;124;03malready.\u001b[39;00m\n\u001b[1;32m    417\u001b[0m \u001b[38;5;124;03m\"\"\"\u001b[39;00m\n\u001b[1;32m    418\u001b[0m \u001b[38;5;28;01mif\u001b[39;00m (start, stop) \u001b[38;5;129;01min\u001b[39;00m \u001b[38;5;28mself\u001b[39m:\n\u001b[0;32m--> 419\u001b[0m     \u001b[38;5;28;43mself\u001b[39;49m\u001b[38;5;241;43m.\u001b[39;49m\u001b[43mwait\u001b[49m\u001b[43m(\u001b[49m\u001b[43minsist\u001b[49m\u001b[38;5;241;43m=\u001b[39;49m\u001b[43mstop\u001b[49m\u001b[43m)\u001b[49m\n\u001b[1;32m    420\u001b[0m     local_start \u001b[38;5;241m=\u001b[39m start \u001b[38;5;241m-\u001b[39m \u001b[38;5;28mself\u001b[39m\u001b[38;5;241m.\u001b[39m_start\n\u001b[1;32m    421\u001b[0m     local_stop \u001b[38;5;241m=\u001b[39m stop \u001b[38;5;241m-\u001b[39m \u001b[38;5;28mself\u001b[39m\u001b[38;5;241m.\u001b[39m_start\n",
      "File \u001b[0;32m~/miniforge3/envs/qqbar2mumu/lib/python3.10/site-packages/uproot/source/chunk.py:372\u001b[0m, in \u001b[0;36mChunk.wait\u001b[0;34m(self, insist)\u001b[0m\n\u001b[1;32m    364\u001b[0m                 \u001b[38;5;28;01mraise\u001b[39;00m \u001b[38;5;167;01mTypeError\u001b[39;00m(\n\u001b[1;32m    365\u001b[0m                     \u001b[38;5;124;03m\"\"\"insist must be a bool or an int, not {0}\u001b[39;00m\n\u001b[1;32m    366\u001b[0m \u001b[38;5;124;03mfor file path {1}\"\"\"\u001b[39;00m\u001b[38;5;241m.\u001b[39mformat(\n\u001b[1;32m    367\u001b[0m                         \u001b[38;5;28mrepr\u001b[39m(insist), \u001b[38;5;28mself\u001b[39m\u001b[38;5;241m.\u001b[39m_source\u001b[38;5;241m.\u001b[39mfile_path\n\u001b[1;32m    368\u001b[0m                     )\n\u001b[1;32m    369\u001b[0m                 )\n\u001b[1;32m    371\u001b[0m             \u001b[38;5;28;01mif\u001b[39;00m \u001b[38;5;129;01mnot\u001b[39;00m requirement:\n\u001b[0;32m--> 372\u001b[0m                 \u001b[38;5;28;01mraise\u001b[39;00m \u001b[38;5;167;01mOSError\u001b[39;00m(\n\u001b[1;32m    373\u001b[0m                     \u001b[38;5;124;03m\"\"\"expected Chunk of length {0},\u001b[39;00m\n\u001b[1;32m    374\u001b[0m \u001b[38;5;124;03mreceived {1} bytes from {2}\u001b[39;00m\n\u001b[1;32m    375\u001b[0m \u001b[38;5;124;03mfor file path {3}\"\"\"\u001b[39;00m\u001b[38;5;241m.\u001b[39mformat(\n\u001b[1;32m    376\u001b[0m                         \u001b[38;5;28mself\u001b[39m\u001b[38;5;241m.\u001b[39m_stop \u001b[38;5;241m-\u001b[39m \u001b[38;5;28mself\u001b[39m\u001b[38;5;241m.\u001b[39m_start,\n\u001b[1;32m    377\u001b[0m                         \u001b[38;5;28mlen\u001b[39m(\u001b[38;5;28mself\u001b[39m\u001b[38;5;241m.\u001b[39m_raw_data),\n\u001b[1;32m    378\u001b[0m                         \u001b[38;5;28mtype\u001b[39m(\u001b[38;5;28mself\u001b[39m\u001b[38;5;241m.\u001b[39m_source)\u001b[38;5;241m.\u001b[39m\u001b[38;5;18m__name__\u001b[39m,\n\u001b[1;32m    379\u001b[0m                         \u001b[38;5;28mself\u001b[39m\u001b[38;5;241m.\u001b[39m_source\u001b[38;5;241m.\u001b[39mfile_path,\n\u001b[1;32m    380\u001b[0m                     )\n\u001b[1;32m    381\u001b[0m                 )\n\u001b[1;32m    382\u001b[0m             \u001b[38;5;28mself\u001b[39m\u001b[38;5;241m.\u001b[39m_future \u001b[38;5;241m=\u001b[39m \u001b[38;5;28;01mNone\u001b[39;00m\n",
      "\u001b[0;31mOSError\u001b[0m: expected Chunk of length 153,\nreceived 0 bytes from MemmapSource\nfor file path run291694.data.root"
     ]
    }
   ],
   "source": [
    "!file *.root\n",
    "file = uproot.open(\"run291694.data.root\")\n",
    "file.keys()\n",
    "events = file[\"eventsTree\"]\n",
    "events.show()"
   ]
  },
  {
   "cell_type": "code",
   "execution_count": 5,
   "id": "9773cc38-d94d-4443-9bdb-69d7672c1cc7",
   "metadata": {},
   "outputs": [
    {
     "name": "stdout",
     "output_type": "stream",
     "text": [
      "Nombre total d'évènements avec au moins 2 muons :  109729\n"
     ]
    }
   ],
   "source": [
    "n=0\n",
    "for m in events.iterate([\"nMuons\",\"Muon_Px\",\"Muon_Py\",\"Muon_Pz\",\"Muon_Charge\",\"Muon_E\"],how=\"zip\",step_size=10000):\n",
    "    #Nombre d'évènements avec au moins 2 muons pour chaque lot de 10000 évènements\n",
    "    #print(len(m),len(m[ak.where(m.nMuons>1)])) \n",
    "    n+=len(m[ak.where(m.nMuons>1)])\n",
    "print(\"Nombre total d'évènements avec au moins 2 muons : \",n)"
   ]
  },
  {
   "cell_type": "code",
   "execution_count": 6,
   "id": "392f39a7-74bc-4088-97b3-7fae6fb5dbdc",
   "metadata": {},
   "outputs": [],
   "source": [
    "#Calcul de la norme des quantités de mouvement d'un évènement\n",
    "\"\"\"{\n",
    "def vmag(px,py,pz):\n",
    "    #Returns an array of the norms of the 3-vectors (px,py,pz).\n",
    "    return np.sqrt(px*px+py*py+pz*pz) #tableau avec la même dimension que le nombre de muons de l'évènement\n",
    "}\"\"\""
   ]
  },
  {
   "cell_type": "code",
   "execution_count": 7,
   "id": "7edb8c23-b310-49ab-8aea-3a918120c031",
   "metadata": {},
   "outputs": [
    {
     "name": "stdout",
     "output_type": "stream",
     "text": [
      "CPU times: user 10 µs, sys: 1e+03 ns, total: 11 µs\n",
      "Wall time: 18.6 µs\n",
      "[3.07, 10.1]\n",
      "[1, -1]\n",
      "[3.07, 10.1]\n"
     ]
    }
   ],
   "source": [
    "\"\"\"{\n",
    "%time\n",
    "#Tous les évènements avec au moins 2 muons\n",
    "for m in events.iterate([\"nMuons\",\"Muon_Px\",\"Muon_Py\",\"Muon_Pz\",\"Muon_Charge\",\"Muon_E\"],step_size=10000):\n",
    "    atLeastTwoMuon = m.nMuons>1\n",
    "    t = m[atLeastTwoMuon]\n",
    "    mag = vmag(t[\"Muon_Px\"],t[\"Muon_Py\"],t[\"Muon_Pz\"])\n",
    "    muonCharge = t[\"Muon_Charge\"]\n",
    "    muonEnergy = t[\"Muon_E\"]\n",
    "print(mag[1])\n",
    "print(muonCharge[1])\n",
    "print(muonEnergy[1])\n",
    "}\"\"\""
   ]
  },
  {
   "cell_type": "code",
   "execution_count": 8,
   "id": "2f02e88b-98b5-4791-892a-23ba3ebc25ed",
   "metadata": {},
   "outputs": [],
   "source": [
    "def getTracks(events):\n",
    "    return ak.zip({\"px\":events[\"Muon_Px\"],\n",
    "                       \"py\":events[\"Muon_Py\"],\n",
    "                       \"pz\":events[\"Muon_Pz\"],\n",
    "                       \"E\":events[\"Muon_E\"],\n",
    "                       \"charge\":events[\"Muon_Charge\"],\n",
    "                       \"thetaAbs\":events[\"Muon_thetaAbs\"],\n",
    "                       \"matched\":events[\"Muon_matchedTrgThreshold\"]},\n",
    "                    with_name='Momentum4D')"
   ]
  },
  {
   "cell_type": "code",
   "execution_count": 9,
   "id": "83bed0b1-8470-40ae-8749-dd1d51d311c5",
   "metadata": {},
   "outputs": [
    {
     "name": "stdout",
     "output_type": "stream",
     "text": [
      "CPU times: user 5 µs, sys: 0 ns, total: 5 µs\n",
      "Wall time: 9.06 µs\n"
     ]
    }
   ],
   "source": [
    "\"\"\"{\n",
    "%time\n",
    "#Tous les évènements avec 3 muons\n",
    "def Charge3(muonCharge,i):\n",
    "    if muonCharge3[i][0] == muonCharge3[i][1] and muonCharge3[i][0] == muonCharge3[i][2]:\n",
    "        return True\n",
    "    else : \n",
    "        return False\n",
    "}\"\"\"\n"
   ]
  },
  {
   "cell_type": "code",
   "execution_count": 10,
   "id": "6cb6e90c-eb62-49de-93ee-fcc00d0a4653",
   "metadata": {},
   "outputs": [],
   "source": [
    "\"\"\"{\n",
    "for m in events.iterate([\"nMuons\",\"Muon_Px\",\"Muon_Py\",\"Muon_Pz\",\"Muon_Charge\",\"Muon_E\"],step_size=10000):\n",
    "    threeMuon = m.nMuons==3\n",
    "    t3=m[threeMuon] #Tous les évènements avec 3 muons pour chaque lot de 10000 évènements\n",
    "    #print(len(m),len(t3))\n",
    "    muonCharge3 = t3[\"Muon_Charge\"]\n",
    "    #print(muonCharge3[1:3])\n",
    "    #for i in range(0,step_size):\n",
    "    #    if Charge3(muonCharge3,i)==False:\n",
    "            \n",
    "}\"\"\"\""
   ]
  },
  {
   "cell_type": "code",
   "execution_count": 1,
   "id": "29b79c21-9dac-4402-b630-69aad386b200",
   "metadata": {},
   "outputs": [
    {
     "ename": "NameError",
     "evalue": "name 'hist' is not defined",
     "output_type": "error",
     "traceback": [
      "\u001b[0;31m---------------------------------------------------------------------------\u001b[0m",
      "\u001b[0;31mNameError\u001b[0m                                 Traceback (most recent call last)",
      "Cell \u001b[0;32mIn [1], line 2\u001b[0m\n\u001b[1;32m      1\u001b[0m \u001b[38;5;28;01mdef\u001b[39;00m \u001b[38;5;21mscan\u001b[39m(dataDescription, \n\u001b[0;32m----> 2\u001b[0m               hMag:\u001b[43mhist\u001b[49m\u001b[38;5;241m.\u001b[39mHist, hPhi:hist\u001b[38;5;241m.\u001b[39mHist, hInvMass:hist\u001b[38;5;241m.\u001b[39mHist,\n\u001b[1;32m      3\u001b[0m               eventSelector\u001b[38;5;241m=\u001b[39m\u001b[38;5;28;01mlambda\u001b[39;00m x:[\u001b[38;5;28;01mTrue\u001b[39;00m]\u001b[38;5;241m*\u001b[39m\u001b[38;5;28mlen\u001b[39m(x),\n\u001b[1;32m      4\u001b[0m               trackSelector\u001b[38;5;241m=\u001b[39m\u001b[38;5;28;01mlambda\u001b[39;00m x:[\u001b[38;5;28;01mTrue\u001b[39;00m]\u001b[38;5;241m*\u001b[39m\u001b[38;5;28mlen\u001b[39m(x),\n\u001b[1;32m      5\u001b[0m               verbose:\u001b[38;5;28mbool\u001b[39m\u001b[38;5;241m=\u001b[39m\u001b[38;5;28;01mFalse\u001b[39;00m):\n\u001b[1;32m      6\u001b[0m     \u001b[38;5;124;03m\"\"\" Loop over data to fill the invariant mass histogram.\u001b[39;00m\n\u001b[1;32m      7\u001b[0m \u001b[38;5;124;03m        \u001b[39;00m\n\u001b[1;32m      8\u001b[0m \u001b[38;5;124;03m        :param: dataDescription: is anything uproot.iterate can take.\u001b[39;00m\n\u001b[0;32m   (...)\u001b[0m\n\u001b[1;32m     11\u001b[0m \u001b[38;5;124;03m        :param: trackSelector: returns an array of bool from an array of tracks\u001b[39;00m\n\u001b[1;32m     12\u001b[0m \u001b[38;5;124;03m    \"\"\"\u001b[39;00m\n\u001b[1;32m     14\u001b[0m     \u001b[38;5;28;01mfor\u001b[39;00m batch \u001b[38;5;129;01min\u001b[39;00m uproot\u001b[38;5;241m.\u001b[39miterate(dataDescription,\n\u001b[1;32m     15\u001b[0m                                 [\u001b[38;5;124m\"\u001b[39m\u001b[38;5;124misCINT\u001b[39m\u001b[38;5;124m\"\u001b[39m,\u001b[38;5;124m\"\u001b[39m\u001b[38;5;124misCMUL\u001b[39m\u001b[38;5;124m\"\u001b[39m,\u001b[38;5;124m\"\u001b[39m\u001b[38;5;124misCMSL\u001b[39m\u001b[38;5;124m\"\u001b[39m,\u001b[38;5;124m\"\u001b[39m\u001b[38;5;124mMuon_Px\u001b[39m\u001b[38;5;124m\"\u001b[39m,\u001b[38;5;124m\"\u001b[39m\u001b[38;5;124mMuon_Py\u001b[39m\u001b[38;5;124m\"\u001b[39m,\u001b[38;5;124m\"\u001b[39m\u001b[38;5;124mMuon_Pz\u001b[39m\u001b[38;5;124m\"\u001b[39m,\u001b[38;5;124m\"\u001b[39m\u001b[38;5;124mMuon_E\u001b[39m\u001b[38;5;124m\"\u001b[39m,\u001b[38;5;124m\"\u001b[39m\u001b[38;5;124mMuon_Charge\u001b[39m\u001b[38;5;124m\"\u001b[39m,\u001b[38;5;124m\"\u001b[39m\u001b[38;5;124mMuon_thetaAbs\u001b[39m\u001b[38;5;124m\"\u001b[39m,\u001b[38;5;124m\"\u001b[39m\u001b[38;5;124mMuon_matchedTrgThreshold\u001b[39m\u001b[38;5;124m\"\u001b[39m],                                \n\u001b[1;32m     16\u001b[0m                                  step_size\u001b[38;5;241m=\u001b[39m\u001b[38;5;124m\"\u001b[39m\u001b[38;5;124m100 MB\u001b[39m\u001b[38;5;124m\"\u001b[39m, report\u001b[38;5;241m=\u001b[39m\u001b[38;5;28;01mTrue\u001b[39;00m):\n",
      "\u001b[0;31mNameError\u001b[0m: name 'hist' is not defined"
     ]
    }
   ],
   "source": [
    "def scan(dataDescription, \n",
    "              hMag:hist.Hist, hPhi:hist.Hist, hInvMass:hist.Hist,\n",
    "              eventSelector=lambda x:[True]*len(x),\n",
    "              trackSelector=lambda x:[True]*len(x),\n",
    "              verbose:bool=False):\n",
    "    \"\"\" Loop over data to fill the invariant mass histogram.\n",
    "        \n",
    "        :param: dataDescription: is anything uproot.iterate can take.\n",
    "                typical something like run*.data.root:eventsTree in our case\n",
    "        :param: eventSelector: returns an array of bool from an array of events\n",
    "        :param: trackSelector: returns an array of bool from an array of tracks\n",
    "    \"\"\"\n",
    "    \n",
    "    for batch in uproot.iterate(dataDescription,\n",
    "                                [\"isCINT\",\"isCMUL\",\"isCMSL\",\"Muon_Px\",\"Muon_Py\",\"Muon_Pz\",\"Muon_E\",\"Muon_Charge\",\"Muon_thetaAbs\",\"Muon_matchedTrgThreshold\"],                                \n",
    "                                 step_size=\"100 MB\", report=True):\n",
    "        events=batch[0] # batch[1] is the report info\n",
    "        if len(events) < 1000:\n",
    "            print(\"something is wrong\",batch[1]) # this is a protection for some corrupted input data files \n",
    "            break\n",
    "            \n",
    "        goodEvents = events[eventSelector(events)] \n",
    "        \n",
    "        tracks = getTracks(events)\n",
    "        goodTracks=tracks[trackSelector(tracks)]\n",
    "        \n",
    "        pairs = ak.combinations(goodTracks, 2)\n",
    "        one, two = ak.unzip(pairs)\n",
    "        \n",
    "        opposite_charge_cut = one.charge + two.charge == 0\n",
    "        \n",
    "        quality_one = one[opposite_charge_cut]\n",
    "        quality_two = two[opposite_charge_cut]\n",
    "        invariant_mass = (quality_one + quality_two).mass\n",
    "    \n",
    "        hMag.fill(ak.flatten(goodTracks.p))\n",
    "        hPhi.fill(ak.flatten(goodTracks.phi)) \n",
    "        hInvMass.fill(ak.flatten(invariant_mass))\n",
    "\n",
    "\n",
    "        if verbose:\n",
    "            print(batch[1])\n",
    "            \n"
   ]
  },
  {
   "cell_type": "code",
   "execution_count": 12,
   "id": "113fd41c-dc38-427f-af4e-1ed738ce115d",
   "metadata": {},
   "outputs": [
    {
     "name": "stdout",
     "output_type": "stream",
     "text": [
      "CPU times: user 5.93 s, sys: 215 ms, total: 6.15 s\n",
      "Wall time: 6.22 s\n"
     ]
    }
   ],
   "source": [
    "%%time\n",
    "## SINGLE MUON TRACK PLOTS\n",
    "#No cuts\n",
    "vhMagRaw = hist.Hist(hist.axis.Regular(bins=100,start=0,stop=100,name='$|p|$'))\n",
    "vhPhiRaw = hist.Hist(hist.axis.Regular(bins=200,start=-22/7,stop=22/7,name='$\\phi$'))\n",
    "vhInvMass = hist.Hist(hist.axis.Regular(bins=200,start=0,stop=5,name='invariant mass'))\n",
    "#Event selection\n",
    "vhMagEvSel = hist.Hist(hist.axis.Regular(bins=100,start=0,stop=100,name='$|p|$'))\n",
    "vhPhiEvSel = hist.Hist(hist.axis.Regular(bins=200,start=-22/7,stop=22/7,name='$\\phi$'))\n",
    "vhInvMassEvSel = hist.Hist(hist.axis.Regular(bins=200,start=0,stop=5,name='invariant mass'))\n",
    "\n",
    "scan(dataDescription=f\"{BASEDIR}/run*.{DATATYPE}.root:eventsTree\",\n",
    "          hMag=vhMagRaw, hPhi=vhPhiRaw, hInvMass=vhInvMass)\n",
    "\n",
    "scan(dataDescription=f\"{BASEDIR}/run*.{DATATYPE}.root:eventsTree\",\n",
    "          hMag=vhMagEvSel, hPhi=vhPhiEvSel, hInvMass=vhInvMassEvSel,\n",
    "          eventSelector=lambda x: x[\"isCMUL\"]==True,\n",
    "          trackSelector=lambda x: (x.eta<-2.5) & (x.eta>-4) & (x[\"thetaAbs\"]>2) & (x[\"thetaAbs\"]<9)) # & x[\"matched\"]==2)"
   ]
  },
  {
   "cell_type": "code",
   "execution_count": 86,
   "id": "8ad351f9-065e-4fbd-ab3c-52ccabac94f4",
   "metadata": {},
   "outputs": [
    {
     "data": {
      "image/png": "[encoded data removed]",
      "text/plain": [
       "<Figure size 640x480 with 1 Axes>"
      ]
     },
     "metadata": {},
     "output_type": "display_data"
    },
    {
     "name": "stdout",
     "output_type": "stream",
     "text": [
      "CPU times: user 822 ms, sys: 140 ms, total: 962 ms\n",
      "Wall time: 760 ms\n"
     ]
    }
   ],
   "source": [
    "%%time\n",
    "vhInvMass.plot(label=\"no cuts\")\n",
    "vhInvMassEvSel.plot(label=\"events selected\")\n",
    "plt.yscale(\"log\")\n",
    "plt.ylabel(\"# of tracks\")\n",
    "plt.legend()\n",
    "plt.show()"
   ]
  },
  {
   "cell_type": "code",
   "execution_count": 21,
   "id": "e1199f12-8e4a-4194-b082-8551fc636a90",
   "metadata": {},
   "outputs": [
    {
     "name": "stdout",
     "output_type": "stream",
     "text": [
      "Événements générés :  26803.015075376887  événements reconstruits :  6427.135678391958\n",
      "A x ε = 23.98 %\n"
     ]
    },
    {
     "data": {
      "text/plain": [
       "[StairsArtists(stairs=<matplotlib.patches.StepPatch object at 0x7fc55701e770>, errorbar=<ErrorbarContainer object of 3 artists>, legend_artist=<ErrorbarContainer object of 3 artists>)]"
      ]
     },
     "execution_count": 21,
     "metadata": {},
     "output_type": "execute_result"
    },
    {
     "data": {
      "image/png": "[encoded data removed]",
      "text/plain": [
       "<Figure size 640x480 with 1 Axes>"
      ]
     },
     "metadata": {},
     "output_type": "display_data"
    }
   ],
   "source": [
    "import uproot\n",
    "import awkward as ak\n",
    "import numpy as np\n",
    "import math\n",
    "import hist\n",
    "import matplotlib.pyplot as plt\n",
    "import os\n",
    "import subprocess\n",
    "import vector\n",
    "\n",
    "vector.register_awkward() \n",
    "\n",
    "DATATYPE=\"mc\"\n",
    "assert((DATATYPE==\"mc\") or (DATATYPE==\"data\"))\n",
    "BASEDIR=\"../data_dl\" # basedir where to look for runXXX.DATATYPE.root files\n",
    "IS_MC=True if DATATYPE==\"mc\" else False\n",
    "\n",
    "#!curl 'https://cernbox.cern.ch/remote.php/dav/public-files/nbPmKbcsJvZrjjx/291694/AnalysisResults.root' > run291694.mc.root\n",
    "#!file *.root\n",
    "#file = uproot.open(\"run291694.mc.root\")\n",
    "#file.keys()\n",
    "#events = file[\"eventsTree\"]\n",
    "#gen = file[\"genTree\"]\n",
    "\n",
    "#def data_url(run,is_mc):\n",
    "#    basesrc=\"https://cernbox.cern.ch/remote.php/dav/public-files/VJZ5whMyF5Kxldd/dimuonData_LHC18m\"\n",
    "#    if is_mc==True:\n",
    "#        basesrc+=\"MC\"\n",
    "#    return f\"{basesrc}/{run}/AnalysisResults.root\"\n",
    "\n",
    "#def data_file_path(run,is_mc=IS_MC,dest=BASEDIR):\n",
    "#    datatype=\"mc\" if is_mc else \"data\"\n",
    "#    print({dest},\"/run\",{run},\".\",{datatype},\".root\")\n",
    "#    return f\"{dest}/run{run}.{datatype}.root\"\n",
    "\n",
    "#def copy_cmd(run,is_mc,dest):\n",
    "#    return f\"curl '{data_url(run,is_mc)}' > {data_file_path(run,is_mc,dest)}\"\n",
    "\n",
    "def getTracksData(events):\n",
    "    return ak.zip({\"px\":events[\"Muon_Px\"],\n",
    "                       \"py\":events[\"Muon_Py\"],\n",
    "                       \"pz\":events[\"Muon_Pz\"],\n",
    "                       \"E\":events[\"Muon_E\"],\n",
    "                       \"charge\":events[\"Muon_Charge\"],\n",
    "                       \"thetaAbs\":events[\"Muon_thetaAbs\"],\n",
    "                       \"matched\":events[\"Muon_matchedTrgThreshold\"]},\n",
    "                    with_name='Momentum4D')\n",
    "\n",
    "def getTracks(events, gen):\n",
    "    i = gen[\"Muon_GenMotherPDGCode\"] == 443\n",
    "    j = i[:,0]\n",
    "    tracks = events[j]\n",
    "    return ak.zip({\n",
    "        \"px\":tracks[\"Muon_Px\"],\n",
    "                    \"py\":tracks[\"Muon_Py\"],\n",
    "                    \"pz\":tracks[\"Muon_Pz\"],\n",
    "                    \"E\":tracks[\"Muon_E\"],\n",
    "                    \"charge\":tracks[\"Muon_Charge\"],\n",
    "                    \"thetaAbs\":tracks[\"Muon_thetaAbs\"],\n",
    "                    \"matched\":tracks[\"Muon_matchedTrgThreshold\"]},\n",
    "                    with_name='Momentum4D')\n",
    "\n",
    "def getTracksGenerated(gen):\n",
    "    i = gen[\"Muon_GenMotherPDGCode\"] == 443\n",
    "    j = i[:,0]\n",
    "    tracksGen = gen[j]\n",
    "    return ak.zip({ \"px\":tracksGen[\"Muon_GenPx\"],\n",
    "                   \"py\":tracksGen[\"Muon_GenPy\"],\n",
    "                   \"pz\":tracksGen[\"Muon_GenPz\"],\n",
    "                   \"E\":tracksGen[\"Muon_GenE\"],\n",
    "                   \"GenMotherPDGCode\":tracksGen[\"Muon_GenMotherPDGCode\"]},\n",
    "                    with_name='Momentum4D')\n",
    "\n",
    "def scan(dataDescription1, dataDescription2, dataDescription3,\n",
    "              hMag:hist.Hist, hPhi:hist.Hist, hInvMass:hist.Hist, hInvMassGen:hist.Hist,\n",
    "              eventSelector=lambda x:[True]*len(x),\n",
    "              trackSelector=lambda x:[True]*len(x),\n",
    "              verbose:bool=False):\n",
    "    \"\"\" Loop over data to fill the invariant mass histogram.\n",
    "        \n",
    "        :param: dataDescription: is anything uproot.iterate can take.\n",
    "                typical something like run*.data.root:eventsTree in our case\n",
    "        :param: eventSelector: returns an array of bool from an array of events\n",
    "        :param: trackSelector: returns an array of bool from an array of tracks\n",
    "    \"\"\"\n",
    "    \n",
    "    for batch1, batch2, batch3 in zip(uproot.iterate(dataDescription1,\n",
    "                                [\"nMuons\", \"isCINT\",\"isCMUL\",\"isCMSL\",\"Muon_Px\",\"Muon_Py\",\"Muon_Pz\",\"Muon_E\",\"Muon_Charge\",\"Muon_thetaAbs\",\"Muon_matchedTrgThreshold\"],                                \n",
    "                                 step_size=\"100 MB\", report=True), \n",
    "                             uproot.iterate(dataDescription2,\n",
    "                                [\"nMuonsGen\", \"Muon_GenE\", \"Muon_GenPx\", \"Muon_GenPy\", \"Muon_GenPz\", \"Muon_GenLabel\",\"Muon_GenMotherPDGCode\"],                                \n",
    "                                 step_size=\"100 MB\", report=True),\n",
    "                             uproot.iterate(dataDescription3,\n",
    "                                [\"isCINT\",\"isCMUL\",\"isCMSL\",\"Muon_Px\",\"Muon_Py\",\"Muon_Pz\",\"Muon_E\",\"Muon_Charge\",\"Muon_thetaAbs\",\"Muon_matchedTrgThreshold\"],                                \n",
    "                                 step_size=\"100 MB\", report=True)):\n",
    "        events=batch1[0] # batch[1] is the report info\n",
    "        gen=batch2[0]\n",
    "        data = batch3[0]\n",
    "        if len(events) < 1000:\n",
    "            print(\"something is wrong\",batch1[1]) # this is a protection for some corrupted input data files \n",
    "            break\n",
    "        if len(gen) < 1000:\n",
    "            print(\"something is wrong\",batch2[1]) # this is a protection for some corrupted input data files \n",
    "            break\n",
    "        if len(data) < 1000:\n",
    "            print(\"something is wrong\",batch3[1]) # this is a protection for some corrupted input data files \n",
    "            break\n",
    "            \n",
    "        goodEvents_data = data[eventSelector(data)] #selection des évènements CMUL\n",
    "        tracks_data = getTracksData(data) #on utilise la fonction getTracks définie précédemment\n",
    "        goodTracks_data=tracks_data[trackSelector(tracks_data)] #selection des évènements (eta, theta et trigger)\n",
    "\n",
    "        \n",
    "        goodEvents = events[eventSelector(events)] \n",
    "        \n",
    "        tracks = getTracks(events, gen)\n",
    "        \n",
    "        tracksGen = getTracksGenerated(gen)\n",
    "        \n",
    "        # Cut\n",
    "        goodTracks = tracks[trackSelector(tracks)]\n",
    "        \n",
    "        pairs = ak.combinations(goodTracks, 2)\n",
    "        pairsGen = ak.combinations(tracksGen, 2)\n",
    "        \n",
    "        # Pair Creations\n",
    "        one, two = ak.unzip(pairs)\n",
    "        oneGen, twoGen = ak.unzip(pairsGen)\n",
    "        \n",
    "        # Charge cut for Rebuilt Events\n",
    "        opposite_charge_cut = one.charge + two.charge == 0\n",
    "        \n",
    "        # Inv Mass of Rebuilt Events\n",
    "        quality_one = one[opposite_charge_cut]\n",
    "        quality_two = two[opposite_charge_cut]\n",
    "        invariant_mass = (quality_one + quality_two).mass\n",
    "        invariant_massGen = (oneGen + twoGen).mass\n",
    "        \n",
    "        # Filling Histograms\n",
    "        hMag.fill(ak.flatten(tracks.p))\n",
    "        hPhi.fill(ak.flatten(tracks.phi)) \n",
    "        hInvMass.fill(ak.flatten(invariant_mass))\n",
    "        hInvMassGen.fill(ak.flatten(invariant_massGen))\n",
    "\n",
    "        if verbose:\n",
    "            print(batch1[1], \"\\n\", batch2[1])\n",
    "\n",
    "vhMagRaw = hist.Hist(hist.axis.Regular(bins=100,start=0,stop=100,name='$|p|$'))\n",
    "vhPhiRaw = hist.Hist(hist.axis.Regular(bins=200,start=-22/7,stop=22/7,name='$\\phi$'))\n",
    "vhInvMass = hist.Hist(hist.axis.Regular(bins=200,start=0,stop=5,name='invariant mass (rebuilt events)'))\n",
    "vhInvMassGen = hist.Hist(hist.axis.Regular(bins=200,start=0,stop=5,name='invariant mass (generated events)'))\n",
    "\n",
    "scan(dataDescription1=f\"{BASEDIR}/run291694.mc.root:eventsTree\",\n",
    "     dataDescription2=f\"{BASEDIR}/run291694.mc.root:genTree\",\n",
    "     dataDescription3=f\"{BASEDIR}/run291694.data.root:eventsTree\",\n",
    "          hMag=vhMagRaw, hPhi=vhPhiRaw, hInvMass=vhInvMass, hInvMassGen = vhInvMassGen,\n",
    "          eventSelector=lambda x: x[\"isCMUL\"]==True,\n",
    "          trackSelector=lambda x: (x.eta<-2.5) & (x.eta>-4) & (x[\"thetaAbs\"]>2) & (x[\"thetaAbs\"]<10))\n",
    "\n",
    "x_data = np.linspace(0., 5., 200)\n",
    "y_data_gen = []\n",
    "y_data_rebuilt = []\n",
    "\n",
    "for i in vhInvMassGen:\n",
    "    y_data_gen.append(i)\n",
    "\n",
    "for j in vhInvMass:\n",
    "    y_data_rebuilt.append(j)\n",
    "\n",
    "I = 0.\n",
    "J = 0.\n",
    "nGen = 0.\n",
    "nRebuilt = 0.\n",
    "step = x_data[1]-x_data[0]\n",
    "for i in range(0, len(x_data)):\n",
    "    I = y_data_gen[i]*step\n",
    "    J = y_data_rebuilt[i]*step\n",
    "    nGen = nGen + I\n",
    "    nRebuilt = nRebuilt + J\n",
    "    \n",
    "nGen = nGen/vhInvMass.axes[0].widths[0]\n",
    "nRebuilt = nRebuilt/vhInvMassGen.axes[0].widths[0]\n",
    "\n",
    "plt.yscale(\"log\")\n",
    "print(\"Événements générés : \", nGen, \" événements reconstruits : \", nRebuilt)\n",
    "print(\"A x \\u03B5 = %.2f\" %((nRebuilt/nGen)*100), \"%\")\n",
    "\n",
    "vhInvMass.plot(label=\"Rebuilt events\")\n",
    "vhInvMassGen.plot(label=\"Generated events\")"
   ]
  },
  {
   "cell_type": "code",
   "execution_count": null,
   "id": "dca6bd88-965c-4b54-a68c-1e7f534e1232",
   "metadata": {},
   "outputs": [],
   "source": []
  }
 ],
 "metadata": {
  "kernelspec": {
   "display_name": "Python 3 (ipykernel)",
   "language": "python",
   "name": "python3"
  },
  "language_info": {
   "codemirror_mode": {
    "name": "ipython",
    "version": 3
   },
   "file_extension": ".py",
   "mimetype": "text/x-python",
   "name": "python",
   "nbconvert_exporter": "python",
   "pygments_lexer": "ipython3",
   "version": "3.10.8"
  }
 },
 "nbformat": 4,
 "nbformat_minor": 5
}
