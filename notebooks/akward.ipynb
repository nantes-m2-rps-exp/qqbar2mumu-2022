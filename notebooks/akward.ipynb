{
 "cells": [
  {
   "cell_type": "markdown",
   "id": "15f97d7c-da15-481b-b354-6e66be0628c5",
   "metadata": {},
   "source": [
    "# 1- Introduction"
   ]
  },
  {
   "cell_type": "markdown",
   "id": "7e56b0df-cbf6-452b-b919-4023ad44392c",
   "metadata": {},
   "source": [
    "In this notebook, we will demonstrate how to use the akward table and how to build selector efficiently using lambda's in python"
   ]
  },
  {
   "cell_type": "code",
   "execution_count": 89,
   "id": "943c4485-fcb0-4000-a413-49d81eb3b9dc",
   "metadata": {},
   "outputs": [],
   "source": [
    "import uproot\n",
    "import awkward as ak\n",
    "import numpy as np\n",
    "import math\n",
    "import hist\n",
    "import matplotlib.pyplot as plt\n",
    "import os\n",
    "import subprocess\n",
    "import vector"
   ]
  },
  {
   "cell_type": "markdown",
   "id": "cbaf2d66-96c7-4ca2-b91e-bdb34f06c097",
   "metadata": {},
   "source": [
    "First we need to identify the akward table as vectors"
   ]
  },
  {
   "cell_type": "code",
   "execution_count": 90,
   "id": "cbd5f867-ee55-417f-b59f-874318cd52bb",
   "metadata": {},
   "outputs": [],
   "source": [
    "vector.register_awkward() "
   ]
  },
  {
   "cell_type": "markdown",
   "id": "47902ff2-1d02-4382-b94a-58b9f041f3e3",
   "metadata": {},
   "source": [
    "We then collect the data (either MC or real data)"
   ]
  },
  {
   "cell_type": "code",
   "execution_count": 91,
   "id": "10f3e0ea-d515-42ef-a2af-25819fd9864f",
   "metadata": {},
   "outputs": [],
   "source": [
    "DATATYPE=\"data\"\n",
    "assert((DATATYPE==\"mc\") or (DATATYPE==\"data\"))\n",
    "BASEDIR=\".\" # basedir where to look for runXXX.DATATYPE.root files\n",
    "IS_MC=True if DATATYPE==\"mc\" else False"
   ]
  },
  {
   "cell_type": "markdown",
   "id": "b11627c0-9640-4102-8076-3f83f0f5f7fb",
   "metadata": {},
   "source": [
    "Here is a set of exemple illustration how to create function to grab the files efficiently from the CERNBox"
   ]
  },
  {
   "cell_type": "code",
   "execution_count": 92,
   "id": "3ebf9d15-c393-4c80-9e12-112081e0a509",
   "metadata": {},
   "outputs": [],
   "source": [
    "def data_url(run,is_mc):\n",
    "    basesrc=\"https://cernbox.cern.ch/remote.php/dav/public-files/VJZ5whMyF5Kxldd/dimuonData_LHC18m\"\n",
    "    if is_mc==True:\n",
    "        basesrc+=\"MC\"\n",
    "    return f\"{basesrc}/{run}/AnalysisResults.root\"\n",
    "\n",
    "def data_file_path(run,is_mc=IS_MC,dest=BASEDIR):\n",
    "    datatype=\"mc\" if is_mc else \"data\"\n",
    "    print({dest},\"/run\",{run},\".\",{datatype},\".root\")\n",
    "    return f\"{dest}/run{run}.{datatype}.root\"\n",
    "\n",
    "def copy_cmd(run,is_mc,dest):\n",
    "    return f\"curl '{data_url(run,is_mc)}' > {data_file_path(run,is_mc,dest)}\""
   ]
  },
  {
   "cell_type": "code",
   "execution_count": 93,
   "id": "cadaaaf3-b071-49f1-9cbb-50b9aa372282",
   "metadata": {},
   "outputs": [
    {
     "name": "stdout",
     "output_type": "stream",
     "text": [
      "Is it MC? Answer: False\n",
      "{'.'} /run {290223} . {'data'} .root\n",
      "Is it MC? Answer: False\n",
      "{'.'} /run {291694} . {'data'} .root\n",
      "Is it MC? Answer: False\n",
      "{'.'} /run {291399} . {'data'} .root\n"
     ]
    }
   ],
   "source": [
    "#SAMPLE_RUNS=[291694,291399]\n",
    "SAMPLE_RUNS=[290223,291694,291399]\n",
    "for run in SAMPLE_RUNS:\n",
    "    print(\"Is it MC? Answer:\", IS_MC);\n",
    "    if not os.path.exists(data_file_path(run,IS_MC)):\n",
    "        os.makedirs(BASEDIR,exist_ok=True)\n",
    "        subprocess.call(copy_cmd(run,IS_MC,BASEDIR),shell=True)"
   ]
  },
  {
   "cell_type": "markdown",
   "id": "9bc53cbc-6ce1-40fc-aa63-1a1fcacb81df",
   "metadata": {},
   "source": [
    "Let's now open the root file and print the content"
   ]
  },
  {
   "cell_type": "code",
   "execution_count": 94,
   "id": "a8bf2254-ba68-4e89-84c0-1f5691035287",
   "metadata": {},
   "outputs": [
    {
     "name": "stdout",
     "output_type": "stream",
     "text": [
      "{'.'} /run {290223} . {'data'} .root\n",
      "name                 | typename                 | interpretation                \n",
      "---------------------+--------------------------+-------------------------------\n",
      "runNumber            | int32_t                  | AsDtype('>i4')\n",
      "xVtx                 | double                   | AsDtype('>f8')\n",
      "yVtx                 | double                   | AsDtype('>f8')\n",
      "zVtx                 | double                   | AsDtype('>f8')\n",
      "isCINT               | bool                     | AsDtype('bool')\n",
      "isCMSL               | bool                     | AsDtype('bool')\n",
      "isCMSH               | bool                     | AsDtype('bool')\n",
      "isCMLL               | bool                     | AsDtype('bool')\n",
      "isCMUL               | bool                     | AsDtype('bool')\n",
      "nMuons               | int32_t                  | AsDtype('>i4')\n",
      "Muon_E               | std::vector<float>       | AsJagged(AsDtype('>f4'), he...\n",
      "Muon_Px              | std::vector<float>       | AsJagged(AsDtype('>f4'), he...\n",
      "Muon_Py              | std::vector<float>       | AsJagged(AsDtype('>f4'), he...\n",
      "Muon_Pz              | std::vector<float>       | AsJagged(AsDtype('>f4'), he...\n",
      "Muon_Charge          | std::vector<int16_t>     | AsJagged(AsDtype('>i2'), he...\n",
      "Muon_thetaAbs        | std::vector<float>       | AsJagged(AsDtype('>f4'), he...\n",
      "Muon_xDCA            | std::vector<double>      | AsJagged(AsDtype('>f8'), he...\n",
      "Muon_yDCA            | std::vector<double>      | AsJagged(AsDtype('>f8'), he...\n",
      "Muon_zDCA            | std::vector<double>      | AsJagged(AsDtype('>f8'), he...\n",
      "Muon_matchedTrgTh... | std::vector<int32_t>     | AsJagged(AsDtype('>i4'), he...\n",
      "Muon_MCHClusterMap   | std::vector<uint32_t>    | AsJagged(AsDtype('>u4'), he...\n",
      "Muon_MTRHitMapTrg    | std::vector<uint32_t>    | AsJagged(AsDtype('>u4'), he...\n",
      "Muon_MTRHitMapTrk    | std::vector<uint32_t>    | AsJagged(AsDtype('>u4'), he...\n"
     ]
    }
   ],
   "source": [
    "file = uproot.open(data_file_path(SAMPLE_RUNS[0],IS_MC))\n",
    "events = file[\"eventsTree\"]\n",
    "events.show()"
   ]
  },
  {
   "cell_type": "markdown",
   "id": "1e3fa135-5bb6-4979-9dca-6281e21ceb07",
   "metadata": {},
   "source": [
    "We will just print here the number of entries (events) in the file for the record"
   ]
  },
  {
   "cell_type": "code",
   "execution_count": 95,
   "id": "cad12c86-befd-446d-9739-463559276a31",
   "metadata": {},
   "outputs": [
    {
     "data": {
      "text/plain": [
       "77444"
      ]
     },
     "execution_count": 95,
     "metadata": {},
     "output_type": "execute_result"
    }
   ],
   "source": [
    "events.num_entries"
   ]
  },
  {
   "cell_type": "markdown",
   "id": "a4c1938d-76cb-40be-b9d3-5967f6b75e6c",
   "metadata": {},
   "source": [
    "# 2- 4-momentum vector with akward and selectors"
   ]
  },
  {
   "cell_type": "markdown",
   "id": "06ef45ae-f19e-44ac-a6f1-365774e2049b",
   "metadata": {},
   "source": [
    "It is possible to build akward table as a 4-momentum vector. To do that, you need to use the \"zip\" method whith px, py, pz and E as its 4 first members. You also need to call this table with the following specific name \"Momentum4D\"\n",
    "\n",
    "This allow you in the following to get the kinematics of your tracks quite easily by calling:\n",
    "- .p, .px, .py, .pz, .pt, ... for the momentum\n",
    "- .eta for the pseudo-rapidity\n",
    "- ...\n",
    "\n",
    "Indeed, you can also add more information to the akward table after defining the first 4 members of the table (as you can see below)"
   ]
  },
  {
   "cell_type": "markdown",
   "id": "6e87dd6a-b51f-4874-868d-25807d5f6e5a",
   "metadata": {},
   "source": [
    "We are here implementing a \"getTracks\" function that will be use in the following to select tracks. See here:"
   ]
  },
  {
   "cell_type": "code",
   "execution_count": 72,
   "id": "48e2f3ae-8300-462d-b6e0-10f8dc308068",
   "metadata": {},
   "outputs": [],
   "source": [
    "def getTracks(events):\n",
    "    return ak.zip({\"px\":events[\"Muon_Px\"],\n",
    "                       \"py\":events[\"Muon_Py\"],\n",
    "                       \"pz\":events[\"Muon_Pz\"],\n",
    "                       \"E\":events[\"Muon_E\"],\n",
    "                       \"charge\":events[\"Muon_Charge\"],\n",
    "                       \"thetaAbs\":events[\"Muon_thetaAbs\"],\n",
    "                       \"matched\":events[\"Muon_matchedTrgThreshold\"]},\n",
    "                    with_name='Momentum4D')"
   ]
  },
  {
   "cell_type": "markdown",
   "id": "eeafb138-8eed-43a9-ac65-5ec16ef9445e",
   "metadata": {},
   "source": [
    "Now we will design a function to run over the data with uproot. \n",
    "In the iterate, we define all the varaible we want to access for each events\n",
    "\n",
    "We first select good events and track using lambdas in python. What is a good event or a good track will be define later when we call the function \"scan\""
   ]
  },
  {
   "cell_type": "code",
   "execution_count": 96,
   "id": "43b800e2-915e-442a-aa66-935ee621c400",
   "metadata": {},
   "outputs": [],
   "source": [
    "def scan(dataDescription, \n",
    "              hMag:hist.Hist, hPhi:hist.Hist,\n",
    "              eventSelector=lambda x:[True]*len(x),\n",
    "              trackSelector=lambda x:[True]*len(x), \n",
    "              verbose:bool=False):\n",
    "    \"\"\" Loop over data to fill the invariant mass histogram.\n",
    "        \n",
    "        :param: dataDescription: is anything uproot.iterate can take.\n",
    "                typical something like run*.data.root:eventsTree in our case\n",
    "        :param: eventSelector: returns an array of bool from an array of events\n",
    "        :param: trackSelector: returns an array of bool from an array of tracks\n",
    "    \"\"\"\n",
    "    \n",
    "    for batch in uproot.iterate(dataDescription,\n",
    "                                [\"isCINT\",\"isCMUL\",\"isCMSL\",\"Muon_Px\",\"Muon_Py\",\"Muon_Pz\",\"Muon_E\",\"Muon_Charge\",\"Muon_thetaAbs\",\"Muon_matchedTrgThreshold\"],                                \n",
    "                                 step_size=\"100 MB\", report=True):\n",
    "        events=batch[0] # batch[1] is the report info\n",
    "        if len(events) < 1000:\n",
    "            print(\"something is wrong\",batch[1]) # this is a protection for some corrupted input data files \n",
    "            break\n",
    "            \n",
    "        goodEvents = events[eventSelector(events)] \n",
    "        \n",
    "        tracks = getTracks(events)\n",
    "        goodTracks=tracks[trackSelector(tracks)]\n",
    "    \n",
    "        hMag.fill(ak.flatten(goodTracks.p))\n",
    "        hPhi.fill(ak.flatten(goodTracks.phi))    \n",
    "\n",
    "        if verbose:\n",
    "            print(batch[1])\n"
   ]
  },
  {
   "cell_type": "markdown",
   "id": "73c7ae68-4bc3-4114-b72a-8dd9e99c4b9a",
   "metadata": {},
   "source": [
    "We define now some histograms that we want to plot and run over the data. We do it twice for illustration purposes:\n",
    "- first, we don't give any definition for the eventselector and track selector. This is equivalent to say that all events and all tracks are good\n",
    "- second, we implement some definition for the lambda function to have some selection criteria on our tracks\n"
   ]
  },
  {
   "cell_type": "code",
   "execution_count": 79,
   "id": "97fd5e4b-9a97-42a9-a403-99418d3ac8f0",
   "metadata": {},
   "outputs": [
    {
     "name": "stdout",
     "output_type": "stream",
     "text": [
      "CPU times: user 9.16 s, sys: 97.7 ms, total: 9.26 s\n",
      "Wall time: 9.26 s\n"
     ]
    }
   ],
   "source": [
    "%%time\n",
    "## SINGLE MUON TRACK PLOTS\n",
    "#No cuts\n",
    "vhMagRaw = hist.Hist(hist.axis.Regular(bins=100,start=0,stop=100,name='$|p|$'))\n",
    "vhPhiRaw = hist.Hist(hist.axis.Regular(bins=200,start=-22/7,stop=22/7,name='$\\phi$'))\n",
    "#Event selection\n",
    "vhMagEvSel = hist.Hist(hist.axis.Regular(bins=100,start=0,stop=100,name='$|p|$'))\n",
    "vhPhiEvSel = hist.Hist(hist.axis.Regular(bins=200,start=-22/7,stop=22/7,name='$\\phi$'))\n",
    "\n",
    "scan(dataDescription=f\"{BASEDIR}/run*.{DATATYPE}.root:eventsTree\",\n",
    "          hMag=vhMagRaw, hPhi=vhPhiRaw)\n",
    "\n",
    "\n",
    "scan(dataDescription=f\"{BASEDIR}/run*.{DATATYPE}.root:eventsTree\",\n",
    "          hMag=vhMagEvSel, hPhi=vhPhiEvSel,\n",
    "          eventSelector=lambda x: x[\"isCMSL\"]==True,\n",
    "          trackSelector=lambda x: (x.p>5) & (x.eta>-4))\n"
   ]
  },
  {
   "cell_type": "markdown",
   "id": "83fa5506-6d48-4167-870b-3a1fe438090f",
   "metadata": {},
   "source": [
    "We can now plot the results! See from the plots that our selection revomed some entries in all histograms"
   ]
  },
  {
   "cell_type": "code",
   "execution_count": 97,
   "id": "0fed2b03-3af1-4620-aa05-a6d38c876244",
   "metadata": {},
   "outputs": [
    {
     "data": {
      "image/png": "[encoded data removed]",
      "text/plain": [
       "<Figure size 432x288 with 1 Axes>"
      ]
     },
     "metadata": {
      "needs_background": "light"
     },
     "output_type": "display_data"
    }
   ],
   "source": [
    "vhMagRaw.plot(label=\"no cuts\")\n",
    "vhMagEvSel.plot(label=\"events selected\")\n",
    "plt.yscale(\"log\")\n",
    "plt.ylabel(\"# of tracks\")\n",
    "plt.title('Total momentum of tracks');\n",
    "plt.legend();\n"
   ]
  },
  {
   "cell_type": "code",
   "execution_count": 98,
   "id": "8360c05d-aa18-4741-a7a4-56af9b70e84c",
   "metadata": {},
   "outputs": [
    {
     "data": {
      "image/png": "[encoded data removed]",
      "text/plain": [
       "<Figure size 432x288 with 1 Axes>"
      ]
     },
     "metadata": {
      "needs_background": "light"
     },
     "output_type": "display_data"
    }
   ],
   "source": [
    "vhPhiRaw.plot(label=\"no cuts\")\n",
    "vhPhiEvSel.plot(label=\"events selected\")\n",
    "plt.yscale(\"log\")\n",
    "plt.ylabel(\"# of tracks\")\n",
    "plt.title('Azimuthal angle distribution of tracks');\n",
    "plt.legend();"
   ]
  },
  {
   "cell_type": "code",
   "execution_count": null,
   "id": "6ba730b7-6934-4bcd-972f-8c87541a0103",
   "metadata": {},
   "outputs": [],
   "source": []
  },
  {
   "cell_type": "code",
   "execution_count": null,
   "id": "ad59d3dd-147e-457c-a13f-af2922d83c93",
   "metadata": {},
   "outputs": [],
   "source": []
  },
  {
   "cell_type": "code",
   "execution_count": null,
   "id": "53910b40-1fb4-431a-9baa-0e2ebb2d580c",
   "metadata": {},
   "outputs": [],
   "source": []
  }
 ],
 "metadata": {
  "kernelspec": {
   "display_name": "Python 3 (ipykernel)",
   "language": "python",
   "name": "python3"
  },
  "language_info": {
   "codemirror_mode": {
    "name": "ipython",
    "version": 3
   },
   "file_extension": ".py",
   "mimetype": "text/x-python",
   "name": "python",
   "nbconvert_exporter": "python",
   "pygments_lexer": "ipython3",
   "version": "3.10.8"
  }
 },
 "nbformat": 4,
 "nbformat_minor": 5
}
