{
 "cells": [
  {
   "cell_type": "code",
   "execution_count": 1,
   "id": "f1f255ac-be8b-44c9-bc03-5069ced98648",
   "metadata": {},
   "outputs": [],
   "source": [
    "import uproot\n",
    "import awkward as ak\n",
    "import numpy as np\n",
    "import math\n",
    "import hist\n",
    "import matplotlib.pyplot as plt\n",
    "import os\n",
    "import subprocess\n",
    "import vector"
   ]
  },
  {
   "cell_type": "code",
   "execution_count": 2,
   "id": "5c005c95-852b-4dc9-8f5e-3d4a7a9e32f9",
   "metadata": {},
   "outputs": [],
   "source": [
    "vector.register_awkward() "
   ]
  },
  {
   "cell_type": "code",
   "execution_count": 3,
   "id": "1b02fb2c-8ec3-48b0-978d-f021c4be1ce6",
   "metadata": {},
   "outputs": [],
   "source": [
    "DATATYPE=\"data\"\n",
    "assert((DATATYPE==\"mc\") or (DATATYPE==\"data\"))\n",
    "BASEDIR=\".\" # basedir where to look for runXXX.DATATYPE.root files\n",
    "IS_MC=True if DATATYPE==\"mc\" else False"
   ]
  },
  {
   "cell_type": "code",
   "execution_count": 4,
   "id": "4ee179bd-4476-4cb5-941c-f5589bf73c47",
   "metadata": {},
   "outputs": [
    {
     "name": "stdout",
     "output_type": "stream",
     "text": [
      "  % Total    % Received % Xferd  Average Speed   Time    Time     Time  Current\n",
      "                                 Dload  Upload   Total   Spent    Left  Speed\n",
      "100  100M  100  100M    0     0  4424k      0  0:00:23  0:00:23 --:--:-- 5413k\n"
     ]
    }
   ],
   "source": [
    "!curl 'https://cernbox.cern.ch/remote.php/dav/public-files/JIjQaAYEQnmRDkX/291694/AnalysisResults.root' > run291694.data.root"
   ]
  },
  {
   "cell_type": "code",
   "execution_count": 5,
   "id": "aa0c40ef-371c-4c9a-a50f-5c3631e9fc74",
   "metadata": {},
   "outputs": [
    {
     "name": "stdout",
     "output_type": "stream",
     "text": [
      "run290223.data.root: ROOT file Version 62406 (Compression: 1)\n",
      "run291694.data.root: ROOT file Version 61600 (Compression: 1)\n",
      "run291694.mc.root:   ROOT file Version 61600 (Compression: 1)\n",
      "name                 | typename                 | interpretation                \n",
      "---------------------+--------------------------+-------------------------------\n",
      "runNumber            | int32_t                  | AsDtype('>i4')\n",
      "xVtx                 | double                   | AsDtype('>f8')\n",
      "yVtx                 | double                   | AsDtype('>f8')\n",
      "zVtx                 | double                   | AsDtype('>f8')\n",
      "isCINT               | bool                     | AsDtype('bool')\n",
      "isCMSL               | bool                     | AsDtype('bool')\n",
      "isCMSH               | bool                     | AsDtype('bool')\n",
      "isCMLL               | bool                     | AsDtype('bool')\n",
      "isCMUL               | bool                     | AsDtype('bool')\n",
      "nMuons               | int32_t                  | AsDtype('>i4')\n",
      "Muon_E               | std::vector<float>       | AsJagged(AsDtype('>f4'), he...\n",
      "Muon_Px              | std::vector<float>       | AsJagged(AsDtype('>f4'), he...\n",
      "Muon_Py              | std::vector<float>       | AsJagged(AsDtype('>f4'), he...\n",
      "Muon_Pz              | std::vector<float>       | AsJagged(AsDtype('>f4'), he...\n",
      "Muon_Charge          | std::vector<int16_t>     | AsJagged(AsDtype('>i2'), he...\n",
      "Muon_thetaAbs        | std::vector<float>       | AsJagged(AsDtype('>f4'), he...\n",
      "Muon_xDCA            | std::vector<double>      | AsJagged(AsDtype('>f8'), he...\n",
      "Muon_yDCA            | std::vector<double>      | AsJagged(AsDtype('>f8'), he...\n",
      "Muon_zDCA            | std::vector<double>      | AsJagged(AsDtype('>f8'), he...\n",
      "Muon_matchedTrgTh... | std::vector<int32_t>     | AsJagged(AsDtype('>i4'), he...\n",
      "Muon_MCHClusterMap   | std::vector<uint32_t>    | AsJagged(AsDtype('>u4'), he...\n",
      "Muon_MTRHitMapTrg    | std::vector<uint32_t>    | AsJagged(AsDtype('>u4'), he...\n",
      "Muon_MTRHitMapTrk    | std::vector<uint32_t>    | AsJagged(AsDtype('>u4'), he...\n"
     ]
    }
   ],
   "source": [
    "!file *.root\n",
    "file = uproot.open(\"run291694.mc.root\")\n",
    "file.keys()\n",
    "events = file[\"eventsTree\"]\n",
    "events.show()"
   ]
  },
  {
   "cell_type": "code",
   "execution_count": 10,
   "id": "e1199f12-8e4a-4194-b082-8551fc636a90",
   "metadata": {},
   "outputs": [
    {
     "name": "stdout",
     "output_type": "stream",
     "text": [
      "[{nMuons: 2, isCINT: True, isCMUL: False, isCMSL: True, ... 2, 0]}] \n",
      " [{nMuonsGen: 2, Muon_GenE: [10.3, 20.7], ... Muon_GenMotherPDGCode: [443, 443]}] \n",
      "\n",
      "[[], [], [], [], [], [], ... E: 11.7, charge: -1, thetaAbs: 5.79, matched: 0})]]\n",
      "a\n"
     ]
    },
    {
     "data": {
      "text/plain": [
       "<matplotlib.legend.Legend at 0x7fdb14a140d0>"
      ]
     },
     "execution_count": 10,
     "metadata": {},
     "output_type": "execute_result"
    },
    {
     "data": {
      "image/png": "[encoded data removed]",
      "text/plain": [
       "<Figure size 640x480 with 1 Axes>"
      ]
     },
     "metadata": {},
     "output_type": "display_data"
    }
   ],
   "source": [
    "import uproot\n",
    "import awkward as ak\n",
    "import numpy as np\n",
    "import math\n",
    "import hist\n",
    "import matplotlib.pyplot as plt\n",
    "import os\n",
    "import subprocess\n",
    "import vector\n",
    "\n",
    "vector.register_awkward() \n",
    "\n",
    "DATATYPE=\"mc\"\n",
    "assert((DATATYPE==\"mc\") or (DATATYPE==\"data\"))\n",
    "BASEDIR=\".\" # basedir where to look for runXXX.DATATYPE.root files\n",
    "IS_MC=True if DATATYPE==\"mc\" else False\n",
    "\n",
    "#!curl 'https://cernbox.cern.ch/remote.php/dav/public-files/nbPmKbcsJvZrjjx/291694/AnalysisResults.root' > run291694.mc.root\n",
    "#!file *.root\n",
    "#file = uproot.open(\"run291694.mc.root\")\n",
    "#file.keys()\n",
    "#events = file[\"eventsTree\"]\n",
    "#gen = file[\"genTree\"]\n",
    "\n",
    "#def data_url(run,is_mc):\n",
    "#    basesrc=\"https://cernbox.cern.ch/remote.php/dav/public-files/VJZ5whMyF5Kxldd/dimuonData_LHC18m\"\n",
    "#    if is_mc==True:\n",
    "#        basesrc+=\"MC\"\n",
    "#    return f\"{basesrc}/{run}/AnalysisResults.root\"\n",
    "\n",
    "#def data_file_path(run,is_mc=IS_MC,dest=BASEDIR):\n",
    "#    datatype=\"mc\" if is_mc else \"data\"\n",
    "#    print({dest},\"/run\",{run},\".\",{datatype},\".root\")\n",
    "#    return f\"{dest}/run{run}.{datatype}.root\"\n",
    "\n",
    "#def copy_cmd(run,is_mc,dest):\n",
    "#    return f\"curl '{data_url(run,is_mc)}' > {data_file_path(run,is_mc,dest)}\"\n",
    "\n",
    "def getTracks(events, gen):\n",
    "    i = gen[\"Muon_GenMotherPDGCode\"] == 443\n",
    "    j = i[:,0]\n",
    "    tracks = events[j]\n",
    "    return ak.zip({\n",
    "        \"px\":tracks[\"Muon_Px\"],\n",
    "                    \"py\":tracks[\"Muon_Py\"],\n",
    "                    \"pz\":tracks[\"Muon_Pz\"],\n",
    "                    \"E\":tracks[\"Muon_E\"],\n",
    "                    \"charge\":tracks[\"Muon_Charge\"],\n",
    "                    \"thetaAbs\":tracks[\"Muon_thetaAbs\"],\n",
    "                    \"matched\":tracks[\"Muon_matchedTrgThreshold\"]},\n",
    "                    with_name='Momentum4D')\n",
    "\n",
    "def getTracksGenerated(gen):\n",
    "    i = gen[\"Muon_GenMotherPDGCode\"] == 443\n",
    "    j = i[:,0]\n",
    "    tracksGen = gen[j]\n",
    "    return ak.zip({ \"px\":tracksGen[\"Muon_GenPx\"],\n",
    "                   \"py\":tracksGen[\"Muon_GenPy\"],\n",
    "                   \"pz\":tracksGen[\"Muon_GenPz\"],\n",
    "                   \"E\":tracksGen[\"Muon_GenE\"],\n",
    "                   \"GenMotherPDGCode\":tracksGen[\"Muon_GenMotherPDGCode\"]},\n",
    "                    with_name='Momentum4D')\n",
    "\n",
    "def scan(dataDescription1, dataDescription2, \n",
    "              hMag:hist.Hist, hPhi:hist.Hist, hInvMassGen:hist.Hist, hInvMassRebuilt:hist.Hist,\n",
    "              eventSelector=lambda x:[True]*len(x),\n",
    "              trackSelector=lambda x:[True]*len(x),\n",
    "              verbose:bool=False):\n",
    "    \"\"\" Loop over data to fill the invariant mass histogram.\n",
    "        \n",
    "        :param: dataDescription: is anything uproot.iterate can take.\n",
    "                typical something like run*.data.root:eventsTree in our case\n",
    "        :param: eventSelector: returns an array of bool from an array of events\n",
    "        :param: trackSelector: returns an array of bool from an array of tracks\n",
    "    \"\"\"\n",
    "    \n",
    "    for batch1, batch2 in zip(uproot.iterate(dataDescription1,\n",
    "                                [\"nMuons\", \"isCINT\",\"isCMUL\",\"isCMSL\",\"Muon_Px\",\"Muon_Py\",\"Muon_Pz\",\"Muon_E\",\"Muon_Charge\",\"Muon_thetaAbs\",\"Muon_matchedTrgThreshold\"],                                \n",
    "                                 step_size=\"100 MB\", report=True), \n",
    "                             uproot.iterate(dataDescription2,\n",
    "                                [\"nMuonsGen\", \"Muon_GenE\", \"Muon_GenPx\", \"Muon_GenPy\", \"Muon_GenPz\", \"Muon_GenLabel\",\"Muon_GenMotherPDGCode\"],                                \n",
    "                                 step_size=\"100 MB\", report=True)):\n",
    "        events=batch1[0] # batch[1] is the report info\n",
    "        gen=batch2[0]\n",
    "        print(events, \"\\n\", gen, \"\\n\")\n",
    "        if len(events) < 1000:\n",
    "            print(\"something is wrong\",batch1[1], batch2[1]) # this is a protection for some corrupted input data files \n",
    "            break\n",
    "            \n",
    "        goodEvents = events[eventSelector(events)] \n",
    "        \n",
    "        tracks = getTracks(events, gen)\n",
    "        tracksGen = getTracksGenerated(gen)\n",
    "        \n",
    "        pairs = ak.combinations(tracks, 2)\n",
    "        pairs_gen = ak.combinations(tracksGen, 2)\n",
    "        one, two = ak.unzip(pairs)\n",
    "        one_gen, two_gen = ak.unzip(pairs_gen)\n",
    "        \n",
    "        #opposite_charge_cut = one.charge + two.charge == 0\n",
    "        \n",
    "        #quality_one = one[opposite_charge_cut]\n",
    "        #quality_two = two[opposite_charge_cut]\n",
    "        invariant_mass = (one + two).mass\n",
    "        invariant_mass_gen = (one_gen + two_gen).mass\n",
    "        \n",
    "        hMag.fill(ak.flatten(tracks.p))\n",
    "        hPhi.fill(ak.flatten(tracks.phi)) \n",
    "        hInvMassRebuilt.fill(ak.flatten(invariant_mass))\n",
    "        hInvMassGen.fill(ak.flatten(invariant_mass_gen))\n",
    "\n",
    "        print(pairs)\n",
    "        print(\"a\")\n",
    "\n",
    "        if verbose:\n",
    "            print(batch1[1], \"\\n\", batch2[1])\n",
    "\n",
    "vhMagRaw = hist.Hist(hist.axis.Regular(bins=100,start=0,stop=100,name='$|p|$'))\n",
    "vhPhiRaw = hist.Hist(hist.axis.Regular(bins=200,start=-22/7,stop=22/7,name='$\\phi$'))\n",
    "vhInvMass_gen = hist.Hist(hist.axis.Regular(bins=200,start=0,stop=5,name='invariant mass'))\n",
    "vhInvMass_rebuilt = hist.Hist(hist.axis.Regular(bins=200,start=0,stop=5,name='invariant mass'))\n",
    "            \n",
    "scan(dataDescription1=f\"{BASEDIR}/run291694.{DATATYPE}.root:eventsTree\",\n",
    "     dataDescription2=f\"{BASEDIR}/run291694.{DATATYPE}.root:genTree\",\n",
    "          hMag=vhMagRaw, hPhi=vhPhiRaw, hInvMassGen=vhInvMass_gen, hInvMassRebuilt=vhInvMass_rebuilt,\n",
    "          eventSelector=lambda x: x[\"isCMUL\"]==True,\n",
    "          trackSelector=lambda x: (x.eta>0))\n",
    "\n",
    "vhInvMass_gen.plot(label=\"Generated events\")\n",
    "vhInvMass_rebuilt.plot(label=\"Rebuilt events\")\n",
    "plt.xlabel(\"Invariant mass (GeV)\")\n",
    "plt.ylabel(\"# of Tracks\")\n",
    "plt.yscale(\"log\")\n",
    "plt.legend()"
   ]
  },
  {
   "cell_type": "code",
   "execution_count": null,
   "id": "dca6bd88-965c-4b54-a68c-1e7f534e1232",
   "metadata": {},
   "outputs": [],
   "source": []
  }
 ],
 "metadata": {
  "kernelspec": {
   "display_name": "Python 3 (ipykernel)",
   "language": "python",
   "name": "python3"
  },
  "language_info": {
   "codemirror_mode": {
    "name": "ipython",
    "version": 3
   },
   "file_extension": ".py",
   "mimetype": "text/x-python",
   "name": "python",
   "nbconvert_exporter": "python",
   "pygments_lexer": "ipython3",
   "version": "3.10.8"
  }
 },
 "nbformat": 4,
 "nbformat_minor": 5
}
