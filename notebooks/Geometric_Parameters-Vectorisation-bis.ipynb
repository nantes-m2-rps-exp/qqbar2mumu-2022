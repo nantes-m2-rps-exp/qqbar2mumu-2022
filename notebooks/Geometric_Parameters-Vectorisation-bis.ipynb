{
 "cells": [
  {
   "cell_type": "code",
   "execution_count": 1,
   "id": "f1f255ac-be8b-44c9-bc03-5069ced98648",
   "metadata": {},
   "outputs": [],
   "source": [
    "import uproot\n",
    "import awkward as ak\n",
    "import numpy as np\n",
    "import math\n",
    "import hist\n",
    "import matplotlib.pyplot as plt\n",
    "import os\n",
    "import subprocess\n",
    "import vector"
   ]
  },
  {
   "cell_type": "code",
   "execution_count": 2,
   "id": "5c005c95-852b-4dc9-8f5e-3d4a7a9e32f9",
   "metadata": {},
   "outputs": [],
   "source": [
    "vector.register_awkward() "
   ]
  },
  {
   "cell_type": "code",
   "execution_count": 3,
   "id": "1b02fb2c-8ec3-48b0-978d-f021c4be1ce6",
   "metadata": {},
   "outputs": [],
   "source": [
    "DATATYPE=\"data\"\n",
    "assert((DATATYPE==\"mc\") or (DATATYPE==\"data\"))\n",
    "BASEDIR=\".\" # basedir where to look for runXXX.DATATYPE.root files\n",
    "IS_MC=True if DATATYPE==\"mc\" else False"
   ]
  },
  {
   "cell_type": "code",
   "execution_count": 4,
   "id": "4ee179bd-4476-4cb5-941c-f5589bf73c47",
   "metadata": {},
   "outputs": [
    {
     "name": "stdout",
     "output_type": "stream",
     "text": [
      "  % Total    % Received % Xferd  Average Speed   Time    Time     Time  Current\n",
      "                                 Dload  Upload   Total   Spent    Left  Speed\n",
      "100  100M  100  100M    0     0  4424k      0  0:00:23  0:00:23 --:--:-- 5413k\n"
     ]
    }
   ],
   "source": [
    "!curl 'https://cernbox.cern.ch/remote.php/dav/public-files/JIjQaAYEQnmRDkX/291694/AnalysisResults.root' > run291694.data.root"
   ]
  },
  {
   "cell_type": "code",
   "execution_count": 5,
   "id": "aa0c40ef-371c-4c9a-a50f-5c3631e9fc74",
   "metadata": {},
   "outputs": [
    {
     "name": "stdout",
     "output_type": "stream",
     "text": [
      "run290223.data.root: ROOT file Version 62406 (Compression: 1)\n",
      "run291694.data.root: ROOT file Version 61600 (Compression: 1)\n",
      "run291694.mc.root:   ROOT file Version 61600 (Compression: 1)\n",
      "name                 | typename                 | interpretation                \n",
      "---------------------+--------------------------+-------------------------------\n",
      "runNumber            | int32_t                  | AsDtype('>i4')\n",
      "xVtx                 | double                   | AsDtype('>f8')\n",
      "yVtx                 | double                   | AsDtype('>f8')\n",
      "zVtx                 | double                   | AsDtype('>f8')\n",
      "isCINT               | bool                     | AsDtype('bool')\n",
      "isCMSL               | bool                     | AsDtype('bool')\n",
      "isCMSH               | bool                     | AsDtype('bool')\n",
      "isCMLL               | bool                     | AsDtype('bool')\n",
      "isCMUL               | bool                     | AsDtype('bool')\n",
      "nMuons               | int32_t                  | AsDtype('>i4')\n",
      "Muon_E               | std::vector<float>       | AsJagged(AsDtype('>f4'), he...\n",
      "Muon_Px              | std::vector<float>       | AsJagged(AsDtype('>f4'), he...\n",
      "Muon_Py              | std::vector<float>       | AsJagged(AsDtype('>f4'), he...\n",
      "Muon_Pz              | std::vector<float>       | AsJagged(AsDtype('>f4'), he...\n",
      "Muon_Charge          | std::vector<int16_t>     | AsJagged(AsDtype('>i2'), he...\n",
      "Muon_thetaAbs        | std::vector<float>       | AsJagged(AsDtype('>f4'), he...\n",
      "Muon_xDCA            | std::vector<double>      | AsJagged(AsDtype('>f8'), he...\n",
      "Muon_yDCA            | std::vector<double>      | AsJagged(AsDtype('>f8'), he...\n",
      "Muon_zDCA            | std::vector<double>      | AsJagged(AsDtype('>f8'), he...\n",
      "Muon_matchedTrgTh... | std::vector<int32_t>     | AsJagged(AsDtype('>i4'), he...\n",
      "Muon_MCHClusterMap   | std::vector<uint32_t>    | AsJagged(AsDtype('>u4'), he...\n",
      "Muon_MTRHitMapTrg    | std::vector<uint32_t>    | AsJagged(AsDtype('>u4'), he...\n",
      "Muon_MTRHitMapTrk    | std::vector<uint32_t>    | AsJagged(AsDtype('>u4'), he...\n"
     ]
    }
   ],
   "source": [
    "!file *.root\n",
    "file = uproot.open(\"run291694.mc.root\")\n",
    "file.keys()\n",
    "events = file[\"eventsTree\"]\n",
    "events.show()"
   ]
  },
  {
   "cell_type": "code",
   "execution_count": 6,
   "id": "e1199f12-8e4a-4194-b082-8551fc636a90",
   "metadata": {},
   "outputs": [
    {
     "ename": "KeyInFileError",
     "evalue": "not found: 'genTree' (with any cycle number)\n\n    Available keys: 'eventsTree;1'\n\nin file run291694.data.root",
     "output_type": "error",
     "traceback": [
      "\u001b[0;31m---------------------------------------------------------------------------\u001b[0m",
      "\u001b[0;31mKeyInFileError\u001b[0m                            Traceback (most recent call last)",
      "Cell \u001b[0;32mIn [6], line 23\u001b[0m\n\u001b[1;32m     18\u001b[0m \u001b[38;5;66;03m#!curl 'https://cernbox.cern.ch/remote.php/dav/public-files/nbPmKbcsJvZrjjx/291694/AnalysisResults.root' > run291694.mc.root\u001b[39;00m\n\u001b[1;32m     19\u001b[0m \u001b[38;5;66;03m#!file *.root\u001b[39;00m\n\u001b[1;32m     20\u001b[0m \u001b[38;5;66;03m#file = uproot.open(\"run291694.mc.root\")\u001b[39;00m\n\u001b[1;32m     21\u001b[0m \u001b[38;5;66;03m#file.keys()\u001b[39;00m\n\u001b[1;32m     22\u001b[0m events \u001b[38;5;241m=\u001b[39m file[\u001b[38;5;124m\"\u001b[39m\u001b[38;5;124meventsTree\u001b[39m\u001b[38;5;124m\"\u001b[39m]\n\u001b[0;32m---> 23\u001b[0m gen \u001b[38;5;241m=\u001b[39m \u001b[43mfile\u001b[49m\u001b[43m[\u001b[49m\u001b[38;5;124;43m\"\u001b[39;49m\u001b[38;5;124;43mgenTree\u001b[39;49m\u001b[38;5;124;43m\"\u001b[39;49m\u001b[43m]\u001b[49m\n\u001b[1;32m     25\u001b[0m \u001b[38;5;66;03m#def data_url(run,is_mc):\u001b[39;00m\n\u001b[1;32m     26\u001b[0m \u001b[38;5;66;03m#    basesrc=\"https://cernbox.cern.ch/remote.php/dav/public-files/VJZ5whMyF5Kxldd/dimuonData_LHC18m\"\u001b[39;00m\n\u001b[1;32m     27\u001b[0m \u001b[38;5;66;03m#    if is_mc==True:\u001b[39;00m\n\u001b[0;32m   (...)\u001b[0m\n\u001b[1;32m     36\u001b[0m \u001b[38;5;66;03m#def copy_cmd(run,is_mc,dest):\u001b[39;00m\n\u001b[1;32m     37\u001b[0m \u001b[38;5;66;03m#    return f\"curl '{data_url(run,is_mc)}' > {data_file_path(run,is_mc,dest)}\"\u001b[39;00m\n\u001b[1;32m     39\u001b[0m \u001b[38;5;28;01mdef\u001b[39;00m \u001b[38;5;21mgetTracks\u001b[39m(events, gen):\n",
      "File \u001b[0;32m~/miniforge3/envs/qqbar2mumu/lib/python3.10/site-packages/uproot/reading.py:2107\u001b[0m, in \u001b[0;36mReadOnlyDirectory.__getitem__\u001b[0;34m(self, where)\u001b[0m\n\u001b[1;32m   2104\u001b[0m     \u001b[38;5;28;01mreturn\u001b[39;00m step\n\u001b[1;32m   2106\u001b[0m \u001b[38;5;28;01melse\u001b[39;00m:\n\u001b[0;32m-> 2107\u001b[0m     \u001b[38;5;28;01mreturn\u001b[39;00m \u001b[38;5;28;43mself\u001b[39;49m\u001b[38;5;241;43m.\u001b[39;49m\u001b[43mkey\u001b[49m\u001b[43m(\u001b[49m\u001b[43mwhere\u001b[49m\u001b[43m)\u001b[49m\u001b[38;5;241m.\u001b[39mget()\n",
      "File \u001b[0;32m~/miniforge3/envs/qqbar2mumu/lib/python3.10/site-packages/uproot/reading.py:2057\u001b[0m, in \u001b[0;36mReadOnlyDirectory.key\u001b[0;34m(self, where)\u001b[0m\n\u001b[1;32m   2055\u001b[0m     \u001b[38;5;28;01mreturn\u001b[39;00m last\n\u001b[1;32m   2056\u001b[0m \u001b[38;5;28;01melif\u001b[39;00m cycle \u001b[38;5;129;01mis\u001b[39;00m \u001b[38;5;28;01mNone\u001b[39;00m:\n\u001b[0;32m-> 2057\u001b[0m     \u001b[38;5;28;01mraise\u001b[39;00m uproot\u001b[38;5;241m.\u001b[39mKeyInFileError(\n\u001b[1;32m   2058\u001b[0m         item, cycle\u001b[38;5;241m=\u001b[39m\u001b[38;5;124m\"\u001b[39m\u001b[38;5;124many\u001b[39m\u001b[38;5;124m\"\u001b[39m, keys\u001b[38;5;241m=\u001b[39m\u001b[38;5;28mself\u001b[39m\u001b[38;5;241m.\u001b[39mkeys(), file_path\u001b[38;5;241m=\u001b[39m\u001b[38;5;28mself\u001b[39m\u001b[38;5;241m.\u001b[39m_file\u001b[38;5;241m.\u001b[39mfile_path\n\u001b[1;32m   2059\u001b[0m     )\n\u001b[1;32m   2060\u001b[0m \u001b[38;5;28;01melse\u001b[39;00m:\n\u001b[1;32m   2061\u001b[0m     \u001b[38;5;28;01mraise\u001b[39;00m uproot\u001b[38;5;241m.\u001b[39mKeyInFileError(\n\u001b[1;32m   2062\u001b[0m         item, cycle\u001b[38;5;241m=\u001b[39mcycle, keys\u001b[38;5;241m=\u001b[39m\u001b[38;5;28mself\u001b[39m\u001b[38;5;241m.\u001b[39mkeys(), file_path\u001b[38;5;241m=\u001b[39m\u001b[38;5;28mself\u001b[39m\u001b[38;5;241m.\u001b[39m_file\u001b[38;5;241m.\u001b[39mfile_path\n\u001b[1;32m   2063\u001b[0m     )\n",
      "\u001b[0;31mKeyInFileError\u001b[0m: not found: 'genTree' (with any cycle number)\n\n    Available keys: 'eventsTree;1'\n\nin file run291694.data.root"
     ]
    }
   ],
   "source": [
    "import uproot\n",
    "import awkward as ak\n",
    "import numpy as np\n",
    "import math\n",
    "import hist\n",
    "import matplotlib.pyplot as plt\n",
    "import os\n",
    "import subprocess\n",
    "import vector\n",
    "\n",
    "vector.register_awkward() \n",
    "\n",
    "DATATYPE=\"mc\"\n",
    "assert((DATATYPE==\"mc\") or (DATATYPE==\"data\"))\n",
    "BASEDIR=\".\" # basedir where to look for runXXX.DATATYPE.root files\n",
    "IS_MC=True if DATATYPE==\"mc\" else False\n",
    "\n",
    "#!curl 'https://cernbox.cern.ch/remote.php/dav/public-files/nbPmKbcsJvZrjjx/291694/AnalysisResults.root' > run291694.mc.root\n",
    "#!file *.root\n",
    "#file = uproot.open(\"run291694.mc.root\")\n",
    "#file.keys()\n",
    "events = file[\"eventsTree\"]\n",
    "gen = file[\"genTree\"]\n",
    "\n",
    "#def data_url(run,is_mc):\n",
    "#    basesrc=\"https://cernbox.cern.ch/remote.php/dav/public-files/VJZ5whMyF5Kxldd/dimuonData_LHC18m\"\n",
    "#    if is_mc==True:\n",
    "#        basesrc+=\"MC\"\n",
    "#    return f\"{basesrc}/{run}/AnalysisResults.root\"\n",
    "\n",
    "#def data_file_path(run,is_mc=IS_MC,dest=BASEDIR):\n",
    "#    datatype=\"mc\" if is_mc else \"data\"\n",
    "#    print({dest},\"/run\",{run},\".\",{datatype},\".root\")\n",
    "#    return f\"{dest}/run{run}.{datatype}.root\"\n",
    "\n",
    "#def copy_cmd(run,is_mc,dest):\n",
    "#    return f\"curl '{data_url(run,is_mc)}' > {data_file_path(run,is_mc,dest)}\"\n",
    "\n",
    "def getTracks(events, gen):\n",
    "    i = gen[\"Muon_GenMotherPDGCode\"] == 443\n",
    "    j = i[:,0]\n",
    "    tracks = events[j]\n",
    "    return ak.zip({\n",
    "        \"px\":tracks[\"Muon_Px\"],\n",
    "                    \"py\":tracks[\"Muon_Py\"],\n",
    "                    \"pz\":tracks[\"Muon_Pz\"],\n",
    "                    \"E\":tracks[\"Muon_E\"],\n",
    "                    \"charge\":tracks[\"Muon_Charge\"],\n",
    "                    \"thetaAbs\":tracks[\"Muon_thetaAbs\"],\n",
    "                    \"matched\":tracks[\"Muon_matchedTrgThreshold\"]},\n",
    "                    with_name='Momentum4D')\n",
    "\n",
    "def scan(dataDescription1, dataDescription2, \n",
    "              hMag:hist.Hist, hPhi:hist.Hist, hInvMass:hist.Hist,\n",
    "              eventSelector=lambda x:[True]*len(x),\n",
    "              trackSelector=lambda x:[True]*len(x),\n",
    "              verbose:bool=False):\n",
    "    \"\"\" Loop over data to fill the invariant mass histogram.\n",
    "        \n",
    "        :param: dataDescription: is anything uproot.iterate can take.\n",
    "                typical something like run*.data.root:eventsTree in our case\n",
    "        :param: eventSelector: returns an array of bool from an array of events\n",
    "        :param: trackSelector: returns an array of bool from an array of tracks\n",
    "    \"\"\"\n",
    "    \n",
    "    for batch1, batch2 in zip(uproot.iterate(dataDescription1,\n",
    "                                [\"nMuons\", \"isCINT\",\"isCMUL\",\"isCMSL\",\"Muon_Px\",\"Muon_Py\",\"Muon_Pz\",\"Muon_E\",\"Muon_Charge\",\"Muon_thetaAbs\",\"Muon_matchedTrgThreshold\"],                                \n",
    "                                 step_size=\"100 MB\", report=True), \n",
    "                             uproot.iterate(dataDescription2,\n",
    "                                [\"nMuonsGen\", \"Muon_GenE\", \"Muon_GenPx\", \"Muon_GenPy\", \"Muon_GenPz\", \"Muon_GenLabel\",\"Muon_GenMotherPDGCode\"],                                \n",
    "                                 step_size=\"100 MB\", report=True)):\n",
    "        events=batch1[0] # batch[1] is the report info\n",
    "        gen=batch2[0]\n",
    "        print(events, \"\\n\", gen, \"\\n\")\n",
    "        if len(events) < 1000:\n",
    "            print(\"something is wrong\",batch1[1], batch2[1]) # this is a protection for some corrupted input data files \n",
    "            break\n",
    "            \n",
    "        goodEvents = events[eventSelector(events)] \n",
    "        \n",
    "        tracks = getTracks(events, gen)\n",
    "        \n",
    "        pairs = ak.combinations(tracks, 2)\n",
    "        one, two = ak.unzip(pairs)\n",
    "        \n",
    "        #opposite_charge_cut = one.charge + two.charge == 0\n",
    "        \n",
    "        #quality_one = one[opposite_charge_cut]\n",
    "        #quality_two = two[opposite_charge_cut]\n",
    "        invariant_mass = (one + two).mass\n",
    "        \n",
    "        hMag.fill(ak.flatten(tracks.p))\n",
    "        hPhi.fill(ak.flatten(tracks.phi)) \n",
    "        hInvMass.fill(ak.flatten(invariant_mass))\n",
    "\n",
    "        print(pairs)\n",
    "        print(\"a\")\n",
    "\n",
    "        if verbose:\n",
    "            print(batch1[1], \"\\n\", batch2[1])\n",
    "\n",
    "vhMagRaw = hist.Hist(hist.axis.Regular(bins=100,start=0,stop=100,name='$|p|$'))\n",
    "vhPhiRaw = hist.Hist(hist.axis.Regular(bins=200,start=-22/7,stop=22/7,name='$\\phi$'))\n",
    "vhInvMass = hist.Hist(hist.axis.Regular(bins=200,start=0,stop=5,name='invariant mass'))\n",
    "            \n",
    "scan(dataDescription1=f\"{BASEDIR}/run291694.{DATATYPE}.root:eventsTree\",\n",
    "     dataDescription2=f\"{BASEDIR}/run291694.{DATATYPE}.root:genTree\",\n",
    "          hMag=vhMagRaw, hPhi=vhPhiRaw, hInvMass=vhInvMass,\n",
    "          eventSelector=lambda x: x[\"isCMUL\"]==True,\n",
    "          trackSelector=lambda x: (x.eta>0))\n",
    "\n",
    "vhInvMass.plot(label=\"J-Psi Only\")\n",
    "plt.xlabel(\"Invariant mass (GeV)\")\n",
    "plt.ylabel(\"# of Tracks\")"
   ]
  },
  {
   "cell_type": "code",
   "execution_count": null,
   "id": "dca6bd88-965c-4b54-a68c-1e7f534e1232",
   "metadata": {},
   "outputs": [],
   "source": []
  }
 ],
 "metadata": {
  "kernelspec": {
   "display_name": "Python 3 (ipykernel)",
   "language": "python",
   "name": "python3"
  },
  "language_info": {
   "codemirror_mode": {
    "name": "ipython",
    "version": 3
   },
   "file_extension": ".py",
   "mimetype": "text/x-python",
   "name": "python",
   "nbconvert_exporter": "python",
   "pygments_lexer": "ipython3",
   "version": "3.10.8"
  }
 },
 "nbformat": 4,
 "nbformat_minor": 5
}
