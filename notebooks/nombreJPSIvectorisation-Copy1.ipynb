{
 "cells": [
  {
   "cell_type": "code",
   "execution_count": 1,
   "id": "f1f255ac-be8b-44c9-bc03-5069ced98648",
   "metadata": {},
   "outputs": [],
   "source": [
    "import uproot\n",
    "import awkward as ak\n",
    "import numpy as np\n",
    "import math\n",
    "import hist\n",
    "import matplotlib.pyplot as plt\n",
    "import os\n",
    "import subprocess\n",
    "import vector\n",
    "from scipy.optimize import curve_fit\n",
    "from scipy.integrate import quad"
   ]
  },
  {
   "cell_type": "code",
   "execution_count": 2,
   "id": "5c005c95-852b-4dc9-8f5e-3d4a7a9e32f9",
   "metadata": {},
   "outputs": [],
   "source": [
    "vector.register_awkward() "
   ]
  },
  {
   "cell_type": "code",
   "execution_count": 3,
   "id": "1b02fb2c-8ec3-48b0-978d-f021c4be1ce6",
   "metadata": {},
   "outputs": [],
   "source": [
    "DATATYPE=\"data\"\n",
    "assert((DATATYPE==\"mc\") or (DATATYPE==\"data\"))\n",
    "BASEDIR=\"../data_dl\" # basedir where to look for runXXX.DATATYPE.root files\n",
    "IS_MC=True if DATATYPE==\"mc\" else False"
   ]
  },
  {
   "cell_type": "code",
   "execution_count": 4,
   "id": "4ee179bd-4476-4cb5-941c-f5589bf73c47",
   "metadata": {},
   "outputs": [],
   "source": [
    "#!curl 'https://cernbox.cern.ch/remote.php/dav/public-files/JIjQaAYEQnmRDkX/291694/AnalysisResults.root' > run291694.data.root\n"
   ]
  },
  {
   "cell_type": "code",
   "execution_count": 5,
   "id": "aa0c40ef-371c-4c9a-a50f-5c3631e9fc74",
   "metadata": {},
   "outputs": [
    {
     "name": "stdout",
     "output_type": "stream",
     "text": [
      "run290223.data.root: ROOT file Version 62406 (Compression: 1)\n",
      "run291694.data.root: ROOT file Version 61600 (Compression: 1)\n",
      "run291694.mc.root:   ROOT file Version 61600 (Compression: 1)\n",
      "name                 | typename                 | interpretation                \n",
      "---------------------+--------------------------+-------------------------------\n",
      "runNumber            | int32_t                  | AsDtype('>i4')\n",
      "xVtx                 | double                   | AsDtype('>f8')\n",
      "yVtx                 | double                   | AsDtype('>f8')\n",
      "zVtx                 | double                   | AsDtype('>f8')\n",
      "isCINT               | bool                     | AsDtype('bool')\n",
      "isCMSL               | bool                     | AsDtype('bool')\n",
      "isCMSH               | bool                     | AsDtype('bool')\n",
      "isCMLL               | bool                     | AsDtype('bool')\n",
      "isCMUL               | bool                     | AsDtype('bool')\n",
      "nMuons               | int32_t                  | AsDtype('>i4')\n",
      "Muon_E               | std::vector<float>       | AsJagged(AsDtype('>f4'), he...\n",
      "Muon_Px              | std::vector<float>       | AsJagged(AsDtype('>f4'), he...\n",
      "Muon_Py              | std::vector<float>       | AsJagged(AsDtype('>f4'), he...\n",
      "Muon_Pz              | std::vector<float>       | AsJagged(AsDtype('>f4'), he...\n",
      "Muon_Charge          | std::vector<int16_t>     | AsJagged(AsDtype('>i2'), he...\n",
      "Muon_thetaAbs        | std::vector<float>       | AsJagged(AsDtype('>f4'), he...\n",
      "Muon_xDCA            | std::vector<double>      | AsJagged(AsDtype('>f8'), he...\n",
      "Muon_yDCA            | std::vector<double>      | AsJagged(AsDtype('>f8'), he...\n",
      "Muon_zDCA            | std::vector<double>      | AsJagged(AsDtype('>f8'), he...\n",
      "Muon_matchedTrgTh... | std::vector<int32_t>     | AsJagged(AsDtype('>i4'), he...\n",
      "Muon_MCHClusterMap   | std::vector<uint32_t>    | AsJagged(AsDtype('>u4'), he...\n",
      "Muon_MTRHitMapTrg    | std::vector<uint32_t>    | AsJagged(AsDtype('>u4'), he...\n",
      "Muon_MTRHitMapTrk    | std::vector<uint32_t>    | AsJagged(AsDtype('>u4'), he...\n"
     ]
    }
   ],
   "source": [
    "!file *.root\n",
    "file = uproot.open(\"run291694.data.root\")\n",
    "file.keys()\n",
    "events = file[\"eventsTree\"]\n",
    "events.show()"
   ]
  },
  {
   "cell_type": "code",
   "execution_count": 6,
   "id": "9773cc38-d94d-4443-9bdb-69d7672c1cc7",
   "metadata": {},
   "outputs": [
    {
     "name": "stdout",
     "output_type": "stream",
     "text": [
      "Nombre total d'évènements avec au moins 2 muons :  109729\n"
     ]
    }
   ],
   "source": [
    "n=0\n",
    "for m in events.iterate([\"nMuons\",\"Muon_Px\",\"Muon_Py\",\"Muon_Pz\",\"Muon_Charge\",\"Muon_E\"],how=\"zip\",step_size=10000):\n",
    "    #Nombre d'évènements avec au moins 2 muons pour chaque lot de 10000 évènements\n",
    "    #print(len(m),len(m[ak.where(m.nMuons>1)])) \n",
    "    n+=len(m[ak.where(m.nMuons>1)])\n",
    "print(\"Nombre total d'évènements avec au moins 2 muons : \",n)"
   ]
  },
  {
   "cell_type": "code",
   "execution_count": 7,
   "id": "2f02e88b-98b5-4791-892a-23ba3ebc25ed",
   "metadata": {},
   "outputs": [],
   "source": [
    "def getTracks(events):\n",
    "    return ak.zip({\"px\":events[\"Muon_Px\"],\n",
    "                       \"py\":events[\"Muon_Py\"],\n",
    "                       \"pz\":events[\"Muon_Pz\"],\n",
    "                       \"E\":events[\"Muon_E\"],\n",
    "                       \"charge\":events[\"Muon_Charge\"],\n",
    "                       \"thetaAbs\":events[\"Muon_thetaAbs\"],\n",
    "                       \"matched\":events[\"Muon_matchedTrgThreshold\"]},\n",
    "                    with_name='Momentum4D')"
   ]
  },
  {
   "cell_type": "code",
   "execution_count": 8,
   "id": "83bed0b1-8470-40ae-8749-dd1d51d311c5",
   "metadata": {},
   "outputs": [],
   "source": [
    "#CrystalBall2 prend en argument une liste de valeurs de x\n",
    "def CrystalBall2(x, mu, sigma, alpha, alphabis, n, nbis, N):\n",
    "    A = ((n/np.abs(alpha))**n)*np.exp(-(np.abs(alpha)**2)/2.)\n",
    "    B = (n/np.abs(alpha))-np.abs(alpha)\n",
    "    C = ((nbis/np.abs(alphabis))**n)*np.exp(-(np.abs(alphabis)**2)/2.)\n",
    "    D = (nbis/np.abs(alphabis))-np.abs(alphabis)\n",
    "    y = np.array([], dtype=float)\n",
    "    for i in x:\n",
    "        if(((i-mu)/sigma > alpha) and ((i-mu)/sigma < alphabis)):\n",
    "            y = np.append(y, np.exp(-((i-mu)**2)/(2*sigma**2)))\n",
    "        elif ((i-mu)/sigma < alpha):\n",
    "            y = np.append(y, A*((B- (i -mu)/(sigma))**(-n)))\n",
    "        elif((i-mu)/sigma > alphabis):\n",
    "            y = np.append(y, C*((D+ (i -mu)/(sigma))**(-nbis)))\n",
    "        else:\n",
    "            y = np.append(y, 0.)\n",
    "    return y*N\n",
    "\n",
    "#CrystalBall2_2 prend en argument une valeur de x\n",
    "def CrystalBall2_2(i, mu, sigma, alpha, alphabis, n, nbis, N):\n",
    "    A = ((n/np.abs(alpha))**n)*np.exp(-(np.abs(alpha)**2)/2.)\n",
    "    B = (n/np.abs(alpha))-np.abs(alpha)\n",
    "    C = ((nbis/np.abs(alphabis))**n)*np.exp(-(np.abs(alphabis)**2)/2.)\n",
    "    D = (nbis/np.abs(alphabis))-np.abs(alphabis)\n",
    "    y = np.array([], dtype=float)\n",
    "    if(((i-mu)/sigma > alpha) and ((i-mu)/sigma < alphabis)):\n",
    "        y = np.exp(-((i-mu)**2)/(2*sigma**2))\n",
    "    elif ((i-mu)/sigma < alpha):\n",
    "        y = A*((B- (i -mu)/(sigma))**(-n))\n",
    "    elif((i-mu)/sigma > alphabis):\n",
    "        y = C*((D+ (i -mu)/(sigma))**(-nbis))\n",
    "    return y*N"
   ]
  },
  {
   "cell_type": "code",
   "execution_count": 9,
   "id": "5a1e70ff-1e31-4c89-b3db-de3bde88678c",
   "metadata": {},
   "outputs": [],
   "source": [
    "def NoiseVWG(x, mu, alpha, beta, N):\n",
    "    y = np.array([], dtype=float)\n",
    "    for i in x:\n",
    "        sigma = alpha + beta*((i-mu)/mu)\n",
    "        y = np.append(y, N * np.exp(-((i-mu)**2)/(2*sigma**2)))\n",
    "    return y"
   ]
  },
  {
   "cell_type": "code",
   "execution_count": 10,
   "id": "e59c96f6-975e-45f3-b26b-1a5995de4671",
   "metadata": {},
   "outputs": [],
   "source": [
    "def CB2withNoise(x, mu_CB2, N_CB2, mu_DE, alpha_DE, beta ,N_DE): #x est une liste\n",
    "    #alpha,alphabis,n,nbis=-7.16686241e-01,2.28952917e+00,4.41736692e+00,2.61183775e+00\n",
    "    #return CrystalBall2(x, mu_CB2, sigma, alpha, alphabis, n, nbis, N_CB2) + NoiseVWG(x, mu_DE, alpha_DE, beta, N_DE)\n",
    "    alpha, alphabis, n, nbis=-7.16686241e-01,2.28952917e+00,4.41736692e+00,2.61183775e+00\n",
    "    sigma = 6.10076777e-02\n",
    "    #mu_DE, alpha_DE, beta = 6.29517373e-07, 4.91666545e-01, 1.19404276e-07\n",
    "    return CrystalBall2(x, mu_CB2, sigma, alpha, alphabis, n, nbis, N_CB2) + NoiseVWG(x, mu_DE, alpha_DE, beta, N_DE)"
   ]
  },
  {
   "cell_type": "code",
   "execution_count": 11,
   "id": "29b79c21-9dac-4402-b630-69aad386b200",
   "metadata": {},
   "outputs": [],
   "source": [
    "def scan(dataDescription, \n",
    "              hInvMass:hist.Hist, hQualInvMass:hist.Hist,\n",
    "              eventSelector=lambda x:[True]*len(x),\n",
    "              trackSelector=lambda x:[True]*len(x),\n",
    "              verbose:bool=False):\n",
    "    \"\"\" Loop over data to fill the invariant mass histogram.\n",
    "        \n",
    "        :param: dataDescription: is anything uproot.iterate can take.\n",
    "                typical something like run*.data.root:eventsTree in our case\n",
    "        :param: eventSelector: returns an array of bool from an array of events\n",
    "        :param: trackSelector: returns an array of bool from an array of tracks\n",
    "    \"\"\"\n",
    "\n",
    "    for batch in uproot.iterate(dataDescription,\n",
    "                                [\"isCINT\",\"isCMUL\",\"isCMSL\",\"Muon_Px\",\"Muon_Py\",\"Muon_Pz\",\"Muon_E\",\"Muon_Charge\",\"Muon_thetaAbs\",\"Muon_matchedTrgThreshold\"],                                \n",
    "                                 step_size=\"100 MB\", report=True):\n",
    "        events=batch[0] # batch[1] is the report info\n",
    "        if len(events) < 1000:\n",
    "            print(\"something is wrong\",batch[0:5]) # this is a protection for some corrupted input data files \n",
    "            break\n",
    "            \n",
    "        goodEvents = events[eventSelector(events)] #selection des évènements CMUL\n",
    "        tracks = getTracks(events) #on utilise la fonction getTracks définie précédemment\n",
    "        goodTracks=tracks[trackSelector(tracks)] #selection des évènements (eta, theta et trigger)\n",
    "        \n",
    "        #pairs = ak.combinations(goodTracks, 2)\n",
    "        #one, two = ak.unzip(pairs)\n",
    "        #rapidity_cut = (abs(one.eta<4)) & (abs(one.eta>2))\n",
    "        #opposite_charge_cut = (one.charge + two.charge == 0) & (abs(one.eta<2))\n",
    "        #quality_one = one[opposite_charge_cut]\n",
    "        #quality_two = two[opposite_charge_cut]\n",
    "        #invariant_mass = (quality_one + quality_two).mass\n",
    "        \n",
    "        pairs = ak.combinations(goodTracks, 2) #toutes les combinaisons de 2 traces\n",
    "        one, two = ak.unzip(pairs)\n",
    "        quality_one, quality_two = ak.unzip(pairs[(one.charge + two.charge == 0) & (abs(one.eta) <4) & (abs(one.eta)>2.5) \n",
    "                                                 & (abs(two.eta)<4) & (abs(two.eta)>2.5)]) #selection pairs signes opposées et y dans l'acceptance\n",
    "        invariant_mass = (one + two).mass #masse invariante sans distinction des good pairs\n",
    "        quality_invariant_mass = (quality_one + quality_two).mass #masse invariante avec correction\n",
    "    \n",
    "        hInvMass.fill(ak.flatten(invariant_mass))\n",
    "        hQualInvMass.fill(ak.flatten(quality_invariant_mass))\n",
    "\n",
    "\n",
    "        if verbose:\n",
    "            print(batch[1])"
   ]
  },
  {
   "cell_type": "code",
   "execution_count": 12,
   "id": "113fd41c-dc38-427f-af4e-1ed738ce115d",
   "metadata": {},
   "outputs": [
    {
     "name": "stdout",
     "output_type": "stream",
     "text": [
      "CPU times: user 3.14 s, sys: 152 ms, total: 3.29 s\n",
      "Wall time: 4.02 s\n"
     ]
    }
   ],
   "source": [
    "%%time\n",
    "#Pas de sélection sur les events et tracks\n",
    "vhInvMass = hist.Hist(hist.axis.Regular(bins=200,start=1.5,stop=5,name='invariant mass'))\n",
    "vhQualInvMass = hist.Hist(hist.axis.Regular(bins=200,start=1.5,stop=5,name='invariant mass with good pairs'))\n",
    "#Selection sur les events et tracks\n",
    "vhInvMassEvSel = hist.Hist(hist.axis.Regular(bins=200,start=1.5,stop=5,name='invariant mass'))\n",
    "vhQualInvMassEvSel = hist.Hist(hist.axis.Regular(bins=200,start=1.5,stop=5,name='invariant mass with good pairs'))\n",
    "\n",
    "\n",
    "scan(dataDescription=f\"{BASEDIR}/run290297.{DATATYPE}.root:eventsTree\",\n",
    "          hInvMass=vhInvMass, hQualInvMass=vhQualInvMass)\n",
    "\n",
    "scan(dataDescription=f\"{BASEDIR}/run290297.{DATATYPE}.root:eventsTree\",\n",
    "          hInvMass=vhInvMassEvSel, hQualInvMass=vhQualInvMassEvSel,\n",
    "          eventSelector=lambda x: x[\"isCMUL\"]==True,\n",
    "          trackSelector=lambda x: (x.eta<-2.5) & (x.eta>-4) & (x[\"thetaAbs\"]>2) & (x[\"thetaAbs\"]<9) & (x[\"matched\"]==2))"
   ]
  },
  {
   "cell_type": "code",
   "execution_count": 13,
   "id": "772b9991-b793-491c-84b1-4604cce79830",
   "metadata": {},
   "outputs": [],
   "source": [
    "#Création des listes de valeurs \n",
    "x_data=[]\n",
    "y_data=[]\n",
    "      \n",
    "for i in range(15000,50000,175):\n",
    "    x_data.append(i/10000)\n",
    "\n",
    "for i in vhQualInvMassEvSel:\n",
    "      y_data.append(i)"
   ]
  },
  {
   "cell_type": "code",
   "execution_count": 14,
   "id": "99fcd98c-c461-4428-a21c-e6309cf262f6",
   "metadata": {},
   "outputs": [
    {
     "name": "stdout",
     "output_type": "stream",
     "text": [
      "CPU times: user 7 µs, sys: 0 ns, total: 7 µs\n",
      "Wall time: 15 µs\n",
      "[3.08335415e+00 1.34071598e+01 2.19952334e-05 7.29074548e-01\n",
      " 2.78783714e-06 1.07902044e+02] [[ 3.66893894e-05 -5.86129229e-05 -3.93773228e-07 -1.05608619e-04\n",
      "  -4.90136490e-08  1.45621092e-02]\n",
      " [-5.86129229e-05  8.95416010e-01  2.67722772e-04  1.24301083e-01\n",
      "   3.29958415e-05 -1.97603993e+01]\n",
      " [-3.93773228e-07  2.67722772e-04  1.31884937e-06  4.59286735e-04\n",
      "   1.63619138e-07 -7.20215975e-02]\n",
      " [-1.05608619e-04  1.24301083e-01  4.59286735e-04  1.76028663e-01\n",
      "   5.68895802e-05 -2.84314357e+01]\n",
      " [-4.90136490e-08  3.29958415e-05  1.63619138e-07  5.68895802e-05\n",
      "   2.02994484e-08 -8.91684818e-03]\n",
      " [ 1.45621092e-02 -1.97603993e+01 -7.20215975e-02 -2.84314357e+01\n",
      "  -8.91684818e-03  4.65268498e+03]]\n",
      "Variance de la masse du JPsi : 3.668938937352922e-05\n"
     ]
    }
   ],
   "source": [
    "#Fit de la fonction CB2+background avec les listes x_data et y_data pour obtenir mu, N_CB2 et les arguments de noise\n",
    "%time\n",
    "popt_CB2wNoise, pcov_CB2wNoise = curve_fit(CB2withNoise, x_data, y_data, p0=[3.1 , 1 , 6.29517373e-07 , 4.91666545e-01 , 1.19404276e-07 , 1],\n",
    "                    bounds=([3. , 0. , 0. , 0 , 0 , 0.],[3.2 , np.inf , 1 , 1 , 1 , np.inf]))\n",
    "\n",
    "#popt_CB2wNoise, pcov_CB2wNoise = curve_fit(CB2withNoise, x_data, y_data, p0=[3.10031936e+00, 6.10076777e-02,-7.16686241e-01,2.28952917e+00,4.41736692e+00,2.61183775e+00,1.70816520e+02,\n",
    "#                    7.18998714e-07,4.91666679e-01,1.36376755e-07,1.57858391e+03])\n",
    "print(popt_CB2wNoise,pcov_CB2wNoise)\n",
    "#mu_fitCB2wNoise,sigma_fitCB2wNoise,N_fitCB2wNoise,mu_DE_fitCB2wNoise, alpha_DE_fitCB2wNoise, beta_fitCB2wNoise, N_DE_fitCB2wNoise= popt_CB2wNoise\n",
    "mu_fitCB2wNoise,N_fitCB2wNoise, mu_DE_fitCB2wNoise, alpha_DE_fitCB2wNoise, beta_fitCB2wNoise, N_DE_fitCB2wNoise= popt_CB2wNoise\n",
    "var_E=pcov_CB2wNoise[0,0]\n",
    "print('Variance de la masse du JPsi :',var_E)\n",
    "#y_data_fitCB2wNoise=CB2withNoise(x_data,mu_fitCB2wNoise,sigma_fitCB2wNoise,N_fitCB2wNoise,mu_DE_fitCB2wNoise, alpha_DE_fitCB2wNoise, beta_fitCB2wNoise, N_DE_fitCB2wNoise)\n",
    "y_data_fitCB2wNoise=CB2withNoise(x_data,mu_fitCB2wNoise,N_fitCB2wNoise, mu_DE_fitCB2wNoise, alpha_DE_fitCB2wNoise, beta_fitCB2wNoise, N_DE_fitCB2wNoise)\n",
    "\n",
    "y_data_model = CB2withNoise(x_data,3.10031936e+00,1.70816520e+02, 6.29517373e-07, 4.91666545e-01, 1.19404276e-07, 1.57858391e+03)\n",
    "y_CB2_fit = CrystalBall2(x_data,mu_fitCB2wNoise, 6.10076777e-02, -7.16686241e-01,2.28952917e+00,4.41736692e+00,2.61183775e+00,N_fitCB2wNoise)\n",
    "\n",
    "y_CB2_fit_2=[]\n",
    "for i in x_data:\n",
    "    y_CB2_fit_2.append(CrystalBall2_2(i,mu_fitCB2wNoise, 6.10076777e-02,-7.16686241e-01,2.28952917e+00,4.41736692e+00,2.61183775e+00,N_fitCB2wNoise))"
   ]
  },
  {
   "cell_type": "code",
   "execution_count": 15,
   "id": "8ad351f9-065e-4fbd-ab3c-52ccabac94f4",
   "metadata": {},
   "outputs": [
    {
     "data": {
      "image/png": "[encoded data removed]",
      "text/plain": [
       "<Figure size 640x480 with 1 Axes>"
      ]
     },
     "metadata": {},
     "output_type": "display_data"
    },
    {
     "name": "stdout",
     "output_type": "stream",
     "text": [
      "CPU times: user 2.26 s, sys: 106 ms, total: 2.37 s\n",
      "Wall time: 2.37 s\n"
     ]
    }
   ],
   "source": [
    "%%time\n",
    "vhInvMass.plot(label=\"no cuts\") #Aucune selection\n",
    "vhQualInvMassEvSel.plot(label=\"events selected (good tracks + good pairs)\")\n",
    "#plt.plot(x_data,y_data_model) #Modèle avec les valeurs adéquates pour le fit CB2 MC et le fit background sur une portion des valeurs exp\n",
    "plt.yscale(\"log\")\n",
    "plt.ylabel(\"# of tracks\")\n",
    "plt.legend()\n",
    "plt.show()"
   ]
  },
  {
   "cell_type": "code",
   "execution_count": 16,
   "id": "166a0bbe-ecf1-460b-807f-ebcb4b356a46",
   "metadata": {},
   "outputs": [
    {
     "data": {
      "image/png": "[encoded data removed]",
      "text/plain": [
       "<Figure size 640x480 with 1 Axes>"
      ]
     },
     "metadata": {},
     "output_type": "display_data"
    },
    {
     "name": "stdout",
     "output_type": "stream",
     "text": [
      "CPU times: user 1.31 s, sys: 39.5 ms, total: 1.35 s\n",
      "Wall time: 1.44 s\n"
     ]
    }
   ],
   "source": [
    "%%time\n",
    "#vhInvMass.plot(label=\"no cuts\")\n",
    "vhQualInvMassEvSel.plot(label=\"events selected (good tracks + good pairs)\")\n",
    "#plt.scatter(x_data,y_data)\n",
    "plt.plot(x_data,y_data_fitCB2wNoise)\n",
    "#plt.plot(x_data,y_CB2_fit,'r')\n",
    "plt.plot(x_data,y_CB2_fit_2,'g')\n",
    "#plt.plot(x_data,y_data_model)\n",
    "plt.yscale(\"log\")\n",
    "plt.ylabel(\"# of tracks\")\n",
    "plt.legend()\n",
    "plt.ylim(1,100000)\n",
    "plt.show()"
   ]
  },
  {
   "cell_type": "code",
   "execution_count": 17,
   "id": "e1199f12-8e4a-4194-b082-8551fc636a90",
   "metadata": {},
   "outputs": [
    {
     "data": {
      "image/png": "[encoded data removed]",
      "text/plain": [
       "<Figure size 640x480 with 1 Axes>"
      ]
     },
     "metadata": {},
     "output_type": "display_data"
    },
    {
     "name": "stdout",
     "output_type": "stream",
     "text": [
      "Valeur de l intégrale en utilisant la fonction quad de scipy [1.56255234e+02 1.61133047e-06]\n",
      "Valeur de l intégrale en utilisant la methodes des rectagnles 156.0363047836686\n"
     ]
    }
   ],
   "source": [
    "#I = quad(integrand, 0, 1, args=(a,b))\n",
    "y_data_finale=[]\n",
    "for i in x_data:\n",
    "    y_data_finale.append(CrystalBall2_2(i, mu_fitCB2wNoise, 6.10076777e-02,-7.16686241e-01,2.28952917e+00,4.41736692e+00,2.61183775e+00,N_fitCB2wNoise))\n",
    "plt.plot(x_data, y_data_finale)\n",
    "plt.yscale(\"log\")\n",
    "plt.ylim(1,10000)\n",
    "plt.show()\n",
    "    \n",
    "    \n",
    "I = quad(CrystalBall2_2,1,5,\n",
    "        args=(mu_fitCB2wNoise, 6.10076777e-02,-7.16686241e-01,2.28952917e+00,4.41736692e+00,2.61183775e+00,N_fitCB2wNoise))\n",
    "I = I/vhQualInvMassEvSel.axes[0].widths[0]\n",
    "\n",
    "print('Valeur de l intégrale en utilisant la fonction quad de scipy',I)\n",
    "\n",
    "integrale=0\n",
    "pas=x_data[1]-x_data[0]\n",
    "for i in range(0,len(x_data)):\n",
    "    x=pas*i\n",
    "    integrale = integrale + pas*CrystalBall2_2(x, mu_fitCB2wNoise, 6.10076777e-02,-7.16686241e-01,2.28952917e+00,4.41736692e+00,2.61183775e+00,N_fitCB2wNoise)\n",
    "\n",
    "integrale = integrale/vhQualInvMassEvSel.axes[0].widths[0]    \n",
    "print('Valeur de l intégrale en utilisant la methodes des rectagnles',integrale)\n",
    "    "
   ]
  },
  {
   "cell_type": "code",
   "execution_count": null,
   "id": "c2227d52-ea64-4d17-b874-baab2f99d425",
   "metadata": {},
   "outputs": [],
   "source": []
  },
  {
   "cell_type": "code",
   "execution_count": null,
   "id": "777da982-d18a-459b-abca-acc274ce41be",
   "metadata": {},
   "outputs": [],
   "source": []
  }
 ],
 "metadata": {
  "kernelspec": {
   "display_name": "Python 3 (ipykernel)",
   "language": "python",
   "name": "python3"
  },
  "language_info": {
   "codemirror_mode": {
    "name": "ipython",
    "version": 3
   },
   "file_extension": ".py",
   "mimetype": "text/x-python",
   "name": "python",
   "nbconvert_exporter": "python",
   "pygments_lexer": "ipython3",
   "version": "3.10.8"
  }
 },
 "nbformat": 4,
 "nbformat_minor": 5
}
